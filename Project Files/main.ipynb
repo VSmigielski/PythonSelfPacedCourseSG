{
 "cells": [
  {
   "cell_type": "code",
   "execution_count": null,
   "metadata": {},
   "outputs": [],
   "source": [
    "from extract import extract # import the external extract class\n",
    "from transform import transform # import the external extract class\n",
    "from load import load # import the external load class\n",
    " \n",
    "# your code here\n",
    "def fromCSV(file_path, delimiter = \",\", quotechar = \"|\"):\n",
    "    if not file_path:\n",
    "        raise Exception(\"You must provide a valid file path.\")\n",
    "    import csv\n",
    "    dataset = list()\n",
    "    while True:\n",
    "        try:\n",
    "            with open(file_path, encoding='utf-8', newline='') as f: \n",
    "                csv_file = csv.DictReader(f, delimiter = delimiter,quotechar = quotechar) \n",
    "                for row in csv_file:\n",
    "                    dataset.append(row)\n",
    "            return dataset\n",
    "        except FileNotFoundError:\n",
    "            print(\"The CSV file entered was not found! Please try again!\")\n",
    "            file_path = input(\"Enter a valid file path:\\n\") \n",
    "            if file_path != \"quit\":\n",
    "                continue\n",
    "            else:\n",
    "                break\n",
    "        else:\n",
    "            print(\"That was a valid CSV file!\")\n",
    "            break\n",
    "\n",
    "dataset = fromCSV(file_path=\"delivery/delivery.csv\")\n",
    "\n",
    "print(dataset[0])\n",
    "\n",
    "\n",
    "new_dict = dict()\n",
    "\n",
    "for age in dataset:\n",
    "    for k, v in age.items():\n",
    "        if k == \"Age\" and v not in new_dict:\n",
    "            new_dict[v] = 1\n",
    "        elif k == \"Age\" and v in new_dict:\n",
    "            val = new_dict[v]\n",
    "            val += 1\n",
    "            new_dict[v] = val\n",
    "        else:\n",
    "            pass\n",
    "\n",
    "print(new_dict)"
   ]
  }
 ],
 "metadata": {
  "kernelspec": {
   "display_name": "Python 3",
   "language": "python",
   "name": "python3"
  },
  "language_info": {
   "codemirror_mode": {
    "name": "ipython",
    "version": 3
   },
   "file_extension": ".py",
   "mimetype": "text/x-python",
   "name": "python",
   "nbconvert_exporter": "python",
   "pygments_lexer": "ipython3",
   "version": "3.8.5"
  }
 },
 "nbformat": 4,
 "nbformat_minor": 4
}

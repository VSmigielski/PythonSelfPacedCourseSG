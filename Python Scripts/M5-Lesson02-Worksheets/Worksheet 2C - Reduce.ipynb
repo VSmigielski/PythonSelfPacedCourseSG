{
 "cells": [
  {
   "cell_type": "markdown",
   "metadata": {},
   "source": [
    "# Reduce\n",
    "\t\n",
    "This worksheet accompanies *Lesson 2C: Reduce* in the online course. Refer to that page as necessary to complete these practice activities."
   ]
  },
  {
   "cell_type": "markdown",
   "metadata": {},
   "source": [
    "## Practice 1\n",
    "Create a script that prompts the user for a series of numbers and calculates the sum of those numbers. Include the following features:\n",
    "\n",
    "* Prompt the user for values until the user enters \"Stop\" (in any letter case).\n",
    "* Each value entered by the user should be added to a list.\n",
    "* Use the `reduce` function with a lambda function to calculate the total value.\n",
    "* Display the results in a user-friendly format.\n",
    "\n",
    "**Tip**: It is always helpful to let the user know how to exit a loop!"
   ]
  },
  {
   "cell_type": "code",
   "execution_count": 1,
   "metadata": {},
   "outputs": [
    {
     "name": "stdout",
     "output_type": "stream",
     "text": [
      "Enter a number or 'stop' to end the program:\n",
      "1\n",
      "Enter a number or 'stop' to end the program:\n",
      "2\n",
      "Enter a number or 'stop' to end the program:\n",
      "3\n",
      "Enter a number or 'stop' to end the program:\n",
      "4\n",
      "Enter a number or 'stop' to end the program:\n",
      "5\n",
      "Enter a number or 'stop' to end the program:\n",
      "stop\n",
      "<class 'int'>\n",
      "15\n"
     ]
    }
   ],
   "source": [
    "# your code here\n",
    "from functools import reduce\n",
    " \n",
    "list_numbers = []\n",
    "\n",
    "user_input = \"\"\n",
    "\n",
    "while user_input.lower() != \"stop\":\n",
    "    user_input = input(\"Enter a number or 'stop' to end the program:\\n\")\n",
    "    if user_input.lower() != \"stop\":\n",
    "        list_numbers.append(int(user_input))\n",
    "    else:\n",
    "        break\n",
    " \n",
    "sum = reduce(lambda x, y: x + y,list_numbers)\n",
    "\n",
    "print(type(sum))\n",
    " \n",
    "print(sum)"
   ]
  },
  {
   "cell_type": "markdown",
   "metadata": {},
   "source": [
    "## Practice 2\n",
    "Update the script from the previous practice activity so that it adds the value 100 to the sum of the values input by the user."
   ]
  },
  {
   "cell_type": "code",
   "execution_count": 2,
   "metadata": {},
   "outputs": [
    {
     "name": "stdout",
     "output_type": "stream",
     "text": [
      "Enter a number or 'stop' to end the program:\n",
      "1\n",
      "Enter a number or 'stop' to end the program:\n",
      "2\n",
      "Enter a number or 'stop' to end the program:\n",
      "3\n",
      "Enter a number or 'stop' to end the program:\n",
      "4\n",
      "Enter a number or 'stop' to end the program:\n",
      "5\n",
      "Enter a number or 'stop' to end the program:\n",
      "stop\n",
      "<class 'int'>\n",
      "115\n"
     ]
    }
   ],
   "source": [
    "# your code here\n",
    "from functools import reduce\n",
    " \n",
    "list_numbers = []\n",
    "\n",
    "user_input = \"\"\n",
    "\n",
    "while user_input.lower() != \"stop\":\n",
    "    user_input = input(\"Enter a number or 'stop' to end the program:\\n\")\n",
    "    if user_input.lower() != \"stop\":\n",
    "        list_numbers.append(int(user_input))\n",
    "    else:\n",
    "        break\n",
    " \n",
    "sum = reduce(lambda x, y: x + y,list_numbers, 100)\n",
    "\n",
    "print(type(sum))\n",
    " \n",
    "print(sum)"
   ]
  },
  {
   "cell_type": "markdown",
   "metadata": {},
   "source": [
    "## Practice 3\n",
    "Create a script that outputs the lowest value in a series of values input by the user.\n",
    "\n",
    "* The script should accept values from the user until the user enters \"Stop\" (in any letter case).\n",
    "* When the user enters \"Stop,\" the script should display all values entered by the user and the lowest value in a user-friendly format."
   ]
  },
  {
   "cell_type": "code",
   "execution_count": 4,
   "metadata": {
    "scrolled": true
   },
   "outputs": [
    {
     "name": "stdout",
     "output_type": "stream",
     "text": [
      "Enter a number or 'stop' to end the program:\n",
      "1\n",
      "Enter a number or 'stop' to end the program:\n",
      "-4\n",
      "Enter a number or 'stop' to end the program:\n",
      "10\n",
      "Enter a number or 'stop' to end the program:\n",
      "11\n",
      "Enter a number or 'stop' to end the program:\n",
      "stop\n",
      "-4\n"
     ]
    }
   ],
   "source": [
    "# your code here\n",
    "from functools import reduce\n",
    "\n",
    "list_numbers = []\n",
    "\n",
    "user_input = \"\"\n",
    "\n",
    "while user_input.lower() != \"stop\":\n",
    "    user_input = input(\"Enter a number or 'stop' to end the program:\\n\")\n",
    "    if user_input.lower() != \"stop\":\n",
    "        list_numbers.append(int(user_input))\n",
    "    else:\n",
    "        break\n",
    " \n",
    "min_element = reduce(lambda a,b : a if a < b else b,list_numbers)\n",
    "# the lambda function returns the max between two input numbers a and b. \n",
    "# the reduce will apply the lamda function to compute the max\n",
    "    # First, compare the first two elements in the list 1 and 20: 20 \n",
    "    # Second, compare the third element (300) and the previous result: 300\n",
    "    # Third, compare the fourth element (560) and the previous result: 560\n",
    "    # Fourth, compare the fifth element (4) and the previous result: 560\n",
    " \n",
    "print(min_element) "
   ]
  },
  {
   "cell_type": "markdown",
   "metadata": {},
   "source": [
    "## Challenge Activity\n",
    "Create a script that calculates the average closing cost for all records in the *stocks.csv* file.\n",
    "\t\n",
    "You may use any Python functions that are appropriate for the task, but you must include the `reduce` function at least once.\n",
    "\t\n",
    "Display the results in a user-friendly format."
   ]
  },
  {
   "cell_type": "code",
   "execution_count": 16,
   "metadata": {},
   "outputs": [
    {
     "name": "stdout",
     "output_type": "stream",
     "text": [
      "117.01\n"
     ]
    }
   ],
   "source": [
    "# your code here\n",
    "def fromCSV(path,delimiter,quotechar):\n",
    "    import csv # import the csv module\n",
    "    data=list() # any data we will read will be returned in a list \n",
    "    with open(path, newline='') as csvfile: # open the file\n",
    "        filecontent = csv.DictReader(csvfile, delimiter=delimiter, quotechar=quotechar) \n",
    "        # access the content of the file\n",
    "        for row in filecontent:# iterate through the rows \n",
    "            data.append(row) # save the rows in the data list. Each row is a dictionary \n",
    "    return data\n",
    "\n",
    "data=fromCSV(path='FileIO-DataFiles/stocks.csv',delimiter=',',quotechar='|') \n",
    "\n",
    "\n",
    "count = 0\n",
    "sum_list = []\n",
    "# csv_file is an iterable object that we can iterate on using a for loop\n",
    "for row in data:\n",
    "    #remove pass and add code here   \n",
    "    if row == \"Close\" :\n",
    "        pass\n",
    "    else: \n",
    "        sum_list.append(float(row['Close']))\n",
    "        count += 1\n",
    "    \n",
    "sum_of_Numbers = reduce(lambda x, y: x + y,sum_list)\n",
    "avg = sum_of_Numbers / count\n",
    "\n",
    "print(round(avg, 2))"
   ]
  },
  {
   "cell_type": "code",
   "execution_count": null,
   "metadata": {},
   "outputs": [],
   "source": []
  }
 ],
 "metadata": {
  "kernelspec": {
   "display_name": "Python 3",
   "language": "python",
   "name": "python3"
  },
  "language_info": {
   "codemirror_mode": {
    "name": "ipython",
    "version": 3
   },
   "file_extension": ".py",
   "mimetype": "text/x-python",
   "name": "python",
   "nbconvert_exporter": "python",
   "pygments_lexer": "ipython3",
   "version": "3.8.5"
  }
 },
 "nbformat": 4,
 "nbformat_minor": 2
}

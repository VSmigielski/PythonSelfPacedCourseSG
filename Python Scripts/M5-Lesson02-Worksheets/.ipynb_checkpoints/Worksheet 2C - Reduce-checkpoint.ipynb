{
 "cells": [
  {
   "cell_type": "markdown",
   "metadata": {},
   "source": [
    "# Reduce\n",
    "\t\n",
    "This worksheet accompanies *Lesson 2C: Reduce* in the online course. Refer to that page as necessary to complete these practice activities."
   ]
  },
  {
   "cell_type": "markdown",
   "metadata": {},
   "source": [
    "## Practice 1\n",
    "Create a script that prompts the user for a series of numbers and calculates the sum of those numbers. Include the following features:\n",
    "\n",
    "* Prompt the user for values until the user enters \"Stop\" (in any letter case).\n",
    "* Each value entered by the user should be added to a list.\n",
    "* Use the `reduce` function with a lambda function to calculate the total value.\n",
    "* Display the results in a user-friendly format.\n",
    "\n",
    "**Tip**: It is always helpful to let the user know how to exit a loop!"
   ]
  },
  {
   "cell_type": "code",
   "execution_count": 3,
   "metadata": {
    "collapsed": true
   },
   "outputs": [],
   "source": [
    "# your code here\n",
    "from functools import reduce\n",
    " \n",
    "list_numbers = [2, 4, 6, 8]\n",
    " \n",
    "product = reduce(lambda x, y: x * y,list_numbers)\n",
    "# reduce will apply the multiplication on the first and second element: 1*2 = 2\n",
    "# reduce will then multiply the result of the previous step by the third element 2*3 = 6\n",
    "# reduce will then multiply the result of the previous step by the fourth element 6*4= 24\n",
    " \n",
    "print(type(product))\n",
    " \n",
    "print(product)"
   ]
  },
  {
   "cell_type": "markdown",
   "metadata": {},
   "source": [
    "## Practice 2\n",
    "Update the script from the previous practice activity so that it adds the value 100 to the sum of the values input by the user."
   ]
  },
  {
   "cell_type": "code",
   "execution_count": 3,
   "metadata": {
    "collapsed": true
   },
   "outputs": [],
   "source": [
    "# your code here"
   ]
  },
  {
   "cell_type": "markdown",
   "metadata": {},
   "source": [
    "## Practice 3\n",
    "Create a script that outputs the lowest value in a series of values input by the user.\n",
    "\n",
    "* The script should accept values from the user until the user enters \"Stop\" (in any letter case).\n",
    "* When the user enters \"Stop,\" the script should display all values entered by the user and the lowest value in a user-friendly format."
   ]
  },
  {
   "cell_type": "code",
   "execution_count": 7,
   "metadata": {
    "collapsed": true
   },
   "outputs": [],
   "source": [
    "# your code here"
   ]
  },
  {
   "cell_type": "markdown",
   "metadata": {},
   "source": [
    "## Challenge Activity\n",
    "Create a script that calculates the average closing cost for all records in the *stocks.csv* file.\n",
    "\t\n",
    "You may use any Python functions that are appropriate for the task, but you must include the `reduce` function at least once.\n",
    "\t\n",
    "Display the results in a user-friendly format."
   ]
  },
  {
   "cell_type": "code",
   "execution_count": 8,
   "metadata": {
    "collapsed": true
   },
   "outputs": [],
   "source": [
    "# your code here"
   ]
  }
 ],
 "metadata": {
  "kernelspec": {
   "display_name": "Python 3",
   "language": "python",
   "name": "python3"
  },
  "language_info": {
   "codemirror_mode": {
    "name": "ipython",
    "version": 3
   },
   "file_extension": ".py",
   "mimetype": "text/x-python",
   "name": "python",
   "nbconvert_exporter": "python",
   "pygments_lexer": "ipython3",
   "version": "3.8.5"
  }
 },
 "nbformat": 4,
 "nbformat_minor": 2
}

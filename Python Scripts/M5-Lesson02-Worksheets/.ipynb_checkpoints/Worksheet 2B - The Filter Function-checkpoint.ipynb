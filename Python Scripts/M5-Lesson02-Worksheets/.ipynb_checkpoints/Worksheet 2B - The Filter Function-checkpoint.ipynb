{
 "cells": [
  {
   "cell_type": "markdown",
   "metadata": {},
   "source": [
    "# Filter \n",
    "This worksheet accompanies *Lesson 2B: The Filter Function* in the online course. Refer to that page as necessary to complete these practice exercises."
   ]
  },
  {
   "cell_type": "markdown",
   "metadata": {},
   "source": [
    "## Practice 1\n",
    "Create a script that takes as input a list of names and returns all names that include the letter \"e\" at any position in the name.\n",
    "\n",
    "Once the script works with the letter \"e\", refactor the script to prompt the user for a letter to use in the filter. If there are no names with the specified letter in the dataset, return a message to that effect to the user."
   ]
  },
  {
   "cell_type": "code",
   "execution_count": 61,
   "metadata": {},
   "outputs": [
    {
     "name": "stdout",
     "output_type": "stream",
     "text": [
      "['Haythem', 'Mike', 'James', 'Helen', 'Mary']\n",
      "Enter a letter to look for: h\n",
      "<class 'filter'>\n",
      "<class 'list'>\n",
      "['Haythem', 'Helen']\n"
     ]
    }
   ],
   "source": [
    "def contains_letter(letter, dataset):\n",
    "    if letter.lower() in dataset.lower():\n",
    "        return True\n",
    "    else:\n",
    "        return False\n",
    "\n",
    "names=['Haythem','Mike','James','Helen','Mary']\n",
    "print(names)\n",
    "\n",
    "letter = input(\"Enter a letter to look for: \")\n",
    "\n",
    "names_filtered = filter(lambda x: contains_letter(letter, x), names) \n",
    "print(type(names_filtered))\n",
    "\n",
    "names_filtered_list = list(names_filtered)\n",
    "\n",
    "print(type(names_filtered_list))\n",
    "\n",
    "print(names_filtered_list)"
   ]
  },
  {
   "cell_type": "markdown",
   "metadata": {},
   "source": [
    "## Practice 2\n",
    "Change the code below to identify all the rows in the full *stocks.csv* file where the high price is lower than the close price and display the results. "
   ]
  },
  {
   "cell_type": "code",
   "execution_count": 59,
   "metadata": {},
   "outputs": [
    {
     "name": "stdout",
     "output_type": "stream",
     "text": [
      "<class 'filter'>\n",
      "{'Date': '11/12/08', 'Open': '106.3', 'High': '110.6', 'Low': '95.2', 'Close': '96.4', 'Volume': '16091593'}\n",
      "{'Date': '11/14/08', 'Open': '97.6', 'High': '101.1', 'Low': '87.9', 'Close': '95.2', 'Volume': '28157004'}\n"
     ]
    }
   ],
   "source": [
    "def fromCSV(path,delimiter,quotechar):\n",
    "    import csv # import the csv module\n",
    "    data=list() # any data we will read will be returned in a list \n",
    "    with open(path, newline='') as csvfile: # open the file\n",
    "        filecontent = csv.DictReader(csvfile, delimiter=delimiter, quotechar=quotechar) \n",
    "        # access the content of the file\n",
    "        for row in filecontent:# iterate through the rows \n",
    "            data.append(row) # save the rows in the data list. Each row is a dictionary \n",
    "    return data\n",
    "\n",
    "data=fromCSV(path='FileIO-DataFiles/stocks.csv',delimiter=',',quotechar='|') \n",
    "data_filtered = filter(lambda x: x['High'] < x['Close'], data) \n",
    "print(type(data_filtered))\n",
    "\n",
    "data_filtered_list = list(data_filtered) #convert the filter object into a list\n",
    "for row in data_filtered_list: #display each element in the filtered list \n",
    "    print(row)"
   ]
  },
  {
   "cell_type": "code",
   "execution_count": null,
   "metadata": {},
   "outputs": [],
   "source": []
  }
 ],
 "metadata": {
  "kernelspec": {
   "display_name": "Python 3",
   "language": "python",
   "name": "python3"
  },
  "language_info": {
   "codemirror_mode": {
    "name": "ipython",
    "version": 3
   },
   "file_extension": ".py",
   "mimetype": "text/x-python",
   "name": "python",
   "nbconvert_exporter": "python",
   "pygments_lexer": "ipython3",
   "version": "3.8.5"
  }
 },
 "nbformat": 4,
 "nbformat_minor": 2
}

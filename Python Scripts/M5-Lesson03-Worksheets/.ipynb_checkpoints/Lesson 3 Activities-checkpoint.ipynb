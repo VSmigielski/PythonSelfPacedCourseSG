{
 "cells": [
  {
   "cell_type": "markdown",
   "metadata": {},
   "source": [
    "# Lesson 3 Activities\n",
    "The activities in this page will demonstrate your ability to:\n",
    "\n",
    "* Define custom exception messages that will display when Python encounters an error in the code.\n",
    "* Use `try:except` to display a message based on the type of error Python encounters.\n",
    "* Use `try:except:finally` to continue running a script after Python has encountered an error.\n",
    "\n",
    "Some of the exercises on this page are based on activities completed in earlier modules. If you have the code for those activities, you are welcome to start with your existing code. However, you may find it useful to recreate those scripts here, as a review of the skills previously covered.\n",
    "\n",
    "In this version of those activities, you are asked to implement exception handling using the tools presented in this lesson. For example, update the scripts to handle cases like the following:\n",
    "\n",
    "* Missing files\n",
    "* Division by zero\n",
    "* Conversion error \n",
    "\n",
    "For the file I/O activities, you are welcome to use any appropriate file, including files provided for other activities, files you download from a website, or files that you create for this activity.\n",
    "\n",
    "Use `try:except` and `try:except:finally` where appropriate."
   ]
  },
  {
   "cell_type": "markdown",
   "metadata": {},
   "source": [
    "## Activity 1\n",
    "\n",
    "Create a  program that prompts the user to enter a number and then displays the type of the number entered (e.g., complex, integer, or float).\n",
    "\n",
    "For example, if the user enters 6, the output should be `int`.\n",
    "\n",
    "Implement appropriate exception handling for situations where the user enters a string that cannot be converted to a number."
   ]
  },
  {
   "cell_type": "code",
   "execution_count": 19,
   "metadata": {},
   "outputs": [
    {
     "name": "stdout",
     "output_type": "stream",
     "text": [
      "Enter a number: \n",
      "ant\n",
      "Oops, ValueError! That was not a valid number.\n"
     ]
    }
   ],
   "source": [
    "# your code here\n",
    "import ast\n",
    "\n",
    "try:\n",
    "    user_input = input(\"Enter a number: \\n\")\n",
    "    if isinstance(ast.literal_eval(user_input), bool):\n",
    "        raise ValueError\n",
    "    else:\n",
    "        print(type(ast.literal_eval(user_input)))\n",
    "except ValueError:\n",
    "    print(\"Oops, ValueError! That was not a valid number.\")"
   ]
  },
  {
   "cell_type": "markdown",
   "metadata": {},
   "source": [
    "## Activity 2\n",
    "\n",
    "Write a program that calculates and displays the current value of a deposit for a given initial deposit, interest rate, how many times interest is calculated per year, and the number of years since the initial deposit.\n",
    "\n",
    "The program should prompt the user for each of the values and use the following formula to calculate the current value of the deposit:\n",
    "\n",
    "    V = P(1 + r/n)^nt\n",
    "\n",
    "Where:\n",
    "\n",
    "* `V`: Value\n",
    "* `P`: Initial deposit\n",
    "* `r`: Interest rate as a fraction (e.g., 0.05)\n",
    "* `n`: The number of times per year interest is calculated\n",
    "* `t`: The number of years since the initial deposit\n",
    "\n",
    "The program should display each of the values entered to the user in a meaningful way so that the user can easily see what each value represents, along with the results of the calculation.\n",
    "\n",
    "Implement appropriate exception handling for each input where the user might enter a string value that cannot be used as a number. In particular, consider the following:\n",
    "\n",
    "* The user enters a percentage value like \"5%\" instead of \"0.05\" for the interest rate.\n",
    "* The user enters \"0\" for `n`, resulting in a division by 0 error."
   ]
  },
  {
   "cell_type": "code",
   "execution_count": 25,
   "metadata": {},
   "outputs": [
    {
     "name": "stdout",
     "output_type": "stream",
     "text": [
      "What is the initial deposit? 400\n",
      "What is the interest rate (as a fraction)? ant\n",
      "Oops, ValueError! That was not a float.\n",
      "What is the interest rate (as a fraction)? 0.05\n",
      "How many times per year is interest calculated? 0\n",
      "Oops, ZeroDivisionError! We cannot divide by zero. Try again...\n",
      "How many times per year is interest calculated? 2\n",
      "How many years since the initial deposit? 0\n",
      "This is the value of the deposit: \n",
      "400\n",
      "This is the value of the rate: \n",
      "0.05\n",
      "This is the value of the times interest is calculated: \n",
      "2\n",
      "This is the value of the number of years after initial deposit: \n",
      "0\n",
      "This is the value of the overall calculations: \n",
      "400.0\n"
     ]
    }
   ],
   "source": [
    "# your code here\n",
    "while True:\n",
    "    try:\n",
    "        deposit = int(input(\"What is the initial deposit? \"))\n",
    "    except ValueError:\n",
    "        print(\"Oops, ValueError! That was not an integer.\")\n",
    "        continue\n",
    "    else:\n",
    "        break\n",
    "        \n",
    "while True:\n",
    "    try:\n",
    "        r = float(input(\"What is the interest rate using hundredths? \"))\n",
    "    except ValueError:\n",
    "        print(\"Oops, ValueError! That was not a float.\")\n",
    "        continue\n",
    "    else:\n",
    "        break\n",
    "        \n",
    "while True:\n",
    "    try:\n",
    "        n = int(input(\"How many times per year is interest calculated? \"))\n",
    "        if n != 0:\n",
    "            pass\n",
    "        else:\n",
    "            raise ZeroDivisionError\n",
    "    except ZeroDivisionError:\n",
    "        print(\"Oops, ZeroDivisionError! We cannot divide by zero. Try again...\")\n",
    "        continue\n",
    "    except ValueError:\n",
    "        print(\"Oops, ValueError! That was not an integer.\")\n",
    "        continue\n",
    "    else:\n",
    "        break\n",
    "        \n",
    "while True:\n",
    "    try:\n",
    "        t = int(input(\"How many years since the initial deposit? \"))\n",
    "    except ValueError:\n",
    "        print(\"Oops, ValueError! That was not an integer.\")\n",
    "        continue\n",
    "    else:\n",
    "        break\n",
    "    \n",
    "\n",
    "print(\"This is the value of the deposit: \")\n",
    "print(deposit)\n",
    "print(\"This is the value of the rate: \")\n",
    "print(r)\n",
    "print(\"This is the value of the times interest is calculated: \")\n",
    "print(n)\n",
    "print(\"This is the value of the number of years after initial deposit: \")\n",
    "print(t)\n",
    "rByN = (r / n)\n",
    "value = (deposit * (1 + rByN) ** (n * t))\n",
    "print(\"This is the value of the overall calculations: \")\n",
    "print(value)"
   ]
  },
  {
   "cell_type": "markdown",
   "metadata": {},
   "source": [
    "## Activity 3\n",
    "\n",
    "Write a function that prompts the reader for an integer `n` and reads the first `n` lines of a file.\n",
    "\n",
    "Include a creative way to handle cases where `n` is greater than the number of lines available in the file.\n",
    "\n",
    "Add exception handling for these cases:\n",
    "\n",
    "* The user enters something other than an integer for `n`.\n",
    "* The file cannot be located."
   ]
  },
  {
   "cell_type": "code",
   "execution_count": 39,
   "metadata": {
    "scrolled": true
   },
   "outputs": [
    {
     "name": "stdout",
     "output_type": "stream",
     "text": [
      "FLATLAND\n",
      "\n",
      "PART 1\n",
      "\n",
      "THIS WORLD\n",
      "\n",
      "SECTION 1  Of the Nature of Flatland\n",
      "\n",
      "I call our world Flatland, not because we call it so, but to make its\n",
      "nature clearer to you, my happy readers, who are privileged to live in\n",
      "\n"
     ]
    }
   ],
   "source": [
    "# your code here\n",
    "def head(filepath,num_lines):\n",
    "    # remove pass and add code here\n",
    "    try:\n",
    "        f = open(filepath, \"r\")   \n",
    "    except FileNotFoundError:\n",
    "        print(\"The file was not found\")\n",
    "    else:\n",
    "        line = \"\"\n",
    "        for i in range(num_lines):\n",
    "            line += f.readline()\n",
    "        f.close()\n",
    "        print(line)\n",
    "        \n",
    "        \n",
    "# return the first 5 lines in the file data/text.txt\n",
    "head(\"FileIO-DataFiles/flatland01.txt\",10) "
   ]
  },
  {
   "cell_type": "markdown",
   "metadata": {},
   "source": [
    "## Activity 4\n",
    "\n",
    "Write a function that takes as input the path to two text files and concatenates the files into a single new file.\n",
    "\n",
    "Add exception handling for problems with one or both input files."
   ]
  },
  {
   "cell_type": "code",
   "execution_count": 40,
   "metadata": {},
   "outputs": [
    {
     "name": "stdout",
     "output_type": "stream",
     "text": [
      "Enter a path and filename. Ex: FileIO-DataFiles/filex.txt\n",
      "FileIO-DataFiles/filex.txt\n",
      "Enter a path and filename. Ex: FileIO-DataFiles/file1.txt\n",
      "FileIO-DataFiles/filez.txt\n",
      "Enter a path and filename. Ex: FileIO-DataFiles/file1.txt\n",
      "FileIO-DataFiles/file1.txt\n",
      "The file was not found\n",
      "The file was not found\n",
      "\n",
      "\n"
     ]
    }
   ],
   "source": [
    "# your code here\n",
    "def merge_files(filepath1, filepath2, filepath3):\n",
    "    data = data2 = \"\"\n",
    "    \n",
    "    try:\n",
    "        with open(filepath1, 'r') as f:\n",
    "            data = f.read()\n",
    "        f.close()\n",
    "    except FileNotFoundError:\n",
    "        print(\"The file was not found\")\n",
    "        \n",
    "    try:\n",
    "        with open(filepath2, 'r') as f:\n",
    "            data2 = f.read()\n",
    "        f.close()\n",
    "    except FileNotFoundError:\n",
    "        print(\"The file was not found\")\n",
    "    \n",
    "    data += \"\\n\"\n",
    "    data += data2\n",
    "    \n",
    "    new_file = filepath3\n",
    "    \n",
    "    with open (new_file, 'w') as f:\n",
    "        f.write(data)\n",
    "    f.close()\n",
    "    \n",
    "    return new_file\n",
    "    \n",
    "user_input1 = input(\"Enter a path and filename. Ex: FileIO-DataFiles/file1.txt\\n\")    \n",
    "user_input2 = input(\"Enter a path and filename. Ex: FileIO-DataFiles/file1.txt\\n\")    \n",
    "user_input3 = input(\"Enter a path and filename. Ex: FileIO-DataFiles/file1.txt\\n\")\n",
    "\n",
    "new_file = merge_files(user_input1, user_input2, user_input3)\n",
    "\n",
    "try:\n",
    "    f = open(new_file, \"r\")  \n",
    "    print(f.read())\n",
    "    f.close() \n",
    "except FileNotFoundError:\n",
    "    print(\"The file was not found\")"
   ]
  },
  {
   "cell_type": "markdown",
   "metadata": {},
   "source": [
    "## Activity 5\n",
    "\n",
    "Write a function that takes a variable length of text files and concatenate the files into a single new file.\n",
    "\n",
    "Add exception handling for problems with any of the files."
   ]
  },
  {
   "cell_type": "code",
   "execution_count": 55,
   "metadata": {},
   "outputs": [
    {
     "ename": "KeyboardInterrupt",
     "evalue": "Interrupted by user",
     "output_type": "error",
     "traceback": [
      "\u001b[1;31m---------------------------------------------------------------------------\u001b[0m",
      "\u001b[1;31mKeyboardInterrupt\u001b[0m                         Traceback (most recent call last)",
      "\u001b[1;32m<ipython-input-55-35bad20fa63a>\u001b[0m in \u001b[0;36m<module>\u001b[1;34m\u001b[0m\n\u001b[0;32m     40\u001b[0m \u001b[1;33m\u001b[0m\u001b[0m\n\u001b[0;32m     41\u001b[0m \u001b[1;33m\u001b[0m\u001b[0m\n\u001b[1;32m---> 42\u001b[1;33m \u001b[0mnew_file\u001b[0m \u001b[1;33m=\u001b[0m \u001b[0mmerge_many\u001b[0m\u001b[1;33m(\u001b[0m\u001b[1;33m)\u001b[0m\u001b[1;33m\u001b[0m\u001b[1;33m\u001b[0m\u001b[0m\n\u001b[0m\u001b[0;32m     43\u001b[0m \u001b[1;33m\u001b[0m\u001b[0m\n\u001b[0;32m     44\u001b[0m \u001b[1;32mtry\u001b[0m\u001b[1;33m:\u001b[0m\u001b[1;33m\u001b[0m\u001b[1;33m\u001b[0m\u001b[0m\n",
      "\u001b[1;32m<ipython-input-55-35bad20fa63a>\u001b[0m in \u001b[0;36mmerge_many\u001b[1;34m()\u001b[0m\n\u001b[0;32m      6\u001b[0m \u001b[1;33m\u001b[0m\u001b[0m\n\u001b[0;32m      7\u001b[0m     \u001b[1;32mwhile\u001b[0m \u001b[0muser_input\u001b[0m\u001b[1;33m.\u001b[0m\u001b[0mlower\u001b[0m\u001b[1;33m(\u001b[0m\u001b[1;33m)\u001b[0m \u001b[1;33m!=\u001b[0m \u001b[1;34m\"quit\"\u001b[0m\u001b[1;33m:\u001b[0m\u001b[1;33m\u001b[0m\u001b[1;33m\u001b[0m\u001b[0m\n\u001b[1;32m----> 8\u001b[1;33m         \u001b[0muser_input\u001b[0m \u001b[1;33m=\u001b[0m \u001b[0minput\u001b[0m\u001b[1;33m(\u001b[0m\u001b[1;34m\"Enter a path and filename. Ex: FileIO-DataFiles/file1.txt\\n\"\u001b[0m\u001b[1;33m)\u001b[0m\u001b[1;33m\u001b[0m\u001b[1;33m\u001b[0m\u001b[0m\n\u001b[0m\u001b[0;32m      9\u001b[0m         \u001b[1;32mif\u001b[0m \u001b[0muser_input\u001b[0m\u001b[1;33m.\u001b[0m\u001b[0mlower\u001b[0m\u001b[1;33m(\u001b[0m\u001b[1;33m)\u001b[0m \u001b[1;33m!=\u001b[0m \u001b[1;34m\"quit\"\u001b[0m\u001b[1;33m:\u001b[0m\u001b[1;33m\u001b[0m\u001b[1;33m\u001b[0m\u001b[0m\n\u001b[0;32m     10\u001b[0m             \u001b[0mfilenames\u001b[0m\u001b[1;33m.\u001b[0m\u001b[0mappend\u001b[0m\u001b[1;33m(\u001b[0m\u001b[0muser_input\u001b[0m\u001b[1;33m)\u001b[0m\u001b[1;33m\u001b[0m\u001b[1;33m\u001b[0m\u001b[0m\n",
      "\u001b[1;32m~\\anaconda3\\lib\\site-packages\\ipykernel\\kernelbase.py\u001b[0m in \u001b[0;36mraw_input\u001b[1;34m(self, prompt)\u001b[0m\n\u001b[0;32m    858\u001b[0m                 \u001b[1;34m\"raw_input was called, but this frontend does not support input requests.\"\u001b[0m\u001b[1;33m\u001b[0m\u001b[1;33m\u001b[0m\u001b[0m\n\u001b[0;32m    859\u001b[0m             )\n\u001b[1;32m--> 860\u001b[1;33m         return self._input_request(str(prompt),\n\u001b[0m\u001b[0;32m    861\u001b[0m             \u001b[0mself\u001b[0m\u001b[1;33m.\u001b[0m\u001b[0m_parent_ident\u001b[0m\u001b[1;33m,\u001b[0m\u001b[1;33m\u001b[0m\u001b[1;33m\u001b[0m\u001b[0m\n\u001b[0;32m    862\u001b[0m             \u001b[0mself\u001b[0m\u001b[1;33m.\u001b[0m\u001b[0m_parent_header\u001b[0m\u001b[1;33m,\u001b[0m\u001b[1;33m\u001b[0m\u001b[1;33m\u001b[0m\u001b[0m\n",
      "\u001b[1;32m~\\anaconda3\\lib\\site-packages\\ipykernel\\kernelbase.py\u001b[0m in \u001b[0;36m_input_request\u001b[1;34m(self, prompt, ident, parent, password)\u001b[0m\n\u001b[0;32m    902\u001b[0m             \u001b[1;32mexcept\u001b[0m \u001b[0mKeyboardInterrupt\u001b[0m\u001b[1;33m:\u001b[0m\u001b[1;33m\u001b[0m\u001b[1;33m\u001b[0m\u001b[0m\n\u001b[0;32m    903\u001b[0m                 \u001b[1;31m# re-raise KeyboardInterrupt, to truncate traceback\u001b[0m\u001b[1;33m\u001b[0m\u001b[1;33m\u001b[0m\u001b[1;33m\u001b[0m\u001b[0m\n\u001b[1;32m--> 904\u001b[1;33m                 \u001b[1;32mraise\u001b[0m \u001b[0mKeyboardInterrupt\u001b[0m\u001b[1;33m(\u001b[0m\u001b[1;34m\"Interrupted by user\"\u001b[0m\u001b[1;33m)\u001b[0m \u001b[1;32mfrom\u001b[0m \u001b[1;32mNone\u001b[0m\u001b[1;33m\u001b[0m\u001b[1;33m\u001b[0m\u001b[0m\n\u001b[0m\u001b[0;32m    905\u001b[0m             \u001b[1;32mexcept\u001b[0m \u001b[0mException\u001b[0m \u001b[1;32mas\u001b[0m \u001b[0me\u001b[0m\u001b[1;33m:\u001b[0m\u001b[1;33m\u001b[0m\u001b[1;33m\u001b[0m\u001b[0m\n\u001b[0;32m    906\u001b[0m                 \u001b[0mself\u001b[0m\u001b[1;33m.\u001b[0m\u001b[0mlog\u001b[0m\u001b[1;33m.\u001b[0m\u001b[0mwarning\u001b[0m\u001b[1;33m(\u001b[0m\u001b[1;34m\"Invalid Message:\"\u001b[0m\u001b[1;33m,\u001b[0m \u001b[0mexc_info\u001b[0m\u001b[1;33m=\u001b[0m\u001b[1;32mTrue\u001b[0m\u001b[1;33m)\u001b[0m\u001b[1;33m\u001b[0m\u001b[1;33m\u001b[0m\u001b[0m\n",
      "\u001b[1;31mKeyboardInterrupt\u001b[0m: Interrupted by user"
     ]
    }
   ],
   "source": [
    "# your code here\n",
    "def combine_files(files):\n",
    "    \n",
    "    with open(\"../data/concat_a2.txt\", \"w\") as out:\n",
    "        for file in files:\n",
    "            try:\n",
    "                with open(file, \"r\") as f:\n",
    "                    out.write(f.read())\n",
    "            except IOError as e:\n",
    "                print(\"File\", file, \"not found!\")\n",
    "\n",
    "choice = \"\"\n",
    "files = []\n",
    "while (choice.lower() != \"quit\"):\n",
    "    choice = input(\"Enter path and file name for file to append:\")\n",
    "    if choice.lower() != \"quit\":\n",
    "        files.append(choice)\n",
    "\n",
    "combine_files(files)\n",
    "\n",
    "try:\n",
    "    f = open(\"../data/concat_a2.txt\", \"r\")\n",
    "    print(f.read())\n",
    "    f.close()\n",
    "except IOError as e:\n",
    "    print(\"File not found!\")"
   ]
  },
  {
   "cell_type": "markdown",
   "metadata": {},
   "source": [
    "## Activity 6\n",
    "\n",
    "Write a function that reads a text file line by line, stores each line in a list, and then returns the list.\n",
    "\n",
    "Add exception handling for problems with the file."
   ]
  },
  {
   "cell_type": "code",
   "execution_count": 58,
   "metadata": {},
   "outputs": [
    {
     "name": "stdout",
     "output_type": "stream",
     "text": [
      "Enter a path and filename. Ex: FileIO-DataFiles/flatland01.txt\n",
      "FileIO-DataFiles/flatland-1.txt\n",
      "File not found!\n"
     ]
    }
   ],
   "source": [
    "# your code here\n",
    "def head(filename):\n",
    "    # remove pass and add code here\n",
    "    try:\n",
    "        with open(filename) as f:\n",
    "            content = f.readlines()\n",
    "        # you may also want to remove whitespace characters like `\\n` at the end of each line\n",
    "        content = [x.strip() for x in content]  \n",
    "\n",
    "        f.close()\n",
    "        print(content)\n",
    "    except IOError:\n",
    "        print(\"File not found!\")\n",
    "\n",
    "user_input = input(\"Enter a path and filename. Ex: FileIO-DataFiles/flatland01.txt\\n\")\n",
    "\n",
    "head(user_input)\n"
   ]
  },
  {
   "cell_type": "markdown",
   "metadata": {},
   "source": [
    "## Activity 7\n",
    "\n",
    "Write a function that takes as input the path to a text file and returns the longest word in the text file.\n",
    "\n",
    "Add exception handling for problems with the file."
   ]
  },
  {
   "cell_type": "code",
   "execution_count": 59,
   "metadata": {},
   "outputs": [
    {
     "name": "stdout",
     "output_type": "stream",
     "text": [
      "Enter a path and filename. Ex: FileIO-DataFiles/flatland01.txt\n",
      "FileIO-DataFiles/flatland01.txt\n",
      "['shadows--only']\n"
     ]
    }
   ],
   "source": [
    "# your code here\n",
    "def longest_word(filename):\n",
    "    # remove pass and add code here\n",
    "    try:\n",
    "        with open(filename, 'r') as f:\n",
    "            words = f.read().split()\n",
    "        max_len = len(max(words, key=len))\n",
    "\n",
    "        print([word for word in words if len(word) == max_len])\n",
    "    except IOError:\n",
    "        print(\"File not found!\")\n",
    "\n",
    "user_input = input(\"Enter a path and filename. Ex: FileIO-DataFiles/flatland01.txt\\n\")\n",
    "\n",
    "longest_word(user_input)"
   ]
  },
  {
   "cell_type": "code",
   "execution_count": null,
   "metadata": {},
   "outputs": [],
   "source": []
  }
 ],
 "metadata": {
  "kernelspec": {
   "display_name": "Python 3",
   "language": "python",
   "name": "python3"
  },
  "language_info": {
   "codemirror_mode": {
    "name": "ipython",
    "version": 3
   },
   "file_extension": ".py",
   "mimetype": "text/x-python",
   "name": "python",
   "nbconvert_exporter": "python",
   "pygments_lexer": "ipython3",
   "version": "3.8.5"
  }
 },
 "nbformat": 4,
 "nbformat_minor": 2
}

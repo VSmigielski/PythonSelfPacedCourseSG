{
 "cells": [
  {
   "cell_type": "markdown",
   "metadata": {},
   "source": [
    "Instructions\n",
    "Consider the class below, which includes two methods, fromCSV and fromJSON, that allow us to read data from CSV and JSON files respectively.\n",
    "\n",
    "The current version of the code doesn't deal with missing file exceptions.\n",
    "\n",
    "Implement the necessary exceptions to display a custom error message when the file is missing.\n",
    "\n",
    "The program must display a meaningful message to the user and allow the user to enter another path without exiting the program.\n",
    "\n",
    "If the user enters a new path, the program must check the new path for errors and respond appropriately.\n",
    "\n",
    "The program must include an option for the user to quit the program if they cannot provide a correct path.\n",
    "\n",
    "You may use any CSV and JSON file you wish for testing, including files used elsewhere in this course, files you find online, or files you create."
   ]
  },
  {
   "cell_type": "markdown",
   "metadata": {},
   "source": [
    "Requirements\n",
    "Include your name and a current date on the first line of code.\n",
    "\n",
    "The program must run without error if both file paths are correct.\n",
    "\n",
    "If the path is incorrect for either file, the program must display a meaningful message that explains the error and allow the user to enter a corrected path to use instead.\n",
    "\n",
    "If the user enters a new path, the program must check that path for errors and respond appropriately.\n",
    "\n",
    "The program must allow the user to exit the program if they do not wish to provide a different file path.\n",
    "\n",
    "All text displayed to the user must use correct grammar and spelling."
   ]
  },
  {
   "cell_type": "code",
   "execution_count": 21,
   "metadata": {},
   "outputs": [
    {
     "name": "stdout",
     "output_type": "stream",
     "text": [
      "The CSV file entered was not found! Please try again!\n",
      "Enter a valid file path:\n",
      "FileIO-DataFiles/stocks.csv\n",
      "That was a valid CSV file!\n",
      "The JSON file entered was not found! Please try again!\n",
      "Enter a valid file path:\n",
      "FileIO-DataFiles/stocks.csv\n",
      "The file could not be decoded\n",
      "Enter a valid file path:\n",
      "FileIO-DataFiles/missing.json\n",
      "The JSON file entered was not found! Please try again!\n",
      "Enter a valid file path:\n",
      "FileIO-DataFiles/states.json\n",
      "That was a valid JSON file!\n"
     ]
    }
   ],
   "source": [
    "# Veronica Smigielski 09/05/2021\n",
    "class extract:\n",
    "    def fromCSV(self, file_path, delimiter = \",\", quotechar = \"|\"):\n",
    "        if not file_path:\n",
    "            raise Exception(\"You must provide a valid file path.\")\n",
    "        import csv\n",
    "        dataset = list()\n",
    "        while True:\n",
    "            try:\n",
    "                with open(file_path) as f: \n",
    "                    csv_file = csv.DictReader(f, delimiter = delimiter,quotechar = quotechar) \n",
    "                    for row in csv_file:\n",
    "                        dataset.append(row)\n",
    "            except FileNotFoundError:\n",
    "                print(\"The CSV file entered was not found! Please try again!\")\n",
    "                file_path = input(\"Enter a valid file path:\\n\")\n",
    "                if file_path != \"quit\":\n",
    "                    continue\n",
    "                else:\n",
    "                    break\n",
    "            else:\n",
    "                print(\"That was a valid CSV file!\")\n",
    "                break\n",
    "        return dataset\n",
    " \n",
    "    def fromJSON(self, file_path):\n",
    "        if not file_path:\n",
    "            raise Exception(\"You must provide a valid file path.\")\n",
    "        import json\n",
    "        dataset = list()\n",
    "        while True:\n",
    "            try:\n",
    "                with open(file_path) as json_file:\n",
    "                    dataset = json.load(json_file)\n",
    "            except (TypeError, ValueError) as e:\n",
    "                print(\"The file could not be decoded\")\n",
    "                file_path = input(\"Enter a valid file path:\\n\")\n",
    "                if file_path != \"quit\":\n",
    "                    continue\n",
    "                else:\n",
    "                    break\n",
    "            except FileNotFoundError:\n",
    "                print(\"The JSON file entered was not found! Please try again!\")\n",
    "                file_path = input(\"Enter a valid file path:\\n\")\n",
    "                if file_path != \"quit\":\n",
    "                    continue\n",
    "                else:\n",
    "                    break\n",
    "            else:\n",
    "                print(\"That was a valid JSON file!\")\n",
    "                return dataset\n",
    "                break\n",
    "    \n",
    "e = extract()\n",
    "dataset1 = e.fromCSV(file_path=\"data/missing_file.csv\")\n",
    "dataset2 = e.fromJSON(file_path=\"data/missing_file.json\")"
   ]
  },
  {
   "cell_type": "code",
   "execution_count": 41,
   "metadata": {},
   "outputs": [
    {
     "name": "stdout",
     "output_type": "stream",
     "text": [
      "5\n"
     ]
    }
   ],
   "source": []
  },
  {
   "cell_type": "code",
   "execution_count": null,
   "metadata": {},
   "outputs": [],
   "source": []
  }
 ],
 "metadata": {
  "kernelspec": {
   "display_name": "Python 3",
   "language": "python",
   "name": "python3"
  },
  "language_info": {
   "codemirror_mode": {
    "name": "ipython",
    "version": 3
   },
   "file_extension": ".py",
   "mimetype": "text/x-python",
   "name": "python",
   "nbconvert_exporter": "python",
   "pygments_lexer": "ipython3",
   "version": "3.8.5"
  }
 },
 "nbformat": 4,
 "nbformat_minor": 4
}

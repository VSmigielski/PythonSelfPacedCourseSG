{
 "cells": [
  {
   "cell_type": "markdown",
   "metadata": {},
   "source": [
    "# Exception Handling\n",
    "\n",
    "This worksheet accompanies *Lesson 3: Exception Handling* in the online course. Refer to that page as necessary to complete these practice activities."
   ]
  },
  {
   "cell_type": "markdown",
   "metadata": {},
   "source": [
    "## Practice 1\n",
    "Create a Python script that will produce another type of built-in exception. Examples include missing files or conversion or import errors."
   ]
  },
  {
   "cell_type": "code",
   "execution_count": 1,
   "metadata": {},
   "outputs": [
    {
     "ename": "ZeroDivisionError",
     "evalue": "division by zero",
     "output_type": "error",
     "traceback": [
      "\u001b[1;31m---------------------------------------------------------------------------\u001b[0m",
      "\u001b[1;31mZeroDivisionError\u001b[0m                         Traceback (most recent call last)",
      "\u001b[1;32m<ipython-input-1-994b8487ce57>\u001b[0m in \u001b[0;36m<module>\u001b[1;34m\u001b[0m\n\u001b[0;32m      1\u001b[0m \u001b[1;31m# your code here\u001b[0m\u001b[1;33m\u001b[0m\u001b[1;33m\u001b[0m\u001b[1;33m\u001b[0m\u001b[0m\n\u001b[1;32m----> 2\u001b[1;33m \u001b[0ma\u001b[0m \u001b[1;33m=\u001b[0m \u001b[1;36m1\u001b[0m\u001b[1;33m/\u001b[0m\u001b[1;36m0\u001b[0m\u001b[1;33m\u001b[0m\u001b[1;33m\u001b[0m\u001b[0m\n\u001b[0m",
      "\u001b[1;31mZeroDivisionError\u001b[0m: division by zero"
     ]
    }
   ],
   "source": [
    "# your code here \n",
    "a = 1/0"
   ]
  },
  {
   "cell_type": "code",
   "execution_count": 2,
   "metadata": {},
   "outputs": [
    {
     "ename": "FileNotFoundError",
     "evalue": "[Errno 2] No such file or directory: 'file.log'",
     "output_type": "error",
     "traceback": [
      "\u001b[1;31m---------------------------------------------------------------------------\u001b[0m",
      "\u001b[1;31mFileNotFoundError\u001b[0m                         Traceback (most recent call last)",
      "\u001b[1;32m<ipython-input-2-c231bd56f793>\u001b[0m in \u001b[0;36m<module>\u001b[1;34m\u001b[0m\n\u001b[1;32m----> 1\u001b[1;33m \u001b[1;32mwith\u001b[0m \u001b[0mopen\u001b[0m\u001b[1;33m(\u001b[0m\u001b[1;34m'file.log'\u001b[0m\u001b[1;33m)\u001b[0m \u001b[1;32mas\u001b[0m \u001b[0mfile\u001b[0m\u001b[1;33m:\u001b[0m\u001b[1;33m\u001b[0m\u001b[1;33m\u001b[0m\u001b[0m\n\u001b[0m\u001b[0;32m      2\u001b[0m         \u001b[0mread_data\u001b[0m \u001b[1;33m=\u001b[0m \u001b[0mfile\u001b[0m\u001b[1;33m.\u001b[0m\u001b[0mread\u001b[0m\u001b[1;33m(\u001b[0m\u001b[1;33m)\u001b[0m\u001b[1;33m\u001b[0m\u001b[1;33m\u001b[0m\u001b[0m\n",
      "\u001b[1;31mFileNotFoundError\u001b[0m: [Errno 2] No such file or directory: 'file.log'"
     ]
    }
   ],
   "source": [
    "with open('file.log') as file:\n",
    "        read_data = file.read()"
   ]
  },
  {
   "cell_type": "markdown",
   "metadata": {},
   "source": [
    "## Practice 2\n",
    "Create a script that opens a text file and define a user-friendly exception message that displays if the file does not exist.\n",
    "\n",
    "You may use one of the text files provided in the data files for this course or create your own. Test the script using both a valid path and an invalid path.\n",
    "\n",
    "**Tip**: To identify Python's name for an error (as well as the built-in message), run the program in a way that it produces the error(s) you want to catch. Use Python's output on the error to build the `except` statement."
   ]
  },
  {
   "cell_type": "code",
   "execution_count": 8,
   "metadata": {},
   "outputs": [
    {
     "name": "stdout",
     "output_type": "stream",
     "text": [
      "Could not open file.log\n",
      "File opened!\n"
     ]
    }
   ],
   "source": [
    "# your code here \n",
    "try:\n",
    "    with open('file.log') as file:\n",
    "        read_data = file.read()\n",
    "except:\n",
    "    print('Could not open file.log')\n",
    "    \n",
    "try:\n",
    "    with open('FileIO-DataFiles/testing.txt') as file:\n",
    "        read_data = file.read()\n",
    "        print(\"File opened!\")\n",
    "except:\n",
    "    print('Could not open FileIO-DataFiles/testing.txt')"
   ]
  },
  {
   "cell_type": "markdown",
   "metadata": {},
   "source": [
    "## Practice 3\n",
    "In the example above, we don't check for errors until Python runs the operation. From a user perspective, though, it is often better to check values as they are entered by the user, so that the user has the opportunity to correct the input values before running the program.\n",
    "\n",
    "Create a script that performs the following tasks:\n",
    "* Prompt the user for two values.\n",
    "* Check both values to see if they are numbers (integer or float).\n",
    "  * If either value is not a number, display a message to the user and prompt for an appropriate value to use instead.\n",
    "* Check that the second number is not zero.\n",
    "  * If the second number is zero, display a message to the user and prompt for an appropriate value to use instead.\n",
    "* Divide the first number by the second number and display the result."
   ]
  },
  {
   "cell_type": "code",
   "execution_count": 23,
   "metadata": {},
   "outputs": [
    {
     "name": "stdout",
     "output_type": "stream",
     "text": [
      "Enter a number:\n",
      "10\n",
      "Enter a number:\n",
      "5\n",
      "2.0\n"
     ]
    }
   ],
   "source": [
    "# your code here \n",
    "while True:\n",
    "    try:\n",
    "        # Note: Python 2.x users should use raw_input, the equivalent of 3.x's input\n",
    "        num1 = int(input(\"Enter a number:\\n\"))\n",
    "    except ValueError:\n",
    "        print(\"Sorry, I didn't understand that. Please try again!\")\n",
    "        #better try again... Return to the start of the loop\n",
    "        continue\n",
    "    else:\n",
    "        #age was successfully parsed!\n",
    "        #we're ready to exit the loop.\n",
    "        break\n",
    "        \n",
    "while True:\n",
    "    try:\n",
    "        # Note: Python 2.x users should use raw_input, the equivalent of 3.x's input\n",
    "        num2 = int(input(\"Enter a number:\\n\"))\n",
    "        if num2 != 0:\n",
    "            pass\n",
    "        else:\n",
    "            print(\"0 is not a valid second number. Try again!\")\n",
    "            num2 = int(input(\"Enter a number:\\n\"))\n",
    "    except ValueError:\n",
    "        print(\"Sorry, I didn't understand that. Please try again!\")\n",
    "        #better try again... Return to the start of the loop\n",
    "        continue\n",
    "    else:\n",
    "        #age was successfully parsed!\n",
    "        #we're ready to exit the loop.\n",
    "        break\n",
    "\n",
    "x = num1/num2\n",
    "print(x)"
   ]
  },
  {
   "cell_type": "markdown",
   "metadata": {},
   "source": [
    "## Practice 4\n",
    "Complete the code below so that it checks each element of a list and returns only the valid numbers. \n",
    "\n",
    "Use `try:except` as appropriate. "
   ]
  },
  {
   "cell_type": "code",
   "execution_count": 32,
   "metadata": {},
   "outputs": [
    {
     "name": "stdout",
     "output_type": "stream",
     "text": [
      "[1, 'c', True, 'Haythem', 23, 6, 6.7, -1]\n",
      "[1, True, 23, 6, 6.7, -1]\n"
     ]
    }
   ],
   "source": [
    "def check_numbers(input_list):\n",
    "    mynewlist = []\n",
    "    for i in input_list:\n",
    "        if isinstance(i, int) or isinstance(i, float):\n",
    "            mynewlist.append(i)\n",
    "        else:\n",
    "            pass\n",
    "    return mynewlist\n",
    "    \n",
    "input_list = [1,'c',True,\"Haythem\",23,6,6.7,-1]\n",
    "print(input_list)\n",
    "\n",
    "# check_numbers should return a list that contains the valid numbers. \n",
    "numbers = check_numbers(input_list) \n",
    "print(numbers)"
   ]
  },
  {
   "cell_type": "markdown",
   "metadata": {},
   "source": [
    "## Practice 5\n",
    "Modify the code so that it displays the message for the `ZeroDivisionError` exception instead of the `TypeError` division. Do not change the values used in the variables or the existing `except` statements.\n",
    "\n",
    "**Challenge Activity**: Can you add an operation to the `try` statement that would cause the default `except` statement to execute, without changing either of the existing `except` statements?"
   ]
  },
  {
   "cell_type": "code",
   "execution_count": 52,
   "metadata": {
    "scrolled": false
   },
   "outputs": [
    {
     "name": "stdout",
     "output_type": "stream",
     "text": [
      "Unexpected error. Try again. <class 'FileNotFoundError'>\n"
     ]
    },
    {
     "ename": "FileNotFoundError",
     "evalue": "[Errno 2] No such file or directory: 'data/test.txt'",
     "output_type": "error",
     "traceback": [
      "\u001b[1;31m---------------------------------------------------------------------------\u001b[0m",
      "\u001b[1;31mFileNotFoundError\u001b[0m                         Traceback (most recent call last)",
      "\u001b[1;32m<ipython-input-52-44ca19685569>\u001b[0m in \u001b[0;36m<module>\u001b[1;34m\u001b[0m\n\u001b[0;32m      6\u001b[0m \u001b[1;31m# make changes only to the try statement\u001b[0m\u001b[1;33m\u001b[0m\u001b[1;33m\u001b[0m\u001b[1;33m\u001b[0m\u001b[0m\n\u001b[0;32m      7\u001b[0m \u001b[1;32mtry\u001b[0m\u001b[1;33m:\u001b[0m\u001b[1;33m\u001b[0m\u001b[1;33m\u001b[0m\u001b[0m\n\u001b[1;32m----> 8\u001b[1;33m     \u001b[0mf\u001b[0m \u001b[1;33m=\u001b[0m \u001b[0mopen\u001b[0m\u001b[1;33m(\u001b[0m\u001b[1;34m\"data/test.txt\"\u001b[0m\u001b[1;33m,\u001b[0m \u001b[1;34m\"w\"\u001b[0m\u001b[1;33m)\u001b[0m\u001b[1;33m\u001b[0m\u001b[1;33m\u001b[0m\u001b[0m\n\u001b[0m\u001b[0;32m      9\u001b[0m     \u001b[0my\u001b[0m \u001b[1;33m=\u001b[0m \u001b[0ma\u001b[0m\u001b[1;33m/\u001b[0m\u001b[0mb\u001b[0m\u001b[1;33m\u001b[0m\u001b[1;33m\u001b[0m\u001b[0m\n\u001b[0;32m     10\u001b[0m     \u001b[0mx\u001b[0m \u001b[1;33m=\u001b[0m \u001b[0ma\u001b[0m\u001b[1;33m/\u001b[0m\u001b[0mb\u001b[0m\u001b[1;33m\u001b[0m\u001b[1;33m\u001b[0m\u001b[0m\n",
      "\u001b[1;31mFileNotFoundError\u001b[0m: [Errno 2] No such file or directory: 'data/test.txt'"
     ]
    }
   ],
   "source": [
    "import sys\n",
    "b = 0\n",
    "a = 1\n",
    "c = 'd'\n",
    "\n",
    "# make changes only to the try statement\n",
    "try:\n",
    "    f = open(\"data/test.txt\", \"w\")\n",
    "    y = a/b \n",
    "    x = a/b \n",
    "    print(x)\n",
    "    print(y)\n",
    "\n",
    "# do not change the except statements\n",
    "except ZeroDivisionError as e:\n",
    "    print(\"Oops, ZeroDivisionError! We cannot divide by zero. Try again...\")\n",
    "    \n",
    "except TypeError as t:\n",
    "    print(\"Oops, TypeError! That was not a valid number. Try again...\")\n",
    "    \n",
    "except:\n",
    "    print(\"Unexpected error. Try again.\", sys.exc_info()[0]) \n",
    "    raise"
   ]
  },
  {
   "cell_type": "markdown",
   "metadata": {},
   "source": [
    "## Practice 6\n",
    "Use `raise` to define a type of exception other than `NameError`."
   ]
  },
  {
   "cell_type": "code",
   "execution_count": 38,
   "metadata": {
    "scrolled": true
   },
   "outputs": [
    {
     "ename": "Exception",
     "evalue": "Sorry, no numbers below zero",
     "output_type": "error",
     "traceback": [
      "\u001b[1;31m---------------------------------------------------------------------------\u001b[0m",
      "\u001b[1;31mException\u001b[0m                                 Traceback (most recent call last)",
      "\u001b[1;32m<ipython-input-38-d1a5a302a06a>\u001b[0m in \u001b[0;36m<module>\u001b[1;34m\u001b[0m\n\u001b[0;32m      3\u001b[0m \u001b[1;33m\u001b[0m\u001b[0m\n\u001b[0;32m      4\u001b[0m \u001b[1;32mif\u001b[0m \u001b[0mx\u001b[0m \u001b[1;33m<\u001b[0m \u001b[1;36m0\u001b[0m\u001b[1;33m:\u001b[0m\u001b[1;33m\u001b[0m\u001b[1;33m\u001b[0m\u001b[0m\n\u001b[1;32m----> 5\u001b[1;33m   \u001b[1;32mraise\u001b[0m \u001b[0mException\u001b[0m\u001b[1;33m(\u001b[0m\u001b[1;34m\"Sorry, no numbers below zero\"\u001b[0m\u001b[1;33m)\u001b[0m\u001b[1;33m\u001b[0m\u001b[1;33m\u001b[0m\u001b[0m\n\u001b[0m",
      "\u001b[1;31mException\u001b[0m: Sorry, no numbers below zero"
     ]
    }
   ],
   "source": [
    "# your code here \n",
    "x = -1\n",
    "\n",
    "if x < 0:\n",
    "  raise Exception(\"Sorry, no numbers below zero\")"
   ]
  },
  {
   "cell_type": "markdown",
   "metadata": {},
   "source": [
    "## Practice 7\n",
    "Change the code below to add a `try:except` statement to gracefully handle cases where the file is missing. \n",
    "\n",
    "If Python cannot find the specified file, the script should simply return \"None.\"\n",
    "\n",
    "Use the `IOError` exception type in the `except` statement. "
   ]
  },
  {
   "cell_type": "code",
   "execution_count": 44,
   "metadata": {},
   "outputs": [
    {
     "name": "stdout",
     "output_type": "stream",
     "text": [
      "Oops! File Not Found.\n",
      "[Errno 2] No such file or directory: 'FileIO-DataFiles/stocks-1.csv'\n"
     ]
    }
   ],
   "source": [
    "def read_csv(filepath,delimiter=\",\"):\n",
    "    import csv\n",
    "    dataset = list()\n",
    "    try:\n",
    "        with open(filepath) as f: #use open function to read the C.csv file and create a file object f\n",
    "            #use the reader function under the csv module to read the file using comma a delimiter\n",
    "            csv_file = csv.DictReader(f, delimiter=delimiter) \n",
    "            #csv_file is an iterable object that we can iterate on using a for loop\n",
    "            for row in csv_file:\n",
    "                dataset.append(row)\n",
    "        return dataset\n",
    "    except IOError as e:\n",
    "        print(\"Oops! File Not Found.\")\n",
    "        print(format(e))\n",
    "\n",
    "read_csv(\"FileIO-DataFiles/stocks-1.csv\")\n",
    "read_csv(\"FileIO-DataFiles/stocks.csv\")"
   ]
  },
  {
   "cell_type": "markdown",
   "metadata": {},
   "source": [
    "## Practice 8\n",
    "Modify the code to see what happens if the `try` statement works to open an existing file."
   ]
  },
  {
   "cell_type": "code",
   "execution_count": 46,
   "metadata": {},
   "outputs": [
    {
     "name": "stdout",
     "output_type": "stream",
     "text": [
      "150\n",
      "Thanks for trying!\n"
     ]
    }
   ],
   "source": [
    "try:\n",
    "    f = open(\"FileIO-DataFiles/testing.txt\", \"r\")  \n",
    "    print(len(f.read()))\n",
    "    \n",
    "except IOError as e: \n",
    "    print(\"Oops! File Not Found.\")\n",
    "    \n",
    "finally: \n",
    "    print(\"Thanks for trying!\")"
   ]
  },
  {
   "cell_type": "code",
   "execution_count": null,
   "metadata": {},
   "outputs": [],
   "source": []
  }
 ],
 "metadata": {
  "kernelspec": {
   "display_name": "Python 3",
   "language": "python",
   "name": "python3"
  },
  "language_info": {
   "codemirror_mode": {
    "name": "ipython",
    "version": 3
   },
   "file_extension": ".py",
   "mimetype": "text/x-python",
   "name": "python",
   "nbconvert_exporter": "python",
   "pygments_lexer": "ipython3",
   "version": "3.8.5"
  }
 },
 "nbformat": 4,
 "nbformat_minor": 2
}

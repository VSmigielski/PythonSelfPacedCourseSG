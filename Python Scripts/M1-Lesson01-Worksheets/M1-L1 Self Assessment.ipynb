{
 "cells": [
  {
   "cell_type": "code",
   "execution_count": 1,
   "metadata": {},
   "outputs": [
    {
     "name": "stdout",
     "output_type": "stream",
     "text": [
      "Please enter your first nameVeronica\n",
      "Please enter your last nameSmigielski\n",
      "Please enter your phone number6198132184\n",
      "Please enter the year you were born1995\n",
      "This is your name:\n",
      "Veronica\n",
      "Smigielski\n",
      "This is your phone number:\n",
      "6198132184\n",
      "This is the year you were born:\n",
      "1995\n"
     ]
    }
   ],
   "source": [
    "# veronica smigielski\n",
    "# 04/12/2021\n",
    "\n",
    "firstName = input(\"Please enter your first name\")\n",
    "lastName = input(\"Please enter your last name\")\n",
    "phone = input(\"Please enter your phone number\")\n",
    "bornYear = input(\"Please enter the year you were born\")\n",
    "print(\"This is your name:\")\n",
    "print(firstName); print(lastName)\n",
    "print(\"This is your phone number:\")\n",
    "print(phone)\n",
    "print(\"This is the year you were born:\")\n",
    "print(bornYear)"
   ]
  },
  {
   "cell_type": "code",
   "execution_count": null,
   "metadata": {},
   "outputs": [],
   "source": [
    "\n"
   ]
  }
 ],
 "metadata": {
  "kernelspec": {
   "display_name": "Python 3",
   "language": "python",
   "name": "python3"
  },
  "language_info": {
   "codemirror_mode": {
    "name": "ipython",
    "version": 3
   },
   "file_extension": ".py",
   "mimetype": "text/x-python",
   "name": "python",
   "nbconvert_exporter": "python",
   "pygments_lexer": "ipython3",
   "version": "3.8.5"
  }
 },
 "nbformat": 4,
 "nbformat_minor": 4
}

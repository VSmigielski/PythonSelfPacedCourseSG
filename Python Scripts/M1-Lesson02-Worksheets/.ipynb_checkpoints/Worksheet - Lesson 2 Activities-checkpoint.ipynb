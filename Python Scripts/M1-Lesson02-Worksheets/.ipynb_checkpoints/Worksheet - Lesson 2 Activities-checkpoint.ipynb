{
 "cells": [
  {
   "cell_type": "markdown",
   "metadata": {},
   "source": [
    "# Module 1 - Lesson 2 Activities\n",
    "The activities here will give you the opportunity to practice the skills and tools presented in Lesson 2, with the following objectives:\n",
    "1. Demonstrate the use of a variety of data types in Python, including numbers, booleans, and strings.\n",
    "1. Distinguish between float values, integers, and complex numbers.\n",
    "1. Use Python to perform operations using numbers.\n",
    "1. Use Python to perform logic operations using booleans.\n",
    "1. Use Python to manipulate string values.\n",
    "\n",
    "Software development skills build on each other, so many of the activities here will also require skills and tools presented in earlier lessons."
   ]
  },
  {
   "cell_type": "markdown",
   "metadata": {},
   "source": [
    "## Activity 1\n",
    "Create a program that prompts the user to enter a number and then displays the type of the number entered (e.g., complex, integer, or float). \n",
    "\n",
    "For example, if the user enters `6`, the output should be `int` (for integer). "
   ]
  },
  {
   "cell_type": "code",
   "execution_count": 2,
   "metadata": {},
   "outputs": [
    {
     "name": "stdout",
     "output_type": "stream",
     "text": [
      "Enter a number: 6\n",
      "<class 'int'>\n"
     ]
    }
   ],
   "source": [
    "# your code here\n",
    "import ast\n",
    "\n",
    "number = input(\"Enter a number: \")\n",
    "print(type(ast.literal_eval(number)))"
   ]
  },
  {
   "cell_type": "markdown",
   "metadata": {},
   "source": [
    "## Activity 2\n",
    "Update the code below so that the result is equal to 576. Do not change any of the existing values or operators or the order in which they appear."
   ]
  },
  {
   "cell_type": "code",
   "execution_count": 4,
   "metadata": {},
   "outputs": [
    {
     "name": "stdout",
     "output_type": "stream",
     "text": [
      "576\n"
     ]
    }
   ],
   "source": [
    "# do not change the order in which the numbers and operators appear in the next line\n",
    "result = (5 + 3) ** 2 * 9 \n",
    "\n",
    "print(result) # the output should be 576"
   ]
  },
  {
   "cell_type": "markdown",
   "metadata": {},
   "source": [
    "## Activity 3\n",
    "Create a program that prompts the user for a float number and returns the integer portion of the floating number."
   ]
  },
  {
   "cell_type": "code",
   "execution_count": 6,
   "metadata": {},
   "outputs": [
    {
     "name": "stdout",
     "output_type": "stream",
     "text": [
      "Enter a float3.55\n",
      "3\n"
     ]
    }
   ],
   "source": [
    "# your code here\n",
    "import math\n",
    "number = float(input(\"Enter a float\"))\n",
    "print(math.trunc(number))"
   ]
  },
  {
   "cell_type": "markdown",
   "metadata": {},
   "source": [
    "## Activity 4\n",
    "Write a program that calculates and displays the current value of an investment for a given initial deposit, interest rate, the number of times interest is calculated per year, and the number of years since the initial deposit.\n",
    "\n",
    "The program should prompt the user for each of the values and use the following formula to calculate the current value of the deposit:\n",
    "\n",
    "    V = P(1 + r/n)^nt\n",
    "    \n",
    "Where each letter represents concepts listed below:\n",
    "* `V`: Value\n",
    "* `P`: Initial deposit\n",
    "* `r`: Interest rate as a fraction (e.g., 0.05)\n",
    "* `n`: Number of times per year interest is calculated\n",
    "* `t`: Number of years since the initial deposit\n",
    "\t\n",
    "\t    \n",
    "The program should show the user the results of the calculation and each of the input values in a meaningful way (so that the user can easily tell what each value represents)."
   ]
  },
  {
   "cell_type": "code",
   "execution_count": 12,
   "metadata": {},
   "outputs": [
    {
     "name": "stdout",
     "output_type": "stream",
     "text": [
      "What is the initial deposit?10\n",
      "What is the interest rate (as a fraction)?0.05\n",
      "How many times per year is interest calculated?2\n",
      "How many years since the initial deposit?2\n",
      "This is the value of the deposit: \n",
      "10\n",
      "This is the value of the rate: \n",
      "0.05\n",
      "This is the value of the times interest is calculated: \n",
      "2\n",
      "This is the value of the number of years after initial deposit: \n",
      "2\n",
      "11.038128906249995\n"
     ]
    }
   ],
   "source": [
    "# your code here\n",
    "deposit = int(input(\"What is the initial deposit? \"))\n",
    "r = float(input(\"What is the interest rate (as a fraction)? \"))\n",
    "n = int(input(\"How many times per year is interest calculated? \"))\n",
    "t = int(input(\"How many years since the initial deposit? \"))\n",
    "print(\"This is the value of the deposit: \")\n",
    "print(deposit)\n",
    "print(\"This is the value of the rate: \")\n",
    "print(r)\n",
    "print(\"This is the value of the times interest is calculated: \")\n",
    "print(n)\n",
    "print(\"This is the value of the number of years after initial deposit: \")\n",
    "print(t)\n",
    "rByN = (r / n)\n",
    "value = (deposit * (1 + rByN) ** (n * t))\n",
    "print(\"This is the value of the overall calculations: \")\n",
    "print(value)"
   ]
  },
  {
   "cell_type": "markdown",
   "metadata": {},
   "source": [
    "## Activity 5\n",
    "Write a program that prompts the user for a principal amount, the rate of interest, and the number of days for a loan, and then calculates and returns the simple interest for the life of the loan. Use the formula below:\n",
    "\n",
    "    interest = principal * rate * days / 365"
   ]
  },
  {
   "cell_type": "code",
   "execution_count": 13,
   "metadata": {},
   "outputs": [
    {
     "name": "stdout",
     "output_type": "stream",
     "text": [
      "Please enter the principal amount: 10\n",
      "Please enter the rate (as a decimal): 0.05\n",
      "Please enter the days for the loan: 70\n",
      "This is the simple interest for the life of the loan: \n",
      "0.0958904109589041\n"
     ]
    }
   ],
   "source": [
    "# your code here\n",
    "principal = int(input(\"Please enter the principal amount: \"))\n",
    "rate = float(input(\"Please enter the rate (as a decimal): \"))\n",
    "days = int(input(\"Please enter the days for the loan: \"))\n",
    "interest = principal * rate * days / 365\n",
    "print(\"This is the simple interest for the life of the loan: \")\n",
    "print(interest)"
   ]
  },
  {
   "cell_type": "markdown",
   "metadata": {},
   "source": [
    "## Activity 6\n",
    "Create a program that displays three statements that evaluate to True and three statements that evaluate to False.\n",
    "\n",
    "Example:\n",
    "\n",
    "    a = 0\n",
    "    b = 1 \n",
    "    \n",
    "    Output: a < b = True"
   ]
  },
  {
   "cell_type": "code",
   "execution_count": 17,
   "metadata": {},
   "outputs": [
    {
     "name": "stdout",
     "output_type": "stream",
     "text": [
      "True\n",
      "True\n",
      "True\n",
      "False\n",
      "False\n",
      "False\n"
     ]
    }
   ],
   "source": [
    "# your code here\n",
    "a = 2\n",
    "b = 1\n",
    "#True\n",
    "print(a > b)\n",
    "print(a != b)\n",
    "print(a >= b)\n",
    "\n",
    "#False\n",
    "print(a < b)\n",
    "print(a == b)\n",
    "print(a <= b)"
   ]
  },
  {
   "cell_type": "markdown",
   "metadata": {},
   "source": [
    "## Activity 7\n",
    "Create a program that prompts the user for a number and calculates the following:\n",
    "* The boolean of the number entered\n",
    "* The binary equivalent of the number entered\n",
    "* The square root of the number entered\n",
    "\n",
    "The program should display the following to the user:\n",
    "* The number the user entered, in a phrase like, \"You selected `value`.\"\n",
    "* The boolean of the number, in a phrase like, \"The boolean of your number is `value`.\"\n",
    "* The binary equivalent of the number, in a phrase like, \"The binary equivalent of your number is `value`.\"\n",
    "* The square root of the number, with the value rounded to three decimal places, in a phrase like, \"The square root of your number is `value`.\""
   ]
  },
  {
   "cell_type": "code",
   "execution_count": 25,
   "metadata": {},
   "outputs": [
    {
     "name": "stdout",
     "output_type": "stream",
     "text": [
      "Please enter a value: 10\n",
      "This is the value entered: 10\n",
      "This is the boolean value: \n",
      "True\n",
      "This is the binary equivalent of the value: \n",
      "0b1010\n",
      "This is the square root of the value rounded to three decimal places: \n",
      "3.162\n"
     ]
    }
   ],
   "source": [
    "# your code here\n",
    "import math\n",
    "value = int(input(\"Please enter a value: \"))\n",
    "print(\"This is the value entered:\", value)\n",
    "print(\"This is the boolean value: \")\n",
    "print(bool(value))\n",
    "print(\"This is the binary equivalent of the value: \")\n",
    "print(bin(value))\n",
    "print(\"This is the square root of the value rounded to three decimal places: \")\n",
    "print(round(math.sqrt(value), 3))"
   ]
  },
  {
   "cell_type": "markdown",
   "metadata": {},
   "source": [
    "## Activity 8\n",
    "Create a program that completes the following tasks:\n",
    "1. Prompt the user for a series of five integers. \n",
    "    * The user must be asked for five numbers.\n",
    "1. After the fifth entry, stop prompting for values and calculate the following: \n",
    "    * The product of the integers\n",
    "    * The average of the integers\n",
    "    * The sum of the integers\n",
    "1. After performing the calculations, display the following to the user: \n",
    "    * The values the user entered\n",
    "    * The values of the calculations, using a phrase that identifies the value"
   ]
  },
  {
   "cell_type": "code",
   "execution_count": 29,
   "metadata": {},
   "outputs": [
    {
     "name": "stdout",
     "output_type": "stream",
     "text": [
      "Please input an integer: 2\n",
      "Please input an integer: 3\n",
      "Please input an integer: 4\n",
      "Please input an integer: 5\n",
      "Please input an integer: 6\n",
      "These are the variable values:  2 3 4 5 6\n",
      "This is the product of the integers:  720\n",
      "This is the average of the integers:  4.0\n",
      "This is the sum of the integers:  20\n"
     ]
    }
   ],
   "source": [
    "# your code here\n",
    "import math\n",
    "num1 = int(input(\"Please input an integer: \"))\n",
    "num2 = int(input(\"Please input an integer: \"))\n",
    "num3 = int(input(\"Please input an integer: \"))\n",
    "num4 = int(input(\"Please input an integer: \"))\n",
    "num5 = int(input(\"Please input an integer: \"))\n",
    "\n",
    "product = num1 * num2 * num3 * num4 * num5\n",
    "sum = num1 + num2 + num3 + num4 + num5\n",
    "average = sum / 5\n",
    "\n",
    "print(\"These are the variable values: \", num1, num2, num3, num4, num5)\n",
    "print(\"This is the product of the integers: \", product)\n",
    "print(\"This is the average of the integers: \", average)\n",
    "print(\"This is the sum of the integers: \", sum)"
   ]
  },
  {
   "cell_type": "markdown",
   "metadata": {},
   "source": [
    "## Activity 9\n",
    "1. Start with a street address that includes a building/house number, the name of the street, and the type of street (Street, Avenue, Boulevard, etc.). \n",
    "    * You can use any address you wish and abbreviations are acceptable.\n",
    "    * For example: 25 Main Street\n",
    "1. Display the full address to the user.\n",
    "1. Display the house number only in a phrase like, \"The building or house number is 25.\"\n",
    "1. Display the street name in a phrase like, \"The street name is Main Street.\""
   ]
  },
  {
   "cell_type": "code",
   "execution_count": 30,
   "metadata": {},
   "outputs": [
    {
     "name": "stdout",
     "output_type": "stream",
     "text": [
      "Please enter an address. The address should include a house number, the name of the street, and the type of street10408 La Morada Drive\n",
      "This is the address entered:  10408 La Morada Drive\n",
      "The building or house number is  10408\n",
      "The street name is La Morada Drive\n"
     ]
    }
   ],
   "source": [
    "# your code here\n",
    "address = input(\"Please enter an address. The address should include a house number, the name of the street, and the type of street\")\n",
    "print(\"This is the address entered: \", address)\n",
    "print(\"The building or house number is \", address.split(\" \", 1)[0])\n",
    "print(\"The street name is\", address.split(\" \", 1)[1])"
   ]
  },
  {
   "cell_type": "code",
   "execution_count": null,
   "metadata": {},
   "outputs": [],
   "source": []
  }
 ],
 "metadata": {
  "kernelspec": {
   "display_name": "Python 3",
   "language": "python",
   "name": "python3"
  },
  "language_info": {
   "codemirror_mode": {
    "name": "ipython",
    "version": 3
   },
   "file_extension": ".py",
   "mimetype": "text/x-python",
   "name": "python",
   "nbconvert_exporter": "python",
   "pygments_lexer": "ipython3",
   "version": "3.8.5"
  }
 },
 "nbformat": 4,
 "nbformat_minor": 2
}

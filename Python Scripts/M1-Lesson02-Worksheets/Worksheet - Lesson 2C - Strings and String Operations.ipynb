{
 "cells": [
  {
   "cell_type": "markdown",
   "metadata": {},
   "source": [
    "# Worksheet: Strings and String Operations\n",
    "This worksheet includes the practice activities for `Lesson 2c: Strings and String Operations` in the online course. Refer to that lesson as necessary to complete these activities."
   ]
  },
  {
   "cell_type": "markdown",
   "metadata": {},
   "source": [
    "## Practice 1\n",
    "Create five different variables that contain strings. Use the `print` command to display the variables. "
   ]
  },
  {
   "cell_type": "code",
   "execution_count": 1,
   "metadata": {},
   "outputs": [
    {
     "name": "stdout",
     "output_type": "stream",
     "text": [
      "Diesel\n",
      "Gio\n",
      "Rez\n",
      "Andreas\n",
      "Dixie\n"
     ]
    }
   ],
   "source": [
    "# your code here\n",
    "var1 = \"Diesel\"\n",
    "var2 = \"Gio\"\n",
    "var3 = \"Rez\"\n",
    "var4 = \"Andreas\"\n",
    "var5 = \"Dixie\"\n",
    "print(var1)\n",
    "print(var2)\n",
    "print(var3)\n",
    "print(var4)\n",
    "print(var5)"
   ]
  },
  {
   "cell_type": "markdown",
   "metadata": {},
   "source": [
    "## Practice 2\n",
    "Create a script that performs the following steps:\n",
    "1. Prompt the user for their first name and store the input in a variable.\n",
    "2. Prompt the user for their last name and store the input in a separate variable.\n",
    "2. Calculate and return the sum of the lengths of both names."
   ]
  },
  {
   "cell_type": "code",
   "execution_count": 2,
   "metadata": {},
   "outputs": [
    {
     "name": "stdout",
     "output_type": "stream",
     "text": [
      "What is your first name?Dixie\n",
      "What is your last name?Diesel\n",
      "11\n"
     ]
    }
   ],
   "source": [
    "#your code here\n",
    "firstName = input(\"What is your first name?\")\n",
    "lastName = input(\"What is your last name?\")\n",
    "print(len(firstName) + len(lastName))"
   ]
  },
  {
   "cell_type": "markdown",
   "metadata": {},
   "source": [
    "## Practice 3\n",
    "Fix  the following code so the output displays only the character H and all instances of the character o."
   ]
  },
  {
   "cell_type": "code",
   "execution_count": 5,
   "metadata": {},
   "outputs": [
    {
     "name": "stdout",
     "output_type": "stream",
     "text": [
      "H\n",
      "o\n",
      "o\n"
     ]
    }
   ],
   "source": [
    "message = \"Hello, World!\"\n",
    "print(message[0])\n",
    "print(message[4])\n",
    "print(message[8])"
   ]
  },
  {
   "cell_type": "markdown",
   "metadata": {},
   "source": [
    "## Practice 4\n",
    "Create a script that performs the following steps:\n",
    "1. Prompt the user for the name of the city where they were born.\n",
    "1. Display the number of characters in the name of the city, with an appropriate message.\n",
    "1. Display the first letter of the name of the city, with an appropriate message.\n",
    "1. Display the third from the last letter of the name of the city, with an appropriate message."
   ]
  },
  {
   "cell_type": "code",
   "execution_count": 7,
   "metadata": {},
   "outputs": [
    {
     "name": "stdout",
     "output_type": "stream",
     "text": [
      "Where were you born?San Diego\n",
      "This is the length of the city's name.\n",
      "9\n",
      "This is the first letter of the city where you were born\n",
      "S\n",
      "This is the third from last letter of the city where you were born\n",
      "e\n"
     ]
    }
   ],
   "source": [
    "# your code here\n",
    "cityBorn = input(\"Where were you born?\")\n",
    "print(\"This is the length of the city's name.\")\n",
    "print(len(cityBorn))\n",
    "print(\"This is the first letter of the city where you were born\")\n",
    "print(cityBorn[0])\n",
    "city_third = cityBorn[-3]\n",
    "print(\"This is the third from last letter of the city where you were born\")\n",
    "print(city_third)"
   ]
  },
  {
   "cell_type": "markdown",
   "metadata": {},
   "source": [
    "## Practice 5\n",
    "Create a script that performs the following steps:\n",
    "* Prompt the user for their first name and store the input in a variable.\n",
    "* Display the value in the same case the user entered it, in uppercase, and in lowercase.\n",
    "* Calculate the number of characters in their first name and display the result."
   ]
  },
  {
   "cell_type": "code",
   "execution_count": 9,
   "metadata": {},
   "outputs": [
    {
     "name": "stdout",
     "output_type": "stream",
     "text": [
      "What is your first name?Veronica\n",
      "Veronica\n",
      "VERONICA\n",
      "veronica\n",
      "8\n"
     ]
    }
   ],
   "source": [
    "#your code here\n",
    "firstName = input(\"What is your first name?\")\n",
    "print(firstName)\n",
    "print(firstName.upper())\n",
    "print(firstName.lower())\n",
    "print(len(firstName))"
   ]
  },
  {
   "cell_type": "markdown",
   "metadata": {},
   "source": [
    "## Practice 6\n",
    "Write a script that performs the following steps:\n",
    "1. Prompt the user to enter their full name in the format \"last\\_name, first\\_name\".\n",
    "1. Split the input into the separate names and display the result.\n",
    "\n",
    "It's fine if the last name still includes the comma from the original user input."
   ]
  },
  {
   "cell_type": "code",
   "execution_count": 10,
   "metadata": {},
   "outputs": [
    {
     "name": "stdout",
     "output_type": "stream",
     "text": [
      "Please enter your name: last_name, first_nameSmigielski, Veronica\n"
     ]
    },
    {
     "data": {
      "text/plain": [
       "['Smigielski,', 'Veronica']"
      ]
     },
     "execution_count": 10,
     "metadata": {},
     "output_type": "execute_result"
    }
   ],
   "source": [
    "#your code goes here\n",
    "name = input(\"Please enter your name: last_name, first_name\")\n",
    "name.split()"
   ]
  },
  {
   "cell_type": "markdown",
   "metadata": {
    "collapsed": true
   },
   "source": [
    "## Practice 7a\n",
    "Update the code below so the `print` command returns `True` in all cases. Use the inequality operator (`!=`) at least once."
   ]
  },
  {
   "cell_type": "code",
   "execution_count": 15,
   "metadata": {},
   "outputs": [
    {
     "name": "stdout",
     "output_type": "stream",
     "text": [
      "True\n",
      "True\n",
      "True\n"
     ]
    }
   ],
   "source": [
    "string1 = \"This is a string\"\n",
    "string2 = \"This  is a string  \" \n",
    "print(string1 != string2)\n",
    "print(string1[0:5] == string2[0:5])\n",
    "print(string1[10:] != string2[10:])"
   ]
  },
  {
   "cell_type": "markdown",
   "metadata": {},
   "source": [
    "## Practice 7b\n",
    "One common problem we run into when we ask users to enter data is that some users prefer to type only in lowercase, others use mixed case, while others sometimes have Caps Lock on (intentionally or not!). Although passwords and other security strings are typically case-sensitive, other values like web addresses and usernames are normally not sensitive to case, even though the system that manages those values (such as a web server OS or a programming language) may be case-sensitive. \n",
    "\n",
    "We could ask that a user types only uppercase or lowercase, but there is no guarantee that they will do so. Instead, we can use a script to normalize the characters to work within the system. \n",
    "\n",
    "Update the code below so that it works as follows:\n",
    "* It accepts the user input in any case.\n",
    "* It compares the user input to a preexisting `value1`, stored in lowercase.\n",
    "* It returns `True` if if the lowercase version of the user input is the same as the preexisting value, regardless of the input's case.\n",
    "* It returns `False` if the values are not the same.\n",
    "\n",
    "Be sure to test the program using lowercase input, uppercase input, and mixed case input, as well as misspelled input. In the code below, \"username\" is the preexisting value, but you can change this to a different value if you wish."
   ]
  },
  {
   "cell_type": "code",
   "execution_count": 17,
   "metadata": {},
   "outputs": [
    {
     "name": "stdout",
     "output_type": "stream",
     "text": [
      "Enter your username: Veronica\n"
     ]
    },
    {
     "data": {
      "text/plain": [
       "True"
      ]
     },
     "execution_count": 17,
     "metadata": {},
     "output_type": "execute_result"
    }
   ],
   "source": [
    "value1 = \"veronica\"\n",
    "value2 = input(\"Enter your username: \")\n",
    "value1 == value2.lower()"
   ]
  },
  {
   "cell_type": "markdown",
   "metadata": {},
   "source": [
    "## Practice 8\n",
    "Update the following code to display the full name in uppercase.\n",
    "\n",
    "The full name must be displayed last name first, e.g., _SMITHJOHN_. \n",
    "\n",
    "As an additional step, include a comma and a space between the last name and the first name, e.g., _SMITH, JOHN_."
   ]
  },
  {
   "cell_type": "code",
   "execution_count": 22,
   "metadata": {},
   "outputs": [
    {
     "name": "stdout",
     "output_type": "stream",
     "text": [
      "SMITH,JOHN\n"
     ]
    }
   ],
   "source": [
    "first_name = \"John\"\n",
    "last_name = \"Smith\"\n",
    "first = first_name.upper()\n",
    "last = last_name.upper()\n",
    "print(last + \",\" + first)"
   ]
  },
  {
   "cell_type": "markdown",
   "metadata": {},
   "source": [
    "## Practice 9\n",
    "Update the print statements in the following code to display `True` in all cases. Do not change the original strings."
   ]
  },
  {
   "cell_type": "code",
   "execution_count": 31,
   "metadata": {},
   "outputs": [
    {
     "name": "stdout",
     "output_type": "stream",
     "text": [
      "True\n",
      "True\n",
      "True\n",
      "True\n"
     ]
    }
   ],
   "source": [
    "first_name = \"John\"\n",
    "last_name  = \"Smith\"\n",
    "print(\"j\" in first_name.lower())\n",
    "print(\"s\" in last_name.lower())\n",
    "print(\"th\" in last_name)\n",
    "print(\"oh\" in first_name)"
   ]
  },
  {
   "cell_type": "markdown",
   "metadata": {},
   "source": [
    "## Practice 10\n",
    "Update the code below to use slicing to complete the following tasks: \n",
    "* Extract the first name from the string and assign it to a variable.\n",
    "* Extract the last name from the string and assign it to a variable.\n",
    "* Display the first name and last name in uppercase using separate `print` statements. \n",
    "* Display the person's initials as a single string in uppercase.\n",
    "\n",
    "**Challenge**: When you have completed the steps above for a first and last name, modify the code to include a middle name."
   ]
  },
  {
   "cell_type": "code",
   "execution_count": 37,
   "metadata": {},
   "outputs": [
    {
     "name": "stdout",
     "output_type": "stream",
     "text": [
      "John\n",
      "Andy\n",
      "Smith\n",
      "JOHN\n",
      "ANDY\n",
      "SMITH\n"
     ]
    }
   ],
   "source": [
    "name=\"John Andy Smith\"\n",
    "first_name = name[0:4]\n",
    "middle_name = name[5:9]\n",
    "last_name = name[10:16]\n",
    "print(first_name)\n",
    "print(middle_name)\n",
    "print(last_name)\n",
    "print(first_name.upper())\n",
    "print(middle_name.upper())\n",
    "print(last_name.upper())"
   ]
  },
  {
   "cell_type": "code",
   "execution_count": null,
   "metadata": {},
   "outputs": [],
   "source": []
  }
 ],
 "metadata": {
  "kernelspec": {
   "display_name": "Python 3",
   "language": "python",
   "name": "python3"
  },
  "language_info": {
   "codemirror_mode": {
    "name": "ipython",
    "version": 3
   },
   "file_extension": ".py",
   "mimetype": "text/x-python",
   "name": "python",
   "nbconvert_exporter": "python",
   "pygments_lexer": "ipython3",
   "version": "3.8.5"
  }
 },
 "nbformat": 4,
 "nbformat_minor": 2
}

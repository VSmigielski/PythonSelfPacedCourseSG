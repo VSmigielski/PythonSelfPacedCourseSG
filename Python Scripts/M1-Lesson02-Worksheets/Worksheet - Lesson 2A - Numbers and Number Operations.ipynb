{
 "cells": [
  {
   "cell_type": "markdown",
   "metadata": {},
   "source": [
    "# Worksheet: Numbers and Number Operations\n",
    "This worksheet includes the practice activities for *Lesson 2A: Numbers and Number Operations* in the online course. Refer to that lesson as necessary to complete these activities."
   ]
  },
  {
   "cell_type": "markdown",
   "metadata": {},
   "source": [
    "## Practice 1 \n",
    "Create these variables:\n",
    "* One variable to store the number of days in a year\n",
    "* One variable to store the number of minutes in a day\n",
    "* Two variables to store the latitude and longitude of the city where you live \n",
    "\n",
    "You can use the [LatLong.net](https://www.latlong.net/) website to retrieve the latitude and longitude values of your city. "
   ]
  },
  {
   "cell_type": "code",
   "execution_count": 1,
   "metadata": {},
   "outputs": [],
   "source": [
    "# your code here\n",
    "days = 365\n",
    "minutes = 1440\n",
    "latitude = 51.203781\n",
    "longitude = 4.523100"
   ]
  },
  {
   "cell_type": "markdown",
   "metadata": {},
   "source": [
    "## Practice 2\n",
    "* Modify the code below so that Python displays the type for each of the variables.\n",
    "* Create a new variable that uses only numeric characters, but define it as a string. Use `type` to verify that Python treats it as a string."
   ]
  },
  {
   "cell_type": "code",
   "execution_count": 2,
   "metadata": {},
   "outputs": [
    {
     "name": "stdout",
     "output_type": "stream",
     "text": [
      "<class 'int'>\n",
      "<class 'float'>\n",
      "<class 'complex'>\n"
     ]
    }
   ],
   "source": [
    "age = 33 #integer \n",
    "tax_rate = 0.06  #float type\n",
    "coordinates = 1+3.4j #complex type z : a+b*j\n",
    "print(type(age))\n",
    "print(type(tax_rate))\n",
    "print(type(coordinates))"
   ]
  },
  {
   "cell_type": "markdown",
   "metadata": {},
   "source": [
    "## Practice 3\n",
    "Create a Python script that starts with three declared values, `a`, `b`, and `c`, with numeric values of your choice.\n",
    "\n",
    "Using those values, perform the following calculations and print the results of each:\n",
    "\n",
    "* `a` plus `b` minus `c`\n",
    "* `a` minus `b` times `c`\n",
    "* `a` divided by `b` divided by `c`\n",
    "* The remainder of `a` divided by `b` to the power of `c`\n",
    "* `a` plus `c` divided by `b`"
   ]
  },
  {
   "cell_type": "code",
   "execution_count": 3,
   "metadata": {},
   "outputs": [
    {
     "name": "stdout",
     "output_type": "stream",
     "text": [
      "10\n",
      "-130\n",
      "0.1875\n",
      "100000000\n",
      "1.9\n"
     ]
    }
   ],
   "source": [
    "# your code here\n",
    "a = 30\n",
    "b = 20\n",
    "c = 8\n",
    "d = a - b # difference between a and b\n",
    "e = a - b * c # difference between a and b mult c\n",
    "f = (a / b) / c # divide a & b, then divide by c\n",
    "g = (a % b)**c\n",
    "h = (a + c) / b\n",
    "print(d)\n",
    "print(e)\n",
    "print(f)\n",
    "print(g)\n",
    "print(h)"
   ]
  },
  {
   "cell_type": "markdown",
   "metadata": {},
   "source": [
    "## Practice 4\n",
    "Create a Python script that starts with three declared values, `a`, `b`, and `c`, with numeric values of your choice.\n",
    "\n",
    "Using those values, perform the following calculations and print the results of each. For each calculation, use a single statement that executes the operations in the order described here:\n",
    "\n",
    "* `c` plus `a`, minus `b`\n",
    "* `c` minus `a`, times `b`\n",
    "* `c` divided by `a`, with the result divided by `b`\n",
    "* The remainder of `c` divided by `a`, then the remainder to the power of `b`\n",
    "* `c` plus `b`, divided by `a`\n"
   ]
  },
  {
   "cell_type": "code",
   "execution_count": 4,
   "metadata": {},
   "outputs": [
    {
     "name": "stdout",
     "output_type": "stream",
     "text": [
      "18\n",
      "-440\n",
      "0.013333333333333332\n",
      "1152921504606846976\n",
      "0.9333333333333333\n"
     ]
    }
   ],
   "source": [
    "# your code here\n",
    "a = 30\n",
    "b = 20\n",
    "c = 8\n",
    "d = (c + a) - b\n",
    "e = (c - a) * b \n",
    "f = (c / a) / b \n",
    "g = (c % a)**b\n",
    "h = (b + c) / a\n",
    "print(d)\n",
    "print(e)\n",
    "print(f)\n",
    "print(g)\n",
    "print(h)"
   ]
  },
  {
   "cell_type": "markdown",
   "metadata": {},
   "source": [
    "## Practice 5\n",
    "Create a series of variables, `a`, `b`, and `c`, using float values of your choice.\n",
    "\n",
    "Create expressions that perform the following calculations:\n",
    "* `a` multiplied by `c`, with the result rounded up to the closest integer\n",
    "* `a` divided by `b`, with the result rounded down to the closest integer\n",
    "* The square root of `b`, rounded to three decimal places\n",
    "* `c` plus `b`, divided by `a`, with the result rounded up to the closest integer\n",
    "* The binary equivalent of `b` rounded to the closest integer"
   ]
  },
  {
   "cell_type": "code",
   "execution_count": 12,
   "metadata": {},
   "outputs": [
    {
     "name": "stdout",
     "output_type": "stream",
     "text": [
      "33\n",
      "2\n",
      "2.683\n",
      "1\n",
      "0b111\n"
     ]
    }
   ],
   "source": [
    "# your code here\n",
    "import math\n",
    "a = 15.75\n",
    "b = 7.20\n",
    "c = 2.05\n",
    "\n",
    "print(math.ceil(a*c))\n",
    "print(math.floor(a/b))\n",
    "print(round(math.sqrt(b),3))\n",
    "print(math.ceil((c+b)/a))\n",
    "print(bin(round(b)))"
   ]
  },
  {
   "cell_type": "markdown",
   "metadata": {},
   "source": [
    "## Practice 6\n",
    "Create a Python script that performs the following steps: \n",
    "* Assign a floating point number of your choice to a variable `num1`.\n",
    "* Round `num1` up to the nearest integer and stores the result in a variable `a`.\n",
    "* Assign a second floating point number of your choice to a variable `num2`.\n",
    "* Round `num2` down to the nearest integer and store the result in a variable `b`.\n",
    "* Print the sum of `a` and `b`."
   ]
  },
  {
   "cell_type": "code",
   "execution_count": 13,
   "metadata": {},
   "outputs": [
    {
     "name": "stdout",
     "output_type": "stream",
     "text": [
      "12\n"
     ]
    }
   ],
   "source": [
    "# your code here\n",
    "import math\n",
    "num1 = 4.55\n",
    "a = math.ceil(num1)\n",
    "num2 = 6.78\n",
    "b = math.ceil(num2)\n",
    "print(a + b)"
   ]
  },
  {
   "cell_type": "markdown",
   "metadata": {},
   "source": [
    "## Practice 7a\n",
    "Create a script that performs the following steps:\n",
    "1. Prompt the user for a four-digit year.\n",
    "1. Prompt the user to enter an integer of their choice.\n",
    "1. Display the year it will be after that many years from the original input year, with an appropriate feedback message.\n",
    "\n",
    "For example, if the user inputs 2020 and 42, the result should be 2062."
   ]
  },
  {
   "cell_type": "code",
   "execution_count": 14,
   "metadata": {},
   "outputs": [
    {
     "name": "stdout",
     "output_type": "stream",
     "text": [
      "Enter current year:2020\n",
      "Enter a number:42\n",
      "2062\n"
     ]
    }
   ],
   "source": [
    "# your code here\n",
    "current_year = input(\"Enter current year:\")\n",
    "random_num = input(\"Enter a number:\")\n",
    "\n",
    "current_year_int = int(current_year)\n",
    "random_num_int = int(random_num)\n",
    "\n",
    "print(current_year_int + random_num_int)"
   ]
  },
  {
   "cell_type": "markdown",
   "metadata": {},
   "source": [
    "## Practice 7b\n",
    "Create a script that calculates the sales tax on a purchase and displays the total purchase price.\n",
    "1. Prompt the user for a pre-tax total.\n",
    "1. Prompt the user for the local sales tax.\n",
    "1. Multiply the pre-tax total by the local sales tax and add the result to the pre-tax total.\n",
    "1. Display the total price to the user with an appropriate feedback message.\n",
    "\n",
    "**Tip**: Think about whether `int()` or `float()` would be better here. Why?"
   ]
  },
  {
   "cell_type": "code",
   "execution_count": 16,
   "metadata": {},
   "outputs": [
    {
     "name": "stdout",
     "output_type": "stream",
     "text": [
      "Enter pre-tax price:1.50\n",
      "Enter sale tax:.075\n",
      "1.6125\n"
     ]
    }
   ],
   "source": [
    "# your code here\n",
    "pre_tax = input(\"Enter pre-tax price:\")\n",
    "sale_tax = input(\"Enter sale tax:\")\n",
    "\n",
    "pre_tax_float = float(pre_tax)\n",
    "sale_tax_float = float(sale_tax)\n",
    "\n",
    "print((pre_tax_float * sale_tax_float) + pre_tax_float)"
   ]
  },
  {
   "cell_type": "code",
   "execution_count": null,
   "metadata": {},
   "outputs": [],
   "source": []
  },
  {
   "cell_type": "code",
   "execution_count": null,
   "metadata": {},
   "outputs": [],
   "source": []
  }
 ],
 "metadata": {
  "kernelspec": {
   "display_name": "Python 3",
   "language": "python",
   "name": "python3"
  },
  "language_info": {
   "codemirror_mode": {
    "name": "ipython",
    "version": 3
   },
   "file_extension": ".py",
   "mimetype": "text/x-python",
   "name": "python",
   "nbconvert_exporter": "python",
   "pygments_lexer": "ipython3",
   "version": "3.8.5"
  }
 },
 "nbformat": 4,
 "nbformat_minor": 2
}

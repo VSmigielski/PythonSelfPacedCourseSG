{
 "cells": [
  {
   "cell_type": "markdown",
   "metadata": {},
   "source": [
    "# Lesson 2 Activities\n",
    "The activities in this page will allow you to demonstrate your ability to:\n",
    "\n",
    "* Create a Python script that uses a `for` loop to repeat an activity until a specific criterion is met.\n",
    "* Create a Python script that uses a `while` loop to repeat an activity as long as a specific criterion holds true."
   ]
  },
  {
   "cell_type": "markdown",
   "metadata": {},
   "source": [
    "## Activity 1\n",
    "Given the list `fruit_list`, write a script that iterates through the list and prints each item on a separate line."
   ]
  },
  {
   "cell_type": "code",
   "execution_count": 1,
   "metadata": {},
   "outputs": [
    {
     "name": "stdout",
     "output_type": "stream",
     "text": [
      "apple\n",
      "banana\n",
      "cherry\n",
      "gooseberry\n",
      "kumquat\n",
      "orange\n",
      "pineapple\n"
     ]
    }
   ],
   "source": [
    "fruit_list = [\"apple\", \"banana\", \"cherry\", \"gooseberry\", \"kumquat\", \"orange\", \"pineapple\"]\n",
    "\n",
    "# your code here\n",
    "for i in fruit_list:\n",
    "    print(i)"
   ]
  },
  {
   "cell_type": "markdown",
   "metadata": {},
   "source": [
    "## Activity 2\n",
    "Write a script that asks the user for a string and displays the characters of the string to the user, with each character on a new line.\n",
    "\n",
    "For example, if the input is `Hello`, the output should be:\n",
    "\n",
    "    H\n",
    "    e\n",
    "    l\n",
    "    l\n",
    "    o"
   ]
  },
  {
   "cell_type": "code",
   "execution_count": 2,
   "metadata": {},
   "outputs": [
    {
     "name": "stdout",
     "output_type": "stream",
     "text": [
      "Enter a word: hello\n",
      "h\n",
      "e\n",
      "l\n",
      "l\n",
      "o\n"
     ]
    }
   ],
   "source": [
    "# your code here\n",
    "message = input(\"Enter a word: \")\n",
    "\n",
    "for i in range(len(message)):\n",
    "    print(message[i])"
   ]
  },
  {
   "cell_type": "markdown",
   "metadata": {},
   "source": [
    "## Activity 3\n",
    "Write a script that computes the length of a string without using the `len()` function."
   ]
  },
  {
   "cell_type": "code",
   "execution_count": 6,
   "metadata": {},
   "outputs": [
    {
     "name": "stdout",
     "output_type": "stream",
     "text": [
      "This is the length of the word hello: \n",
      "5\n"
     ]
    }
   ],
   "source": [
    "# your code here\n",
    "message = \"hello\"\n",
    "\n",
    "i = 0\n",
    "for a in message:\n",
    "    i = i + 1\n",
    "print(\"This is the length of the word hello:\")    \n",
    "print(i)    "
   ]
  },
  {
   "cell_type": "markdown",
   "metadata": {},
   "source": [
    "## Activity 4\n",
    "Create a program that starts with a list of strings, identifies all the strings with more than two characters, stores the results in another list, and displays the new list.\n",
    "\n",
    "For example:\n",
    "\n",
    "    a = [\"a\", \"bc\", \"rye\", \"hello\", \"c\", \"\"]\n",
    "\n",
    "Output:\n",
    "\n",
    "    [\"rye\", \"hello\"]"
   ]
  },
  {
   "cell_type": "code",
   "execution_count": 9,
   "metadata": {},
   "outputs": [
    {
     "name": "stdout",
     "output_type": "stream",
     "text": [
      "['rye', 'hello']\n"
     ]
    }
   ],
   "source": [
    "# your code here\n",
    "a = [\"a\", \"bc\", \"rye\", \"hello\", \"c\", \"\"]\n",
    "b = []\n",
    "\n",
    "for i in a:\n",
    "    if len(i) > 2:\n",
    "        b.append(i)\n",
    "print(b)"
   ]
  },
  {
   "cell_type": "markdown",
   "metadata": {},
   "source": [
    "## Activity 5\n",
    "Write two scripts, each of which displays all numbers divisible by 50 between 100 and 1000 (inclusive).\n",
    "* Use the `range` function with `for` in one script.\n",
    "* Use `while` without `range` in the other script.\n",
    "\n",
    "Both scripts should have identical outputs."
   ]
  },
  {
   "cell_type": "code",
   "execution_count": 14,
   "metadata": {},
   "outputs": [
    {
     "name": "stdout",
     "output_type": "stream",
     "text": [
      "100\n",
      "150\n",
      "200\n",
      "250\n",
      "300\n",
      "350\n",
      "400\n",
      "450\n",
      "500\n",
      "550\n",
      "600\n",
      "650\n",
      "700\n",
      "750\n",
      "800\n",
      "850\n",
      "900\n",
      "950\n",
      "1000\n"
     ]
    }
   ],
   "source": [
    "# script 1: range\n",
    "# your code here\n",
    "\n",
    "for i in range(100, 1001):\n",
    "    if i % 50 == 0:\n",
    "        print(i)"
   ]
  },
  {
   "cell_type": "code",
   "execution_count": 15,
   "metadata": {},
   "outputs": [
    {
     "name": "stdout",
     "output_type": "stream",
     "text": [
      "100\n",
      "150\n",
      "200\n",
      "250\n",
      "300\n",
      "350\n",
      "400\n",
      "450\n",
      "500\n",
      "550\n",
      "600\n",
      "650\n",
      "700\n",
      "750\n",
      "800\n",
      "850\n",
      "900\n",
      "950\n",
      "1000\n"
     ]
    }
   ],
   "source": [
    "# script 2: while\n",
    "# your code here\n",
    "\n",
    "i = 100\n",
    "while (i < 1001):\n",
    "    if i % 50 == 0:\n",
    "        print(i)\n",
    "    i = i + 1"
   ]
  },
  {
   "cell_type": "markdown",
   "metadata": {},
   "source": [
    "## Activity 6\n",
    "Create a script that computes the sum of all numbers between 0 and 100."
   ]
  },
  {
   "cell_type": "code",
   "execution_count": 23,
   "metadata": {},
   "outputs": [
    {
     "name": "stdout",
     "output_type": "stream",
     "text": [
      "5050\n"
     ]
    }
   ],
   "source": [
    "# your code here\n",
    "sequence = range(0, 101)\n",
    "\n",
    "a = 0\n",
    "for n in sequence:\n",
    "    a += n\n",
    "\n",
    "print(a)"
   ]
  },
  {
   "cell_type": "markdown",
   "metadata": {},
   "source": [
    "## Activity 7\n",
    "Create a script that computes the factorial of any given number."
   ]
  },
  {
   "cell_type": "code",
   "execution_count": 50,
   "metadata": {},
   "outputs": [
    {
     "name": "stdout",
     "output_type": "stream",
     "text": [
      "Enter any number: 5\n",
      "The factorial of 5 is 120.\n"
     ]
    }
   ],
   "source": [
    "# your code here\n",
    "\n",
    "# Take a numeric value and store in n\n",
    "n = int(input(\"Enter any number: \"))\n",
    "\n",
    "# Initialize the variable\n",
    "fact = 1\n",
    "\n",
    "# Find out the factorial if the input number is more than 0\n",
    "if n >= 1:  \n",
    "    for i in range (1, n+1):\n",
    "        fact = fact * i \n",
    "    print(\"The factorial of %d is %d.\" %(n,fact))\n",
    "elif n == 0:\n",
    "    print(\"The factorial of \", n , \" is \")\n",
    "else:\n",
    "    print(\"You have to enter any positive number\")"
   ]
  },
  {
   "cell_type": "markdown",
   "metadata": {},
   "source": [
    "##  Activity 8\n",
    "Starting with the defined `fruit_list` in the code block below, update the script to perform the following tasks.\n",
    "\n",
    "1. Prompt the user to enter the name of a fruit.\n",
    "1. If the fruit is in `fruit_list`, display an appropriate message to the user and tell the user its index value in the list.\n",
    "1. If the fruit is not in `fruit_list`, display an appropriate message to the user and prompt them to try again.\n",
    "1. The script should repeat itself until the user enters a stop word at the prompt.\n",
    "\n",
    "**Tip:** It's always a good idea to tell the user how to end a loop!"
   ]
  },
  {
   "cell_type": "code",
   "execution_count": 62,
   "metadata": {},
   "outputs": [
    {
     "name": "stdout",
     "output_type": "stream",
     "text": [
      "Enter the name of a fruit OR Enter stop to stop the loop: stop\n",
      "That fruit is not in the list. Try again!\n"
     ]
    }
   ],
   "source": [
    "fruit_list = [\"apple\", \"banana\", \"cherry\", \"gooseberry\", \"kumquat\", \"orange\", \"pineapple\"]\n",
    "\n",
    "nameOfFruitL = \"\"\n",
    "# your code here\n",
    "while nameOfFruitL != \"stop\":\n",
    "    nameOfFruit = input(\"Enter the name of a fruit OR Enter stop to stop the loop: \")\n",
    "    nameOfFruitL = nameOfFruit.lower()\n",
    "    if nameOfFruitL in fruit_list:\n",
    "        print(\"That fruit is in the list!\")\n",
    "        x = fruit_list.index(nameOfFruitL)\n",
    "        print(\"The \", nameOfFruitL, \" is at position\", x, \"of the list\")\n",
    "    else:\n",
    "        print(\"That fruit is not in the list. Try again!\")"
   ]
  },
  {
   "cell_type": "markdown",
   "metadata": {},
   "source": [
    "## Activity 9\n",
    "Create a script that asks the user for a variable number of values and displays the sum of those values to the user. \n",
    "\t\n",
    "The program should prompt the user for values until the user enters the word \"quit\" (uppercase or lowercase), display the values used in the calculation, and then display the total of those values."
   ]
  },
  {
   "cell_type": "code",
   "execution_count": 63,
   "metadata": {
    "scrolled": false
   },
   "outputs": [
    {
     "name": "stdout",
     "output_type": "stream",
     "text": [
      "Enter an integer or 'quit' to end program: 1\n",
      "Enter an integer or 'quit' to end program: 1\n",
      "Enter an integer or 'quit' to end program: 1\n",
      "Enter an integer or 'quit' to end program: quit\n",
      "User values: ['1', '1', '1']\n",
      "The sum of those values is 3\n"
     ]
    }
   ],
   "source": [
    "# your code here\n",
    "num = input(\"Enter an integer or 'quit' to end program: \").lower()\n",
    "\n",
    "nums = [num]\n",
    "\n",
    "while (num != \"quit\"):\n",
    "    num = input(\"Enter an integer or 'quit' to end program: \").lower()\n",
    "    \n",
    "    if num != \"quit\":\n",
    "        nums.append(num)\n",
    "\n",
    "sumOfNumbers = 0\n",
    "for n in nums:\n",
    "    sumOfNumbers += int(n)\n",
    "\n",
    "print(\"User values:\", nums)\n",
    "print(\"The sum of those values is\", sumOfNumbers)"
   ]
  },
  {
   "cell_type": "markdown",
   "metadata": {},
   "source": [
    "## Activity 10\n",
    "Write a script that asks the user for an integer value and then displays the multiplication table of that input number from 1 through the integer squared."
   ]
  },
  {
   "cell_type": "code",
   "execution_count": 65,
   "metadata": {},
   "outputs": [
    {
     "name": "stdout",
     "output_type": "stream",
     "text": [
      "Enter an integer: 12\n",
      "12 x 1 = 12\n",
      "12 x 2 = 24\n",
      "12 x 3 = 36\n",
      "12 x 4 = 48\n",
      "12 x 5 = 60\n",
      "12 x 6 = 72\n",
      "12 x 7 = 84\n",
      "12 x 8 = 96\n",
      "12 x 9 = 108\n",
      "12 x 10 = 120\n",
      "12 x 11 = 132\n"
     ]
    }
   ],
   "source": [
    "# your code here\n",
    "num = int(input(\"Enter an integer: \"))\n",
    "\n",
    "for i in range(1, num):\n",
    "   print(num, 'x', i, '=', num*i)"
   ]
  },
  {
   "cell_type": "markdown",
   "metadata": {},
   "source": [
    "## Activity 11\n",
    "Create a script that identifies all prime numbers between 0 and 100. "
   ]
  },
  {
   "cell_type": "code",
   "execution_count": 66,
   "metadata": {},
   "outputs": [
    {
     "name": "stdout",
     "output_type": "stream",
     "text": [
      "2\n",
      "3\n",
      "5\n",
      "7\n",
      "11\n",
      "13\n",
      "17\n",
      "19\n",
      "23\n",
      "29\n",
      "31\n",
      "37\n",
      "41\n",
      "43\n",
      "47\n",
      "53\n",
      "59\n",
      "61\n",
      "67\n",
      "71\n",
      "73\n",
      "79\n",
      "83\n",
      "89\n",
      "97\n"
     ]
    }
   ],
   "source": [
    "# your code here\n",
    "for num in range(0, 101):\n",
    "   # all prime numbers are greater than 1\n",
    "   if num > 1:\n",
    "       for i in range(2, num):\n",
    "           if (num % i) == 0:\n",
    "               break\n",
    "       else:\n",
    "           print(num)"
   ]
  },
  {
   "cell_type": "markdown",
   "metadata": {},
   "source": [
    "## Activity 12\n",
    "Write a script that calculates the greatest common denominator between two numbers.\n",
    "\n",
    "For example, given the numbers 18 and 27, the greatest common denominator is 9."
   ]
  },
  {
   "cell_type": "code",
   "execution_count": 68,
   "metadata": {},
   "outputs": [
    {
     "name": "stdout",
     "output_type": "stream",
     "text": [
      "Enter an integer: 18\n",
      "Enter another integer: 27\n",
      "The gcd of 18 and 27 is : 9\n"
     ]
    }
   ],
   "source": [
    "# your code here\n",
    "a = int(input(\"Enter an integer: \"))\n",
    "b = int(input(\"Enter another integer: \"))\n",
    "  \n",
    "# prints 12\n",
    "print(\"The gcd of\", a, \"and\", b, \"is: \", end=\"\")\n",
    "print(math.gcd(a, b))"
   ]
  },
  {
   "cell_type": "markdown",
   "metadata": {},
   "source": [
    "## Activity 13\n",
    "Write a script that computes the frequency of each digit in a given integer.\n",
    "\n",
    "For example, if the input number is 334, the output should be:\n",
    "\n",
    "    3 occurs 2 times \n",
    "    4 occurs 1 time"
   ]
  },
  {
   "cell_type": "code",
   "execution_count": 69,
   "metadata": {},
   "outputs": [
    {
     "name": "stdout",
     "output_type": "stream",
     "text": [
      "Enter the number to check: 334\n",
      "Enter the number to find: 3\n",
      "2\n"
     ]
    }
   ],
   "source": [
    "# your code here\n",
    "def frequencyDigits(n, d):\n",
    "     \n",
    "    # Counter variable to\n",
    "    # store the frequency\n",
    "    c = 0;\n",
    "     \n",
    "    # iterate till number\n",
    "    # reduces to zero\n",
    "    while (n > 0):\n",
    "         \n",
    "        # check for equality\n",
    "        if (n % 10 == d):\n",
    "            c += 1;\n",
    "        # reduce the number\n",
    "        n = int(n / 10);\n",
    " \n",
    "    return c;\n",
    " \n",
    "# Driver Code\n",
    " \n",
    "# input number N\n",
    "N = int(input(\"Enter the number to check: \"));\n",
    " \n",
    "# input digit D\n",
    "D = int(input(\"Enter the number to find: \"));\n",
    " \n",
    "print(frequencyDigits(N, D));"
   ]
  },
  {
   "cell_type": "markdown",
   "metadata": {},
   "source": [
    "## Activity 14\n",
    "\n",
    "Write a script that calculates the lowest common multiple of two given integers.\n",
    "\n",
    "For example, given the values 4 and 6, the lowest common multiple is 12."
   ]
  },
  {
   "cell_type": "code",
   "execution_count": 70,
   "metadata": {},
   "outputs": [
    {
     "name": "stdout",
     "output_type": "stream",
     "text": [
      "Enter an integer: 4\n",
      "Enter another integer6\n",
      "This is the least common denominator of 4 and 6 : \n",
      "12\n"
     ]
    }
   ],
   "source": [
    "# your code here\n",
    "def lcm(x, y):\n",
    "    if x > y:\n",
    "        z = x\n",
    "    else:\n",
    "        z = y\n",
    "\n",
    "    while(True):\n",
    "        if((z % x == 0) and (z % y == 0)):\n",
    "            lcm = z\n",
    "            break\n",
    "        z += 1\n",
    "\n",
    "    return lcm\n",
    "\n",
    "a = int(input(\"Enter an integer: \"))\n",
    "b = int(input(\"Enter another integer\"))\n",
    "\n",
    "print(\"This is the least common denominator of\", a, \"and\", b, \":\")\n",
    "print(lcm(a, b))"
   ]
  },
  {
   "cell_type": "markdown",
   "metadata": {},
   "source": [
    "## Activity 15\n",
    "Write a script that determines if an input number can be expressed as the sum of two prime numbers. \n",
    "\n",
    "For example, the number `10` can be expressed as the sum of two prime numbers:\n",
    "* 10 = 3 + 7 : both prime numbers \n",
    "* 10 = 5 + 5 : both prime numbers \n",
    "\n",
    "However, the number `11` cannot be:\n",
    "* 11 = 1 + 10 : neither 1 nor 10 are prime numbers\n",
    "* 11 = 2 + 9 : 9 is not a prime number\n",
    "* 11 = 3 + 8 : 8 is not a prime number\n",
    "* 11 = 4 + 7 : 4 is not a prime number\n",
    "* 11 = 5 + 6 : 6 is not a prime number"
   ]
  },
  {
   "cell_type": "code",
   "execution_count": 75,
   "metadata": {},
   "outputs": [
    {
     "name": "stdout",
     "output_type": "stream",
     "text": [
      "Enter an integer to check: 19\n",
      "Yes\n"
     ]
    }
   ],
   "source": [
    "# your code here\n",
    "import math\n",
    " \n",
    "# Function to check whether a number\n",
    "# is prime or not\n",
    "def isPrime(n):\n",
    "    if n <= 1:\n",
    "        return False\n",
    "     \n",
    "    if n == 2:\n",
    "        return True\n",
    "         \n",
    "    if n%2 == 0:\n",
    "        return False\n",
    "         \n",
    "    for i in range(3, int(math.sqrt(n))+1, 2):\n",
    "        if n%i == 0:\n",
    "            return False\n",
    "    return True\n",
    " \n",
    "# Function to check if a prime number\n",
    "# can be expressed as sum of\n",
    "# two Prime Numbers\n",
    "def isPossible(n):\n",
    " \n",
    "    # if the number is prime,\n",
    "    # and number-2 is also prime\n",
    "    if isPrime(n) and isPrime(n - 2):\n",
    "        return True\n",
    "    else:\n",
    "        return False\n",
    " \n",
    "# Driver code\n",
    "n = int(input(\"Enter an integer to check: \"))\n",
    "if isPossible(n) == True:\n",
    "    print(\"Yes\")\n",
    "else:\n",
    "    print(\"No\")"
   ]
  },
  {
   "cell_type": "code",
   "execution_count": null,
   "metadata": {},
   "outputs": [],
   "source": []
  },
  {
   "cell_type": "code",
   "execution_count": null,
   "metadata": {},
   "outputs": [],
   "source": []
  }
 ],
 "metadata": {
  "kernelspec": {
   "display_name": "Python 3",
   "language": "python",
   "name": "python3"
  },
  "language_info": {
   "codemirror_mode": {
    "name": "ipython",
    "version": 3
   },
   "file_extension": ".py",
   "mimetype": "text/x-python",
   "name": "python",
   "nbconvert_exporter": "python",
   "pygments_lexer": "ipython3",
   "version": "3.8.5"
  }
 },
 "nbformat": 4,
 "nbformat_minor": 2
}

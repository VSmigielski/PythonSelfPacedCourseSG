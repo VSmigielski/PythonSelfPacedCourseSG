{
 "cells": [
  {
   "cell_type": "markdown",
   "metadata": {},
   "source": [
    "Write a program that performs the following steps:\n",
    "\n",
    "Ask the user for a number.\n",
    "Output a count starting with 0.\n",
    "Display the count number if it is not divisible by 3 or 5.\n",
    "Replace every multiple of 3 with the word \"fizz.\"\n",
    "Replace every multiple of 5 with the word \"buzz.\"\n",
    "Replace multiples of both 3 and 5 with \"fizz buzz.\"\n",
    "Continue counting until the number of integers replaced with \"fizz,\" \"buzz,\" or \"fizz buzz\" reaches the input number.\n",
    "The last output line should read \"TRADITION!!\""
   ]
  },
  {
   "cell_type": "code",
   "execution_count": 51,
   "metadata": {},
   "outputs": [
    {
     "name": "stdout",
     "output_type": "stream",
     "text": [
      "How many fizzing and buzzing units do you need in your life?7\n",
      "0\n",
      "1\n",
      "2\n",
      "fizz\n",
      "4\n",
      "buzz\n",
      "fizz\n",
      "7\n",
      "8\n",
      "fizz\n",
      "buzz\n",
      "11\n",
      "fizz\n",
      "13\n",
      "14\n",
      "fizz buzz\n",
      "TRADITION!!\n"
     ]
    }
   ],
   "source": [
    "\n",
    "sequence = range(1, 10000)\n",
    "inputNum = int(input(\"How many fizzing and buzzing units do you need in your life?\"))\n",
    "\n",
    "count = 0\n",
    "print(count)\n",
    "while count < inputNum:    \n",
    "    for i in sequence:\n",
    "        if i % 15 == 0:\n",
    "            print ('fizz buzz')\n",
    "            count += 1\n",
    "        elif i % 3 == 0:\n",
    "            print ('fizz')\n",
    "            count += 1\n",
    "        elif i % 5 == 0:\n",
    "            print ('buzz')\n",
    "            count += 1\n",
    "        else:\n",
    "            print(str(i))\n",
    "        \n",
    "        if count == inputNum: break;\n",
    "            \n",
    "print(\"TRADITION!!\")"
   ]
  },
  {
   "cell_type": "code",
   "execution_count": null,
   "metadata": {},
   "outputs": [],
   "source": []
  },
  {
   "cell_type": "code",
   "execution_count": null,
   "metadata": {},
   "outputs": [],
   "source": []
  }
 ],
 "metadata": {
  "kernelspec": {
   "display_name": "Python 3",
   "language": "python",
   "name": "python3"
  },
  "language_info": {
   "codemirror_mode": {
    "name": "ipython",
    "version": 3
   },
   "file_extension": ".py",
   "mimetype": "text/x-python",
   "name": "python",
   "nbconvert_exporter": "python",
   "pygments_lexer": "ipython3",
   "version": "3.8.5"
  }
 },
 "nbformat": 4,
 "nbformat_minor": 4
}

{
 "cells": [
  {
   "cell_type": "markdown",
   "metadata": {},
   "source": [
    "\n",
    "# Module 4 Activities\n",
    "\n",
    "The exercises in this page will allow you to demonstrate your ability to:\n",
    "\n",
    "* Manage date and time types in Python.\n",
    "* Use iterators to automate data processing.\n",
    "* Access files in a variety of formats, including text files, CSV files, and JSON files.\n",
    "\n",
    "Links are provided for activities that require a specific file, but you may already have copies of some files from earlier lessons and activities. If you already have a file with the same name in your *data* folder, you may use that file instead of downloading a new copy."
   ]
  },
  {
   "cell_type": "code",
   "execution_count": null,
   "metadata": {},
   "outputs": [],
   "source": []
  },
  {
   "cell_type": "markdown",
   "metadata": {},
   "source": [
    "## Activity 1: New York Restaurants\n",
    "\n",
    "Use Python to find the following information using the [restaurant.json](https://the-software-guild.s3.amazonaws.com/techstart-1909/data-files/restaurant.json) file.\n",
    "\n",
    "1. Compute the average score for each restaurant.\n",
    "1. Compute the minimum score for each restaurant.\n",
    "1. Compute the maximum score for each restaurant.\n",
    "1. Compute the average score for each type of cuisine in each borough.\n",
    "1. Compute the minimum score for each type of cuisine in each borough.\n",
    "1. Compute the maximum score for each type of cuisine in each borough.\n",
    "\n",
    "**Challenge**: Identify at least three other values in the dataset that you can use to calculate average, minimum, and maximum values, and find those values."
   ]
  },
  {
   "cell_type": "code",
   "execution_count": 5,
   "metadata": {
    "scrolled": false
   },
   "outputs": [
    {
     "ename": "JSONDecodeError",
     "evalue": "Extra data: line 2 column 1 (char 544)",
     "output_type": "error",
     "traceback": [
      "\u001b[1;31m---------------------------------------------------------------------------\u001b[0m",
      "\u001b[1;31mJSONDecodeError\u001b[0m                           Traceback (most recent call last)",
      "\u001b[1;32m<ipython-input-5-a9eed353eb2e>\u001b[0m in \u001b[0;36m<module>\u001b[1;34m\u001b[0m\n\u001b[0;32m      7\u001b[0m     \u001b[1;31m# use the json module with the load function\u001b[0m\u001b[1;33m\u001b[0m\u001b[1;33m\u001b[0m\u001b[1;33m\u001b[0m\u001b[0m\n\u001b[0;32m      8\u001b[0m     \u001b[1;31m# to read the content of the json file into a dictionary\u001b[0m\u001b[1;33m\u001b[0m\u001b[1;33m\u001b[0m\u001b[1;33m\u001b[0m\u001b[0m\n\u001b[1;32m----> 9\u001b[1;33m     \u001b[0mdata\u001b[0m \u001b[1;33m=\u001b[0m \u001b[0mjson\u001b[0m\u001b[1;33m.\u001b[0m\u001b[0mload\u001b[0m\u001b[1;33m(\u001b[0m\u001b[0mjsonfile\u001b[0m\u001b[1;33m)\u001b[0m \u001b[1;31m# load the json content and serialize it.\u001b[0m\u001b[1;33m\u001b[0m\u001b[1;33m\u001b[0m\u001b[0m\n\u001b[0m",
      "\u001b[1;32m~\\anaconda3\\lib\\json\\__init__.py\u001b[0m in \u001b[0;36mload\u001b[1;34m(fp, cls, object_hook, parse_float, parse_int, parse_constant, object_pairs_hook, **kw)\u001b[0m\n\u001b[0;32m    291\u001b[0m     \u001b[0mkwarg\u001b[0m\u001b[1;33m;\u001b[0m \u001b[0motherwise\u001b[0m\u001b[0;31m \u001b[0m\u001b[0;31m`\u001b[0m\u001b[0;31m`\u001b[0m\u001b[0mJSONDecoder\u001b[0m\u001b[0;31m`\u001b[0m\u001b[0;31m`\u001b[0m \u001b[1;32mis\u001b[0m \u001b[0mused\u001b[0m\u001b[1;33m.\u001b[0m\u001b[1;33m\u001b[0m\u001b[1;33m\u001b[0m\u001b[0m\n\u001b[0;32m    292\u001b[0m     \"\"\"\n\u001b[1;32m--> 293\u001b[1;33m     return loads(fp.read(),\n\u001b[0m\u001b[0;32m    294\u001b[0m         \u001b[0mcls\u001b[0m\u001b[1;33m=\u001b[0m\u001b[0mcls\u001b[0m\u001b[1;33m,\u001b[0m \u001b[0mobject_hook\u001b[0m\u001b[1;33m=\u001b[0m\u001b[0mobject_hook\u001b[0m\u001b[1;33m,\u001b[0m\u001b[1;33m\u001b[0m\u001b[1;33m\u001b[0m\u001b[0m\n\u001b[0;32m    295\u001b[0m         \u001b[0mparse_float\u001b[0m\u001b[1;33m=\u001b[0m\u001b[0mparse_float\u001b[0m\u001b[1;33m,\u001b[0m \u001b[0mparse_int\u001b[0m\u001b[1;33m=\u001b[0m\u001b[0mparse_int\u001b[0m\u001b[1;33m,\u001b[0m\u001b[1;33m\u001b[0m\u001b[1;33m\u001b[0m\u001b[0m\n",
      "\u001b[1;32m~\\anaconda3\\lib\\json\\__init__.py\u001b[0m in \u001b[0;36mloads\u001b[1;34m(s, cls, object_hook, parse_float, parse_int, parse_constant, object_pairs_hook, **kw)\u001b[0m\n\u001b[0;32m    355\u001b[0m             \u001b[0mparse_int\u001b[0m \u001b[1;32mis\u001b[0m \u001b[1;32mNone\u001b[0m \u001b[1;32mand\u001b[0m \u001b[0mparse_float\u001b[0m \u001b[1;32mis\u001b[0m \u001b[1;32mNone\u001b[0m \u001b[1;32mand\u001b[0m\u001b[1;33m\u001b[0m\u001b[1;33m\u001b[0m\u001b[0m\n\u001b[0;32m    356\u001b[0m             parse_constant is None and object_pairs_hook is None and not kw):\n\u001b[1;32m--> 357\u001b[1;33m         \u001b[1;32mreturn\u001b[0m \u001b[0m_default_decoder\u001b[0m\u001b[1;33m.\u001b[0m\u001b[0mdecode\u001b[0m\u001b[1;33m(\u001b[0m\u001b[0ms\u001b[0m\u001b[1;33m)\u001b[0m\u001b[1;33m\u001b[0m\u001b[1;33m\u001b[0m\u001b[0m\n\u001b[0m\u001b[0;32m    358\u001b[0m     \u001b[1;32mif\u001b[0m \u001b[0mcls\u001b[0m \u001b[1;32mis\u001b[0m \u001b[1;32mNone\u001b[0m\u001b[1;33m:\u001b[0m\u001b[1;33m\u001b[0m\u001b[1;33m\u001b[0m\u001b[0m\n\u001b[0;32m    359\u001b[0m         \u001b[0mcls\u001b[0m \u001b[1;33m=\u001b[0m \u001b[0mJSONDecoder\u001b[0m\u001b[1;33m\u001b[0m\u001b[1;33m\u001b[0m\u001b[0m\n",
      "\u001b[1;32m~\\anaconda3\\lib\\json\\decoder.py\u001b[0m in \u001b[0;36mdecode\u001b[1;34m(self, s, _w)\u001b[0m\n\u001b[0;32m    338\u001b[0m         \u001b[0mend\u001b[0m \u001b[1;33m=\u001b[0m \u001b[0m_w\u001b[0m\u001b[1;33m(\u001b[0m\u001b[0ms\u001b[0m\u001b[1;33m,\u001b[0m \u001b[0mend\u001b[0m\u001b[1;33m)\u001b[0m\u001b[1;33m.\u001b[0m\u001b[0mend\u001b[0m\u001b[1;33m(\u001b[0m\u001b[1;33m)\u001b[0m\u001b[1;33m\u001b[0m\u001b[1;33m\u001b[0m\u001b[0m\n\u001b[0;32m    339\u001b[0m         \u001b[1;32mif\u001b[0m \u001b[0mend\u001b[0m \u001b[1;33m!=\u001b[0m \u001b[0mlen\u001b[0m\u001b[1;33m(\u001b[0m\u001b[0ms\u001b[0m\u001b[1;33m)\u001b[0m\u001b[1;33m:\u001b[0m\u001b[1;33m\u001b[0m\u001b[1;33m\u001b[0m\u001b[0m\n\u001b[1;32m--> 340\u001b[1;33m             \u001b[1;32mraise\u001b[0m \u001b[0mJSONDecodeError\u001b[0m\u001b[1;33m(\u001b[0m\u001b[1;34m\"Extra data\"\u001b[0m\u001b[1;33m,\u001b[0m \u001b[0ms\u001b[0m\u001b[1;33m,\u001b[0m \u001b[0mend\u001b[0m\u001b[1;33m)\u001b[0m\u001b[1;33m\u001b[0m\u001b[1;33m\u001b[0m\u001b[0m\n\u001b[0m\u001b[0;32m    341\u001b[0m         \u001b[1;32mreturn\u001b[0m \u001b[0mobj\u001b[0m\u001b[1;33m\u001b[0m\u001b[1;33m\u001b[0m\u001b[0m\n\u001b[0;32m    342\u001b[0m \u001b[1;33m\u001b[0m\u001b[0m\n",
      "\u001b[1;31mJSONDecodeError\u001b[0m: Extra data: line 2 column 1 (char 544)"
     ]
    }
   ],
   "source": [
    "# your code here\n",
    "import json\n",
    "# we use pprint to display json/dictionary objects in a human readable format\n",
    "from pprint import pprint \n",
    " \n",
    "with open('FileIO-DataFiles/restaurant_2.json','r') as jsonfile: # use open to read the file\n",
    "    # use the json module with the load function \n",
    "    # to read the content of the json file into a dictionary\n",
    "    data = json.load(jsonfile) # load the json content and serialize it. "
   ]
  },
  {
   "cell_type": "markdown",
   "metadata": {},
   "source": [
    "## Activity 2: Stocks\n",
    "\n",
    "Download this file to use for this activity: [stocks.zip](https://the-software-guild.s3.amazonaws.com/techstart-1909/data-files/stocks.zip)\n",
    "\n",
    "* You will need to extract or uncompress the zip file before using the data.\n",
    "* After extracting the file, look through the file to see the raw data it contains and how the data is structured.\n",
    "\n",
    "Use Python to find the following information:\n",
    "\n",
    "1. Return a list of all company indexes that appear at least once in the dataset, sorted alphabetically by index value.\n",
    "1. Return the number of publicly traded companies for each year in the dataset.\n",
    "1. Return a list of company indexes that were publicly traded in each year in the dataset, grouped by year.\n",
    "        * For example, the output should look something like this:\n",
    "\n",
    "            [ \"Year 1\":[index1,index2,index3,….],\n",
    "            \"Year 2\": [index1,index2,index3,….],\n",
    "            &hellip; ]\n",
    "\n",
    "1. Use a company index value and return all historical pricing data for the company.\n",
    "1. Use a company index value and year and return the pricing data for the company for that particular year.\n",
    "1. Use a company index value, a year, and a month, and return all pricing data for the company for that particular year and month.\n",
    "1. Choose a year and return the list of companies that were publicly traded during that year.\n",
    "        * The results should include all companies that traded for at least one day during the given year."
   ]
  },
  {
   "cell_type": "code",
   "execution_count": null,
   "metadata": {},
   "outputs": [],
   "source": [
    "# your code here\n"
   ]
  },
  {
   "cell_type": "markdown",
   "metadata": {},
   "source": [
    "## Activity 3: Nobel Laureates\n",
    "\n",
    "Download the [laureate.json](https://the-software-guild.s3.amazonaws.com/techstart-1909/data-files/laureate.json) file for this activity, if you do not already have it from an earlier lesson or exercise. This file contains details about Nobel Laureates.\n",
    "\n",
    "Use this dataset to answer the following questions:\n",
    "1. Identify the country with the most laureates.\n",
    "1. Identify the country with the fewest laureates.\n",
    "1. Identify the city with the most laureates.\n",
    "1. Identify the city with the fewest laureates.\n",
    "1. Identify the oldest laureate to ever receive a prize.\n",
    "1. How many laureates died in Germany but were not born in Germany?\n",
    "1. How many laureates died in the USA but were not born in the USA?\n",
    "1. How many laureates died in the USA and were born in the USA?\n",
    "1. How many laureates were born in Chicago?\n",
    "1. Have any laureates won more than one prize?\n"
   ]
  },
  {
   "cell_type": "code",
   "execution_count": null,
   "metadata": {},
   "outputs": [],
   "source": [
    "# your code here"
   ]
  },
  {
   "cell_type": "markdown",
   "metadata": {},
   "source": [
    "## Stretch Activity (Complete After the Module 4 Assessment)\n",
    "\n",
    "This activity uses Python to analyze the text of reviews for a set of Amazon products. This type of analysis can be useful in a variety of settings, including helping vendors understand how customers perceive their products or as the basis for a smart analysis to distinguish legitimate reviews from fake reviews.\n",
    "\n",
    "1. Read the [reviews.json](https://the-software-guild.s3.amazonaws.com/datascience/track1-1909/reviews.json) file, which contains reviews about Amazon products.\n",
    "1. For each review in the dataset, access the `reviewText` attribute and perform the following operations:\n",
    "    * Split the review text into words and convert all text to lowercase.\n",
    "    * Remove the stop words.\n",
    "    * Lemmatize the words.\n",
    "    * Compute the frequency of occurrence of each word, saved in a dictionary where the word is the key and the frequency is the value.\n",
    "    * Save the dictionary in a JSON file where each file looks like this:\n",
    "\n",
    "        {\n",
    "            reviewID:{word_1:word_1_count,word_2:word_2_count, ... ,word_N:word_N_count\n",
    "        }"
   ]
  },
  {
   "cell_type": "code",
   "execution_count": null,
   "metadata": {},
   "outputs": [],
   "source": [
    "# your code here"
   ]
  },
  {
   "cell_type": "code",
   "execution_count": 13,
   "metadata": {},
   "outputs": [
    {
     "name": "stdout",
     "output_type": "stream",
     "text": [
      "False\n"
     ]
    }
   ],
   "source": []
  },
  {
   "cell_type": "code",
   "execution_count": null,
   "metadata": {},
   "outputs": [],
   "source": []
  }
 ],
 "metadata": {
  "kernelspec": {
   "display_name": "Python 3",
   "language": "python",
   "name": "python3"
  },
  "language_info": {
   "codemirror_mode": {
    "name": "ipython",
    "version": 3
   },
   "file_extension": ".py",
   "mimetype": "text/x-python",
   "name": "python",
   "nbconvert_exporter": "python",
   "pygments_lexer": "ipython3",
   "version": "3.8.5"
  }
 },
 "nbformat": 4,
 "nbformat_minor": 2
}

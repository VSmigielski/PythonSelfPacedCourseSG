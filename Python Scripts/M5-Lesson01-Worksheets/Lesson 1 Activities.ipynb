{
 "cells": [
  {
   "cell_type": "markdown",
   "metadata": {},
   "source": [
    "# Lesson 1 Activities: Lambda Functions\n",
    "Completing the following activities will demonstrate your ability to:\n",
    "\n",
    "* Create lambda functions.\n",
    "* Use a lambda function as part of a defined function."
   ]
  },
  {
   "cell_type": "markdown",
   "metadata": {},
   "source": [
    "## Activity 1\n",
    "Write a lambda function that takes as input two numbers, converts them into strings, and concatenates the strings. \n",
    "\n",
    "For example, given `a = 1` and `b = 2`, the output should be \"12\"."
   ]
  },
  {
   "cell_type": "code",
   "execution_count": 3,
   "metadata": {},
   "outputs": [
    {
     "name": "stdout",
     "output_type": "stream",
     "text": [
      "12\n"
     ]
    }
   ],
   "source": [
    "x = lambda a, b : str(a) + str(b)\n",
    "print(x(1, 2))"
   ]
  },
  {
   "cell_type": "markdown",
   "metadata": {},
   "source": [
    "## Activity 2\n",
    "Write a lambda function that takes as input a number and returns the square root of that number."
   ]
  },
  {
   "cell_type": "code",
   "execution_count": 4,
   "metadata": {},
   "outputs": [
    {
     "name": "stdout",
     "output_type": "stream",
     "text": [
      "6.0\n"
     ]
    }
   ],
   "source": [
    "import math\n",
    "x = lambda a : math.sqrt(a)\n",
    "print(x(36))"
   ]
  },
  {
   "cell_type": "markdown",
   "metadata": {},
   "source": [
    "## Activity 3\n",
    "Write a lambda function that takes as input two numbers and returns the product of those two numbers. "
   ]
  },
  {
   "cell_type": "code",
   "execution_count": 6,
   "metadata": {},
   "outputs": [
    {
     "name": "stdout",
     "output_type": "stream",
     "text": [
      "6\n"
     ]
    }
   ],
   "source": [
    "x = lambda a, b : a * b\n",
    "print(x(3, 2))"
   ]
  },
  {
   "cell_type": "markdown",
   "metadata": {},
   "source": [
    "## Activity 4\n",
    "Write a lambda function that takes as input a string and returns only the first two characters. "
   ]
  },
  {
   "cell_type": "code",
   "execution_count": 9,
   "metadata": {},
   "outputs": [
    {
     "name": "stdout",
     "output_type": "stream",
     "text": [
      "He\n"
     ]
    }
   ],
   "source": [
    "x = lambda a : a[0:2] \n",
    "print(x(\"Hello\"))"
   ]
  },
  {
   "cell_type": "markdown",
   "metadata": {},
   "source": [
    "## Activity 5\n",
    "Write a lambda function that takes as input a number in a string format and returns the number itself. "
   ]
  },
  {
   "cell_type": "code",
   "execution_count": 11,
   "metadata": {},
   "outputs": [
    {
     "name": "stdout",
     "output_type": "stream",
     "text": [
      "1\n",
      "1.0\n"
     ]
    }
   ],
   "source": [
    "x = lambda a : int(a) \n",
    "y = lambda a : float(a) \n",
    "print(x(\"1\"))\n",
    "print(y(\"1\"))"
   ]
  },
  {
   "cell_type": "markdown",
   "metadata": {},
   "source": [
    "## Activity 6\n",
    "Write a lambda function that takes as input a number and returns only the first digit of the number. The result can be returned in a string format.\n",
    "\n",
    "For example, given the input `3564655`, the output should be `3` or \"3\"."
   ]
  },
  {
   "cell_type": "code",
   "execution_count": 14,
   "metadata": {},
   "outputs": [
    {
     "name": "stdout",
     "output_type": "stream",
     "text": [
      "3\n"
     ]
    }
   ],
   "source": [
    "x = lambda a : int((str(a))[0:1]) \n",
    "print(x(3564655))"
   ]
  },
  {
   "cell_type": "markdown",
   "metadata": {},
   "source": [
    "## Activity 7\n",
    "Create a lambda function that converts an input string to uppercase."
   ]
  },
  {
   "cell_type": "code",
   "execution_count": 15,
   "metadata": {},
   "outputs": [
    {
     "name": "stdout",
     "output_type": "stream",
     "text": [
      "HELLO\n"
     ]
    }
   ],
   "source": [
    "x = lambda a : a.upper()\n",
    "print(x(\"Hello\"))"
   ]
  },
  {
   "cell_type": "markdown",
   "metadata": {},
   "source": [
    "## Activity 8\n",
    "Create a lambda function that converts an input string to lowercase."
   ]
  },
  {
   "cell_type": "code",
   "execution_count": 16,
   "metadata": {},
   "outputs": [
    {
     "name": "stdout",
     "output_type": "stream",
     "text": [
      "hello\n"
     ]
    }
   ],
   "source": [
    "x = lambda a : a.lower()\n",
    "print(x(\"HeLlO\"))"
   ]
  },
  {
   "cell_type": "markdown",
   "metadata": {},
   "source": [
    "## Activity 9\n",
    "Create a lambda function that takes as input a string and returns the last character in the string."
   ]
  },
  {
   "cell_type": "code",
   "execution_count": 18,
   "metadata": {},
   "outputs": [
    {
     "name": "stdout",
     "output_type": "stream",
     "text": [
      "o\n",
      "e\n"
     ]
    }
   ],
   "source": [
    "x = lambda a : a[-1]\n",
    "print(x(\"Hello\"))\n",
    "print(x(\"Bye\"))"
   ]
  },
  {
   "cell_type": "markdown",
   "metadata": {},
   "source": [
    "## Activity 10\n",
    "Create a lambda function that takes as input a string and returns the length of the string."
   ]
  },
  {
   "cell_type": "code",
   "execution_count": 19,
   "metadata": {},
   "outputs": [
    {
     "name": "stdout",
     "output_type": "stream",
     "text": [
      "5\n"
     ]
    }
   ],
   "source": [
    "x = lambda a : len(a)\n",
    "print(x(\"Hello\"))"
   ]
  },
  {
   "cell_type": "markdown",
   "metadata": {},
   "source": [
    "## Activity 11\n",
    "Create a lambda function that takes as input a string and returns a new string that is the input string repeated twice.\n",
    "\t\n",
    "For example, given the input \"hello\", the output should be \"hellohello\"."
   ]
  },
  {
   "cell_type": "code",
   "execution_count": 20,
   "metadata": {},
   "outputs": [
    {
     "name": "stdout",
     "output_type": "stream",
     "text": [
      "HelloHello\n"
     ]
    }
   ],
   "source": [
    "x = lambda a : a + a\n",
    "print(x(\"Hello\"))"
   ]
  },
  {
   "cell_type": "markdown",
   "metadata": {},
   "source": [
    "## Activity 12\n",
    "Create a lambda function that takes as input two strings and concatenates the two strings separated by a space."
   ]
  },
  {
   "cell_type": "code",
   "execution_count": 22,
   "metadata": {},
   "outputs": [
    {
     "name": "stdout",
     "output_type": "stream",
     "text": [
      "Hello Bye\n"
     ]
    }
   ],
   "source": [
    "x = lambda a, b : a + \" \" + b\n",
    "print(x(\"Hello\", \"Bye\"))"
   ]
  },
  {
   "cell_type": "markdown",
   "metadata": {},
   "source": [
    "## Activity 13\n",
    "Identify three possible operations that can be done using lambda functions. Implement those operations and provide examples."
   ]
  },
  {
   "cell_type": "code",
   "execution_count": 23,
   "metadata": {},
   "outputs": [
    {
     "name": "stdout",
     "output_type": "stream",
     "text": [
      "36\n",
      "Enter one fruit: kiwi\n",
      "Enter another fruit: mango\n",
      "Enter one last fruit: apple\n",
      "kiwi mango apple\n",
      "600\n"
     ]
    }
   ],
   "source": [
    "def pow_n(n):\n",
    "    return lambda a:a ** n\n",
    "\n",
    "pow_2 = pow_n(2)\n",
    "print(pow_2(6))\n",
    "\n",
    "x = lambda a, b, c : a + \" \" + b + \" \" + c\n",
    "a = input(\"Enter one fruit: \")\n",
    "b = input(\"Enter another fruit: \")\n",
    "c = input(\"Enter one last fruit: \")\n",
    "print(x(a, b, c))\n",
    "\n",
    "x = lambda a, b, c : int(a) + int(b) + int(c)\n",
    "print(x(\"100\", \"200\", \"300\"))"
   ]
  },
  {
   "cell_type": "code",
   "execution_count": null,
   "metadata": {},
   "outputs": [],
   "source": []
  }
 ],
 "metadata": {
  "kernelspec": {
   "display_name": "Python 3",
   "language": "python",
   "name": "python3"
  },
  "language_info": {
   "codemirror_mode": {
    "name": "ipython",
    "version": 3
   },
   "file_extension": ".py",
   "mimetype": "text/x-python",
   "name": "python",
   "nbconvert_exporter": "python",
   "pygments_lexer": "ipython3",
   "version": "3.8.5"
  }
 },
 "nbformat": 4,
 "nbformat_minor": 2
}

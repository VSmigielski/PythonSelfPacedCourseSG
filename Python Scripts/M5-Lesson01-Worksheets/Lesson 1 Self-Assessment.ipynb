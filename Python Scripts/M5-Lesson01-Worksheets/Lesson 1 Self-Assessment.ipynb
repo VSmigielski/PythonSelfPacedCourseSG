{
 "cells": [
  {
   "cell_type": "markdown",
   "metadata": {},
   "source": [
    "Create a program that includes the following:\n",
    "\n",
    "Write a function named dateReturn that accepts one datetime parameter value.\n",
    "\n",
    "Include a lambda function that extracts and returns the date from the dateReturn function's parameter value.\n",
    "Write a function named timeReturn that accepts one datetime parameter value.\n",
    "\n",
    "Include a lambda function that extracts and returns the time from the timeReturn function's datetime value.\n",
    "Write another function named oneWord that accepts a single string input value.\n",
    "\n",
    "Include a lambda function that extracts and returns the first word in the input string.\n",
    "The dateReturn and timeReturn functions can use the same datetime value.\n",
    "\n",
    "The string used for the oneWord function can be any string that includes multiple words, using spaces to delineate the words."
   ]
  },
  {
   "cell_type": "markdown",
   "metadata": {},
   "source": [
    "The following steps are optional, but you are encouraged to attempt them.\n",
    "\n",
    "Add user prompts for the datetime value(s) and string that are used in the functions.\n",
    "Modify the oneWord function so that it returns a random word from the string."
   ]
  },
  {
   "cell_type": "markdown",
   "metadata": {},
   "source": [
    "Include your name and a current date in a comment on the first line of code.\n",
    "The program must include three functions: dateReturn, timeReturn, and oneWord.\n",
    "Each function must include an appropriate lambda function, as described in the instructions.\n",
    "The program must display the date, the time, and the word from the string to the user in a meaningful way.\n",
    "All text displayed to the user must use correct grammar and spelling."
   ]
  },
  {
   "cell_type": "code",
   "execution_count": 44,
   "metadata": {},
   "outputs": [
    {
     "name": "stdout",
     "output_type": "stream",
     "text": [
      "This is the current date: 2021-05-07\n",
      "This is the current time: 13:19:23.186925\n",
      "This is the first word within the string: This\n"
     ]
    }
   ],
   "source": [
    "# Veronica Smigielski 07/05/2021\n",
    "import datetime\n",
    "def dateReturn(a):\n",
    "    d = lambda x : x.date()\n",
    "    date = d(a)\n",
    "    return date\n",
    "def timeReturn(a):\n",
    "    t = lambda x : x.time()\n",
    "    time = t(a)\n",
    "    return time\n",
    "def oneWord(a):\n",
    "    o = lambda x: x.split()[0].strip()\n",
    "    one = o(a)\n",
    "    return one\n",
    "    \n",
    "a = datetime.datetime.now()\n",
    "s = \"This is the new string.\"\n",
    "\n",
    "print(\"This is the current date:\", dateReturn(a))\n",
    "print(\"This is the current time:\", timeReturn(a))\n",
    "print(\"This is the first word within the string:\", oneWord(s))\n"
   ]
  },
  {
   "cell_type": "code",
   "execution_count": 46,
   "metadata": {},
   "outputs": [
    {
     "name": "stdout",
     "output_type": "stream",
     "text": [
      "This is the current date: 2021-05-07\n",
      "This is the current time: 13:21:08.628819\n",
      "This is the first word within the string: This\n"
     ]
    }
   ],
   "source": [
    "import datetime\n",
    "def dateReturn(a):\n",
    "    return (lambda x : x.date())(a)\n",
    "def timeReturn(a):\n",
    "    return (lambda x : x.time())(a)\n",
    "def oneWord(a):\n",
    "    return (lambda x: x.split()[0].strip())(a)\n",
    "    \n",
    "a = datetime.datetime.now()\n",
    "s = \"This is the new string.\"\n",
    "\n",
    "print(\"This is the current date:\", dateReturn(a))\n",
    "print(\"This is the current time:\", timeReturn(a))\n",
    "print(\"This is the first word within the string:\", oneWord(s))"
   ]
  },
  {
   "cell_type": "code",
   "execution_count": null,
   "metadata": {},
   "outputs": [],
   "source": []
  }
 ],
 "metadata": {
  "kernelspec": {
   "display_name": "Python 3",
   "language": "python",
   "name": "python3"
  },
  "language_info": {
   "codemirror_mode": {
    "name": "ipython",
    "version": 3
   },
   "file_extension": ".py",
   "mimetype": "text/x-python",
   "name": "python",
   "nbconvert_exporter": "python",
   "pygments_lexer": "ipython3",
   "version": "3.8.5"
  }
 },
 "nbformat": 4,
 "nbformat_minor": 4
}

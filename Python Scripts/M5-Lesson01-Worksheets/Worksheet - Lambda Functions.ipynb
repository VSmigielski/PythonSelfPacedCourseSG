{
 "cells": [
  {
   "cell_type": "markdown",
   "metadata": {},
   "source": [
    "# Worksheet: Lambda Functions\n",
    "This worksheet accompanies *Lesson 1: Lambda Functions* in the online course. Refer to that page as necessary to complete these exercises."
   ]
  },
  {
   "cell_type": "markdown",
   "metadata": {},
   "source": [
    "## Practice 1\n",
    "Create a lambda function that has one input `x` and returns the square of `x`. "
   ]
  },
  {
   "cell_type": "code",
   "execution_count": 1,
   "metadata": {},
   "outputs": [
    {
     "name": "stdout",
     "output_type": "stream",
     "text": [
      "25\n"
     ]
    }
   ],
   "source": [
    "# your code here \n",
    "x = lambda a : a ** 2\n",
    "print(x(5))"
   ]
  },
  {
   "cell_type": "markdown",
   "metadata": {},
   "source": [
    "## Practice 2\n",
    "Create a lambda function that computes a<sup>b</sup> (a to the power of b) of two numbers `a` and `b`. \n",
    "\n",
    "Test that the function works correctly by printing the result with two values of your choice. Test the function by reversing the values in the `print` statement to see if the answer is different.\n",
    "\n",
    "**Tip**: In Python, use *a \\** b* to express a<sup>b</sup>."
   ]
  },
  {
   "cell_type": "code",
   "execution_count": 2,
   "metadata": {},
   "outputs": [
    {
     "name": "stdout",
     "output_type": "stream",
     "text": [
      "25\n"
     ]
    }
   ],
   "source": [
    "# your code here \n",
    "x = lambda a, b : a ** b\n",
    "print(x(5, 2))"
   ]
  },
  {
   "cell_type": "markdown",
   "metadata": {},
   "source": [
    "## Practice 3\n",
    "Create a lambda function that concatenates three input strings. Test the function using a variety of examples."
   ]
  },
  {
   "cell_type": "code",
   "execution_count": 4,
   "metadata": {
    "scrolled": true
   },
   "outputs": [
    {
     "name": "stdout",
     "output_type": "stream",
     "text": [
      "Enter one fruitmango\n",
      "Enter another fruitpapaya\n",
      "Enter one last fruitapple\n",
      "mango papaya apple\n"
     ]
    }
   ],
   "source": [
    "# your code here \n",
    "x = lambda a, b, c : a + \" \" + b + \" \" + c\n",
    "a = input(\"Enter one fruit: \")\n",
    "b = input(\"Enter another fruit: \")\n",
    "c = input(\"Enter one last fruit: \")\n",
    "print(x(a, b, c))"
   ]
  },
  {
   "cell_type": "markdown",
   "metadata": {},
   "source": [
    "## Practice 4\n",
    "Update the code below to create a function `pow_n` that computes the power of `n` of an input number `a`.\n",
    "\n",
    "The result using the values given here should be 6 to the power of 2 (36).\n",
    "\n",
    "Practice the function with different values until you are sure you understand how the runtime values map to the function arguments."
   ]
  },
  {
   "cell_type": "code",
   "execution_count": 5,
   "metadata": {},
   "outputs": [
    {
     "name": "stdout",
     "output_type": "stream",
     "text": [
      "36\n"
     ]
    }
   ],
   "source": [
    "def pow_n(n):\n",
    "    return lambda a:a ** n\n",
    "\n",
    "pow_2 = pow_n(2)\n",
    "print(pow_2(6))\n"
   ]
  },
  {
   "cell_type": "code",
   "execution_count": null,
   "metadata": {},
   "outputs": [],
   "source": []
  }
 ],
 "metadata": {
  "kernelspec": {
   "display_name": "Python 3",
   "language": "python",
   "name": "python3"
  },
  "language_info": {
   "codemirror_mode": {
    "name": "ipython",
    "version": 3
   },
   "file_extension": ".py",
   "mimetype": "text/x-python",
   "name": "python",
   "nbconvert_exporter": "python",
   "pygments_lexer": "ipython3",
   "version": "3.8.5"
  }
 },
 "nbformat": 4,
 "nbformat_minor": 2
}

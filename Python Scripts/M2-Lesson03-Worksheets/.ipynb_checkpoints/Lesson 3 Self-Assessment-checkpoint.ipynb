{
 "cells": [
  {
   "cell_type": "markdown",
   "metadata": {},
   "source": [
    "Define a set with at least five elements.\n",
    "Ask the user for a value.\n",
    "Ask the user for an operation (\"add\" or \"remove\").\n",
    "If the operation is \"remove\":\n",
    "If the value exists in the set, remove the value from the set and display the updated set to the user.\n",
    "If the value does not exist in the set, display a user-friendly error message.\n",
    "If the operation is \"add\":\n",
    "If the value exists in the set, display a user-friendly error message.\n",
    "If the value does not exist in the set, add the value to the set and display the updated set to the user.\n",
    "Repeat until the user enters \"quit.\"\n",
    "When the user enters \"quit,\" display the original set, the final version of the updated set, and the difference between the two sets.\n",
    "Requirements:\n",
    "Add your name and the current date in a comment on the first line.\n",
    "The user must be able to enter the text values (add, remove, quit) using any case they wish without any change in the outcome.\n",
    "Use correct spelling and punctuation in all user prompts and output.\n",
    "Make sure to test each option for the user input to make sure that each operation works as expected. You may find it useful to create a flowchart or similar diagram to plan the program before starting to write the code."
   ]
  },
  {
   "cell_type": "code",
   "execution_count": 10,
   "metadata": {},
   "outputs": [
    {
     "name": "stdout",
     "output_type": "stream",
     "text": [
      "Enter a fruit.     \n",
      "This application will either add, remove, or quit the program: \n",
      "banana\n",
      "Would you like to add or remove this item? \n",
      "add\n",
      "That item is not in the set. We will add it now.\n",
      "{'orange', 'mango', 'apple', 'kiwi', 'blueberry', 'banana'}\n",
      "Enter a fruit.     \n",
      "This application will either add, remove, or quit the program: \n",
      "banana\n",
      "Would you like to add or remove this item? \n",
      "add\n",
      "The item is already in the set.\n",
      "{'orange', 'mango', 'apple', 'kiwi', 'blueberry', 'banana'}\n",
      "Enter a fruit.     \n",
      "This application will either add, remove, or quit the program: \n",
      "banana\n",
      "Would you like to add or remove this item? \n",
      "remove\n",
      "That item is in the set and will be removed now.\n",
      "{'orange', 'mango', 'apple', 'kiwi', 'blueberry'}\n",
      "Enter a fruit.     \n",
      "This application will either add, remove, or quit the program: \n",
      "banana\n",
      "Would you like to add or remove this item? \n",
      "remove\n",
      "That item is not in the set so it cannot be removed.\n",
      "{'orange', 'mango', 'apple', 'kiwi', 'blueberry'}\n",
      "Enter a fruit.     \n",
      "This application will either add, remove, or quit the program: \n",
      "quit\n"
     ]
    }
   ],
   "source": [
    "# Veronica Smigielski 22/04/2021\n",
    "thisSet = {\"apple\", \"mango\", \"blueberry\", \"orange\", \"kiwi\"}\n",
    "\n",
    "user_input = \"\"\n",
    "\n",
    "while user_input.lower() != \"quit\":\n",
    "    user_input = input(\"Enter a fruit. \\\n",
    "    \\nThis application will either add, remove, or quit the program: \\n\")\n",
    "    if user_input != \"quit\":\n",
    "        user_input_other = input(\"Would you like to add or remove this item? \\n\")\n",
    "        if user_input_other.lower() == \"add\":\n",
    "            if user_input.lower() in thisSet:\n",
    "                print(\"The item is already in the set.\")\n",
    "                print(thisSet)\n",
    "            else:\n",
    "                print(\"That item is not in the set. We will add it now.\")\n",
    "                thisSet.add(user_input.lower())\n",
    "                print(thisSet)\n",
    "        elif user_input_other.lower() == \"remove\":\n",
    "            if user_input.lower() in thisSet:\n",
    "                print(\"That item is in the set and will be removed now.\")\n",
    "                thisSet.remove(user_input.lower())\n",
    "                print(thisSet)\n",
    "            else: \n",
    "                print(\"That item is not in the set so it cannot be removed.\")\n",
    "                print(thisSet)"
   ]
  },
  {
   "cell_type": "code",
   "execution_count": null,
   "metadata": {},
   "outputs": [],
   "source": []
  },
  {
   "cell_type": "code",
   "execution_count": null,
   "metadata": {},
   "outputs": [],
   "source": []
  }
 ],
 "metadata": {
  "kernelspec": {
   "display_name": "Python 3",
   "language": "python",
   "name": "python3"
  }
 },
 "nbformat": 4,
 "nbformat_minor": 4
}

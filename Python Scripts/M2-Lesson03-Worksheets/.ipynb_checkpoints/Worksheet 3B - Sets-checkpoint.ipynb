{
 "cells": [
  {
   "cell_type": "markdown",
   "metadata": {},
   "source": [
    "# Worksheet 3B: Sets\n",
    "This worksheet corresponds to *Lesson 3B: Sets* in the online course. Refer to that lesson as necessary to complete these practice exercises."
   ]
  },
  {
   "cell_type": "markdown",
   "metadata": {},
   "source": [
    "## Practice 1\n",
    "Create a set that contains a collection of your favorite fruits. "
   ]
  },
  {
   "cell_type": "code",
   "execution_count": 1,
   "metadata": {},
   "outputs": [
    {
     "name": "stdout",
     "output_type": "stream",
     "text": [
      "{'orange', 'mango', 'blueberry', 'apple'}\n"
     ]
    }
   ],
   "source": [
    "# your code here\n",
    "fruits = {\"apple\", \"mango\", \"blueberry\", \"orange\"}\n",
    "\n",
    "print(fruits)"
   ]
  },
  {
   "cell_type": "markdown",
   "metadata": {},
   "source": [
    "## Practice 2\n",
    "Using the set of fruits you created in the previous exercise, retrieve the items from the set so that each item appears on a separate line in the output."
   ]
  },
  {
   "cell_type": "code",
   "execution_count": 2,
   "metadata": {},
   "outputs": [
    {
     "name": "stdout",
     "output_type": "stream",
     "text": [
      "orange\n",
      "mango\n",
      "blueberry\n",
      "apple\n"
     ]
    }
   ],
   "source": [
    "# your code here\n",
    "fruits = {\"apple\", \"mango\", \"blueberry\", \"orange\"}\n",
    "\n",
    "for fruit in fruits:\n",
    "    print(fruit)"
   ]
  },
  {
   "cell_type": "markdown",
   "metadata": {},
   "source": [
    "## Practice 4\n",
    "Create a set with at least three fruit items in it and print it. Then add at least three more items to the set and print the updated set."
   ]
  },
  {
   "cell_type": "code",
   "execution_count": 3,
   "metadata": {},
   "outputs": [
    {
     "name": "stdout",
     "output_type": "stream",
     "text": [
      "{'orange', 'mango', 'blueberry', 'apple'}\n",
      "{'banana', 'starfruit', 'dragonfruit', 'apple', 'blueberry', 'mango', 'orange'}\n"
     ]
    }
   ],
   "source": [
    "# your code here\n",
    "fruits = {\"apple\", \"mango\", \"blueberry\", \"orange\"}\n",
    "\n",
    "print(fruits)\n",
    "\n",
    "fruits.add(\"banana\")\n",
    "fruits.add(\"dragonfruit\")\n",
    "fruits.add(\"starfruit\")\n",
    "\n",
    "print(fruits)"
   ]
  },
  {
   "cell_type": "markdown",
   "metadata": {},
   "source": [
    "## Practice 4a\n",
    "Use the `add()` method to convert the `names` list into a set called `names_set`. \n",
    "\n",
    "Use the following steps:\n",
    "* Create a new empty set.\n",
    "* Add the items from the list to the new set.\n",
    "* Print the set when it is complete."
   ]
  },
  {
   "cell_type": "code",
   "execution_count": 6,
   "metadata": {},
   "outputs": [
    {
     "name": "stdout",
     "output_type": "stream",
     "text": [
      "['Robert', 'Mark', 'Nick', 'Jenny']\n",
      "set()\n",
      "{'Robert', 'Mark', 'Jenny', 'Nick'}\n"
     ]
    }
   ],
   "source": [
    "names = [\"Robert\", \"Mark\", \"Nick\", \"Jenny\"] # do not change this\n",
    "print(names)\n",
    "\n",
    "# your code here\n",
    "names_set = set()\n",
    "print(names_set)\n",
    "\n",
    "for i in names:\n",
    "    names_set.add(i)\n",
    "    \n",
    "print(names_set)"
   ]
  },
  {
   "cell_type": "markdown",
   "metadata": {},
   "source": [
    "## Practice 4b\n",
    "Fix the errors in following code. Do not remove any existing instructions or add new instructions."
   ]
  },
  {
   "cell_type": "code",
   "execution_count": 13,
   "metadata": {
    "scrolled": true
   },
   "outputs": [
    {
     "name": "stdout",
     "output_type": "stream",
     "text": [
      "{'Robert', 'Mark', 'Jenny', 'Nick'}\n",
      "{'Robert', 'Mark', 'Jenny', 'Nick'}\n"
     ]
    }
   ],
   "source": [
    "names = {\"Robert\", \"Mark\", \"Nick\", \"Jenny\"}\n",
    "print(names)\n",
    "         \n",
    "another_set = set()\n",
    "another_set = names\n",
    "print(another_set)"
   ]
  },
  {
   "cell_type": "markdown",
   "metadata": {},
   "source": [
    "## Practice 5\n",
    "Convert the `names` list into a set called `names_set` and print the set. "
   ]
  },
  {
   "cell_type": "code",
   "execution_count": 14,
   "metadata": {},
   "outputs": [
    {
     "name": "stdout",
     "output_type": "stream",
     "text": [
      "['Robert', 'Mark', 'Nancy', 'Robert', 'Mark', 'Jenny', 'Robert']\n",
      "set()\n",
      "{'Nancy', 'Robert', 'Mark', 'Jenny'}\n"
     ]
    }
   ],
   "source": [
    "names = [\"Robert\", \"Mark\", \"Nancy\", \"Robert\", \"Mark\", \"Jenny\", \"Robert\"] # do not change this line of code\n",
    "print(names)\n",
    "\n",
    "# your code here\n",
    "names_set = set()\n",
    "print(names_set)\n",
    "\n",
    "for i in names:\n",
    "    names_set.add(i)\n",
    "\n",
    "print(names_set)"
   ]
  },
  {
   "cell_type": "markdown",
   "metadata": {},
   "source": [
    "## Practice 6\n",
    "Create a program that performs the following steps:\n",
    "1. Prompt the user for a state abbreviation.\n",
    "2. Return a success message if the user entered a valid state abbreviation.\n",
    "3. Return an error message if the user entered an invalid state abbreviation.\n",
    "\n",
    "The final version of the code should support both uppercase and lowercase input. For example, the user should be able to input \"FL,\" \"Fl,\" \"fL,\" or \"fl\" and get the same response."
   ]
  },
  {
   "cell_type": "code",
   "execution_count": 17,
   "metadata": {},
   "outputs": [
    {
     "name": "stdout",
     "output_type": "stream",
     "text": [
      "Enter an abbreviation for a state: al\n",
      "The state was found.\n"
     ]
    }
   ],
   "source": [
    "states_abbrev = {\"AL\", \"AK\", \"AZ\", \"AR\", \"CA\", \"CO\", \"CT\", \"DE\", \"FL\", \"GA\", \n",
    "          \"HI\", \"ID\", \"IL\", \"IN\", \"IA\", \"KS\", \"KY\", \"LA\", \"ME\", \"MD\", \n",
    "          \"MA\", \"MI\", \"MN\", \"MS\", \"MO\", \"MT\", \"NE\", \"NV\", \"NH\", \"NJ\", \n",
    "          \"NM\", \"NY\", \"NC\", \"ND\", \"OH\", \"OK\", \"OR\", \"PA\", \"RI\", \"SC\", \n",
    "          \"SD\", \"TN\", \"TX\", \"UT\", \"VT\", \"VA\", \"WA\", \"WV\", \"WI\", \"WY\"}\n",
    "\n",
    "# your code here\n",
    "user_input = input(\"Enter an abbreviation for a state: \")\n",
    "\n",
    "if user_input.upper() in states_abbrev:\n",
    "    print(\"The state was found.\")\n",
    "else:\n",
    "    print(\"The state was not found.\")"
   ]
  },
  {
   "cell_type": "markdown",
   "metadata": {},
   "source": [
    "## Practice 7\n",
    "Create a script that keeps asking the user for input until the user enters \"quit\" (uppercase or lowercase).\n",
    "* Each input value should be added to a set. \n",
    "* When the user enters \"quit,\" the program should display all distinct values entered by the user, with each word on a separate line."
   ]
  },
  {
   "cell_type": "code",
   "execution_count": 28,
   "metadata": {},
   "outputs": [
    {
     "name": "stdout",
     "output_type": "stream",
     "text": [
      "Enter an item: 1\n",
      "Enter an item: word\n",
      "Enter an item: hello\n",
      "Enter an item: quit\n",
      "1\n",
      "hello\n",
      "word\n"
     ]
    }
   ],
   "source": [
    "# your code here\n",
    "newSet = set()\n",
    "user_input = \"\"\n",
    "\n",
    "while user_input.lower() != \"quit\":\n",
    "    user_input = input(\"Enter an item: \")\n",
    "    if user_input != \"quit\":\n",
    "        newSet.add(user_input)\n",
    "\n",
    "for u in newSet:\n",
    "    print(u)"
   ]
  },
  {
   "cell_type": "markdown",
   "metadata": {},
   "source": [
    "## Practice 8\n",
    "Create a program that performs the following steps:\n",
    "1. Prompt the user for an integer.\n",
    "1. Ask the user to enter that many words.\n",
    "1. Display the set of words provided by the user.\n",
    "\n",
    "For example, if the user enters 5, the program will ask the user for 5 different words that it will store in a set. \n",
    "\n",
    "When the user finishes entering the items of the set, the program displays the set to the user."
   ]
  },
  {
   "cell_type": "code",
   "execution_count": 31,
   "metadata": {},
   "outputs": [
    {
     "name": "stdout",
     "output_type": "stream",
     "text": [
      "Enter an integer: 2\n",
      "Enter a word: hello\n",
      "Enter a word: boo\n",
      "{'boo', 'hello'}\n"
     ]
    }
   ],
   "source": [
    "# your code here\n",
    "newSet = set()\n",
    "user_input = \"\"\n",
    "count = 1\n",
    "\n",
    "int_value = int(input(\"Enter an integer: \"))\n",
    "\n",
    "while count <= int_value:\n",
    "    user_input = input(\"Enter a word: \")\n",
    "    newSet.add(user_input)\n",
    "    count += 1\n",
    "\n",
    "print(newSet)"
   ]
  },
  {
   "cell_type": "markdown",
   "metadata": {},
   "source": [
    "## Practice 9\n",
    "Complete the code below, using the `in` operator and the `remove()` method, to create a script that will remove items from a set.\n",
    "* If the item exists, remove the item and display the current set with the item removed.\n",
    "* If the item does **not** exist, display an appropriate, user-friendly message and list the items currently in the set.\n",
    "\n",
    "The program should **not** throw an error if the item doesn't exist. This means that the script should check if the item exists in the set and remove the item only if it is included in the current set."
   ]
  },
  {
   "cell_type": "code",
   "execution_count": 36,
   "metadata": {},
   "outputs": [
    {
     "name": "stdout",
     "output_type": "stream",
     "text": [
      "Enter a word to check if it's in the list: burger\n",
      "burger has been removed.\n",
      "This is the current list:  {'hotdog', 'pasta', 'pizza'}\n"
     ]
    }
   ],
   "source": [
    "food = {\"pasta\", \"burger\", \"hotdog\", \"pizza\"}\n",
    "\n",
    "\n",
    "# the remove shouldn't throw an error. \n",
    "user_input = input(\"Enter a word to check if it's in the list: \")\n",
    "\n",
    "if user_input.lower() in food:\n",
    "    food.remove(user_input.lower())\n",
    "    print(user_input + \" has been removed.\")\n",
    "else:\n",
    "    print(\"This item was not in the list.\")\n",
    "    \n",
    "print(\"This is the current list: \", food)"
   ]
  },
  {
   "cell_type": "markdown",
   "metadata": {},
   "source": [
    "## Practice 10\n",
    "Update the following code to include a user prompt. \n",
    "* If the user inputs a string that corresponds to the variable name of one of the sets below, clear the set using the `clear()` method.\n",
    "* If there is no set that matches the user input, display an error message that the set doesn't exist. "
   ]
  },
  {
   "cell_type": "code",
   "execution_count": 39,
   "metadata": {},
   "outputs": [
    {
     "name": "stdout",
     "output_type": "stream",
     "text": [
      "Enter a word to check if it's in one of the lists: pistachio\n",
      "{'spinach', 'banana', 'blueberry'} set() {'peanut butter', 'banana', 'kiwi'}\n"
     ]
    }
   ],
   "source": [
    "shake_1 = {\"banana\", \"blueberry\", \"spinach\"}\n",
    "shake_2 = {\"strawberry\", \"pistachio\", \"cocoa powder\"}\n",
    "shake_3 = {\"kiwi\", \"banana\", \"peanut butter\"}\n",
    "\n",
    "# your code here\n",
    "user_input = input(\"Enter a word to check if it's in one of the lists: \")\n",
    "\n",
    "if user_input.lower() in shake_1:\n",
    "    shake_1.clear()\n",
    "elif user_input.lower() in shake_2:\n",
    "    shake_2.clear()\n",
    "elif user_input.lower() in shake_3:\n",
    "    shake_3.clear()\n",
    "else: \n",
    "    print(\"The input given was not in the sets.\")\n",
    "    \n",
    "print(shake_1, shake_2, shake_3)"
   ]
  },
  {
   "cell_type": "markdown",
   "metadata": {},
   "source": [
    "## Practice 11\n",
    "Create a script that performs the following steps:\n",
    "* Display the set to the user along with the number of items in the set.\n",
    "* If there are no items in the set, display an output message to that effect and end the script.\n",
    "* Ask the user if they want to remove an item from the set.\n",
    "* If the user says yes:\n",
    "    * Verify that there is at least one item in the set.\n",
    "    * Remove a random item from the set.\n",
    "    * Display the updated set to the user.\n",
    "    * Prompt the user to remove another item.\n",
    "* If the user says no, end the script.\n",
    "\n",
    "You cannot use the `clear()`, `remove()`, or `discard()` methods in your solution. "
   ]
  },
  {
   "cell_type": "code",
   "execution_count": 6,
   "metadata": {},
   "outputs": [
    {
     "name": "stdout",
     "output_type": "stream",
     "text": [
      "{'hotdog', 'pasta', 'pizza', 'burger'}\n",
      "The number of items in the set is 4\n"
     ]
    },
    {
     "ename": "KeyboardInterrupt",
     "evalue": "Interrupted by user",
     "output_type": "error",
     "traceback": [
      "\u001b[1;31m---------------------------------------------------------------------------\u001b[0m",
      "\u001b[1;31mKeyboardInterrupt\u001b[0m                         Traceback (most recent call last)",
      "\u001b[1;32m<ipython-input-6-b53b474fe522>\u001b[0m in \u001b[0;36m<module>\u001b[1;34m\u001b[0m\n\u001b[0;32m     15\u001b[0m \u001b[0muser_input\u001b[0m \u001b[1;33m=\u001b[0m \u001b[1;34m\"\"\u001b[0m\u001b[1;33m\u001b[0m\u001b[1;33m\u001b[0m\u001b[0m\n\u001b[0;32m     16\u001b[0m \u001b[1;32mwhile\u001b[0m \u001b[0muser_input\u001b[0m\u001b[1;33m.\u001b[0m\u001b[0mlower\u001b[0m\u001b[1;33m(\u001b[0m\u001b[1;33m)\u001b[0m \u001b[1;33m!=\u001b[0m \u001b[1;34m\"quit\"\u001b[0m\u001b[1;33m:\u001b[0m\u001b[1;33m\u001b[0m\u001b[1;33m\u001b[0m\u001b[0m\n\u001b[1;32m---> 17\u001b[1;33m     \u001b[0muser_input\u001b[0m \u001b[1;33m=\u001b[0m \u001b[0minput\u001b[0m\u001b[1;33m(\u001b[0m\u001b[1;34m\"Would you like to remove an item from the set? \\n To end the program, enter 'quit': \"\u001b[0m\u001b[1;33m)\u001b[0m\u001b[1;33m\u001b[0m\u001b[1;33m\u001b[0m\u001b[0m\n\u001b[0m\u001b[0;32m     18\u001b[0m     \u001b[1;32mif\u001b[0m \u001b[0muser_input\u001b[0m\u001b[1;33m.\u001b[0m\u001b[0mlower\u001b[0m\u001b[1;33m(\u001b[0m\u001b[1;33m)\u001b[0m \u001b[1;33m==\u001b[0m \u001b[1;34m\"yes\"\u001b[0m\u001b[1;33m:\u001b[0m\u001b[1;33m\u001b[0m\u001b[1;33m\u001b[0m\u001b[0m\n\u001b[0;32m     19\u001b[0m         \u001b[1;32mif\u001b[0m \u001b[0mcount\u001b[0m \u001b[1;33m>\u001b[0m \u001b[1;36m0\u001b[0m\u001b[1;33m:\u001b[0m\u001b[1;33m\u001b[0m\u001b[1;33m\u001b[0m\u001b[0m\n",
      "\u001b[1;32m~\\anaconda3\\lib\\site-packages\\ipykernel\\kernelbase.py\u001b[0m in \u001b[0;36mraw_input\u001b[1;34m(self, prompt)\u001b[0m\n\u001b[0;32m    858\u001b[0m                 \u001b[1;34m\"raw_input was called, but this frontend does not support input requests.\"\u001b[0m\u001b[1;33m\u001b[0m\u001b[1;33m\u001b[0m\u001b[0m\n\u001b[0;32m    859\u001b[0m             )\n\u001b[1;32m--> 860\u001b[1;33m         return self._input_request(str(prompt),\n\u001b[0m\u001b[0;32m    861\u001b[0m             \u001b[0mself\u001b[0m\u001b[1;33m.\u001b[0m\u001b[0m_parent_ident\u001b[0m\u001b[1;33m,\u001b[0m\u001b[1;33m\u001b[0m\u001b[1;33m\u001b[0m\u001b[0m\n\u001b[0;32m    862\u001b[0m             \u001b[0mself\u001b[0m\u001b[1;33m.\u001b[0m\u001b[0m_parent_header\u001b[0m\u001b[1;33m,\u001b[0m\u001b[1;33m\u001b[0m\u001b[1;33m\u001b[0m\u001b[0m\n",
      "\u001b[1;32m~\\anaconda3\\lib\\site-packages\\ipykernel\\kernelbase.py\u001b[0m in \u001b[0;36m_input_request\u001b[1;34m(self, prompt, ident, parent, password)\u001b[0m\n\u001b[0;32m    902\u001b[0m             \u001b[1;32mexcept\u001b[0m \u001b[0mKeyboardInterrupt\u001b[0m\u001b[1;33m:\u001b[0m\u001b[1;33m\u001b[0m\u001b[1;33m\u001b[0m\u001b[0m\n\u001b[0;32m    903\u001b[0m                 \u001b[1;31m# re-raise KeyboardInterrupt, to truncate traceback\u001b[0m\u001b[1;33m\u001b[0m\u001b[1;33m\u001b[0m\u001b[1;33m\u001b[0m\u001b[0m\n\u001b[1;32m--> 904\u001b[1;33m                 \u001b[1;32mraise\u001b[0m \u001b[0mKeyboardInterrupt\u001b[0m\u001b[1;33m(\u001b[0m\u001b[1;34m\"Interrupted by user\"\u001b[0m\u001b[1;33m)\u001b[0m \u001b[1;32mfrom\u001b[0m \u001b[1;32mNone\u001b[0m\u001b[1;33m\u001b[0m\u001b[1;33m\u001b[0m\u001b[0m\n\u001b[0m\u001b[0;32m    905\u001b[0m             \u001b[1;32mexcept\u001b[0m \u001b[0mException\u001b[0m \u001b[1;32mas\u001b[0m \u001b[0me\u001b[0m\u001b[1;33m:\u001b[0m\u001b[1;33m\u001b[0m\u001b[1;33m\u001b[0m\u001b[0m\n\u001b[0;32m    906\u001b[0m                 \u001b[0mself\u001b[0m\u001b[1;33m.\u001b[0m\u001b[0mlog\u001b[0m\u001b[1;33m.\u001b[0m\u001b[0mwarning\u001b[0m\u001b[1;33m(\u001b[0m\u001b[1;34m\"Invalid Message:\"\u001b[0m\u001b[1;33m,\u001b[0m \u001b[0mexc_info\u001b[0m\u001b[1;33m=\u001b[0m\u001b[1;32mTrue\u001b[0m\u001b[1;33m)\u001b[0m\u001b[1;33m\u001b[0m\u001b[1;33m\u001b[0m\u001b[0m\n",
      "\u001b[1;31mKeyboardInterrupt\u001b[0m: Interrupted by user"
     ]
    }
   ],
   "source": [
    "food = {\"pasta\", \"burger\", \"hotdog\", \"pizza\"}\n",
    "\n",
    "# your code here\n",
    "print(food)\n",
    "\n",
    "count = 0 \n",
    "\n",
    "for foods in food:\n",
    "    count += 1\n",
    "if count > 0:\n",
    "    print(\"The number of items in the set is\", count)\n",
    "else: \n",
    "    print(\"There are no items in the set.\")\n",
    "    \n",
    "user_input = \"\"    \n",
    "while user_input.lower() != \"quit\":   \n",
    "    user_input = input(\"Would you like to remove an item from the set? \\nTo end the program, enter 'quit': \")\n",
    "    if user_input.lower() == \"yes\":\n",
    "        if count > 0:\n",
    "            item = food.pop()\n",
    "            print(\"This is the item that was removed\", item)\n",
    "            print(\"This is the updated set:\", food)\n",
    "    else:\n",
    "        break"
   ]
  },
  {
   "cell_type": "markdown",
   "metadata": {},
   "source": [
    "## Practice 12\n",
    "Complete the code below to ask the user for input. \n",
    "* If the user inputs a string that corresponds to the variable name of one of the sets below, delete that set using `del`.\n",
    "* If there is no set with that name, display an error message that the set doesn't exist. "
   ]
  },
  {
   "cell_type": "code",
   "execution_count": 49,
   "metadata": {},
   "outputs": [
    {
     "name": "stdout",
     "output_type": "stream",
     "text": [
      "Enter a word to check if it's in one of the lists: pistachio\n"
     ]
    },
    {
     "ename": "NameError",
     "evalue": "name 'shake_2' is not defined",
     "output_type": "error",
     "traceback": [
      "\u001b[1;31m---------------------------------------------------------------------------\u001b[0m",
      "\u001b[1;31mNameError\u001b[0m                                 Traceback (most recent call last)",
      "\u001b[1;32m<ipython-input-49-a6f52a83909a>\u001b[0m in \u001b[0;36m<module>\u001b[1;34m\u001b[0m\n\u001b[0;32m     15\u001b[0m     \u001b[0mprint\u001b[0m\u001b[1;33m(\u001b[0m\u001b[1;34m\"The input given was not in the sets.\"\u001b[0m\u001b[1;33m)\u001b[0m\u001b[1;33m\u001b[0m\u001b[1;33m\u001b[0m\u001b[0m\n\u001b[0;32m     16\u001b[0m \u001b[1;33m\u001b[0m\u001b[0m\n\u001b[1;32m---> 17\u001b[1;33m \u001b[0mprint\u001b[0m\u001b[1;33m(\u001b[0m\u001b[0mshake_1\u001b[0m\u001b[1;33m,\u001b[0m \u001b[0mshake_2\u001b[0m\u001b[1;33m,\u001b[0m \u001b[0mshake_3\u001b[0m\u001b[1;33m)\u001b[0m\u001b[1;33m\u001b[0m\u001b[1;33m\u001b[0m\u001b[0m\n\u001b[0m",
      "\u001b[1;31mNameError\u001b[0m: name 'shake_2' is not defined"
     ]
    }
   ],
   "source": [
    "shake_1 = {\"banana\", \"blueberry\", \"spinach\"}\n",
    "shake_2 = {\"strawberry\", \"pistachio\", \"cocoa powder\"}\n",
    "shake_3 = {\"kiwi\", \"banana\", \"peanut butter\"}\n",
    "\n",
    "# your code here\n",
    "user_input = input(\"Enter a word to check if it's in one of the lists: \")\n",
    "\n",
    "if user_input.lower() in shake_1:\n",
    "    del shake_1\n",
    "elif user_input.lower() in shake_2:\n",
    "    del shake_2\n",
    "elif user_input.lower() in shake_3:\n",
    "    del shake_3\n",
    "else: \n",
    "    print(\"The input given was not in the sets.\")\n",
    "    "
   ]
  },
  {
   "cell_type": "markdown",
   "metadata": {},
   "source": [
    "## Practice 13\n",
    "Create a script that performs the following steps:\n",
    "* Prompt the user for the abbreviation of a state they have visited and store the value in a new set.\n",
    "* Repeat the prompt and continue storing values in the same set until the user enters \"done\" (in uppercase or lowercase).\n",
    "* After the user enters \"done,\" display a list of abbreviations for the states that the user has **not** visited yet, using the `states_abbrev` set below and the `difference()` method. \n",
    "\n",
    "**Tip**: It's always a good idea to tell the user how to get out of a loop!"
   ]
  },
  {
   "cell_type": "code",
   "execution_count": 14,
   "metadata": {},
   "outputs": [
    {
     "name": "stdout",
     "output_type": "stream",
     "text": [
      "Once you finish entering all the states you have been to, enter 'quit'\n",
      "Enter the abbreviation of a state you have been to: CA\n",
      "Once you finish entering all the states you have been to, enter 'quit'\n",
      "Enter the abbreviation of a state you have been to: AL\n",
      "Once you finish entering all the states you have been to, enter 'quit'\n",
      "Enter the abbreviation of a state you have been to: done\n",
      "\n",
      "You've visited:\n",
      "{'AL', 'CA'}\n",
      "\n",
      "All states:\n",
      "{'MS', 'RI', 'UT', 'VT', 'NH', 'WA', 'AL', 'WI', 'SC', 'AR', 'NC', 'MD', 'WV', 'FL', 'TN', 'PA', 'HI', 'CO', 'IA', 'TX', 'NM', 'IL', 'KS', 'OH', 'KY', 'IN', 'WY', 'AK', 'MO', 'AZ', 'SD', 'LA', 'OR', 'MT', 'MA', 'NY', 'CT', 'NV', 'NE', 'ND', 'MI', 'DE', 'VA', 'MN', 'ID', 'GA', 'NJ', 'ME', 'OK', 'CA'}\n",
      "\n",
      "The states you haven't visited:\n",
      "{'MS', 'RI', 'UT', 'VT', 'NH', 'WA', 'WI', 'SC', 'AR', 'NC', 'MD', 'WV', 'FL', 'TN', 'PA', 'HI', 'CO', 'IA', 'TX', 'NM', 'IL', 'KS', 'OH', 'KY', 'IN', 'WY', 'AK', 'MO', 'AZ', 'SD', 'LA', 'OR', 'MT', 'MA', 'NY', 'CT', 'NV', 'NE', 'ND', 'MI', 'DE', 'VA', 'MN', 'ID', 'GA', 'NJ', 'ME', 'OK'}\n"
     ]
    }
   ],
   "source": [
    "states_abbrev = {\"AL\", \"AK\", \"AZ\", \"AR\", \"CA\", \"CO\", \"CT\", \"DE\", \"FL\", \"GA\", \n",
    "          \"HI\", \"ID\", \"IL\", \"IN\", \"IA\", \"KS\", \"KY\", \"LA\", \"ME\", \"MD\", \n",
    "          \"MA\", \"MI\", \"MN\", \"MS\", \"MO\", \"MT\", \"NE\", \"NV\", \"NH\", \"NJ\", \n",
    "          \"NM\", \"NY\", \"NC\", \"ND\", \"OH\", \"OK\", \"OR\", \"PA\", \"RI\", \"SC\", \n",
    "          \"SD\", \"TN\", \"TX\", \"UT\", \"VT\", \"VA\", \"WA\", \"WV\", \"WI\", \"WY\"}\n",
    "\n",
    "# your code here\n",
    "newSet = set()\n",
    "user_input = \"\"\n",
    "\n",
    "while user_input.lower() != \"done\":\n",
    "    print(\"Once you finish entering all the states you have been to, enter 'quit'\")\n",
    "    user_input = input(\"Enter the abbreviation of a state you have been to: \")\n",
    "    \n",
    "    if user_input.lower() != \"done\":\n",
    "        if user_input.upper() in states_abbrev:\n",
    "            newSet.add(user_input.upper())\n",
    "        else:\n",
    "            print(\"The abbreviation was incorrect. Try again.\")\n",
    "        \n",
    "diffSet = states_abbrev.difference(newSet)\n",
    "\n",
    "print(\"\\nYou've visited:\")\n",
    "print(newSet)\n",
    "print(\"\\nAll states:\")\n",
    "print(states_abbrev)\n",
    "print(\"\\nThe states you haven't visited:\")\n",
    "print(diffSet)"
   ]
  },
  {
   "cell_type": "markdown",
   "metadata": {},
   "source": [
    "## Practice 14\n",
    "The following code includes a set of state abbreviations representing states that Mary has visited. Update the code to include the following steps:\n",
    "* Prompt the user for the abbreviation of a state they have visited and store the value in a new set.\n",
    "* Repeat the prompt and continue storing values in the same set until the user enters \"done\" (in uppercase or lowercase).\n",
    "* Display a list of the states that both the user and Mary have visited, or display a meaningful message if the user has not visited any of the states that Mary has visited. "
   ]
  },
  {
   "cell_type": "code",
   "execution_count": 15,
   "metadata": {},
   "outputs": [
    {
     "name": "stdout",
     "output_type": "stream",
     "text": [
      "Once you finish entering all the states you have been to, enter 'quit'\n",
      "Enter the abbreviation of a state you have been to: CA\n",
      "Once you finish entering all the states you have been to, enter 'quit'\n",
      "Enter the abbreviation of a state you have been to: AZ\n",
      "Once you finish entering all the states you have been to, enter 'quit'\n",
      "Enter the abbreviation of a state you have been to: NY\n",
      "Once you finish entering all the states you have been to, enter 'quit'\n",
      "Enter the abbreviation of a state you have been to: NV\n",
      "Once you finish entering all the states you have been to, enter 'quit'\n",
      "Enter the abbreviation of a state you have been to: done\n",
      "\n",
      "Mary's visited:\n",
      "{'AZ', 'FL', 'SC', 'MA', 'GA', 'NV', 'NY', 'KY', 'NC', 'IN', 'CA', 'TN', 'PA'}\n",
      "\n",
      "You've visited:\n",
      "{'NV', 'AZ', 'NY', 'CA'}\n",
      "\n",
      "This is the states you've both visited:\n",
      "{'NV', 'AZ', 'NY', 'CA'}\n"
     ]
    }
   ],
   "source": [
    "mary_states = {\"AZ\", \"CA\", \"FL\", \"GA\", \"IN\", \n",
    "              \"KY\", \"MA\", \"NV\", \"NY\", \"NC\",\n",
    "              \"PA\", \"SC\", \"TN\"}\n",
    "\n",
    "# your code here\n",
    "newSet = set()\n",
    "user_input = \"\"\n",
    "\n",
    "while user_input.lower() != \"done\":\n",
    "    print(\"Once you finish entering all the states you have been to, enter 'quit'\")\n",
    "    user_input = input(\"Enter the abbreviation of a state you have been to: \")\n",
    "    \n",
    "    if user_input.lower() != \"done\":\n",
    "        if user_input.upper() in states_abbrev:\n",
    "            newSet.add(user_input.upper())\n",
    "        else:\n",
    "            print(\"The abbreviation was incorrect. Try again.\")\n",
    "        \n",
    "interSet = mary_states.intersection(newSet)\n",
    "\n",
    "print(\"\\nMary's visited:\")\n",
    "print(mary_states)\n",
    "print(\"\\nYou've visited:\")\n",
    "print(newSet)\n",
    "print(\"\\nThis is the states you've both visited:\")\n",
    "print(interSet)"
   ]
  },
  {
   "cell_type": "markdown",
   "metadata": {},
   "source": [
    "## Practice 15\n",
    "The following code includes a set of the states that Mary has visited. Update the code to perform the following steps:\n",
    "* Prompt the user for the abbreviation of a state they have visited and store the value in a new set.\n",
    "* Repeat the prompt and continue storing values in the same set until the user enters \"done\" (in uppercase or lowercase).\n",
    "* Display a list of the states that either the user or Mary has visited. "
   ]
  },
  {
   "cell_type": "code",
   "execution_count": null,
   "metadata": {},
   "outputs": [],
   "source": [
    "mary_states = {\"AZ\", \"CA\", \"FL\", \"GA\", \"IN\", \n",
    "              \"KY\", \"MA\", \"NV\", \"NY\", \"NC\",\n",
    "              \"PA\", \"SC\", \"TN\"}\n",
    "\n",
    "# your code here\n",
    "newSet = set()\n",
    "user_input = \"\"\n",
    "\n",
    "while user_input.lower() != \"done\":\n",
    "    print(\"Once you finish entering all the states you have been to, enter 'quit'\")\n",
    "    user_input = input(\"Enter the abbreviation of a state you have been to: \")\n",
    "    \n",
    "    if user_input.lower() != \"done\":\n",
    "        if user_input.upper() in states_abbrev:\n",
    "            newSet.add(user_input.upper())\n",
    "        else:\n",
    "            print(\"The abbreviation was incorrect. Try again.\")\n",
    "        \n",
    "diffSet = mary_states.difference(newSet)\n",
    "\n",
    "print(\"\\nMary's visited:\")\n",
    "print(mary_states)\n",
    "print(\"\\nYou've visited:\")\n",
    "print(newSet)\n",
    "print(\"\\nThis is the difference:\")\n",
    "print(diffSet)"
   ]
  }
 ],
 "metadata": {
  "kernelspec": {
   "display_name": "Python 3",
   "language": "python",
   "name": "python3"
  },
  "language_info": {
   "codemirror_mode": {
    "name": "ipython",
    "version": 3
   },
   "file_extension": ".py",
   "mimetype": "text/x-python",
   "name": "python",
   "nbconvert_exporter": "python",
   "pygments_lexer": "ipython3",
   "version": "3.8.5"
  }
 },
 "nbformat": 4,
 "nbformat_minor": 2
}

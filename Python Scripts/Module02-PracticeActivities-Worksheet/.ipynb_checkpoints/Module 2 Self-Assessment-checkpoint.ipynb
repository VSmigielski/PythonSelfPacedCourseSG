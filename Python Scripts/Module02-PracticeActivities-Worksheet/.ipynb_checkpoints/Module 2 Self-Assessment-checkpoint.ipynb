{
 "cells": [
  {
   "cell_type": "markdown",
   "metadata": {},
   "source": [
    "This assessment includes the following steps:\n",
    "\n",
    "Convert a string to lowercase characters.\n",
    "Split the lowercase string into individual words.\n",
    "Count the number of words in the lowercase string.\n",
    "Determine the number of distinct words in the lowercase string.\n",
    "Calculate the number of times each word appears in the lowercase string.\n",
    "Remove the punctuation from the lowercase string.\n",
    "Perform a count analysis on the text without punctuation characters."
   ]
  },
  {
   "cell_type": "markdown",
   "metadata": {},
   "source": [
    "{'imagine': 1, 'a': 3, 'vast': 1, 'sheet': 1, 'of': 5, 'paper': 1, 'on': 2, 'which': 1, 'straight': 1, 'lines,': 1, 'triangles,': 1, 'squares,': 1, 'pentagons,': 1, 'hexagons,': 1, 'and': 4, 'other': 1, 'figures,': 1, 'instead': 1, 'remaining': 1, 'fixed': 1, 'in': 2, 'their': 1, 'places,': 1, 'move': 1, 'freely': 1, 'about,': 1, 'or': 2, 'the': 2, 'surface,': 1, 'but': 2, 'without': 1, 'power': 1, 'rising': 1, 'above': 1, 'sinking': 1, 'below': 1, 'it,': 1, 'very': 1, 'much': 1, 'like': 1, 'shadows': 1, '-': 2, 'only': 1, 'hard': 1, 'with': 1, 'luminous': 1, 'edges': 1, 'you': 1, 'will': 1, 'then': 1, 'have': 2, 'pretty': 1, 'correct': 1, 'notion': 1, 'my': 2, 'country': 1, 'countrymen.': 1, 'alas,': 1, 'few': 1, 'years': 1, 'ago,': 1, 'i': 1, 'should': 1, 'said': 1, '\"my': 1, 'universe\":': 1, 'now': 1, 'mind': 1, 'has': 1, 'been': 1, 'opened': 1, 'to': 1, 'higher': 1, 'views': 1, 'things.': 1}"
   ]
  },
  {
   "cell_type": "code",
   "execution_count": null,
   "metadata": {},
   "outputs": [],
   "source": [
    " # we define w as a list of words \n",
    "    w = [\"haythem\", \"is\", \"eating\", \"tacos.\", \"haythem\", \"loves\", \"tacos\", \"\", \":\"]\n",
    " \n",
    "    # we define an empty dictionary that will hold the token/frequency key-value pair\n",
    "    # key:word, value:int that corresponds to the frequency of occurrence\n",
    "    freq_occur = dict()\n",
    " \n",
    "    #your code goes here\n",
    " \n",
    "    print(freq_occur)"
   ]
  },
  {
   "cell_type": "code",
   "execution_count": 43,
   "metadata": {},
   "outputs": [
    {
     "name": "stdout",
     "output_type": "stream",
     "text": [
      "['imagine', 'a', 'vast', 'sheet', 'of', 'paper', 'on', 'which', 'straight', 'lines,', 'triangles,', 'squares,', 'pentagons,', 'hexagons,', 'and', 'other', 'figures,', 'instead', 'of', 'remaining', 'fixed', 'in', 'their', 'places,', 'move', 'freely', 'about,', 'on', 'or', 'in', 'the', 'surface,', 'but', 'without', 'the', 'power', 'of', 'rising', 'above', 'or', 'sinking', 'below', 'it,', 'very', 'much', 'like', 'shadows', '-', 'only', 'hard', 'and', 'with', 'luminous', 'edges', '-', 'and', 'you', 'will', 'then', 'have', 'a', 'pretty', 'correct', 'notion', 'of', 'my', 'country', 'and', 'countrymen.', 'alas,', 'a', 'few', 'years', 'ago,', 'i', 'should', 'have', 'said', '\"my', 'universe\":', 'but', 'now', 'my', 'mind', 'has', 'been', 'opened', 'to', 'higher', 'views', 'of', 'things.']\n",
      "['imagine', 'a', 'vast', 'sheet', 'of', 'paper', 'on', 'which', 'straight', 'lines,', 'triangles,', 'squares,', 'pentagons,', 'hexagons,', 'and', 'other', 'figures,', 'instead', 'of', 'remaining', 'fixed', 'in', 'their', 'places,', 'move', 'freely', 'about,', 'on', 'or', 'in', 'the', 'surface,', 'but', 'without', 'the', 'power', 'of', 'rising', 'above', 'or', 'sinking', 'below', 'it,', 'very', 'much', 'like', 'shadows', '-', 'only', 'hard', 'and', 'with', 'luminous', 'edges', '-', 'and', 'you', 'will', 'then', 'have', 'a', 'pretty', 'correct', 'notion', 'of', 'my', 'country', 'and', 'countrymen.', 'alas,', 'a', 'few', 'years', 'ago,', 'i', 'should', 'have', 'said', '\"my', 'universe\":', 'but', 'now', 'my', 'mind', 'has', 'been', 'opened', 'to', 'higher', 'views', 'of', 'things.']\n",
      "\n",
      "\n",
      "92\n",
      "\n",
      "\n",
      "{'countrymen.', 'correct', 'their', 'few', 'should', 'with', 'my', 'been', 'mind', 'rising', 'places,', 'a', 'shadows', 'country', 'have', 'squares,', 'hexagons,', 'below', 'instead', 'pretty', 'fixed', 'luminous', 'paper', 'has', 'imagine', 'you', 'notion', 'to', 'about,', 'years', 'figures,', 'freely', 'sinking', 'move', 'power', '-', 'straight', 'or', 'the', 'remaining', 'then', 'and', 'but', 'above', 'ago,', 'will', 'alas,', 'sheet', 'i', 'in', 'said', 'very', 'of', 'universe\":', 'other', 'surface,', 'higher', 'pentagons,', 'things.', 'without', 'like', '\"my', 'vast', 'opened', 'only', 'on', 'which', 'it,', 'much', 'lines,', 'hard', 'now', 'views', 'triangles,', 'edges'}\n",
      "\n",
      "\n",
      "75\n",
      "\n",
      "\n",
      "{'imagine': 1, 'a': 3, 'vast': 1, 'sheet': 1, 'of': 5, 'paper': 1, 'on': 2, 'which': 1, 'straight': 1, 'lines,': 1, 'triangles,': 1, 'squares,': 1, 'pentagons,': 1, 'hexagons,': 1, 'and': 4, 'other': 1, 'figures,': 1, 'instead': 1, 'remaining': 1, 'fixed': 1, 'in': 2, 'their': 1, 'places,': 1, 'move': 1, 'freely': 1, 'about,': 1, 'or': 2, 'the': 2, 'surface,': 1, 'but': 2, 'without': 1, 'power': 1, 'rising': 1, 'above': 1, 'sinking': 1, 'below': 1, 'it,': 1, 'very': 1, 'much': 1, 'like': 1, 'shadows': 1, '-': 2, 'only': 1, 'hard': 1, 'with': 1, 'luminous': 1, 'edges': 1, 'you': 1, 'will': 1, 'then': 1, 'have': 2, 'pretty': 1, 'correct': 1, 'notion': 1, 'my': 2, 'country': 1, 'countrymen.': 1, 'alas,': 1, 'few': 1, 'years': 1, 'ago,': 1, 'i': 1, 'should': 1, 'said': 1, '\"my': 1, 'universe\":': 1, 'now': 1, 'mind': 1, 'has': 1, 'been': 1, 'opened': 1, 'to': 1, 'higher': 1, 'views': 1, 'things.': 1}\n",
      "\n",
      "\n",
      "['imagine', 'a', 'vast', 'sheet', 'of', 'paper', 'on', 'which', 'straight', 'lines', 'triangles', 'squares', 'pentagons', 'hexagons', 'and', 'other', 'figures', 'instead', 'of', 'remaining', 'fixed', 'in', 'their', 'places', 'move', 'freely', 'about', 'on', 'or', 'in', 'the', 'surface', 'but', 'without', 'the', 'power', 'of', 'rising', 'above', 'or', 'sinking', 'below', 'it', 'very', 'much', 'like', 'shadows', '-', 'only', 'hard', 'and', 'with', 'luminous', 'edges', '-', 'and', 'you', 'will', 'then', 'have', 'a', 'pretty', 'correct', 'notion', 'of', 'my', 'country', 'and', 'countrymen', 'alas', 'a', 'few', 'years', 'ago', 'i', 'should', 'have', 'said', 'my', 'universe', 'but', 'now', 'my', 'mind', 'has', 'been', 'opened', 'to', 'higher', 'views', 'of', 'things']\n",
      "\n",
      "\n",
      "92\n"
     ]
    }
   ],
   "source": [
    "import string\n",
    "s = \"\"\"Imagine a vast sheet of paper on which straight Lines, Triangles, Squares, Pentagons, Hexagons, and other figures, instead of remaining fixed in their places, move freely about, on or in the surface, but without the power of rising above or sinking below it, very much like shadows - only hard and with luminous edges - and you will then have a pretty correct notion of my country and countrymen. Alas, a few years ago, I should have said \"my universe\": but now my mind has been opened to higher views of things.\"\"\"\n",
    "s_lower = s.lower()\n",
    "\n",
    "words = list(s_lower.split())\n",
    "\n",
    "newSet = set()\n",
    "\n",
    "count = 0\n",
    "for i in words:\n",
    "    count += 1\n",
    "    \n",
    "for elem in words:\n",
    "    newSet.add(elem)\n",
    "\n",
    "count2 = len(newSet)\n",
    "\n",
    "word_freq = dict()\n",
    " \n",
    "for i in words:\n",
    "    word_freq[i] = (words.count(i))\n",
    "\n",
    "    \n",
    "punctuation_list =  list(string.punctuation)\n",
    "\n",
    "print(words)\n",
    "w_clean = list()\n",
    "    \n",
    "for word in words:\n",
    "    new_word = \"\"\n",
    "    for char in word:\n",
    "        if len(word) > 1:\n",
    "            if char[0] and char[-1] not in punctuation_list:\n",
    "                new_word += char\n",
    "        else:\n",
    "            new_word += char\n",
    "            \n",
    "    if len(new_word) > 0:\n",
    "        w_clean.append(new_word)\n",
    "\n",
    "print(\"This is the initial list in lowercase letters.\")\n",
    "print(words)\n",
    "print(\"\\n\")\n",
    "print(count)\n",
    "print(\"\\n\")\n",
    "print(newSet)\n",
    "print(\"\\n\")\n",
    "print(count2)\n",
    "print(\"\\n\")\n",
    "print(word_freq)\n",
    "print(\"\\n\")\n",
    "print(w_clean)\n",
    "print(\"\\n\")\n",
    "print(len(w_clean))"
   ]
  },
  {
   "cell_type": "code",
   "execution_count": 37,
   "metadata": {},
   "outputs": [
    {
     "name": "stdout",
     "output_type": "stream",
     "text": [
      "['!', '\"', '#', '$', '%', '&', \"'\", '(', ')', '*', '+', ',', '-', '.', '/', ':', ';', '<', '=', '>', '?', '@', '[', '\\\\', ']', '^', '_', '`', '{', '|', '}', '~']\n",
      "['haythem', 'is', 'eating', 'tacos', 'haythem', 'loves', 'tacos']\n",
      "7\n"
     ]
    }
   ],
   "source": [
    "import string #import the string module \n",
    "#use the built-in string.punctuation method to create a list of all punctuation marks\n",
    "punctuation_list =  list(string.punctuation)\n",
    "#display the punctuation_list\n",
    "print(punctuation_list)\n",
    " \n",
    "w = [\"haythem!\", \"is\" ,\"eating\", \"tacos.\", \".haythem\", \"loves\", \"tacos\", \"\", \":\"]\n",
    "w_clean = list()\n",
    "#do not change the code above this line.\n",
    " \n",
    "#your code goes here \n",
    "for word in w:\n",
    "    new_word = \"\"\n",
    "    for char in word:\n",
    "        if char[0] and char[-1] not in punctuation_list:\n",
    "            new_word += char\n",
    "    \n",
    "    if len(new_word) > 0:\n",
    "        w_clean.append(new_word)\n",
    "        \n",
    " \n",
    "print(w_clean)\n",
    "print(len(w_clean))"
   ]
  },
  {
   "cell_type": "code",
   "execution_count": null,
   "metadata": {},
   "outputs": [],
   "source": [
    "\n",
    "w = [\"haythem\", \"is\", \"eating\", \"tacos.\", \"haythem\", \"loves\", \"tacos\", \"\", \":\"]\n",
    " \n",
    "# we define an empty dictionary that will hold the token/frequency key-value pair\n",
    "# key:word, value:int that corresponds to the frequency of occurrence\n",
    "freq_occur = dict()\n",
    " \n",
    "#your code goes here\n",
    "\n",
    "for i in w:\n",
    "    freq_occur[i] = (w.count(i))\n",
    " \n",
    "print(freq_occur)\n",
    "print(\"\\n\")"
   ]
  },
  {
   "cell_type": "code",
   "execution_count": null,
   "metadata": {},
   "outputs": [],
   "source": []
  }
 ],
 "metadata": {
  "kernelspec": {
   "display_name": "Python 3",
   "language": "python",
   "name": "python3"
  },
  "language_info": {
   "codemirror_mode": {
    "name": "ipython",
    "version": 3
   },
   "file_extension": ".py",
   "mimetype": "text/x-python",
   "name": "python",
   "nbconvert_exporter": "python",
   "pygments_lexer": "ipython3",
   "version": "3.8.5"
  }
 },
 "nbformat": 4,
 "nbformat_minor": 4
}

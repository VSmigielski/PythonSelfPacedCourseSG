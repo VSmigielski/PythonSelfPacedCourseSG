{
 "cells": [
  {
   "cell_type": "markdown",
   "metadata": {},
   "source": [
    "\n",
    "# Module 2 Practice Exercises\n",
    "\n",
    "After completing all parts of this module, use the following activities to practice the skills you have learned. These activities will demonstrate your ability to use Python to:\n",
    "\n",
    "* Use lists and tuples to store data collections.\n",
    "* Store, retrieve, and manipulate data in dictionaries and sets.\n",
    "* Use repetition statements to repeat blocks of code and iterate through strings, lists, tuples, dictionaries, and sets.\n",
    "\n",
    "Many of these activities depend on skills related to using numbers, strings, and conditional statements in addition to the concepts presented in this module."
   ]
  },
  {
   "cell_type": "markdown",
   "metadata": {},
   "source": [
    "## Activity 1\n",
    "\n",
    "Prompt the user to answer a series of 3-5 questions about themselves (such as their name, their age, their birthday, or where they live) and save the answers in a list. Display the results to the user."
   ]
  },
  {
   "cell_type": "code",
   "execution_count": 2,
   "metadata": {},
   "outputs": [
    {
     "name": "stdout",
     "output_type": "stream",
     "text": [
      "What is your name? Veronica\n",
      "What is your age? 25\n",
      "What is your birthday? 11/27/1995\n",
      "What is your address? 673 Herentalsebaan V1\n",
      "['Veronica', '25', '11/27/1995', '673 Herentalsebaan V1']\n"
     ]
    }
   ],
   "source": [
    "# your code here\n",
    "inputs = []\n",
    "\n",
    "name = input(\"What is your name? \")\n",
    "age = input(\"What is your age? \")\n",
    "birthday = input(\"What is your birthday? \")\n",
    "address = input(\"What is your address? \")\n",
    "\n",
    "inputs.append(name)\n",
    "inputs.append(age)\n",
    "inputs.append(birthday)\n",
    "inputs.append(address)\n",
    "\n",
    "print(inputs)"
   ]
  },
  {
   "cell_type": "markdown",
   "metadata": {},
   "source": [
    "## Activity 2\n",
    "\n",
    "Present the user with an existing list of items (such as the list created in the previous activity) and prompt the user for 2-4 more items to add to the list. Update the list with the new items and display the updated list."
   ]
  },
  {
   "cell_type": "code",
   "execution_count": 3,
   "metadata": {},
   "outputs": [
    {
     "name": "stdout",
     "output_type": "stream",
     "text": [
      "Which city do you live in?  Wommelgem\n",
      "What is your zip code? 2160\n",
      "Where do you want to live? Belgium\n",
      "['Veronica', 25, '11/27/1995', '673 Herentalsebaan V1', 'Wommelgem', '2160', 'Belgium']\n"
     ]
    }
   ],
   "source": [
    "# your code here\n",
    "inputs = []\n",
    "\n",
    "inputs.append(\"Veronica\")\n",
    "inputs.append(25)\n",
    "inputs.append(\"11/27/1995\")\n",
    "inputs.append(\"673 Herentalsebaan V1\")\n",
    "\n",
    "currentCity = input(\"Which city do you live in?  \")\n",
    "currentZip = input(\"What is your zip code? \")\n",
    "newArea = input(\"Where do you want to live? \")\n",
    "\n",
    "inputs.append(currentCity)\n",
    "inputs.append(currentZip)\n",
    "inputs.append(newArea)\n",
    "\n",
    "print(inputs)"
   ]
  },
  {
   "cell_type": "markdown",
   "metadata": {},
   "source": [
    "## Activity 3\n",
    "\n",
    "Present the user with a list of 7-9 items (such as the list created in the previous activities) and prompt them to enter one item to delete from the list. Delete the named item from the list and display the updated list."
   ]
  },
  {
   "cell_type": "code",
   "execution_count": 4,
   "metadata": {},
   "outputs": [
    {
     "name": "stdout",
     "output_type": "stream",
     "text": [
      "['Veronica', '25', '11/27/1995', '673 Herentalsebaan V1', 'Wommelgem', '2160', 'Belgium']\n",
      "Which item would you like to delete?     \n",
      " name, age, birthday, address, current city, zipcode, or desired location: zipcode\n",
      "['Veronica', '25', '11/27/1995', '673 Herentalsebaan V1', 'Wommelgem', 'Belgium']\n"
     ]
    }
   ],
   "source": [
    "# your code here\n",
    "inputs = []\n",
    "\n",
    "name = \"Veronica\"\n",
    "age = \"25\"\n",
    "birthday = \"11/27/1995\"\n",
    "address = \"673 Herentalsebaan V1\"\n",
    "currentCity = \"Wommelgem\"\n",
    "zipcode = \"2160\"\n",
    "newArea = \"Belgium\"\n",
    "\n",
    "inputs.append(name)\n",
    "inputs.append(age)\n",
    "inputs.append(birthday)\n",
    "inputs.append(address)\n",
    "inputs.append(currentCity)\n",
    "inputs.append(zipcode)\n",
    "inputs.append(newArea)\n",
    "\n",
    "user_input = input(\"Which item would you like to delete? \\\n",
    "    \\n name, age, birthday, address, current city, zipcode, or desired location: \")\n",
    "\n",
    "user_inputL = user_input.lower()\n",
    "if user_inputL == \"name\":\n",
    "    inputs.remove(\"Veronica\")\n",
    "elif user_inputL == \"age\":\n",
    "    inputs.remove(\"25\")\n",
    "elif user_inputL == \"birthday\":\n",
    "    inputs.remove(\"11/27/1995\")\n",
    "elif user_inputL == \"address\":\n",
    "    inputs.remove(\"673 Herentalsebaan V1\")\n",
    "elif user_inputL == \"current city\":\n",
    "    inputs.remove(\"Wommelgem\")\n",
    "elif user_inputL == \"zipcode\":\n",
    "    inputs.remove(\"2160\")\n",
    "elif user_inputL == \"desired location\":\n",
    "    inputs.remove(\"Belgium\")\n",
    "else:\n",
    "    print(\"The input entered was not a correct option.\")\n",
    "\n",
    "print(inputs)"
   ]
  },
  {
   "cell_type": "markdown",
   "metadata": {},
   "source": [
    "## Activity 4\n",
    "\n",
    "Present the user with a list of 7-9 items (such as the list created in the previous activities) and prompt them to select one item from the list to update, along with the new value for that item. Change the item's value and display the new list to the user.\n"
   ]
  },
  {
   "cell_type": "code",
   "execution_count": 7,
   "metadata": {},
   "outputs": [
    {
     "name": "stdout",
     "output_type": "stream",
     "text": [
      "Which item would you like to update?     \n",
      " name, age, birthday, address, current city, zipcode, or desired location: desired location\n",
      "What would you like to update it to? Spain\n",
      "['Veronica', '25', '11/27/1995', '673 Herentalsebaan V1', 'Wommelgem', '2160', 'Spain']\n"
     ]
    }
   ],
   "source": [
    "# your code here\n",
    "inputs = []\n",
    "\n",
    "name = \"Veronica\"\n",
    "age = \"25\"\n",
    "birthday = \"11/27/1995\"\n",
    "address = \"673 Herentalsebaan V1\"\n",
    "currentCity = \"Wommelgem\"\n",
    "zipcode = \"2160\"\n",
    "newArea = \"Belgium\"\n",
    "\n",
    "inputs.append(name)\n",
    "inputs.append(age)\n",
    "inputs.append(birthday)\n",
    "inputs.append(address)\n",
    "inputs.append(currentCity)\n",
    "inputs.append(zipcode)\n",
    "inputs.append(newArea)\n",
    "\n",
    "user_input = input(\"Which item would you like to update? \\\n",
    "    \\n name, age, birthday, address, current city, zipcode, or desired location: \")\n",
    "\n",
    "user_update = input(\"What would you like to update it to? \")\n",
    "\n",
    "user_inputL = user_input.lower()\n",
    "if user_inputL == \"name\":\n",
    "    inputs[0] = user_update.capitalize()\n",
    "elif user_inputL == \"age\":\n",
    "    inputs[1] = user_update\n",
    "elif user_inputL == \"birthday\":\n",
    "    inputs[2] = user_update\n",
    "elif user_inputL == \"address\":\n",
    "    inputs[3] = user_update\n",
    "elif user_inputL == \"current city\":\n",
    "    inputs[4] = user_update.capitalize()\n",
    "elif user_inputL == \"zipcode\":\n",
    "    inputs[5] = user_update\n",
    "elif user_inputL == \"desired location\":\n",
    "    inputs[6] = user_update.capitalize()\n",
    "else:\n",
    "    print(\"The input entered was not a correct option.\")\n",
    "\n",
    "print(inputs)"
   ]
  },
  {
   "cell_type": "markdown",
   "metadata": {},
   "source": [
    "## Activity 5\n",
    "\n",
    "Create four tuples:\n",
    "\n",
    "* One tuple with a person's first name and last name\n",
    "* A second tuple with the person's current profession\n",
    "* A third tuple with the person's current address\n",
    "* A fourth tuple with the person's previous address\n",
    "\n",
    "Combine all tuples into a new, single tuple that contains all items from the original tuples."
   ]
  },
  {
   "cell_type": "code",
   "execution_count": 10,
   "metadata": {},
   "outputs": [
    {
     "name": "stdout",
     "output_type": "stream",
     "text": [
      "('Veronica', 'Smigielski')\n",
      "('Junior Software Developer', 'Programmer')\n",
      "('673 Herentalsebaan', 'Wommelgem', 'Antwerp', '2160')\n",
      "('10408 La Morada Drive', 'San Diego', 'CA', '92124')\n",
      "('Veronica', 'Smigielski', 'Junior Software Developer', 'Programmer', '673 Herentalsebaan', 'Wommelgem', 'Antwerp', '2160', '10408 La Morada Drive', 'San Diego', 'CA', '92124')\n"
     ]
    }
   ],
   "source": [
    "# your code here\n",
    "tuple1 = (\"Veronica\", \"Smigielski\")\n",
    "tuple2 = (\"Junior Software Developer\", \"Programmer\")\n",
    "tuple3 = (\"673 Herentalsebaan\", \"Wommelgem\", \"Antwerp\", \"2160\")\n",
    "tuple4 = (\"10408 La Morada Drive\", \"San Diego\", \"CA\", \"92124\")\n",
    "\n",
    "print(tuple1)\n",
    "print(tuple2)\n",
    "print(tuple3)\n",
    "print(tuple4)\n",
    "\n",
    "allTuples = tuple1 + tuple2 + tuple3 + tuple4\n",
    "print(allTuples)"
   ]
  },
  {
   "cell_type": "markdown",
   "metadata": {},
   "source": [
    "## Activity 6\n",
    "\n",
    "Create a program that completes the following tasks:\n",
    "\n",
    "* Prompt the user for a series of 5-10 integers.\n",
    "    * The user must be prompted for a minimum of five numbers.\n",
    "    * After the user has entered five numbers, allow the user to stop or enter another number.\n",
    "* When the user chooses to stop or after ten numbers have been entered, stop prompting for values and perform calculations to find the following:\n",
    "    * The product of the integers\n",
    "    * The average of the integers\n",
    "    * The sum of the integers\n",
    "    * The min of the integers\n",
    "    * The max of the integers\n",
    "* After performing the calculations, display the following to the user:\n",
    "    * The values the user entered\n",
    "    * Each of the calculations, using a phrase that identifies the value\n",
    "\n",
    "Do not use the built-in sum, min, or max functions."
   ]
  },
  {
   "cell_type": "code",
   "execution_count": 25,
   "metadata": {},
   "outputs": [
    {
     "name": "stdout",
     "output_type": "stream",
     "text": [
      "Please input an integer: 1\n",
      "Please input an integer: 2\n",
      "Please input an integer: 3\n",
      "Please input an integer: 4\n",
      "Please input an integer: 5\n",
      "Would you like to stop the program now? Enter quit to stop: quit\n",
      "These were the numbers entered:\n",
      "[1, 2, 3, 4, 5]\n",
      "This is the product of the numbers entered: 120\n",
      "This is the sum of the numbers entered: 15\n",
      "This is the average of the numbers entered: 3.0\n",
      "The min is 1 and the max is 5 from the numbers entered.\n"
     ]
    }
   ],
   "source": [
    "# your code here\n",
    "inputs = []\n",
    "count = 0\n",
    "\n",
    "while count < 10:\n",
    "    if count < 5:\n",
    "        num = int(input(\"Please input an integer: \"))\n",
    "        inputs.append(num)\n",
    "        count += 1\n",
    "    \n",
    "    else:\n",
    "        second_input = input(\"Would you like to stop the program now? Enter quit to stop: \")\n",
    "        if second_input.lower() == \"quit\":\n",
    "            break\n",
    "        else:\n",
    "            num = int(input(\"Please input an integer: \"))\n",
    "            inputs.append(num)\n",
    "            count += 1\n",
    "\n",
    "print(\"These were the numbers entered:\")\n",
    "print(inputs)\n",
    "\n",
    "product = 1\n",
    "sum = 0\n",
    "count = 0\n",
    "\n",
    "for value in inputs:\n",
    "    product *= value \n",
    "    sum += value\n",
    "    count += 1\n",
    "\n",
    "average = sum / count\n",
    "    \n",
    "_min = 100000\n",
    "_max = 0\n",
    "for value in inputs:\n",
    "    if value < _min:\n",
    "        _min = value\n",
    "    elif value > _max:\n",
    "        _max = value\n",
    "\n",
    "print(\"This is the product of the numbers entered:\", product)\n",
    "print(\"This is the sum of the numbers entered:\", sum)\n",
    "print(\"This is the average of the numbers entered:\", average)\n",
    "print(\"The min is\", _min, \"and the max is\", _max, \"from the numbers entered.\")\n"
   ]
  },
  {
   "cell_type": "markdown",
   "metadata": {},
   "source": [
    "## Activity 7\n",
    "\n",
    "Create a program that takes an input list of strings, identifies all the strings with more than two characters, and stores the results in another list.\n",
    "\n",
    "For example:\n",
    "\n",
    "    a = [\"a\", \"bc\", \"rye\", \"hello\", \"c\", \"\"]\n",
    "\n",
    "Output:\n",
    "\n",
    "    [\"bc\", \"rye\", \"hello\"]"
   ]
  },
  {
   "cell_type": "code",
   "execution_count": 27,
   "metadata": {},
   "outputs": [
    {
     "name": "stdout",
     "output_type": "stream",
     "text": [
      "['bc', 'rye', 'hello']\n"
     ]
    }
   ],
   "source": [
    "# your code here\n",
    "a = [\"a\", \"bc\", \"rye\", \"hello\", \"c\", \"\"]\n",
    "b = []\n",
    "\n",
    "for i in a:\n",
    "    if len(i) > 1:\n",
    "        b.append(i)\n",
    "print(b)"
   ]
  },
  {
   "cell_type": "markdown",
   "metadata": {},
   "source": [
    "## Activity 8\n",
    "\n",
    "Write a program using the steps below:\n",
    "\n",
    "* Create a dictionary with at least three key-value pairs.\n",
    "* Ask the user for a value.\n",
    "* Display all key-value pairs in the dictionary that include the user-specified value.\n",
    "* If the value does not exist in the dictionary, display a user-friendly error message.\n",
    "\n",
    "For example:\n",
    "\n",
    "    dictionary: freq_count = {\"hello\":4,\"world\":4,\"I\":1,\"am\": 2,\"Martha:\"3\"}\n",
    "    user input: 4\n",
    "    output: {\"hello\":4,\"world\":4}"
   ]
  },
  {
   "cell_type": "code",
   "execution_count": 31,
   "metadata": {},
   "outputs": [
    {
     "name": "stdout",
     "output_type": "stream",
     "text": [
      "Enter a value: 4\n",
      "{'hello': 4, 'world': 4}\n"
     ]
    }
   ],
   "source": [
    "# your code here\n",
    "freq_count = {\"hello\": 4,\"world\": 4,\"I\": 1,\"am\": 2,\"Martha\": 3}\n",
    "\n",
    "freq = int(input(\"Enter a value: \"))\n",
    "output = dict()\n",
    "              \n",
    "for key,value in freq_count.items():\n",
    "    if value == freq:\n",
    "        output[key] = value\n",
    "\n",
    "print(output)"
   ]
  },
  {
   "cell_type": "markdown",
   "metadata": {},
   "source": [
    "## Activity 9\n",
    "\n",
    "Create a program that does the following:\n",
    "\n",
    "* Define a set with at least five elements.\n",
    "* Ask the user for a value.\n",
    "* Ask the user for an operation (\"add\" or \"remove\").\n",
    "* If the operation is \"remove\":\n",
    "    * If the value exists in the set, remove the value from the set and display the updated set to the user.\n",
    "    * If the value does not exist in the set, display a user-friendly error message.\n",
    "* If the operation is \"add\":\n",
    "    * If the value exists in the set, display a user-friendly error message.\n",
    "    * If the value does not exist in the set, add the value to the set and display the updated set to the user.\n",
    "* Repeat until the user enters \"quit\" (uppercase or lowercase)."
   ]
  },
  {
   "cell_type": "code",
   "execution_count": null,
   "metadata": {},
   "outputs": [],
   "source": [
    "thisSet = {\"apple\", \"mango\", \"blueberry\", \"orange\", \"kiwi\"}\n",
    "\n",
    "user_input = \"\"\n",
    "\n",
    "while user_input.lower() != \"quit\":\n",
    "    user_input = input(\"Enter a fruit. \\\n",
    "    \\nThis application will either add, remove, or quit the program: \\n\")\n",
    "    if user_input != \"quit\":\n",
    "        user_input_other = input(\"Would you like to add or remove this item? \\n\")\n",
    "        if user_input_other.lower() == \"add\":\n",
    "            if user_input.lower() in thisSet:\n",
    "                print(\"The item is already in the set.\")\n",
    "                print(thisSet)\n",
    "            else:\n",
    "                print(\"That item is not in the set. We will add it now.\")\n",
    "                thisSet.add(user_input.lower())\n",
    "                print(thisSet)\n",
    "        elif user_input_other.lower() == \"remove\":\n",
    "            if user_input.lower() in thisSet:\n",
    "                print(\"That item is in the set and will be removed now.\")\n",
    "                thisSet.remove(user_input.lower())\n",
    "                print(thisSet)\n",
    "            else: \n",
    "                print(\"That item is not in the set so it cannot be removed.\")\n",
    "                print(thisSet)# your code here"
   ]
  }
 ],
 "metadata": {
  "kernelspec": {
   "display_name": "Python 3",
   "language": "python",
   "name": "python3"
  },
  "language_info": {
   "codemirror_mode": {
    "name": "ipython",
    "version": 3
   },
   "file_extension": ".py",
   "mimetype": "text/x-python",
   "name": "python",
   "nbconvert_exporter": "python",
   "pygments_lexer": "ipython3",
   "version": "3.8.5"
  }
 },
 "nbformat": 4,
 "nbformat_minor": 2
}

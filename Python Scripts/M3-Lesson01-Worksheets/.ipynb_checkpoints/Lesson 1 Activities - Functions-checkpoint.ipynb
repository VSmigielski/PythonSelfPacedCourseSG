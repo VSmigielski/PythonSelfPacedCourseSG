{
 "cells": [
  {
   "cell_type": "markdown",
   "metadata": {},
   "source": [
    "# Lesson 1 Activities: Functions\n",
    "The following activities will allow you to practice your ability to:\n",
    "* Demonstrate the use of function parameters, including the use of default values.\n",
    "* Demonstrate the use of indefinite parameters in a function.\n",
    "* Use keywords to define parameters in a function."
   ]
  },
  {
   "cell_type": "markdown",
   "metadata": {},
   "source": [
    "## Activity 1\n",
    "Define the find_min function below to compute the lowest value in an input list of numbers."
   ]
  },
  {
   "cell_type": "code",
   "execution_count": 1,
   "metadata": {},
   "outputs": [
    {
     "name": "stdout",
     "output_type": "stream",
     "text": [
      "1\n"
     ]
    }
   ],
   "source": [
    "def find_min(numbers):\n",
    "    #remove pass and define the function here\n",
    "    return min(numbers)\n",
    "\n",
    "#do not change this code below \n",
    "numbers = [1,5,5,7,10,1]\n",
    "print(find_min(numbers))"
   ]
  },
  {
   "cell_type": "markdown",
   "metadata": {},
   "source": [
    "## Activity 2\n",
    "Define the `find_lower` function below to find all values in the `numbers` list that are lower than a specific threshold number."
   ]
  },
  {
   "cell_type": "code",
   "execution_count": 2,
   "metadata": {},
   "outputs": [
    {
     "name": "stdout",
     "output_type": "stream",
     "text": [
      "1\n",
      "5\n",
      "5\n",
      "1\n",
      "1\n",
      "1\n"
     ]
    }
   ],
   "source": [
    "def find_lower(numbers,threshold):\n",
    "    for num in numbers:\n",
    "        #remove pass and define the function here\n",
    "        if num < threshold:\n",
    "            print(num)\n",
    "\n",
    "numbers = [1,5,5,7,10,1]\n",
    "find_lower(numbers,7) #find all numbers lower than 0\n",
    "find_lower(numbers,5) #find all numbers lower than 5"
   ]
  },
  {
   "cell_type": "markdown",
   "metadata": {},
   "source": [
    "## Activity 3\n",
    "A <a href=\"https://en.wikipedia.org/wiki/Fibonacci_number\" target=\"_blank\">Fibonacci sequence</a> is a series of numbers where each number is the sum of the two preceding numbers in the sequence. For example, the first eight Fibonacci numbers starting from 0 are:\n",
    "\n",
    "    0, 1, 1, 2, 3, 5, 8, 13, 21\n",
    "\n",
    "Create a function `compute_fib` that will perform the following steps to calculate a Fibonacci sequence with a given start value.\n",
    "1. The function should include two parameters: the starting value (`start`) and the number of values to display (`stop`) in the sequence.\n",
    "1. Starting with the first value, determine the Fibonacci sequence for the number of values and store the sequence values in a list.\n",
    "    * By definition, we determine a Fibonacci sequence for value `n` (<code>F<sub><em>n</em></sub></code>) using:\n",
    "    \n",
    "    <pre>F<sub>0</sub> = 0\n",
    "    F<sub>1</sub> = 1\n",
    "    F<sub><em>n</em></sub> = F<sub><em>n-1</em></sub> + F<sub><em>n-2</em></sub> for <em>n</em> > 1</pre>\n",
    "        \n",
    "    * Assume that the first value in the sequence is always 0, and use the starting input value as the second value in the list.<br /><br />\n",
    "    \n",
    "1. Display the final list to the user with an appropriate message.\n",
    "\n",
    "For example, if the start value is 5 and the stop value is 7, the output values should be:\n",
    "\n",
    "    0, 5, 5, 10, 15, 25, 40\n",
    "        "
   ]
  },
  {
   "cell_type": "code",
   "execution_count": 22,
   "metadata": {},
   "outputs": [
    {
     "name": "stdout",
     "output_type": "stream",
     "text": [
      "Enter the starting number: 4\n",
      "Enter the stopping number: 12\n",
      "\n",
      "\n",
      "0\n",
      "4\n",
      "4\n",
      "8\n",
      "12\n",
      "20\n",
      "32\n",
      "52\n",
      "84\n",
      "136\n",
      "220\n",
      "356\n",
      "\n",
      "\n",
      "0\n",
      "5\n",
      "5\n",
      "10\n",
      "15\n",
      "25\n",
      "40\n",
      "\n",
      "\n",
      "0\n",
      "4\n",
      "4\n",
      "8\n",
      "12\n",
      "20\n",
      "32\n",
      "52\n",
      "84\n",
      "136\n",
      "220\n",
      "356\n"
     ]
    }
   ],
   "source": [
    "def compute_fib(start, stop):\n",
    "    #remove pass and define the function here\n",
    "    counter = 0\n",
    "\n",
    "    first = 0\n",
    "    second = start\n",
    "    temp = 0\n",
    " \n",
    "    while counter < stop:\n",
    "       print(first)\n",
    "       temp = first + second\n",
    "       first = second\n",
    "       second = temp\n",
    "       counter = counter + 1\n",
    "\n",
    "user_input1 = int(input(\"Enter the starting number: \"))\n",
    "user_input2 = int(input(\"Enter the stopping number: \"))\n",
    "\n",
    "print(\"\\n\")\n",
    "compute_fib(user_input1, user_input2)\n",
    "print(\"\\n\")\n",
    "compute_fib(5, 7)\n",
    "print(\"\\n\")\n",
    "compute_fib(4, 12)"
   ]
  },
  {
   "cell_type": "markdown",
   "metadata": {},
   "source": [
    "### Challenge Activity\n",
    "After you have set up the function to use fixed values, refactor the code to accept user input for each of the function parameters."
   ]
  },
  {
   "cell_type": "markdown",
   "metadata": {},
   "source": [
    "## Activity 4\n",
    "Starting with a grocery shopping list, create a function that will iterate through the items in the list and identify only items only in a specific category, such as meats, fruits, or beverages.\n",
    "\n",
    "As a starting point, create a list with at least 15 items that someone might include in a grocery shopping list and use this list as the first parameter of the function.\n",
    "\n",
    "When executing the function, include a series of items in your selected category, including items that may or may not appear in the shopping list. The program should return a list of items from the shopping list that appear in the category values.\n",
    "\n",
    "For example, assume the original shopping list is:\n",
    "\n",
    "    (\"apples\", \"corn\", \"turkey slices\", \"ground beef\", \"flour\", \"sugar\", \"eggs\", \"peas\", \"tomatoes\", \"spaghetti\")\n",
    "    \n",
    "You then use meat values `\"turkey\"`, `\"beef\"`, `\"pork\"` as parameters in the function.\n",
    "\n",
    "The function should return the following items from the list:\n",
    "\n",
    "    (\"turkey slices\", \"ground beef\")\n",
    "    \n",
    "Use meaningful names for lists and functions in your program.\n"
   ]
  },
  {
   "cell_type": "code",
   "execution_count": 6,
   "metadata": {},
   "outputs": [
    {
     "name": "stdout",
     "output_type": "stream",
     "text": [
      "['turkey slices', 'ground beef']\n",
      "('turkey slices', 'ground beef')\n"
     ]
    }
   ],
   "source": [
    "# your code here\n",
    "def find(shopping_list, meats):\n",
    "    new_list = []\n",
    "    for shop in shopping_list:\n",
    "        for meat in meats:\n",
    "            if meat in shop:\n",
    "                new_list.append(shop)\n",
    "    print(new_list)\n",
    "    \n",
    "\n",
    "shopping_list = (\"apples\", \"corn\", \"turkey slices\", \"ground beef\", \"flour\", \"sugar\", \"eggs\", \"peas\", \"tomatoes\", \"spaghetti\", \"milk\", \"oranges\", \"butter\", \"salami\", \"heavy cream\")\n",
    "\n",
    "meats = (\"turkey\", \"beef\", \"pork\")\n",
    "\n",
    "find(shopping_list, meats)\n",
    "\n",
    "def find_item(grocery, *items):\n",
    "    found = []\n",
    "    for element in grocery:\n",
    "        for item in items:\n",
    "            if item in element:\n",
    "                found.append(element)\n",
    "    return tuple(found)\n",
    "\n",
    "print(find_item(shopping_list, \"turkey\", \"beef\", \"pork\"))"
   ]
  },
  {
   "cell_type": "markdown",
   "metadata": {},
   "source": [
    "## Activity 5\n",
    "Create a function that builds an address block for an envelope when given specific individual values for the address.\n",
    "\n",
    "* Start with individual values for salutation (*Mr.*, *Ms.*, *Dr.*, etc.), first name, last name, street address, city, state, and ZIP.\n",
    "* Prompt the user for each of these individual values.\n",
    "* Display an address block that includes the person's full name (in the order *Salutation Firstname Lastname*) on the first line, the street address on the second line, and the city/state/zip on the third line.\n",
    "\n",
    "### Challenge\n",
    "Set up the program so that the salutation is optional, and if the user does not provide one, the first line of the address block starts with the input first name without a preceding space."
   ]
  },
  {
   "cell_type": "code",
   "execution_count": 18,
   "metadata": {
    "scrolled": true
   },
   "outputs": [
    {
     "name": "stdout",
     "output_type": "stream",
     "text": [
      "Please enter a salutation, ex: Mr., Ms., Dr. \n",
      "\n",
      "Please enter your name: \n",
      "v s\n",
      "Please enter your address: \n",
      "safasdsf\n",
      "Please enter your city, state, and zipcode: \n",
      "sadfsafggag\n",
      "v s\n",
      "safasdsf\n",
      "sadfsafggag\n"
     ]
    },
    {
     "ename": "KeyboardInterrupt",
     "evalue": "Interrupted by user",
     "output_type": "error",
     "traceback": [
      "\u001b[1;31m---------------------------------------------------------------------------\u001b[0m",
      "\u001b[1;31mKeyboardInterrupt\u001b[0m                         Traceback (most recent call last)",
      "\u001b[1;32m<ipython-input-18-1e7cf4fb231a>\u001b[0m in \u001b[0;36m<module>\u001b[1;34m\u001b[0m\n\u001b[0;32m     17\u001b[0m \u001b[0msalutation_builder\u001b[0m\u001b[1;33m(\u001b[0m\u001b[0mname\u001b[0m\u001b[1;33m,\u001b[0m \u001b[0maddress\u001b[0m\u001b[1;33m,\u001b[0m \u001b[0mcity_state_zip\u001b[0m\u001b[1;33m)\u001b[0m\u001b[1;33m\u001b[0m\u001b[1;33m\u001b[0m\u001b[0m\n\u001b[0;32m     18\u001b[0m \u001b[1;33m\u001b[0m\u001b[0m\n\u001b[1;32m---> 19\u001b[1;33m \u001b[0msalutation\u001b[0m \u001b[1;33m=\u001b[0m \u001b[0minput\u001b[0m\u001b[1;33m(\u001b[0m\u001b[1;34m\"Please enter a salutation, ex: Mr., Ms., Dr. \\n\"\u001b[0m\u001b[1;33m)\u001b[0m\u001b[1;33m\u001b[0m\u001b[1;33m\u001b[0m\u001b[0m\n\u001b[0m\u001b[0;32m     20\u001b[0m \u001b[0mname\u001b[0m \u001b[1;33m=\u001b[0m \u001b[0minput\u001b[0m\u001b[1;33m(\u001b[0m\u001b[1;34m\"Please enter your name: \\n\"\u001b[0m\u001b[1;33m)\u001b[0m\u001b[1;33m\u001b[0m\u001b[1;33m\u001b[0m\u001b[0m\n\u001b[0;32m     21\u001b[0m \u001b[1;33m(\u001b[0m\u001b[0mfirst\u001b[0m\u001b[1;33m,\u001b[0m \u001b[0mlast\u001b[0m\u001b[1;33m)\u001b[0m \u001b[1;33m=\u001b[0m \u001b[0mname\u001b[0m\u001b[1;33m.\u001b[0m\u001b[0msplit\u001b[0m\u001b[1;33m(\u001b[0m\u001b[1;33m)\u001b[0m\u001b[1;33m\u001b[0m\u001b[1;33m\u001b[0m\u001b[0m\n",
      "\u001b[1;32m~\\anaconda3\\lib\\site-packages\\ipykernel\\kernelbase.py\u001b[0m in \u001b[0;36mraw_input\u001b[1;34m(self, prompt)\u001b[0m\n\u001b[0;32m    858\u001b[0m                 \u001b[1;34m\"raw_input was called, but this frontend does not support input requests.\"\u001b[0m\u001b[1;33m\u001b[0m\u001b[1;33m\u001b[0m\u001b[0m\n\u001b[0;32m    859\u001b[0m             )\n\u001b[1;32m--> 860\u001b[1;33m         return self._input_request(str(prompt),\n\u001b[0m\u001b[0;32m    861\u001b[0m             \u001b[0mself\u001b[0m\u001b[1;33m.\u001b[0m\u001b[0m_parent_ident\u001b[0m\u001b[1;33m,\u001b[0m\u001b[1;33m\u001b[0m\u001b[1;33m\u001b[0m\u001b[0m\n\u001b[0;32m    862\u001b[0m             \u001b[0mself\u001b[0m\u001b[1;33m.\u001b[0m\u001b[0m_parent_header\u001b[0m\u001b[1;33m,\u001b[0m\u001b[1;33m\u001b[0m\u001b[1;33m\u001b[0m\u001b[0m\n",
      "\u001b[1;32m~\\anaconda3\\lib\\site-packages\\ipykernel\\kernelbase.py\u001b[0m in \u001b[0;36m_input_request\u001b[1;34m(self, prompt, ident, parent, password)\u001b[0m\n\u001b[0;32m    902\u001b[0m             \u001b[1;32mexcept\u001b[0m \u001b[0mKeyboardInterrupt\u001b[0m\u001b[1;33m:\u001b[0m\u001b[1;33m\u001b[0m\u001b[1;33m\u001b[0m\u001b[0m\n\u001b[0;32m    903\u001b[0m                 \u001b[1;31m# re-raise KeyboardInterrupt, to truncate traceback\u001b[0m\u001b[1;33m\u001b[0m\u001b[1;33m\u001b[0m\u001b[1;33m\u001b[0m\u001b[0m\n\u001b[1;32m--> 904\u001b[1;33m                 \u001b[1;32mraise\u001b[0m \u001b[0mKeyboardInterrupt\u001b[0m\u001b[1;33m(\u001b[0m\u001b[1;34m\"Interrupted by user\"\u001b[0m\u001b[1;33m)\u001b[0m \u001b[1;32mfrom\u001b[0m \u001b[1;32mNone\u001b[0m\u001b[1;33m\u001b[0m\u001b[1;33m\u001b[0m\u001b[0m\n\u001b[0m\u001b[0;32m    905\u001b[0m             \u001b[1;32mexcept\u001b[0m \u001b[0mException\u001b[0m \u001b[1;32mas\u001b[0m \u001b[0me\u001b[0m\u001b[1;33m:\u001b[0m\u001b[1;33m\u001b[0m\u001b[1;33m\u001b[0m\u001b[0m\n\u001b[0;32m    906\u001b[0m                 \u001b[0mself\u001b[0m\u001b[1;33m.\u001b[0m\u001b[0mlog\u001b[0m\u001b[1;33m.\u001b[0m\u001b[0mwarning\u001b[0m\u001b[1;33m(\u001b[0m\u001b[1;34m\"Invalid Message:\"\u001b[0m\u001b[1;33m,\u001b[0m \u001b[0mexc_info\u001b[0m\u001b[1;33m=\u001b[0m\u001b[1;32mTrue\u001b[0m\u001b[1;33m)\u001b[0m\u001b[1;33m\u001b[0m\u001b[1;33m\u001b[0m\u001b[0m\n",
      "\u001b[1;31mKeyboardInterrupt\u001b[0m: Interrupted by user"
     ]
    }
   ],
   "source": [
    "# your code here\n",
    "def salutation_builder(name, address, city_state_zip, salutation = \"\"):\n",
    "    if salutation == \"\":\n",
    "        print(name)\n",
    "        print(address)\n",
    "        print(city_state_zip)\n",
    "    else:\n",
    "        print(salutation, name)\n",
    "        print(address)\n",
    "        print(city_state_zip)\n",
    "\n",
    "salutation = input(\"Please enter a salutation, ex: Mr., Ms., Dr. \\n\")\n",
    "name = input(\"Please enter your name: \\n\")\n",
    "address = input(\"Please enter your address: \\n\")\n",
    "city_state_zip = input(\"Please enter your city, state, and zipcode: \\n\")\n",
    "\n",
    "salutation_builder(name, address, city_state_zip)\n",
    "\n",
    "salutation = input(\"Please enter a salutation, ex: Mr., Ms., Dr. \\n\")\n",
    "name = input(\"Please enter your name: \\n\")\n",
    "(first, last) = name.split()\n",
    "address = input(\"Please enter your address: \\n\")\n",
    "city_state_zip = input(\"Please enter your city, state, and zipcode: \\n\")\n",
    "\n",
    "salutation_builder(name, address, city_state_zip, salutation)"
   ]
  },
  {
   "cell_type": "code",
   "execution_count": 19,
   "metadata": {},
   "outputs": [
    {
     "name": "stdout",
     "output_type": "stream",
     "text": [
      "Enter first name: Veronica\n",
      "Enter last name: Smigielski\n",
      "Enter address: asdaf\n",
      "Enter city: saa\n",
      "Enter state: sadasd\n",
      "Enter zip code: 2160\n",
      "('Veronica', 'Smigielski\\nasdaf\\nsaa', 'sadasd', '2160')\n"
     ]
    }
   ],
   "source": []
  },
  {
   "cell_type": "code",
   "execution_count": null,
   "metadata": {},
   "outputs": [],
   "source": []
  }
 ],
 "metadata": {
  "kernelspec": {
   "display_name": "Python 3",
   "language": "python",
   "name": "python3"
  },
  "language_info": {
   "codemirror_mode": {
    "name": "ipython",
    "version": 3
   },
   "file_extension": ".py",
   "mimetype": "text/x-python",
   "name": "python",
   "nbconvert_exporter": "python",
   "pygments_lexer": "ipython3",
   "version": "3.8.5"
  }
 },
 "nbformat": 4,
 "nbformat_minor": 2
}

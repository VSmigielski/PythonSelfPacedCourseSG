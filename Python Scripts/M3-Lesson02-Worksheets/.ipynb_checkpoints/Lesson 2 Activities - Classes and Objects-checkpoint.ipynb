{
 "cells": [
  {
   "cell_type": "markdown",
   "metadata": {},
   "source": [
    "# Lesson 2 Activities: Classes and Objects\n",
    "The activities in this page will allow you to demonstrate your ability to:\n",
    "* Create a class that includes at least three attributes appropriate for that class.\n",
    "* Use a class to create two or more separate objects.\n",
    "* Define and use a constructor in a class.\n",
    "* Create one or more methods that describe a behavior associated with a class and implement those methods in a program.\n",
    "* Reference a class as an attribute of another class to create a complex entity."
   ]
  },
  {
   "cell_type": "markdown",
   "metadata": {},
   "source": [
    "## Activity 1\n",
    "The lesson uses `Person` and `Animal` as example classes. For this activity, choose another `Noun` of your choice to create a class. It can be anything you wish, as long as it meets the following criteria:\n",
    "* Do not use people or animals.\n",
    "* The category must be broad enough to include different examples of the category.\n",
    "* It must represent a real-life object.\n",
    "\n",
    "Include at least three attributes that are common to most (if not all) instances of the `Noun`. Use appropriate naming conventions."
   ]
  },
  {
   "cell_type": "code",
   "execution_count": 1,
   "metadata": {},
   "outputs": [],
   "source": [
    "# your code here\n",
    "class Shape:\n",
    "    color = \"\"\n",
    "    shape = \"\"\n",
    "    sides = \"\"\n",
    "    "
   ]
  },
  {
   "cell_type": "markdown",
   "metadata": {},
   "source": [
    "## Activity 2\n",
    "Use the `Noun` class you created in the previous activity to create at least four different objects. Print out all attributes for each object."
   ]
  },
  {
   "cell_type": "code",
   "execution_count": 1,
   "metadata": {},
   "outputs": [
    {
     "name": "stdout",
     "output_type": "stream",
     "text": [
      "multi\n",
      "circle\n",
      "None\n",
      "blue\n",
      "triangle\n",
      "3\n",
      "red\n",
      "square\n",
      "4\n",
      "green\n",
      "pentagon\n",
      "5\n"
     ]
    }
   ],
   "source": [
    "# your code here\n",
    "class Shape:\n",
    "    color = \"\"\n",
    "    shape = \"\"\n",
    "    sides = \"\"\n",
    "    \n",
    "shape_1 = Shape()\n",
    "shape_1.color = \"multi\"\n",
    "shape_1.shape = \"circle\"\n",
    "shape_1.sides = \"none\"\n",
    "\n",
    "print(shape_1.color)\n",
    "print(shape_1.shape)\n",
    "print(shape_1.sides)\n",
    "\n",
    "shape_2 = Shape()\n",
    "shape_2.color = \"blue\"\n",
    "shape_2.shape = \"triangle\"\n",
    "shape_2.sides = \"3\"\n",
    "\n",
    "print(shape_2.color)\n",
    "print(shape_2.shape)\n",
    "print(shape_2.sides)\n",
    "\n",
    "shape_3 = Shape()\n",
    "shape_3.color = \"red\"\n",
    "shape_3.shape = \"square\"\n",
    "shape_3.sides = \"4\"\n",
    "\n",
    "print(shape_3.color)\n",
    "print(shape_3.shape)\n",
    "print(shape_3.sides)\n",
    "\n",
    "shape_4 = Shape()\n",
    "shape_4.color = \"green\"\n",
    "shape_4.shape = \"pentagon\"\n",
    "shape_4.sides = \"5\"\n",
    "\n",
    "print(shape_4.color)\n",
    "print(shape_4.shape)\n",
    "print(shape_4.sides)"
   ]
  },
  {
   "cell_type": "markdown",
   "metadata": {},
   "source": [
    "## Activity 3\n",
    "Create an `__init__` method for your `Noun` class. Include at least four of the attributes you originally defined in the new method."
   ]
  },
  {
   "cell_type": "code",
   "execution_count": 2,
   "metadata": {},
   "outputs": [
    {
     "name": "stdout",
     "output_type": "stream",
     "text": [
      "Shape's color: multi\n",
      "Shape's name: circle\n",
      "Number of sides: none\n",
      "Shape's color: blue\n",
      "Shape's name: triangle\n",
      "Number of sides: 3\n",
      "Shape's color: red\n",
      "Shape's name: square\n",
      "Number of sides: 4\n",
      "Shape's color: green\n",
      "Shape's name: pentagon\n",
      "Number of sides: 5\n"
     ]
    }
   ],
   "source": [
    "# your code here\n",
    "class Shape:\n",
    "    color = \"\"\n",
    "    shape = \"\"\n",
    "    sides = \"\"\n",
    "    def __init__(self, c,s,sd):\n",
    "        self.color = c\n",
    "        self.shape = s\n",
    "        self.sides = sd\n",
    "    \n",
    "shape_1 = Shape(\"multi\", \"circle\", \"none\")\n",
    "\n",
    "print(\"Shape's color: \" + shape_1.color)\n",
    "print(\"Shape's name: \" + shape_1.shape)\n",
    "print(\"Number of sides: \" + shape_1.sides)\n",
    "\n",
    "shape_2 = Shape(\"blue\", \"triangle\", \"3\")\n",
    "\n",
    "print(\"Shape's color: \" + shape_2.color)\n",
    "print(\"Shape's name: \" + shape_2.shape)\n",
    "print(\"Number of sides: \" + shape_2.sides)\n",
    "\n",
    "shape_3 = Shape(\"red\", \"square\", \"4\")\n",
    "\n",
    "print(\"Shape's color: \" + shape_3.color)\n",
    "print(\"Shape's name: \" + shape_3.shape)\n",
    "print(\"Number of sides: \" + shape_3.sides)\n",
    "\n",
    "shape_4 = Shape(\"green\", \"pentagon\", \"5\")\n",
    "\n",
    "print(\"Shape's color: \" + shape_4.color)\n",
    "print(\"Shape's name: \" + shape_4.shape)\n",
    "print(\"Number of sides: \" + shape_4.sides)"
   ]
  },
  {
   "cell_type": "markdown",
   "metadata": {},
   "source": [
    "## Activity 4\n",
    "Create a method for your `Noun` class. The method should perform a specific activity (or series of activities) on objects based on the class. \n",
    "\n",
    "Although this can be a simple `display`, you are encouraged to consider more complicated activities in the method."
   ]
  },
  {
   "cell_type": "code",
   "execution_count": 9,
   "metadata": {},
   "outputs": [
    {
     "name": "stdout",
     "output_type": "stream",
     "text": [
      "Shape's color: multi\n",
      "Shape's name: circle\n",
      "Number of sides: none\n",
      "Shape's color: blue\n",
      "Shape's name: triangle\n",
      "Number of sides: 3\n",
      "Shape's color: red\n",
      "Shape's name: square\n",
      "Number of sides: 4\n",
      "Shape's color: green\n",
      "Shape's name: pentagon\n",
      "Number of sides: 5\n",
      "circle\n",
      "none\n"
     ]
    }
   ],
   "source": [
    "# your code here\n",
    "class Shape:\n",
    "    color = \"\"\n",
    "    shape = \"\"\n",
    "    sides = \"\"\n",
    "    def __init__(self, c,s,sd):\n",
    "        self.color = c\n",
    "        self.shape = s\n",
    "        self.sides = sd\n",
    "    def find_info(self):\n",
    "        if self.color == \"multi\":\n",
    "            print(self.shape)\n",
    "            print(self.sides)\n",
    "    \n",
    "shape_1 = Shape(\"multi\", \"circle\", \"none\")\n",
    "\n",
    "print(\"Shape's color: \" + shape_1.color)\n",
    "print(\"Shape's name: \" + shape_1.shape)\n",
    "print(\"Number of sides: \" + shape_1.sides)\n",
    "\n",
    "shape_2 = Shape(\"blue\", \"triangle\", \"3\")\n",
    "\n",
    "print(\"Shape's color: \" + shape_2.color)\n",
    "print(\"Shape's name: \" + shape_2.shape)\n",
    "print(\"Number of sides: \" + shape_2.sides)\n",
    "\n",
    "shape_3 = Shape(\"red\", \"square\", \"4\")\n",
    "\n",
    "print(\"Shape's color: \" + shape_3.color)\n",
    "print(\"Shape's name: \" + shape_3.shape)\n",
    "print(\"Number of sides: \" + shape_3.sides)\n",
    "\n",
    "shape_4 = Shape(\"green\", \"pentagon\", \"5\")\n",
    "\n",
    "print(\"Shape's color: \" + shape_4.color)\n",
    "print(\"Shape's name: \" + shape_4.shape)\n",
    "print(\"Number of sides: \" + shape_4.sides)\n",
    "\n",
    "shape_1.find_info()"
   ]
  },
  {
   "cell_type": "markdown",
   "metadata": {},
   "source": [
    "## Activity 5\n",
    "Create a separate class that is logically related to your original `Noun` class, based on the example that a `Person` can have one or more `Addresses`.\n",
    "\t\n",
    "Create at least one `Noun` object that includes a list of objects from the associated class. Display the `Noun` with the related objects."
   ]
  },
  {
   "cell_type": "code",
   "execution_count": 22,
   "metadata": {
    "scrolled": true
   },
   "outputs": [
    {
     "name": "stdout",
     "output_type": "stream",
     "text": [
      "multi\n",
      "circle\n",
      "multi round\n",
      "red rounded\n",
      "blue no lines\n"
     ]
    }
   ],
   "source": [
    "# your code here\n",
    "class Types_Shape:\n",
    "    color = None\n",
    "    types = None\n",
    "    def __init__(self, c, t):\n",
    "        self.color = c\n",
    "        self.types = t\n",
    "    def display(self):\n",
    "        print(self.color + \" \" + self.types)\n",
    "class Shape:\n",
    "    shape = None\n",
    "    sides = None\n",
    "    types_shapes = None\n",
    "    def __init__(self, s, sd, ts):\n",
    "        self.shape = s\n",
    "        self.sides = sd\n",
    "        self.types_shapes = ts\n",
    "    def display_info(self):\n",
    "            print(self.shape)\n",
    "            print(self.sides)\n",
    "            for i in self.types_shapes:\n",
    "                Types_Shape.display(i)\n",
    "    def add_types_shapes(self, ts):\n",
    "        self.types_shapes.append(ts)\n",
    "    \n",
    "types_shapes_1 = Types_Shape(\"multi\", \"round\")\n",
    "types_shapes_2 = Types_Shape(\"red\", \"rounded\")\n",
    "\n",
    "types_shapes = list()\n",
    "\n",
    "types_shapes.append(types_shapes_1)\n",
    "types_shapes.append(types_shapes_2)\n",
    "    \n",
    "shape_1 = Shape(\"multi\", \"circle\", types_shapes)\n",
    "\n",
    "types_shapes_3 = Types_Shape(\"blue\", \"no lines\")\n",
    "\n",
    "shape_1.add_types_shapes(types_shapes_3)\n",
    "\n",
    "shape_1.display_info()"
   ]
  },
  {
   "cell_type": "code",
   "execution_count": null,
   "metadata": {},
   "outputs": [],
   "source": []
  }
 ],
 "metadata": {
  "kernelspec": {
   "display_name": "Python 3",
   "language": "python",
   "name": "python3"
  },
  "language_info": {
   "codemirror_mode": {
    "name": "ipython",
    "version": 3
   },
   "file_extension": ".py",
   "mimetype": "text/x-python",
   "name": "python",
   "nbconvert_exporter": "python",
   "pygments_lexer": "ipython3",
   "version": "3.8.5"
  }
 },
 "nbformat": 4,
 "nbformat_minor": 2
}

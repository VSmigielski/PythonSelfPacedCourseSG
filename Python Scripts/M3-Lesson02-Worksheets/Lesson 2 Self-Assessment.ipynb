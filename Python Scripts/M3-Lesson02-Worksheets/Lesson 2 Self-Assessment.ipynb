{
 "cells": [
  {
   "cell_type": "markdown",
   "metadata": {},
   "source": [
    "Design a class called SimpleCalculator that performs basic math operations (addition, subtraction, multiplication, division) on two operands.\n",
    "Create a separate method for each operation in the class.\n",
    "The program should accept two values and an operator from the user, perform the selected operation using those two values, and display the result to the user in a meaningful way.\n",
    "The user should be able to exit the program at any time, using a keyword like \"Quit\" or \"Exit\" in any letter case.\n",
    "If the user chooses to exit, the program should end with an appropriate output message thanking the user."
   ]
  },
  {
   "cell_type": "code",
   "execution_count": 11,
   "metadata": {},
   "outputs": [
    {
     "name": "stdout",
     "output_type": "stream",
     "text": [
      "Please enter a number: 1\n",
      "Please enter another number: 2\n",
      "Please enter an operand or 'quit': +\n",
      "1 + 2 = 3\n"
     ]
    }
   ],
   "source": [
    "# Veronica Smigielski 24/04/2021\n",
    "class SimpleCalculator:\n",
    "    operand_1 = None\n",
    "    operand_2 = None\n",
    "    operator = None\n",
    "    \n",
    "    def __init__(self,op1,op2,op3):\n",
    "        self.operand_1 = op1\n",
    "        self.operand_2 = op2\n",
    "        self.operator = op3\n",
    "    \n",
    "    def check(self):\n",
    "        sum = 0\n",
    "        if self.operator.lower() != \"quit\":\n",
    "            if self.operator == \"+\":\n",
    "                 SimpleCalculator.add(self)\n",
    "            elif self.operator == \"-\":\n",
    "                SimpleCalculator.subtract(self)\n",
    "            elif self.operator == \"*\":\n",
    "                SimpleCalculator.multiply(self)\n",
    "            elif self.operator == \"/\":\n",
    "                SimpleCalculator.divide(self)\n",
    "        \n",
    "    def display(self):\n",
    "        print(\"This is the first number: \" + operand_1 + \"\\nThis is the second number: \" + operand_2 + \"\\nThis is the operator: \" + operator)\n",
    "        \n",
    "        \n",
    "    def add(self):\n",
    "        sum = self.operand_1 + self.operand_2\n",
    "        print(self.operand_1, self.operator, self.operand_2, \"=\", sum)\n",
    "    \n",
    "    def subtract(self):\n",
    "        sum = self.operand_1 - self.operand_2\n",
    "        print(self.operand_1, self.operator, self.operand_2, \"=\", sum)\n",
    "    \n",
    "    def multiply(self):\n",
    "        sum = self.operand_1 * self.operand_2\n",
    "        print(self.operand_1, self.operator, self.operand_2, \"=\", sum)\n",
    "    \n",
    "    def divide(self):\n",
    "        sum = self.operand_1 / self.operand_2\n",
    "        print(self.operand_1, self.operator, self.operand_2, \"=\", sum)\n",
    "\n",
    "op1 = int(input(\"Please enter a number: \"))\n",
    "op2 = int(input(\"Please enter another number: \"))\n",
    "op3 = input(\"Please enter an operand or 'quit': \")\n",
    "\n",
    "a = SimpleCalculator(op1, op2, op3)\n",
    "\n",
    "a.check()"
   ]
  },
  {
   "cell_type": "code",
   "execution_count": null,
   "metadata": {},
   "outputs": [],
   "source": []
  },
  {
   "cell_type": "code",
   "execution_count": null,
   "metadata": {},
   "outputs": [],
   "source": []
  }
 ],
 "metadata": {
  "kernelspec": {
   "display_name": "Python 3",
   "language": "python",
   "name": "python3"
  },
  "language_info": {
   "codemirror_mode": {
    "name": "ipython",
    "version": 3
   },
   "file_extension": ".py",
   "mimetype": "text/x-python",
   "name": "python",
   "nbconvert_exporter": "python",
   "pygments_lexer": "ipython3",
   "version": "3.8.5"
  }
 },
 "nbformat": 4,
 "nbformat_minor": 4
}

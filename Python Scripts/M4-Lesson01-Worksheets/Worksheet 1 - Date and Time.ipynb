{
 "cells": [
  {
   "cell_type": "markdown",
   "metadata": {},
   "source": [
    "# Worksheet: Date and Time\n",
    "This worksheet corresponds to *Lesson 1: Date and Time* in the online course. Refer to that page as necessary to complete the practice activities here."
   ]
  },
  {
   "cell_type": "markdown",
   "metadata": {},
   "source": [
    "## Practice 1A\n",
    "Display the current date and time using `today()` instead of `now()`."
   ]
  },
  {
   "cell_type": "code",
   "execution_count": 2,
   "metadata": {},
   "outputs": [
    {
     "name": "stdout",
     "output_type": "stream",
     "text": [
      "2021-04-27 14:55:39.646567\n",
      "2021-04-27 14:55:39.646567\n"
     ]
    }
   ],
   "source": [
    "# your code here\n",
    "import datetime\n",
    "\n",
    "time_now = datetime.datetime.now()\n",
    "time_today = datetime.datetime.today()\n",
    "\n",
    "print(time_now)\n",
    "print(time_today)"
   ]
  },
  {
   "cell_type": "markdown",
   "metadata": {},
   "source": [
    "## Practice 1B\n",
    "Create a script that prints your birthday or another important date. Try using `datetime.datetime()` instead of `datetime.date()` to see how the outputs are different.\n",
    "\n",
    "Once the date works, try generating a specific time using the syntax:\n",
    "\n",
    "    datetime.time(hour, minute, second)\n",
    "    \n",
    "**Bonus**: Can you figure out how to use a single statement to generate a `datetime` object that includes both the date and the time?"
   ]
  },
  {
   "cell_type": "code",
   "execution_count": 5,
   "metadata": {},
   "outputs": [
    {
     "name": "stdout",
     "output_type": "stream",
     "text": [
      "1995-11-27\n",
      "1995-11-27 00:00:00\n",
      "14:59:59\n"
     ]
    }
   ],
   "source": [
    "# your code here\n",
    "import datetime\n",
    " \n",
    "veronica_bday = datetime.date(1995, 11, 27)\n",
    "print(veronica_bday)\n",
    "\n",
    "veronica_bday = datetime.datetime(1995, 11, 27)\n",
    "print(veronica_bday)\n",
    "\n",
    "time_now = datetime.time(14, 59, 59)\n",
    "print(time_now)"
   ]
  },
  {
   "cell_type": "markdown",
   "metadata": {},
   "source": [
    "## Practice 1C\n",
    "\n",
    "Using the example above, extract the current hour and minute as separate values from the date provided and display each value separately."
   ]
  },
  {
   "cell_type": "code",
   "execution_count": 7,
   "metadata": {},
   "outputs": [
    {
     "name": "stdout",
     "output_type": "stream",
     "text": [
      "11\n",
      "26\n",
      "26\n"
     ]
    }
   ],
   "source": [
    "# your code here\n",
    "d = \"2019-07-23 11:26:26.047342\"\n",
    "(d,t) = d.split()\n",
    "(hour,minute,second) = t.split(\":\")\n",
    "(second, decimal) = second.split(\".\")\n",
    "print(hour)\n",
    "print(minute)\n",
    "print(second)"
   ]
  },
  {
   "cell_type": "markdown",
   "metadata": {},
   "source": [
    "## Practice 2\n",
    "Write a script where the user inputs a date: \n",
    "* Prompt the user for a year.\n",
    "* Prompt the user for a month.\n",
    "* Prompt the user for a day.\n",
    "\n",
    "Compute the current date, compare that value to the date from the user, and using only `if` statements, display one of the following messages: \n",
    "* If the date provided by the user happens before the current date: \"You are in the past.\"  \n",
    "* If the date provided by the user happens after the current date: \"You are in the future.\"\n",
    "* If the date provided by the user is the same as the current date (without time): \"That's today!\"\n",
    "\n",
    "Do not use any `datetime` functions except to calculate the current date. "
   ]
  },
  {
   "cell_type": "code",
   "execution_count": 28,
   "metadata": {},
   "outputs": [
    {
     "name": "stdout",
     "output_type": "stream",
     "text": [
      "Enter a year: 2019\n",
      "Enter a month: 05\n",
      "Enter a day: 01\n",
      "You are in the past!\n"
     ]
    }
   ],
   "source": [
    "year = int(input(\"Enter a year: \"))\n",
    "month = int(input(\"Enter a month: \"))\n",
    "if month < 1 or month > 12:\n",
    "    month = int(input(\"Please enter a valid month: \"))\n",
    "day = int(input(\"Enter a day: \"))\n",
    "if day < 1 or day > 31:\n",
    "    day = int(input(\"Please enter a valid day: \"))\n",
    "time_now = datetime.datetime.now()\n",
    "\n",
    "#your code goes here \n",
    "if time_now.year > year:\n",
    "    print(\"You are in the past!\")\n",
    "elif time_now.year < year:\n",
    "    print(\"You are in the future!\")\n",
    "else:\n",
    "    if time_now.month > month:\n",
    "        print(\"You are in the past!\")\n",
    "    elif time_now.month < month:\n",
    "        print(\"You are in the future!\")\n",
    "    else:\n",
    "        if time_now.day > day:\n",
    "            print(\"You are in the past!\")\n",
    "        elif time_now.day == day:\n",
    "            print(\"That's today!\")\n",
    "        else:\n",
    "            print(\"You are in the future!\")"
   ]
  },
  {
   "cell_type": "markdown",
   "metadata": {},
   "source": [
    "## Practice 3\n",
    "Create a script that asks the user for a year, month, and day, creates a `datetime` object from the input, and displays the date.\n",
    "\n",
    "Include the following validations:\n",
    "* The year must be between 1900 and 2100.\n",
    "* The month must be a value between 1 and 12.\n",
    "* The day must be a value between 1 and 31.\n",
    "\n",
    "All ranges are inclusive. The script should display a user-friendly message if an input value is out of range.\n",
    "\n",
    "**Bonus goal**: Validate the day based on the month. For example, April 31 is not a valid date because April has only 30 days."
   ]
  },
  {
   "cell_type": "code",
   "execution_count": 27,
   "metadata": {},
   "outputs": [
    {
     "name": "stdout",
     "output_type": "stream",
     "text": [
      "Enter a year: 2020\n",
      "Enter a month: 2\n",
      "Enter a day: 29\n",
      "Please enter a valid day: 28\n",
      "2020-02-28\n"
     ]
    }
   ],
   "source": [
    "# your code here\n",
    "user_year = int(input(\"Enter a year: \"))\n",
    "if user_year < 1900 or user_year > 2100:\n",
    "    user_year = int(input(\"Please enter a valid year: \"))\n",
    "user_month = int(input(\"Enter a month: \"))\n",
    "if user_month < 1 or user_month > 12:\n",
    "    user_month = int(input(\"Please enter a valid month: \"))\n",
    "user_day = int(input(\"Enter a day: \"))\n",
    "if user_month == 1 or user_month == 3 or user_month == 5 or user_month == 7 or user_month == 8 or user_month == 10 or user_month == 12:\n",
    "    if user_day < 1 or user_day > 31:\n",
    "        user_day = int(input(\"Please enter a valid day: \"))\n",
    "elif user_month == 2:\n",
    "    if user_day < 1 or user_day > 28:\n",
    "        user_day = int(input(\"Please enter a valid day: \"))\n",
    "else:\n",
    "    if user_day < 1 or user_day > 30:\n",
    "        user_day = int(input(\"Please enter a valid day: \"))\n",
    "t = datetime.date(year=user_year, day=user_day, month=user_month)\n",
    "\n",
    "print(t)\n",
    "\n",
    "#if 1900 <= year <= 2100 and 1 <= month <= 12 and 1 <= day <= 31:\n",
    "#    if ((month == 4 or 6 or 9 or 11) and day <= 30) or (month == 2 and ((year % 4 == 0 and day <= 29) or (year % 4 != 0 and day <= 28))):\n",
    "#        print(datetime.date(year, month, day))\n",
    "#    else:\n",
    "#        print(\"Wrong data! Input for month out of range!\")\n",
    "#else:\n",
    "#    print(\"Wrong data! Input out of range!\")"
   ]
  },
  {
   "cell_type": "markdown",
   "metadata": {},
   "source": [
    "## Practice 4\n",
    "Create a script that receives a date input from the user in the following format:\n",
    "* Prompt the user for the year.\n",
    "* Prompt the user for the month.\n",
    "* Prompt the user for the day.\n",
    "\n",
    "Use comparison operators to compare the user's date and the current date, and display one of the following messages:\n",
    "* If the date provided by the user happens before the current date: \"That date is in the past.\"  \n",
    "* If the date provided by the user happens after the current date: \"That date is in the future.\"\n",
    "* If the date provided by the user is the same as the current date (without time): \"That date is today!\""
   ]
  },
  {
   "cell_type": "code",
   "execution_count": 38,
   "metadata": {},
   "outputs": [
    {
     "name": "stdout",
     "output_type": "stream",
     "text": [
      "Enter a year: 2023\n",
      "Enter a month: 05\n",
      "Enter a day: 01\n",
      "That date is in the future.\n"
     ]
    }
   ],
   "source": [
    "# your code here\n",
    "import datetime\n",
    "\n",
    "user_year = int(input(\"Enter a year: \"))\n",
    "if user_year < 1900 or user_year > 2100:\n",
    "    user_year = int(input(\"Please enter a valid year: \"))\n",
    "user_month = int(input(\"Enter a month: \"))\n",
    "if user_month < 1 or user_month > 12:\n",
    "    user_month = int(input(\"Please enter a valid month: \"))\n",
    "user_day = int(input(\"Enter a day: \"))\n",
    "if user_month == 1 or user_month == 3 or user_month == 5 or user_month == 7 or user_month == 8 or user_month == 10 or user_month == 12:\n",
    "    if user_day < 1 or user_day > 31:\n",
    "        user_day = int(input(\"Please enter a valid day: \"))\n",
    "elif user_month == 2:\n",
    "    if user_day < 1 or user_day > 28:\n",
    "        user_day = int(input(\"Please enter a valid day: \"))\n",
    "else:\n",
    "    if user_day < 1 or user_day > 30:\n",
    "        user_day = int(input(\"Please enter a valid day: \"))\n",
    "        \n",
    "t1 = datetime.date(year=user_year, day=user_day, month=user_month)\n",
    "\n",
    "time_now = datetime.datetime.now()\n",
    "t2 = datetime.date(year=time_now.year, day=time_now.day, month=time_now.month)\n",
    "\n",
    "if t1 > t2:\n",
    "    print(\"That date is in the future.\")\n",
    "elif t1 < t2:\n",
    "    print(\"That date is in the past.\")\n",
    "else:\n",
    "    print(\"That date is today!\")"
   ]
  },
  {
   "cell_type": "markdown",
   "metadata": {},
   "source": [
    "## Practice 5\n",
    "Create a script that receives a date and time input from the user in the following format:\n",
    "* Ask the user for the year.\n",
    "* Ask the user for the month.\n",
    "* Ask the user for the day.\n",
    "* Ask the user for an hour value (in 24-hour format).\n",
    "* Ask the user for a minute value.\n",
    "\n",
    "Convert the input to a `datetime` value and compare it to the current UTC date and time. Display one of the following messages:\n",
    "* If the date provided by the user happens before the current date: \"You are in the past.\"  \n",
    "* If the date provided by the user happens after the current date: \"You are in the future.\"\n",
    "* If the date provided by the user is the same as the current date (without time): \"That's today!\""
   ]
  },
  {
   "cell_type": "code",
   "execution_count": 46,
   "metadata": {},
   "outputs": [
    {
     "name": "stdout",
     "output_type": "stream",
     "text": [
      "Enter a year: 2021\n",
      "Enter a month: 4\n",
      "Enter a day: 30\n",
      "Enter the current hour: 23\n",
      "Enter the current minute: 25\n",
      "2021-04-30 23:25:00\n",
      "2021-04-30 23:25:23.889988\n",
      "You are in the past.\n"
     ]
    }
   ],
   "source": [
    "# your code here\n",
    "import datetime\n",
    "\n",
    "user_year = int(input(\"Enter a year: \"))\n",
    "if user_year < 1900 or user_year > 2100:\n",
    "    user_year = int(input(\"Please enter a valid year: \"))\n",
    "user_month = int(input(\"Enter a month: \"))\n",
    "if user_month < 1 or user_month > 12:\n",
    "    user_month = int(input(\"Please enter a valid month: \"))\n",
    "user_day = int(input(\"Enter a day: \"))\n",
    "if user_month == 1 or user_month == 3 or user_month == 5 or user_month == 7 or user_month == 8 or user_month == 10 or user_month == 12:\n",
    "    if user_day < 1 or user_day > 31:\n",
    "        user_day = int(input(\"Please enter a valid day: \"))\n",
    "elif user_month == 2:\n",
    "    if user_day < 1 or user_day > 28:\n",
    "        user_day = int(input(\"Please enter a valid day: \"))\n",
    "else:\n",
    "    if user_day < 1 or user_day > 30:\n",
    "        user_day = int(input(\"Please enter a valid day: \"))\n",
    "        \n",
    "user_hour = int(input(\"Enter the current hour: \"))\n",
    "if user_hour < 0 or user_hour > 23:\n",
    "    user_hour = int(input(\"Please enter a valid hour: \"))\n",
    "user_minute = int(input(\"Enter the current minute: \"))\n",
    "if user_minute < 0 or user_minute > 59:\n",
    "    user_minute = int(input(\"Please enter a valid minute: \"))\n",
    "    \n",
    "t1 = datetime.datetime(user_year, user_month, user_day, user_hour, user_minute)\n",
    "\n",
    "time_now = datetime.datetime.utcnow()\n",
    "\n",
    "print(t1)\n",
    "print(time_now)\n",
    "\n",
    "if t1 > time_now:\n",
    "    print(\"You are in the future.\")\n",
    "elif t1 < time_now:\n",
    "    print(\"You are in the past.\")\n",
    "else:\n",
    "    print(\"That's today!\")"
   ]
  },
  {
   "cell_type": "markdown",
   "metadata": {},
   "source": [
    "## Practice 6\n",
    "Prompt the user to input a date as year, month, and day values. Convert the input to a `datetime` object and display the `timestamp` value of the date as an integer in seconds."
   ]
  },
  {
   "cell_type": "code",
   "execution_count": 48,
   "metadata": {},
   "outputs": [
    {
     "name": "stdout",
     "output_type": "stream",
     "text": [
      "Enter a year: 2020\n",
      "Enter a month: 1\n",
      "Enter a day: 22\n",
      "Enter the current hour: 10\n",
      "Enter the current minute: 15\n",
      "2020-01-22 10:15:00\n",
      "1579684500\n"
     ]
    }
   ],
   "source": [
    "# your code here\n",
    "import datetime\n",
    "import math\n",
    "\n",
    "user_year = int(input(\"Enter a year: \"))\n",
    "if user_year < 1900 or user_year > 2100:\n",
    "    user_year = int(input(\"Please enter a valid year: \"))\n",
    "user_month = int(input(\"Enter a month: \"))\n",
    "if user_month < 1 or user_month > 12:\n",
    "    user_month = int(input(\"Please enter a valid month: \"))\n",
    "user_day = int(input(\"Enter a day: \"))\n",
    "if user_month == 1 or user_month == 3 or user_month == 5 or user_month == 7 or user_month == 8 or user_month == 10 or user_month == 12:\n",
    "    if user_day < 1 or user_day > 31:\n",
    "        user_day = int(input(\"Please enter a valid day: \"))\n",
    "elif user_month == 2:\n",
    "    if user_day < 1 or user_day > 28:\n",
    "        user_day = int(input(\"Please enter a valid day: \"))\n",
    "else:\n",
    "    if user_day < 1 or user_day > 30:\n",
    "        user_day = int(input(\"Please enter a valid day: \"))\n",
    "    \n",
    "t1 = datetime.datetime(user_year, user_month, user_day)\n",
    "\n",
    "tstamp = math.floor(datetime.datetime.timestamp(t1))\n",
    "\n",
    "print(t1)\n",
    "print(tstamp)"
   ]
  },
  {
   "cell_type": "markdown",
   "metadata": {},
   "source": [
    "## Practice 7\n",
    "Create a script that asks the user for a timestamp value and then displays the equivalent date in a human readable format.  \n",
    "\n",
    "It should keep asking the user for an input value until they enter the word \"Quit\" in any letter case. \n",
    "\n",
    "**Tip**: It is always good practice to tell the user how to exit a loop!"
   ]
  },
  {
   "cell_type": "code",
   "execution_count": 53,
   "metadata": {},
   "outputs": [
    {
     "name": "stdout",
     "output_type": "stream",
     "text": [
      "Enter a timestamp value or 'quit' to end the program: 1355689900\n",
      "2012-12-16 21:31:40\n",
      "Enter a timestamp value or 'quit' to end the program: quit\n"
     ]
    }
   ],
   "source": [
    "# your code goes here\n",
    "user_input = \"\"\n",
    "while user_input.lower() != \"quit\":\n",
    "    user_input = input(\"Enter a timestamp value or 'quit' to end the program: \")\n",
    "    if user_input.lower() != \"quit\":\n",
    "        d = datetime.datetime.fromtimestamp(int(user_input)) \n",
    "        print(d)\n",
    "    else:\n",
    "        break"
   ]
  },
  {
   "cell_type": "markdown",
   "metadata": {},
   "source": [
    "## Practice 8\n",
    "Create a script that performs the following actions:\n",
    "* Prompt the user for a date in the year, month, day format that we have used in earlier activities in this lesson.\n",
    "* Then, output an appropriate message:\n",
    "    * If the user's date occurs before today's date, output the message: \"That date was `x` days ago. In `x` days, the date will be `y`.\"\n",
    "    * If the user's date is after today, output the message: \"That date is `x` days in the future. `x` days ago, the date was `y`.\n",
    "    * If the user enters today's date, output the message: \"That's today! In six months, the date will be `y`.\"\n",
    "\n",
    "Each message should display appropriate values for `x` and `y`, where `x` is an integer and `y` is a date."
   ]
  },
  {
   "cell_type": "code",
   "execution_count": 70,
   "metadata": {},
   "outputs": [
    {
     "name": "stdout",
     "output_type": "stream",
     "text": [
      "Enter a year: 2022\n",
      "Enter a month: 5\n",
      "Enter a day: 1\n",
      "That date is 365 days in the future. 365 days ago, the date was 2022-05-01 00:00:00 .\n"
     ]
    }
   ],
   "source": [
    "# your code here\n",
    "from datetime import date\n",
    "from dateutil.relativedelta import relativedelta\n",
    "\n",
    "user_year = int(input(\"Enter a year: \"))\n",
    "if user_year < 1900 or user_year > 2100:\n",
    "    user_year = int(input(\"Please enter a valid year: \"))\n",
    "user_month = int(input(\"Enter a month: \"))\n",
    "if user_month < 1 or user_month > 12:\n",
    "    user_month = int(input(\"Please enter a valid month: \"))\n",
    "user_day = int(input(\"Enter a day: \"))\n",
    "if user_month == 1 or user_month == 3 or user_month == 5 or user_month == 7 or user_month == 8 or user_month == 10 or user_month == 12:\n",
    "    if user_day < 1 or user_day > 31:\n",
    "        user_day = int(input(\"Please enter a valid day: \"))\n",
    "elif user_month == 2:\n",
    "    if user_day < 1 or user_day > 28:\n",
    "        user_day = int(input(\"Please enter a valid day: \"))\n",
    "else:\n",
    "    if user_day < 1 or user_day > 30:\n",
    "        user_day = int(input(\"Please enter a valid day: \"))\n",
    "\n",
    "d_other = datetime.datetime(user_year, user_month, user_day)\n",
    "t = datetime.datetime.now()\n",
    "d_now = datetime.datetime(t.year, t.month, t.day)\n",
    "\n",
    "if d_other < d_now:\n",
    "    days_passed = d_now - d_other\n",
    "    print(\"That date was\", days_passed.days, \"days ago. In\", days_passed.days,\"days, the date will be\", d_now, \".\")\n",
    "elif d_other > d_now:\n",
    "    days_passed = d_other - d_now\n",
    "    print(\"That date is\", days_passed.days, \"days in the future.\", days_passed.days, \"days ago, the date was\", d_other, \".\")\n",
    "else:\n",
    "    six_months = date.today() + relativedelta(months=+6)\n",
    "    print(\"That's today! In six months, the date will be\", six_months, \".\")"
   ]
  },
  {
   "cell_type": "markdown",
   "metadata": {},
   "source": [
    "## Practice 9\n",
    "Repeat the previous practice activity using `date` instead of `datetime`.\n",
    "\n",
    "Create a script that performs the following actions:\n",
    "\n",
    "* Prompt the user for a date in the year, month, day format that we have used in earlier activities in this lesson.\n",
    "* Then, output an appropriate message:\n",
    "    * If the user's date occurs before today's date, output the message: \"That date was `x` days ago. In `x` days, the date will be `y`.\"\n",
    "    * If the user's date is after today, output the message: \"That date is `x` days in the future. `x` days ago, the date was `y`.\n",
    "    * If the user enters today's date, output the message: \"That's today! In six months, the date will be `y`.\"\n",
    "\n",
    "Each message should display appropriate values for `x` and `y`, where `x` is an integer and `y` is a date\n",
    "\n",
    "How does using `date` instead of `datetime` simplify this exercise?"
   ]
  },
  {
   "cell_type": "code",
   "execution_count": 76,
   "metadata": {},
   "outputs": [
    {
     "name": "stdout",
     "output_type": "stream",
     "text": [
      "Enter a year: 2022\n",
      "Enter a month: 5\n",
      "Enter a day: 1\n",
      "That date is 365 days in the future. 365 days ago, the date was 2022-05-01 .\n"
     ]
    }
   ],
   "source": [
    "# your code here\n",
    "from datetime import date\n",
    "from dateutil.relativedelta import relativedelta\n",
    "\n",
    "user_year = int(input(\"Enter a year: \"))\n",
    "if user_year < 1900 or user_year > 2100:\n",
    "    user_year = int(input(\"Please enter a valid year: \"))\n",
    "user_month = int(input(\"Enter a month: \"))\n",
    "if user_month < 1 or user_month > 12:\n",
    "    user_month = int(input(\"Please enter a valid month: \"))\n",
    "user_day = int(input(\"Enter a day: \"))\n",
    "if user_month == 1 or user_month == 3 or user_month == 5 or user_month == 7 or user_month == 8 or user_month == 10 or user_month == 12:\n",
    "    if user_day < 1 or user_day > 31:\n",
    "        user_day = int(input(\"Please enter a valid day: \"))\n",
    "elif user_month == 2:\n",
    "    if user_day < 1 or user_day > 28:\n",
    "        user_day = int(input(\"Please enter a valid day: \"))\n",
    "else:\n",
    "    if user_day < 1 or user_day > 30:\n",
    "        user_day = int(input(\"Please enter a valid day: \"))\n",
    "\n",
    "d_other = datetime.date(user_year, user_month, user_day)\n",
    "t = date.today()\n",
    "\n",
    "if d_other < t:\n",
    "    days_passed = t - d_other\n",
    "    print(\"That date was\", days_passed.days, \"days ago. In\", days_passed.days,\"days, the date will be\", t, \".\")\n",
    "elif d_other > t:\n",
    "    days_passed = d_other - t\n",
    "    print(\"That date is\", days_passed.days, \"days in the future.\", days_passed.days, \"days ago, the date was\", d_other, \".\")\n",
    "else:\n",
    "    six_months = t + relativedelta(months=+6)\n",
    "    print(\"That's today! In six months, the date will be\", six_months, \".\")"
   ]
  },
  {
   "cell_type": "markdown",
   "metadata": {},
   "source": [
    "## Practice 10\n",
    "Do some research online and provide one example of how to use time in the US format (am and pm) instead of 24-hour time."
   ]
  },
  {
   "cell_type": "code",
   "execution_count": 81,
   "metadata": {},
   "outputs": [
    {
     "name": "stdout",
     "output_type": "stream",
     "text": [
      "Enter a military time: 16:23\n",
      "04:23:00 PM\n",
      "02:17:37 AM\n"
     ]
    }
   ],
   "source": [
    "# your code here\n",
    "from datetime import datetime\n",
    "import time\n",
    "user_input = input(\"Enter a military time: \")\n",
    "s = datetime.strptime(user_input, \"%H:%M\")\n",
    "print(s.strftime(\"%r\"))\n",
    "\n",
    "time12 = time.strftime(\"%I:%M:%S %p\")\n",
    "print(time12)"
   ]
  },
  {
   "cell_type": "code",
   "execution_count": null,
   "metadata": {},
   "outputs": [],
   "source": []
  }
 ],
 "metadata": {
  "kernelspec": {
   "display_name": "Python 3",
   "language": "python",
   "name": "python3"
  },
  "language_info": {
   "codemirror_mode": {
    "name": "ipython",
    "version": 3
   },
   "file_extension": ".py",
   "mimetype": "text/x-python",
   "name": "python",
   "nbconvert_exporter": "python",
   "pygments_lexer": "ipython3",
   "version": "3.8.5"
  }
 },
 "nbformat": 4,
 "nbformat_minor": 2
}

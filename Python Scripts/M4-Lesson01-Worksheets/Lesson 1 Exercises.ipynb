{
 "cells": [
  {
   "cell_type": "markdown",
   "metadata": {},
   "source": [
    "# Lesson 1 Activities: DateTime\n",
    "The exercises on this page will allow you to demonstrate your ability to:\n",
    "* Define a value as a date or as a time.\n",
    "* Split a `datetime` value into individual values, such as year, month, day, and hour.\n",
    "* Use time and date values in a variety of operations."
   ]
  },
  {
   "cell_type": "markdown",
   "metadata": {},
   "source": [
    "## Activity 1\n",
    "Write a program to display the following: \n",
    "\n",
    "* Current date and time \n",
    "* Current year \n",
    "* Current month\n",
    "* Week number of the year \n",
    "* Weekday of the week \n",
    "* Day of the year \n",
    "* Day of the month \n",
    "* Day of the week "
   ]
  },
  {
   "cell_type": "code",
   "execution_count": 1,
   "metadata": {},
   "outputs": [
    {
     "name": "stdout",
     "output_type": "stream",
     "text": [
      "2021-05-01 12:37:48.249969\n",
      "Current date and time:  2021\n",
      "Current year:  5\n",
      "Month of year:  May\n",
      "Week number of the year:  17\n",
      "Weekday of the week:  6\n",
      "Day of year:  121\n",
      "Day of the month :  01\n",
      "Day of week:  Saturday\n"
     ]
    }
   ],
   "source": [
    "# your code here\n",
    "import datetime\n",
    "import time\n",
    "\n",
    "time_now = datetime.datetime.now()\n",
    "print(time_now)\n",
    "print(\"Current date and time: \", time_now.year)\n",
    "print(\"Current year: \", time_now.month)\n",
    "print(\"Month of year: \", datetime.date.today().strftime(\"%B\"))\n",
    "print(\"Week number of the year: \", datetime.date.today().strftime(\"%W\"))\n",
    "print(\"Weekday of the week: \", datetime.date.today().strftime(\"%w\"))\n",
    "print(\"Day of year: \", datetime.date.today().strftime(\"%j\"))\n",
    "print(\"Day of the month : \", datetime.date.today().strftime(\"%d\"))\n",
    "print(\"Day of week: \", datetime.date.today().strftime(\"%A\"))\n"
   ]
  },
  {
   "cell_type": "markdown",
   "metadata": {},
   "source": [
    "## Activity 2 \n",
    "\n",
    "Write a function that prompts the user for a year and checks if it is a leap year. The function should return `True` if the input is a leap year and `False` otherwise. \n",
    "\n",
    "Make sure to test your code with various inputs. "
   ]
  },
  {
   "cell_type": "code",
   "execution_count": 4,
   "metadata": {},
   "outputs": [
    {
     "name": "stdout",
     "output_type": "stream",
     "text": [
      "Enter a year: 2019\n",
      "False\n"
     ]
    }
   ],
   "source": [
    "# your code here\n",
    "def is_leap(year):\n",
    "    leap = False\n",
    "    \n",
    "    # Write your logic here\n",
    "    if year % 400 == 0:\n",
    "        leap = True\n",
    "    elif year % 100 == 0:\n",
    "        leap = False\n",
    "    elif year % 4 == 0:\n",
    "        leap = True\n",
    "    \n",
    "    return leap\n",
    "    \n",
    "year = int(input(\"Enter a year: \"))\n",
    "print(is_leap(year))"
   ]
  },
  {
   "cell_type": "markdown",
   "metadata": {},
   "source": [
    "## Activity 3 \n",
    "\n",
    "Write a function that prompts the user for a date (or uses the current date if the user does not input a date) and subtracts five days from that date. The function should return the new date.\n",
    "\n",
    "Display the result to the user. "
   ]
  },
  {
   "cell_type": "code",
   "execution_count": 5,
   "metadata": {},
   "outputs": [
    {
     "name": "stdout",
     "output_type": "stream",
     "text": [
      "Current Date : 2021-05-01\n",
      "5 days before Current Date : 2021-04-26\n"
     ]
    }
   ],
   "source": [
    "# your code here\n",
    "from datetime import date, timedelta\n",
    "dt = date.today() - timedelta(5)\n",
    "print('Current Date :', date.today())\n",
    "print('5 days before Current Date :', dt)"
   ]
  },
  {
   "cell_type": "markdown",
   "metadata": {},
   "source": [
    "## Activity 4 \n",
    "\n",
    "Write a program that converts a Unix timestamp string to a human-readable date. "
   ]
  },
  {
   "cell_type": "code",
   "execution_count": null,
   "metadata": {},
   "outputs": [],
   "source": [
    "# your code here\n",
    "import datetime\n",
    "import math\n",
    "\n",
    "user_year = int(input(\"Enter a year: \"))\n",
    "if user_year < 1900 or user_year > 2100:\n",
    "    user_year = int(input(\"Please enter a valid year: \"))\n",
    "user_month = int(input(\"Enter a month: \"))\n",
    "if user_month < 1 or user_month > 12:\n",
    "    user_month = int(input(\"Please enter a valid month: \"))\n",
    "user_day = int(input(\"Enter a day: \"))\n",
    "if user_month == 1 or user_month == 3 or user_month == 5 or user_month == 7 or user_month == 8 or user_month == 10 or user_month == 12:\n",
    "    if user_day < 1 or user_day > 31:\n",
    "        user_day = int(input(\"Please enter a valid day: \"))\n",
    "elif user_month == 2:\n",
    "    if user_day < 1 or user_day > 28:\n",
    "        user_day = int(input(\"Please enter a valid day: \"))\n",
    "else:\n",
    "    if user_day < 1 or user_day > 30:\n",
    "        user_day = int(input(\"Please enter a valid day: \"))\n",
    "    \n",
    "t1 = datetime.datetime(user_year, user_month, user_day)\n",
    "\n",
    "tstamp = math.floor(datetime.datetime.timestamp(t1))\n",
    "\n",
    "print(t1)\n",
    "print(tstamp)"
   ]
  },
  {
   "cell_type": "markdown",
   "metadata": {},
   "source": [
    "## Activity 5 \n",
    "\n",
    "Write a program that prints the dates for yesterday, today, and tomorrow. "
   ]
  },
  {
   "cell_type": "code",
   "execution_count": null,
   "metadata": {},
   "outputs": [],
   "source": [
    "# your code here\n",
    "import datetime \n",
    "\n",
    "today = datetime.date.today()\n",
    "yesterday = today - datetime.timedelta(days = 1)\n",
    "tomorrow = today + datetime.timedelta(days = 1) \n",
    "\n",
    "print('Yesterday : ',yesterday)\n",
    "print('Today : ',today)\n",
    "print('Tomorrow : ',tomorrow)"
   ]
  },
  {
   "cell_type": "markdown",
   "metadata": {},
   "source": [
    "## Activity 6 \n",
    "\n",
    "Write a program that prints the date for the next five days, starting from today. "
   ]
  },
  {
   "cell_type": "code",
   "execution_count": 6,
   "metadata": {},
   "outputs": [
    {
     "name": "stdout",
     "output_type": "stream",
     "text": [
      "2021-05-01 12:44:19.497477\n",
      "2021-05-02 12:44:19.497477\n",
      "2021-05-03 12:44:19.497477\n",
      "2021-05-04 12:44:19.497477\n",
      "2021-05-05 12:44:19.497477\n"
     ]
    }
   ],
   "source": [
    "# your code here\n",
    "import datetime\n",
    "\n",
    "base = datetime.datetime.today()\n",
    "\n",
    "for x in range(0, 5):\n",
    "      print(base + datetime.timedelta(days=x))"
   ]
  },
  {
   "cell_type": "markdown",
   "metadata": {},
   "source": [
    "## Activity 7 \n",
    "\n",
    "Write a program that adds five seconds to the current time and displays the result. "
   ]
  },
  {
   "cell_type": "code",
   "execution_count": 7,
   "metadata": {},
   "outputs": [
    {
     "name": "stdout",
     "output_type": "stream",
     "text": [
      "12:45:21.171493\n",
      "12:45:26.171493\n"
     ]
    }
   ],
   "source": [
    "# your code here\n",
    "import datetime\n",
    "\n",
    "x= datetime.datetime.now()\n",
    "y = x + datetime.timedelta(0,5)\n",
    "\n",
    "print(x.time())\n",
    "print(y.time())"
   ]
  },
  {
   "cell_type": "markdown",
   "metadata": {},
   "source": [
    "## Activity 8 \n",
    "\n",
    "Write a program that prompts the user for two different dates, computes the number of days between those dates, and displays the results. \n",
    "\n",
    "The order in which the user enters the dates should not affect the results. "
   ]
  },
  {
   "cell_type": "code",
   "execution_count": 10,
   "metadata": {},
   "outputs": [
    {
     "name": "stdout",
     "output_type": "stream",
     "text": [
      "Enter a year: 2020\n",
      "Enter a month: 5\n",
      "Enter a day: 1\n",
      "Enter a year: 2021\n",
      "Enter a month: 5\n",
      "Enter a day: 1\n",
      "365 days, 0:00:00\n"
     ]
    }
   ],
   "source": [
    "# your code here\n",
    "from datetime import date\n",
    "\n",
    "user_year = int(input(\"Enter a year: \"))\n",
    "if user_year < 1900 or user_year > 2100:\n",
    "    user_year = int(input(\"Please enter a valid year: \"))\n",
    "user_month = int(input(\"Enter a month: \"))\n",
    "if user_month < 1 or user_month > 12:\n",
    "    user_month = int(input(\"Please enter a valid month: \"))\n",
    "user_day = int(input(\"Enter a day: \"))\n",
    "if user_month == 1 or user_month == 3 or user_month == 5 or user_month == 7 or user_month == 8 or user_month == 10 or user_month == 12:\n",
    "    if user_day < 1 or user_day > 31:\n",
    "        user_day = int(input(\"Please enter a valid day: \"))\n",
    "elif user_month == 2:\n",
    "    if user_day < 1 or user_day > 28:\n",
    "        user_day = int(input(\"Please enter a valid day: \"))\n",
    "else:\n",
    "    if user_day < 1 or user_day > 30:\n",
    "        user_day = int(input(\"Please enter a valid day: \"))\n",
    "        \n",
    "user_year1 = int(input(\"Enter a year: \"))\n",
    "if user_year1 < 1900 or user_year1 > 2100:\n",
    "    user_year1 = int(input(\"Please enter a valid year: \"))\n",
    "user_month1 = int(input(\"Enter a month: \"))\n",
    "if user_month1 < 1 or user_month1 > 12:\n",
    "    user_month1 = int(input(\"Please enter a valid month: \"))\n",
    "user_day1 = int(input(\"Enter a day: \"))\n",
    "if user_month1 == 1 or user_month1 == 3 or user_month1 == 5 or user_month1 == 7 or user_month1 == 8 or user_month1 == 10 or user_month1 == 12:\n",
    "    if user_day1 < 1 or user_day1 > 31:\n",
    "        user_day1 = int(input(\"Please enter a valid day: \"))\n",
    "elif user_month1 == 2:\n",
    "    if user_day1 < 1 or user_day1 > 28:\n",
    "        user_day1 = int(input(\"Please enter a valid day: \"))\n",
    "else:\n",
    "    if user_day1 < 1 or user_day1 > 30:\n",
    "        user_day1 = int(input(\"Please enter a valid day: \"))\n",
    "\n",
    "a = datetime.date(user_year,user_month,user_day)\n",
    "b = datetime.date(user_year1,user_month1,user_day1)\n",
    "\n",
    "print(b-a)"
   ]
  },
  {
   "cell_type": "code",
   "execution_count": null,
   "metadata": {},
   "outputs": [],
   "source": []
  }
 ],
 "metadata": {
  "kernelspec": {
   "display_name": "Python 3",
   "language": "python",
   "name": "python3"
  },
  "language_info": {
   "codemirror_mode": {
    "name": "ipython",
    "version": 3
   },
   "file_extension": ".py",
   "mimetype": "text/x-python",
   "name": "python",
   "nbconvert_exporter": "python",
   "pygments_lexer": "ipython3",
   "version": "3.8.5"
  }
 },
 "nbformat": 4,
 "nbformat_minor": 2
}

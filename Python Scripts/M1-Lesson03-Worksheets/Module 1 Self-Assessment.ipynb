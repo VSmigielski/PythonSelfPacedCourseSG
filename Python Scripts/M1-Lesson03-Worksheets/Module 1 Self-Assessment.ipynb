{
 "cells": [
  {
   "cell_type": "markdown",
   "metadata": {},
   "source": [
    "Write a program that will calculate the cost of a custom cup of coffee at a gourmet coffee shop, based on the size of the cup, the type of coffee selected, and flavors that can be added to the coffee. It should complete the following steps:\n",
    "\n",
    "Ask the user what size cup they want, choosing between small, medium, and large.\n",
    "Ask the user what kind of coffee they want, choosing between brewed, espresso, and cold brew.\n",
    "Ask the user what flavoring they want, if any. Choices include hazelnut, vanilla, and caramel.\n",
    "Calculate the price of the cup using the following values:\n",
    "Size:\n",
    "small: $2\n",
    "medium: $3\n",
    "large: $4\n",
    "Type:\n",
    "brewed: no additional cost\n",
    "espresso: 50 cents\n",
    "cold brew: $1\n",
    "Flavoring:\n",
    "None: no additional cost\n",
    "All other options: 50 cents\n",
    "Display a statement that summarizes what the user ordered.\n",
    "Display the total cost of the cup of coffee as well as the cost with a 15% tip, in phrases that explain the values to the user. Round the cost with tip to two decimal places.\n",
    "For example, if the user asks for a medium-sized espresso with hazelnut flavoring, the total should be $4; the total with a tip should be $4.60."
   ]
  },
  {
   "cell_type": "markdown",
   "metadata": {},
   "source": [
    "Do you want small, medium, or large? small\n",
    "Do you want brewed, espresso, or cold press? espresso\n",
    "Do you want a flavored syrup? (Yes or No) yes\n",
    "Do you want hazelnut, vanilla, or caramel? vanilla\n",
    "You asked for a small cup of espresso coffee with vanilla syrup.\n",
    "Your cup of coffee costs 3.0\n",
    "The price with a tip is 3.45"
   ]
  },
  {
   "cell_type": "markdown",
   "metadata": {},
   "source": [
    "Requirements\n",
    "Add your name and a current date to a commented line at the top of the code.\n",
    "Use meaningful variable names to clearly identify the values in the program.\n",
    "The user should be able to enter text values using any case without causing errors.\n",
    "All output should be clear and meaningful to the user.\n",
    "\n",
    "Checklist\n",
    "When you have finished, use the following checklist to make sure you have completed all parts of the task:\n",
    "\n",
    "Your name and a current date appear in a comment at the top of the program.\n",
    "The program prompts the user for the size of the coffee and accepts the values small, medium, or large as input.\n",
    "The program prompts the user for the type of coffee and accepts the values brewed, espresso, or cold brew as input.\n",
    "The program prompts the user for a flavoring and accepts the values none, hazelnut, vanilla, or caramel.\n",
    "The program displays a summary of the user's order.\n",
    "The program displays a total that corresponds to the price of the cup of coffee based on the user's choices.\n",
    "The program displays a total that corresponds to the price of the cup of coffee with a 15% tip."
   ]
  },
  {
   "cell_type": "code",
   "execution_count": 7,
   "metadata": {},
   "outputs": [
    {
     "name": "stdout",
     "output_type": "stream",
     "text": [
      "What size cup would you like: small, medium, or large? small\n",
      "What type would you like: brewed, espresso, or cold brew? espresso\n",
      "Would you like flavoring: yes or no? yes\n",
      "What type of flavoring would you like: hazelnut, vanilla, or caramel? vanilla\n",
      "This is what you ordered: a small espresso with a flavor of vanilla.\n",
      "The total before tip: 3.0\n",
      "This is the total with a tip: 3.45\n"
     ]
    }
   ],
   "source": [
    "# Veronica Smigielski 20/04/2021\n",
    "#size\n",
    "small = 2.0\n",
    "medium = 3.0\n",
    "large = 4.0\n",
    "\n",
    "#type\n",
    "brewed = 0.0\n",
    "espresso = 0.50\n",
    "coldBrew = 1.0\n",
    "\n",
    "#flavoring\n",
    "hazelnut = 0.50\n",
    "vanilla = 0.50\n",
    "caramel = 0.50\n",
    "\n",
    "# initialize total\n",
    "total = 0.0\n",
    "\n",
    "# Ask user for cup size\n",
    "cupSize = input(\"What size cup would you like: small, medium, or large? \")\n",
    "cupSizeL = cupSize.lower()\n",
    "\n",
    "# Check user input\n",
    "if cupSizeL == \"small\":\n",
    "    total += small\n",
    "elif cupSizeL == \"medium\":\n",
    "    total += medium\n",
    "elif cupSizeL == \"large\":\n",
    "    total += large\n",
    "else:\n",
    "    print(\"You didn't select a proper cup size. \")\n",
    "    \n",
    "# Ask user for type of coffee    \n",
    "typeOfCoffee = input(\"What type would you like: brewed, espresso, or cold brew? \")\n",
    "typeOfCoffeeL = typeOfCoffee.lower()\n",
    "\n",
    "# Check user input\n",
    "if typeOfCoffeeL == \"brewed\":\n",
    "    total += brewed\n",
    "elif typeOfCoffeeL == \"espresso\":\n",
    "    total += espresso\n",
    "elif typeOfCoffeeL == \"cold brew\":\n",
    "    total += coldBrew\n",
    "else:\n",
    "    print(\"You didn't select a proper type of coffee.\")\n",
    "    \n",
    "# Ask user for flavoring    \n",
    "flavoring = input(\"Would you like flavoring: yes or no? \")    \n",
    "flavoringL = flavoring.lower()\n",
    "    \n",
    "    \n",
    "# Check user input    \n",
    "if flavoringL == \"yes\":\n",
    "    flavorAddition = input(\"What type of flavoring would you like: hazelnut, vanilla, or caramel? \")\n",
    "    flavorAdditionL = flavorAddition.lower()\n",
    "    if flavorAdditionL == \"hazelnut\":\n",
    "        total += hazelnut\n",
    "    elif flavorAdditionL == \"vanilla\":\n",
    "        total += vanilla\n",
    "    elif flavorAdditionL == \"caramel\":\n",
    "        total += caramel\n",
    "    else:\n",
    "        print(\"You did not choose a proper flavoring.\")\n",
    "elif flavoringL == \"no\":\n",
    "    total += 0\n",
    "    flavorAddition = \"none\"\n",
    "else:\n",
    "    print(\"The input entered was not yes or no.\")\n",
    "    \n",
    "\n",
    "print(\"You asked for a\", cupSize, typeOfCoffee, \"with a flavor of\", flavorAddition + \".\")\n",
    "print(\"Your cup of coffee costs:\", total)\n",
    "total += (0.15 * total)\n",
    "print(\"The price with a tip is:\", total)"
   ]
  },
  {
   "cell_type": "code",
   "execution_count": 24,
   "metadata": {
    "scrolled": true
   },
   "outputs": [
    {
     "name": "stdout",
     "output_type": "stream",
     "text": [
      "10\n"
     ]
    }
   ],
   "source": []
  },
  {
   "cell_type": "code",
   "execution_count": null,
   "metadata": {},
   "outputs": [],
   "source": []
  }
 ],
 "metadata": {
  "kernelspec": {
   "display_name": "Python 3",
   "language": "python",
   "name": "python3"
  },
  "language_info": {
   "codemirror_mode": {
    "name": "ipython",
    "version": 3
   },
   "file_extension": ".py",
   "mimetype": "text/x-python",
   "name": "python",
   "nbconvert_exporter": "python",
   "pygments_lexer": "ipython3",
   "version": "3.8.5"
  }
 },
 "nbformat": 4,
 "nbformat_minor": 4
}

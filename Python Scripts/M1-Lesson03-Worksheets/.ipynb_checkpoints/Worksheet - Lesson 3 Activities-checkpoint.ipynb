{
 "cells": [
  {
   "cell_type": "markdown",
   "metadata": {},
   "source": [
    "# Lesson 3 Activities\n",
    "The following activities are provided to allow you to demonstrate the objectives for this lesson:\n",
    "* Use an `if` statement to determine the outcome of a program.\n",
    "* Use an `if-else` statement to define two potential outcomes.\n",
    "* Use nested `if` statements to define more than two potential outcomes.\n",
    "\n",
    "Complete each activity and make sure that the code runs without errors before completing the next activity."
   ]
  },
  {
   "cell_type": "markdown",
   "metadata": {},
   "source": [
    "## Activity 1\n",
    "Write a program that asks the user how much money they have in their wallet. The program should output \"You're rich!\" if the user inputs 20 or more and \"You're broke!\" if the input is less than 20."
   ]
  },
  {
   "cell_type": "code",
   "execution_count": 3,
   "metadata": {},
   "outputs": [
    {
     "name": "stdout",
     "output_type": "stream",
     "text": [
      "How much money do you have in your wallet? 19\n",
      "You're broke!\n"
     ]
    }
   ],
   "source": [
    "# your code here\n",
    "userInput = int(input(\"How much money do you have in your wallet? \"))\n",
    "condition = (userInput >= 20)\n",
    "if condition:\n",
    "    print(\"You're rich!\")\n",
    "if condition == False:\n",
    "    print(\"You're broke!\")"
   ]
  },
  {
   "cell_type": "markdown",
   "metadata": {},
   "source": [
    "## Activity 2\n",
    "Write a program that performs the following steps:\n",
    "1. Ask the user if they own any cats. (Yes/No answer)\n",
    "1. Ask the user if they own any dogs. (Yes/No answer)\n",
    "1. If the user responses indicate that they have both cats and dogs, output: \"You must really love pets!\"\n",
    "1. Otherwise, the output should be: \"Maybe you need more pets.\"\n",
    "\n",
    "The last step will apply if the user has cats but not dogs, dogs but not cats, and neither cats nor dogs.\n",
    "\n",
    "Write two different versions of this program: one that uses only `if` statements and another that uses `if-else` statements."
   ]
  },
  {
   "cell_type": "code",
   "execution_count": 12,
   "metadata": {},
   "outputs": [
    {
     "name": "stdout",
     "output_type": "stream",
     "text": [
      "Do you own any cats? Yes\n",
      "Do you own any dogs? Yes\n",
      "You must really love pets!\n"
     ]
    }
   ],
   "source": [
    "# program using only if statements\n",
    "userInputCats = input(\"Do you own any cats? \")\n",
    "userInputDogs = input(\"Do you own any dogs? \")\n",
    "condition1 = (userInputCats == \"Yes\")\n",
    "condition2 = (userInputDogs == \"Yes\")\n",
    "if condition1 and condition2:\n",
    "    print(\"You must really love pets!\")\n",
    "if condition1 == False or condition2 == False:\n",
    "    print(\"Maybe you need more pets.\")"
   ]
  },
  {
   "cell_type": "code",
   "execution_count": 14,
   "metadata": {},
   "outputs": [
    {
     "name": "stdout",
     "output_type": "stream",
     "text": [
      "Do you own any cats? Yes\n",
      "Do you own any dogs? Yes\n",
      "You must really love pets!\n"
     ]
    }
   ],
   "source": [
    "# program using if-else statements\n",
    "userInputCats = input(\"Do you own any cats? \")\n",
    "userInputDogs = input(\"Do you own any dogs? \")\n",
    "condition1 = (userInputCats == \"Yes\")\n",
    "condition2 = (userInputDogs == \"Yes\")\n",
    "if condition1 and condition2:\n",
    "    print(\"You must really love pets!\")\n",
    "else:\n",
    "    print(\"Maybe you need more pets.\")"
   ]
  },
  {
   "cell_type": "markdown",
   "metadata": {},
   "source": [
    "## Activity 3\n",
    "Create a computer program that asks the user a few questions to which the user will respond either True or False. Display all the questions with the correct answer and the user's answers at the end of the program, along with the user's the correct response rate (number of questions answered correctly/number of questions)."
   ]
  },
  {
   "cell_type": "code",
   "execution_count": 18,
   "metadata": {},
   "outputs": [
    {
     "name": "stdout",
     "output_type": "stream",
     "text": [
      "Is the sky blue? True\n",
      "Is grass green? False\n",
      "Are oranges red? False\n",
      "Is the sky blue? \n",
      "Is grass green? \n",
      "Are oranges red? \n",
      "Correct answer: True    User answer: True\n",
      "Correct answer: True    User answer: False\n",
      "Correct answer: False   User answer: False\n",
      "2 out of 3 correct\n"
     ]
    }
   ],
   "source": [
    "# your code here\n",
    "value = 0\n",
    "\n",
    "skyYes = \"True\"\n",
    "grassYes = \"True\"\n",
    "orangeYes = \"False\"\n",
    "\n",
    "sky = input(\"Is the sky blue? \")\n",
    "grass = input(\"Is grass green? \")\n",
    "orange = input(\"Are oranges red? \")\n",
    "\n",
    "skyQ = \"Is the sky blue? \"\n",
    "grassQ = \"Is grass green? \"\n",
    "orangeQ = \"Are oranges red? \"\n",
    "\n",
    "print(skyQ)\n",
    "print(grassQ)\n",
    "print(orangeQ)\n",
    "\n",
    "print(\"Correct answer:\", skyYes, \"   User answer:\", sky)\n",
    "print(\"Correct answer:\", grassYes, \"   User answer:\", grass)\n",
    "print(\"Correct answer:\", orangeYes, \"  User answer:\", orange)\n",
    "\n",
    "if skyYes == sky.capitalize():\n",
    "    value += 1\n",
    "if grassYes == grass.capitalize():\n",
    "    value += 1\n",
    "if orangeYes == orange.capitalize():\n",
    "    value += 1\n",
    "    \n",
    "print(value, \"out of 3 correct\")"
   ]
  },
  {
   "cell_type": "markdown",
   "metadata": {},
   "source": [
    "## Activity 4\n",
    "Write a program that uses `elif` to produce five different possible outcomes based on a single user input.\n",
    "1. Ask the user what season it is (fall, winter, spring, or summer).\n",
    "1. If the user enters fall, output: \"I bet the leaves are pretty there!\"\n",
    "1. If the user enters winter, output: \"I hope you're ready for snow!\"\n",
    "1. If the user enters spring, output: \"I can smell the flowers!\"\n",
    "1. If the user enters summer, output: \"Make sure your AC is working!\"\n",
    "1. If the user enters a value that does not correspond to a season, output: \"I don't recognize that season.\"\n",
    "\n",
    "The user should be able to enter the name of the season in any case and the program will still work.\n",
    "\n",
    "**Challenge**: After you have the program working as describe above, modify the program so that the user can enter either \"fall\" or \"autumn\" and get the same result."
   ]
  },
  {
   "cell_type": "code",
   "execution_count": 25,
   "metadata": {},
   "outputs": [
    {
     "name": "stdout",
     "output_type": "stream",
     "text": [
      "What season is it? try\n",
      "I don't recognize that season\n"
     ]
    }
   ],
   "source": [
    "# your code here\n",
    "userInput = input(\"What season is it? \")\n",
    "\n",
    "if userInput.lower() == \"fall\" or userInput.lower() == \"autumn\":\n",
    "    print(\"I bet the leaves are pretty there!\")\n",
    "elif userInput.lower() == \"winter\":\n",
    "    print(\"I hope you're ready for snow!\")\n",
    "elif userInput.lower() == \"spring\":\n",
    "    print(\"I can smell the flowers\")\n",
    "elif userInput.lower() == \"summer\":\n",
    "    print(\"Make sure your AC is working\")\n",
    "else: \n",
    "    print(\"I don't recognize that season\")"
   ]
  },
  {
   "cell_type": "code",
   "execution_count": null,
   "metadata": {},
   "outputs": [],
   "source": []
  },
  {
   "cell_type": "code",
   "execution_count": null,
   "metadata": {},
   "outputs": [],
   "source": []
  }
 ],
 "metadata": {
  "kernelspec": {
   "display_name": "Python 3",
   "language": "python",
   "name": "python3"
  },
  "language_info": {
   "codemirror_mode": {
    "name": "ipython",
    "version": 3
   },
   "file_extension": ".py",
   "mimetype": "text/x-python",
   "name": "python",
   "nbconvert_exporter": "python",
   "pygments_lexer": "ipython3",
   "version": "3.8.5"
  }
 },
 "nbformat": 4,
 "nbformat_minor": 2
}

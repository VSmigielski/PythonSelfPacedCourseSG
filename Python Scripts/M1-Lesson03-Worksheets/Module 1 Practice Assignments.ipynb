{
 "cells": [
  {
   "cell_type": "markdown",
   "metadata": {},
   "source": [
    "Activity 1\n",
    "Create a computer program that performs the following steps:\n",
    "\n",
    "Prompt the user for an integer and store the value in a variable.\n",
    "Display the data type of the variable that holds the entered data.\n",
    "Convert the value to an integer type and store the converted value in a new variable.\n",
    "Display the value and type of the new variable in a single sentence. (For example, \"The value is 8 with type integer.\")\n",
    "Run the program and enter a float value at the prompt. What is its value in the last step?\n",
    "\n",
    "Refactor the program, using a float instead of an integer. What happens if you enter an integer rather than a float at the prompt?"
   ]
  },
  {
   "cell_type": "code",
   "execution_count": 4,
   "metadata": {},
   "outputs": [
    {
     "name": "stdout",
     "output_type": "stream",
     "text": [
      "Please enter a number.2\n",
      "<class 'str'>\n",
      "<class 'int'>\n",
      "The value is 2 with type <class 'int'>\n",
      "Please enter a number.5\n",
      "<class 'str'>\n",
      "<class 'float'>\n",
      "The value is 5.0 with type <class 'float'>\n"
     ]
    }
   ],
   "source": [
    "int1 = input(\"Please enter a number.\")\n",
    "print(type(int1))\n",
    "int2 = int(int1)\n",
    "print(type(int2))\n",
    "print(\"The value is\", int2, \"with type\", type(int2))\n",
    "\n",
    "float1 = input(\"Please enter a number.\")\n",
    "print(type(float1))\n",
    "float2 = float(float1)\n",
    "print(type(float2))\n",
    "print(\"The value is\", float2, \"with type\", type(float2))"
   ]
  },
  {
   "cell_type": "markdown",
   "metadata": {},
   "source": [
    "Activity 2\n",
    "Write a computer program that calculates and displays the current value of a deposit for a given initial deposit, interest rate, how many times interest is calculated per year, and the number of years since the initial deposit.\n",
    "\n",
    "The program should prompt the user for each of the values and use the following formula to calculate the current value of the deposit:\n",
    "\n",
    "V = P(1 + r/n)^nt\n",
    "where\n",
    "\n",
    "V -- value\n",
    "P -- initial deposit\n",
    "r -- interest rate as a fraction (eg 0.05)\n",
    "n -- the number of times per year interest is calculated\n",
    "t -- the number of years since the initial deposit\n",
    "The program should display each of the values entered to the user in a meaningful way (so that the user can easily see what each value represents, along with the results of the calculation."
   ]
  },
  {
   "cell_type": "code",
   "execution_count": null,
   "metadata": {},
   "outputs": [],
   "source": [
    "deposit = int(input(\"What is the initial deposit? \"))\n",
    "r = float(input(\"What is the interest rate (as a fraction)? \"))\n",
    "n = int(input(\"How many times per year is interest calculated? \"))\n",
    "t = int(input(\"How many years since the initial deposit? \"))\n",
    "print(\"This is the value of the deposit: \")\n",
    "print(deposit)\n",
    "print(\"This is the value of the rate: \")\n",
    "print(r)\n",
    "print(\"This is the value of the times interest is calculated: \")\n",
    "print(n)\n",
    "print(\"This is the value of the number of years after initial deposit: \")\n",
    "print(t)\n",
    "rByN = (r / n)\n",
    "value = (deposit * (1 + rByN) ** (n * t))\n",
    "print(\"This is the value of the overall calculations: \")\n",
    "print(value)"
   ]
  },
  {
   "cell_type": "markdown",
   "metadata": {},
   "source": [
    "Activity 3\n",
    "Write a computer program that prompts the user for a principal amount, the rate of interest, and the number of days for a loan and then calculates and returns the simple interest for the life of the loan. Use the formula:\n",
    "\n",
    "interest = principal * rate * days / 365"
   ]
  },
  {
   "cell_type": "code",
   "execution_count": null,
   "metadata": {},
   "outputs": [],
   "source": [
    "principal = int(input(\"Please enter the principal amount: \"))\n",
    "rate = float(input(\"Please enter the rate (as a decimal): \"))\n",
    "days = int(input(\"Please enter the days for the loan: \"))\n",
    "interest = principal * rate * days / 365\n",
    "print(\"This is the simple interest for the life of the loan: \")\n",
    "print(interest)"
   ]
  },
  {
   "cell_type": "markdown",
   "metadata": {},
   "source": [
    "Activity 4\n",
    "Create a computer program that prompts the user for a purchase total and a sales tax rate and then returns the total price of the sale."
   ]
  },
  {
   "cell_type": "code",
   "execution_count": null,
   "metadata": {},
   "outputs": [],
   "source": [
    "pre_tax = input(\"Enter pre-tax price:\")\n",
    "sale_tax = input(\"Enter sale tax:\")\n",
    "\n",
    "pre_tax_float = float(pre_tax)\n",
    "sale_tax_float = float(sale_tax)\n",
    "\n",
    "print((pre_tax_float * sale_tax_float) + pre_tax_float)"
   ]
  },
  {
   "cell_type": "markdown",
   "metadata": {},
   "source": [
    "Activity 5\n",
    "Create a computer program that displays three statements that evaluate to True and three statements that evaluate to False.\n",
    "\n",
    "Example:\n",
    "\n",
    "a = 0\n",
    "b = 1 \n",
    "Output: a < b = True"
   ]
  },
  {
   "cell_type": "code",
   "execution_count": null,
   "metadata": {},
   "outputs": [],
   "source": [
    "a = 2\n",
    "b = 1\n",
    "#True\n",
    "print(a > b)\n",
    "print(a != b)\n",
    "print(a >= b)\n",
    "\n",
    "#False\n",
    "print(a < b)\n",
    "print(a == b)\n",
    "print(a <= b)"
   ]
  },
  {
   "cell_type": "markdown",
   "metadata": {},
   "source": [
    "Activity 6\n",
    "Write out the following program and run it using 4 as the first value and 10 as the second value.\n",
    "\n",
    "first = input(\"Input a number: \")\n",
    "second = input(\"Input another number: \")\n",
    "\n",
    "if first > second:\n",
    "    print(first + \" is greater than \" + second)\n",
    "elif first < second:\n",
    "    print(second + \" is greater than \" + first)\n",
    "else:\n",
    "    print(\"They are the same number!\")\n",
    "Does the program produce the expected result?\n",
    "\n",
    "Run it a few more times with other values to identify the problem and then fix the code so that it works as expected."
   ]
  },
  {
   "cell_type": "code",
   "execution_count": 16,
   "metadata": {},
   "outputs": [
    {
     "name": "stdout",
     "output_type": "stream",
     "text": [
      "Input a number: 4\n",
      "Input another number: 5\n",
      "5  is greater than  4\n"
     ]
    }
   ],
   "source": [
    "first = int(input(\"Input a number: \"))\n",
    "second = int(input(\"Input another number: \"))\n",
    "\n",
    "if first > second:\n",
    "    print(first, \" is greater than \", second)\n",
    "elif first < second:\n",
    "    print(second, \" is greater than \", first)\n",
    "else:\n",
    "    print(\"They are the same number!\")"
   ]
  },
  {
   "cell_type": "markdown",
   "metadata": {},
   "source": [
    "Activity 7\n",
    "Create a computer program that completes the following tasks:\n",
    "\n",
    "It prompts the user for a series of 5 integers.\n",
    "\n",
    "The user must be prompted for 5 numbers.\n",
    "After the fifth entry, the program stops prompting for values and performs the following calculations:\n",
    "\n",
    "the product of the integers\n",
    "the average of the integers\n",
    "the sum of the integers\n",
    "After performing the calculations, the program should display the following to the user:\n",
    "\n",
    "the values the user entered\n",
    "each of the calculations, using a phrase that identifies the value"
   ]
  },
  {
   "cell_type": "code",
   "execution_count": null,
   "metadata": {},
   "outputs": [],
   "source": [
    "import math\n",
    "num1 = int(input(\"Please input an integer: \"))\n",
    "num2 = int(input(\"Please input an integer: \"))\n",
    "num3 = int(input(\"Please input an integer: \"))\n",
    "num4 = int(input(\"Please input an integer: \"))\n",
    "num5 = int(input(\"Please input an integer: \"))\n",
    "\n",
    "product = num1 * num2 * num3 * num4 * num5\n",
    "sum = num1 + num2 + num3 + num4 + num5\n",
    "average = sum / 5\n",
    "\n",
    "print(\"These are the variable values: \", num1, num2, num3, num4, num5)\n",
    "print(\"This is the product of the integers: \", product)\n",
    "print(\"This is the average of the integers: \", average)\n",
    "print(\"This is the sum of the integers: \", sum)"
   ]
  },
  {
   "cell_type": "markdown",
   "metadata": {},
   "source": [
    "Activity 8\n",
    "Create a computer program that prompts the user for a number and calculates the following:\n",
    "\n",
    "the boolean of that number.\n",
    "the binary equivalent of that number.\n",
    "the square root of that number.\n",
    "The program should display the following to the user:\n",
    "\n",
    "The number the user entered, in a phrase like, \"You selected <value>.\"\n",
    "The boolean of the number, in a phrase like, \"The boolean of your number is <value>.\"\n",
    "The binary equivalent of the number, in a phrase like, \"The binary equivalent of your number is <value>.\"\n",
    "The square root of the number, in a phrase like, \"The square root of your number is <value>.\", with the value rounded to three decimal places."
   ]
  },
  {
   "cell_type": "code",
   "execution_count": null,
   "metadata": {},
   "outputs": [],
   "source": [
    "import math\n",
    "value = int(input(\"Please enter a value: \"))\n",
    "print(\"This is the value entered:\", value)\n",
    "print(\"This is the boolean value: \")\n",
    "print(bool(value))\n",
    "print(\"This is the binary equivalent of the value: \")\n",
    "print(bin(value))\n",
    "print(\"This is the square root of the value rounded to three decimal places: \")\n",
    "print(round(math.sqrt(value), 3))"
   ]
  },
  {
   "cell_type": "markdown",
   "metadata": {},
   "source": [
    "Activity 9\n",
    "Create a computer program that asks the user a few True/False statements to which the user will respond either True or False.\n",
    "\n",
    "As an example, the program might as the user a question like \"Oceans contain salt water\", which is a True statement, or \"Sharks are mammals\", which is a False statement.\n",
    "\n",
    "Display all the questions with the correct answer and the user's answers at the end of the program."
   ]
  },
  {
   "cell_type": "code",
   "execution_count": null,
   "metadata": {},
   "outputs": [],
   "source": [
    "value = 0\n",
    "\n",
    "skyYes = \"True\"\n",
    "grassYes = \"True\"\n",
    "orangeYes = \"False\"\n",
    "\n",
    "sky = input(\"Is the sky blue? \")\n",
    "grass = input(\"Is grass green? \")\n",
    "orange = input(\"Are oranges red? \")\n",
    "\n",
    "skyQ = \"Is the sky blue? \"\n",
    "grassQ = \"Is grass green? \"\n",
    "orangeQ = \"Are oranges red? \"\n",
    "\n",
    "print(skyQ)\n",
    "print(grassQ)\n",
    "print(orangeQ)\n",
    "\n",
    "print(\"Correct answer:\", skyYes, \"   User answer:\", sky)\n",
    "print(\"Correct answer:\", grassYes, \"   User answer:\", grass)\n",
    "print(\"Correct answer:\", orangeYes, \"  User answer:\", orange)\n",
    "\n",
    "if skyYes == sky.capitalize():\n",
    "    value += 1\n",
    "if grassYes == grass.capitalize():\n",
    "    value += 1\n",
    "if orangeYes == orange.capitalize():\n",
    "    value += 1\n",
    "    \n",
    "print(value, \"out of 3 correct\")"
   ]
  },
  {
   "cell_type": "markdown",
   "metadata": {},
   "source": [
    "Activity 10\n",
    "Write a program that performs the following steps:\n",
    "\n",
    "Start with a street address that includes a building/house number, the name of the street, and the type of street (e.g., Street, Avenue, Boulevard, etc.).\n",
    "\n",
    "You can use any address you wish and abbreviations are acceptable.\n",
    "An example is 25 Main Street.\n",
    "Display the full address to the user.\n",
    "\n",
    "Display the house number only in a phrase like, \"The building or house number is 25.\"\n",
    "\n",
    "Display the street name in a phrase like, \"The street name is Main Street.\""
   ]
  },
  {
   "cell_type": "code",
   "execution_count": null,
   "metadata": {},
   "outputs": [],
   "source": [
    "address = input(\"Please enter an address. The address should include a house number, the name of the street, and the type of street\")\n",
    "print(\"This is the address entered: \", address)\n",
    "print(\"The building or house number is \", address.split(\" \", 1)[0])\n",
    "print(\"The street name is\", address.split(\" \", 1)[1])"
   ]
  },
  {
   "cell_type": "markdown",
   "metadata": {},
   "source": [
    "Activity 11\n",
    "Write a program that performs the following steps:\n",
    "\n",
    "Start with a Contact entry that includes the following pieces of information:\n",
    "\n",
    "A person's first and last name, e.g., Robert Taylor\n",
    "A complete street address, e.g., 25 Main Street\n",
    "A city, state, and zip, e.g., Paterson NJ 07501\n",
    "A 10-digit phone number, e.g., 201-857-5309\n",
    "Display the complete Contact data to the user.\n",
    "\n",
    "Prompt the user to select one item in the Contact data that they want to change.\n",
    "\n",
    "Prompt the user for the new value for that item.\n",
    "\n",
    "Change the Contact data appropriately and display the updated Contact data to the user."
   ]
  },
  {
   "cell_type": "code",
   "execution_count": 22,
   "metadata": {},
   "outputs": [
    {
     "name": "stdout",
     "output_type": "stream",
     "text": [
      "What is your name?Veronica Smigielski\n",
      "What is your address?673 Herentalsebaan\n",
      "What is your city, state, and zip code?Wommelgem, Antwerp, 2160\n",
      "What is your phone number?6198132184\n",
      "Entered contact data\n",
      "Name:  Veronica Smigielski\n",
      "Address:  673 Herentalsebaan\n",
      "City, State, Zipcode:  Wommelgem, Antwerp, 2160\n",
      "Phone:  6198132184\n",
      "Please select an item to changename\n",
      "Please enter the new nameHana\n",
      "Updated contact data\n",
      "Name:  Hana\n",
      "Address:  673 Herentalsebaan\n",
      "City, State, Zipcode:  Wommelgem, Antwerp, 2160\n",
      "Phone:  6198132184\n"
     ]
    }
   ],
   "source": [
    "name = input(\"What is your name? \")\n",
    "address = input(\"What is your address? \")\n",
    "otherAddress = input(\"What is your city, state, and zip code? \")\n",
    "phone = input(\"What is your phone number? \")\n",
    "\n",
    "print(\"Entered contact data\")\n",
    "print(\"Name:\", name)\n",
    "print(\"Address:\", address)\n",
    "print(\"City, State, Zipcode:\", otherAddress)\n",
    "print(\"Phone:\", phone)\n",
    "\n",
    "selection = input(\"Please select an item to change: name, address, otherAddress, or phone \")\n",
    "selectionL = selection.lower()\n",
    "\n",
    "if (selectionL == \"name\"):\n",
    "    name = input(\"Please enter the new name: \")\n",
    "elif (selectionL == \"address\"):\n",
    "    address = input(\"Please enter the new address: \")\n",
    "elif (selectionL == \"otherAddress\"):\n",
    "    otherAddress = input(\"Please enter the new city, state, and zip code: \")\n",
    "elif (selectionL == \"phone\"):\n",
    "    phone = input(\"Please enter a new phone: \")\n",
    "else: \n",
    "    print(\"Unknown selection\")\n",
    "    \n",
    "print(\"Updated contact data\")\n",
    "print(\"Name:\", name)\n",
    "print(\"Address:\", address)\n",
    "print(\"City, State, Zipcode:\", otherAddress)\n",
    "print(\"Phone:\", phone)"
   ]
  },
  {
   "cell_type": "markdown",
   "metadata": {},
   "source": [
    "Activity 12\n",
    "Write a program that allows a user to create a new Contact, including a first and last name, complete street address, city, state, zip, phone number, and email address.\n",
    "\n",
    "Display the contact to the user after accepting all entries."
   ]
  },
  {
   "cell_type": "code",
   "execution_count": null,
   "metadata": {},
   "outputs": [],
   "source": [
    "name = input(\"What is your name? \")\n",
    "address = input(\"What is your address? \")\n",
    "otherAddress = input(\"What is your city, state, and zip code? \")\n",
    "email = input(\"What is your email? \")\n",
    "\n",
    "print(\"Entered contact data\")\n",
    "print(\"Name:\", name)\n",
    "print(\"Address:\", address)\n",
    "print(\"City, State, Zipcode:\", otherAddress)\n",
    "print(\"Email:\", email)"
   ]
  },
  {
   "cell_type": "markdown",
   "metadata": {},
   "source": [
    "Activity 13\n",
    "Combine the previous two activities into a single program that performs the following steps:\n",
    "\n",
    "Prompt the user for complete Contact details for a new contact.\n",
    "Displays the Contact details entered by the user.\n",
    "Prompts the user to select a value to change.\n",
    "Updates the selected value with a new input value."
   ]
  },
  {
   "cell_type": "code",
   "execution_count": null,
   "metadata": {},
   "outputs": [],
   "source": [
    "name = input(\"What is your name? \")\n",
    "address = input(\"What is your address? \")\n",
    "otherAddress = input(\"What is your city, state, and zip code? \")\n",
    "phone = input(\"What is your phone number? \")\n",
    "email = input(\"What is your email? \")\n",
    "\n",
    "print(\"Entered contact data\")\n",
    "print(\"Name:\", name)\n",
    "print(\"Address:\", address)\n",
    "print(\"City, State, Zipcode:\", otherAddress)\n",
    "print(\"Phone:\", phone)\n",
    "print(\"Email:\", email)\n",
    "\n",
    "selection = input(\"Please select an item to change: name, address, otherAddress, phone, or email \")\n",
    "selectionL = selection.lower()\n",
    "\n",
    "if (selectionL == \"name\"):\n",
    "    name = input(\"Please enter the new name: \")\n",
    "elif (selectionL == \"address\"):\n",
    "    address = input(\"Please enter the new address: \")\n",
    "elif (selectionL == \"otherAddress\"):\n",
    "    otherAddress = input(\"Please enter the new city, state, and zip code: \")\n",
    "elif (selectionL == \"phone\"):\n",
    "    phone = input(\"Please enter a new phone: \")\n",
    "elif (selectionL == \"email\")\n",
    "    email = input(\"Please enter a new email: \")\n",
    "else: \n",
    "    print(\"Unknown selection\")\n",
    "    \n",
    "print(\"Updated contact data\")\n",
    "print(\"Name:\", name)\n",
    "print(\"Address:\", address)\n",
    "print(\"City, State, Zipcode:\", otherAddress)\n",
    "print(\"Phone:\", phone)\n",
    "print(\"Email\", email)"
   ]
  }
 ],
 "metadata": {
  "kernelspec": {
   "display_name": "Python 3",
   "language": "python",
   "name": "python3"
  },
  "language_info": {
   "codemirror_mode": {
    "name": "ipython",
    "version": 3
   },
   "file_extension": ".py",
   "mimetype": "text/x-python",
   "name": "python",
   "nbconvert_exporter": "python",
   "pygments_lexer": "ipython3",
   "version": "3.8.5"
  }
 },
 "nbformat": 4,
 "nbformat_minor": 4
}

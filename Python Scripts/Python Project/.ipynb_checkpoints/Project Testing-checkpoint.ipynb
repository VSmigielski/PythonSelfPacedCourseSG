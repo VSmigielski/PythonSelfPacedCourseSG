{
 "cells": [
  {
   "cell_type": "code",
   "execution_count": 9,
   "metadata": {},
   "outputs": [
    {
     "name": "stderr",
     "output_type": "stream",
     "text": [
      "IOPub data rate exceeded.\n",
      "The notebook server will temporarily stop sending output\n",
      "to the client in order to avoid crashing it.\n",
      "To change this limit, set the config variable\n",
      "`--NotebookApp.iopub_data_rate_limit`.\n",
      "\n",
      "Current values:\n",
      "NotebookApp.iopub_data_rate_limit=1000000.0 (bytes/sec)\n",
      "NotebookApp.rate_limit_window=3.0 (secs)\n",
      "\n"
     ]
    }
   ],
   "source": [
    "def fromCSV(file_path, delimiter = \",\", quotechar = \"|\"):\n",
    "    if not file_path:\n",
    "        raise Exception(\"You must provide a valid file path.\")\n",
    "    import csv\n",
    "    dataset = list()\n",
    "    while True:\n",
    "        try:\n",
    "            with open(file_path) as f: \n",
    "                csv_file = csv.DictReader(f, delimiter = delimiter,quotechar = quotechar) \n",
    "                for row in csv_file:\n",
    "                    if \"NaN\" in row['Open']:\n",
    "                        pass\n",
    "                    else:\n",
    "                        dataset.append(row)\n",
    "            return dataset\n",
    "        except FileNotFoundError:\n",
    "            print(\"The CSV file entered was not found! Please try again!\")\n",
    "            file_path = input(\"Enter a valid file path:\\n\") \n",
    "            if file_path != \"quit\":\n",
    "                continue\n",
    "            else:\n",
    "                break\n",
    "        else:\n",
    "            print(\"That was a valid CSV file!\")\n",
    "            break\n",
    "\n",
    "dataset = fromCSV(file_path=\"bitcoin/bitcoin.csv\")\n",
    "\n",
    "print(dataset)"
   ]
  },
  {
   "cell_type": "code",
   "execution_count": 8,
   "metadata": {},
   "outputs": [
    {
     "ename": "SyntaxError",
     "evalue": "invalid syntax (<ipython-input-8-d3bfc748244a>, line 1)",
     "output_type": "error",
     "traceback": [
      "\u001b[1;36m  File \u001b[1;32m\"<ipython-input-8-d3bfc748244a>\"\u001b[1;36m, line \u001b[1;32m1\u001b[0m\n\u001b[1;33m    jupyter notebook --NotebookApp.iopub_data_rate_limit=1.0e10\u001b[0m\n\u001b[1;37m            ^\u001b[0m\n\u001b[1;31mSyntaxError\u001b[0m\u001b[1;31m:\u001b[0m invalid syntax\n"
     ]
    }
   ],
   "source": []
  },
  {
   "cell_type": "code",
   "execution_count": null,
   "metadata": {},
   "outputs": [],
   "source": []
  }
 ],
 "metadata": {
  "kernelspec": {
   "display_name": "Python 3",
   "language": "python",
   "name": "python3"
  },
  "language_info": {
   "codemirror_mode": {
    "name": "ipython",
    "version": 3
   },
   "file_extension": ".py",
   "mimetype": "text/x-python",
   "name": "python",
   "nbconvert_exporter": "python",
   "pygments_lexer": "ipython3",
   "version": "3.8.5"
  }
 },
 "nbformat": 4,
 "nbformat_minor": 4
}

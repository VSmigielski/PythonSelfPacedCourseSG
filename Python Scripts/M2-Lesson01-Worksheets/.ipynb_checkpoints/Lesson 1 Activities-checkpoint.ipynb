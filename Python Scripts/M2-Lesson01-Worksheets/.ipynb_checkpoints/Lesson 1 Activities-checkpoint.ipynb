{
 "cells": [
  {
   "cell_type": "markdown",
   "metadata": {},
   "source": [
    "\n",
    "# Lesson 1 Activities\n",
    "\n",
    "The activities in this page are designed to test your ability to meet the objectives for Lesson 1, including:\n",
    "\n",
    "* Use lists to store data collections and retrieve specific values from a collection.\n",
    "* Use tuples to store data collections and retrieve values.\n",
    "\n",
    "Complete each activity as described and run the code to make sure it works as expected before starting the next activity."
   ]
  },
  {
   "cell_type": "markdown",
   "metadata": {},
   "source": [
    "## Activity 1\n",
    "\n",
    "Prompt the user to answer a series of 3-5 questions about themselves (such as their name, their age, their birthdate, or where they live) and save the answers in a list. Display the results to the user.\n",
    "\n",
    "**Tip**: Research the syntax required for a tuple with a single element."
   ]
  },
  {
   "cell_type": "code",
   "execution_count": 1,
   "metadata": {},
   "outputs": [
    {
     "name": "stdout",
     "output_type": "stream",
     "text": [
      "What is your name? Veronica\n",
      "What is your age? 25\n",
      "What is your birthday? 11/27/1995\n",
      "Where do you live? Wommelgem\n",
      "['Veronica', 25, '11/27/1995', 'Wommelgem']\n"
     ]
    }
   ],
   "source": [
    "# your code here\n",
    "info = []\n",
    "name = input(\"What is your name? \")\n",
    "age = int(input(\"What is your age? \"))\n",
    "birthdate = input(\"What is your birthday? \")\n",
    "location = input(\"Where do you live? \")\n",
    "\n",
    "info.append(name)\n",
    "info.append(age)\n",
    "info.append(birthdate)\n",
    "info.append(location)\n",
    "\n",
    "print(info)"
   ]
  },
  {
   "cell_type": "markdown",
   "metadata": {},
   "source": [
    "## Activity 2\n",
    "\n",
    "Present the user with an existing list of items (such as the list created in the previous activity) and prompt the user for 2-4 more items to add to the list. Update the list with the new items and display the updated list."
   ]
  },
  {
   "cell_type": "code",
   "execution_count": 3,
   "metadata": {},
   "outputs": [
    {
     "name": "stdout",
     "output_type": "stream",
     "text": [
      "['Veronica', 25, '11/27/1995', 'Wommelgem']\n",
      "What is your email? veronicasmigielski@gmail.com\n",
      "Where do you want to live? Belgium\n",
      "Where do you want to travel to? Barcelona\n",
      "['Veronica', 25, '11/27/1995', 'Wommelgem', 'veronicasmigielski@gmail.com', 'Belgium', 'Barcelona']\n"
     ]
    }
   ],
   "source": [
    "# your code here\n",
    "info = []\n",
    "name = \"Veronica\"\n",
    "age = 25\n",
    "birthdate = \"11/27/1995\"\n",
    "location = \"Wommelgem\"\n",
    "\n",
    "info.append(name)\n",
    "info.append(age)\n",
    "info.append(birthdate)\n",
    "info.append(location)\n",
    "\n",
    "print(info)\n",
    "\n",
    "email = input(\"What is your email? \")\n",
    "newLocation = input(\"Where do you want to live? \")\n",
    "travel = input(\"Where do you want to travel to? \")\n",
    "\n",
    "info.append(email)\n",
    "info.append(newLocation)\n",
    "info.append(travel)\n",
    "\n",
    "print(info)"
   ]
  },
  {
   "cell_type": "markdown",
   "metadata": {},
   "source": [
    "## Activity 3\n",
    "\n",
    "Present the user with a list of 7-9 items (such as the list created in the previous activities) and prompt them to enter one item to delete from the list. Delete the named item from the list and display the updated list."
   ]
  },
  {
   "cell_type": "code",
   "execution_count": 8,
   "metadata": {},
   "outputs": [
    {
     "name": "stdout",
     "output_type": "stream",
     "text": [
      "['Veronica', 25, '11/27/1995', 'Wommelgem', 'veronicasmigielski@gmail.com', 'Belgium', 'Barcelona']\n",
      "Choose an item to delete from the list: name, age, birthday, location, email, new location, or travel destinationlocation\n",
      "['Veronica', 25, '11/27/1995', 'veronicasmigielski@gmail.com', 'Belgium', 'Barcelona']\n"
     ]
    }
   ],
   "source": [
    "# your code here\n",
    "info = []\n",
    "name = \"Veronica\"\n",
    "age = 25\n",
    "birthdate = \"11/27/1995\"\n",
    "location = \"Wommelgem\"\n",
    "email = \"veronicasmigielski@gmail.com\"\n",
    "newLocation = \"Belgium\"\n",
    "travel = \"Barcelona\"\n",
    "\n",
    "info.append(name)\n",
    "info.append(age)\n",
    "info.append(birthdate)\n",
    "info.append(location)\n",
    "info.append(email)\n",
    "info.append(newLocation)\n",
    "info.append(travel)\n",
    "\n",
    "print(info)\n",
    "\n",
    "selection = input(\"Choose an item to delete from the list: \\\n",
    "name, age, birthday, location, email, new location, or travel destination\")\n",
    "\n",
    "selectionL = selection.lower()\n",
    "\n",
    "if selectionL == \"name\":\n",
    "    info.remove(\"Veronica\")\n",
    "elif selectionL == \"age\":\n",
    "    info.remove(25)\n",
    "elif selectionL == \"birthday\":\n",
    "    info.remove(\"11/27/1995\")\n",
    "elif selectionL == \"location\":\n",
    "    info.remove(\"Wommelgem\")\n",
    "elif selectionL == \"email\":\n",
    "    info.remove(\"veronicasmigielski@gmail.com\")\n",
    "elif selectionL == \"new location\":\n",
    "    info.remove(\"Belgium\")\n",
    "elif selectionL == \"travel destination\":\n",
    "    info.remove(\"Barcelona\")\n",
    "else: \n",
    "    print(\"You did not make an appropriate selection\")\n",
    "    \n",
    "print(info)"
   ]
  },
  {
   "cell_type": "markdown",
   "metadata": {},
   "source": [
    "## Activity 4\n",
    "\n",
    "Present the user with a list of 7-9 items (such as the list created in the previous activities) and prompt them to select one item from the list to update, along with the new value for that item. Change the item's value and display the new list to the user.\n",
    "\n",
    "**Tip**: You will need to know how to find the index value for a specific value to complete this activity."
   ]
  },
  {
   "cell_type": "code",
   "execution_count": 10,
   "metadata": {},
   "outputs": [
    {
     "name": "stdout",
     "output_type": "stream",
     "text": [
      "['Veronica', 25, '11/27/1995', 'Wommelgem', 'veronicasmigielski@gmail.com', 'Belgium', 'Barcelona']\n",
      "Choose an item to update from the list: name, age, birthday, current city, email, new location, or travel destinationage\n",
      "What do you want to update the age to? 26\n",
      "['Veronica', 26, '11/27/1995', 'Wommelgem', 'veronicasmigielski@gmail.com', 'Belgium', 'Barcelona']\n"
     ]
    }
   ],
   "source": [
    "# your code here\n",
    "info = []\n",
    "name = \"Veronica\"\n",
    "age = 25\n",
    "birthdate = \"11/27/1995\"\n",
    "location = \"Wommelgem\"\n",
    "email = \"veronicasmigielski@gmail.com\"\n",
    "newLocation = \"Belgium\"\n",
    "travel = \"Barcelona\"\n",
    "\n",
    "info.append(name)\n",
    "info.append(age)\n",
    "info.append(birthdate)\n",
    "info.append(location)\n",
    "info.append(email)\n",
    "info.append(newLocation)\n",
    "info.append(travel)\n",
    "\n",
    "print(info)\n",
    "\n",
    "selection = input(\"Choose an item to update from the list: \\\n",
    "name, age, birthday, current city, email, new location, or travel destination\")\n",
    "\n",
    "selectionL = selection.lower()\n",
    "\n",
    "if selectionL == \"name\":\n",
    "    info.remove(\"Veronica\")\n",
    "    newInfo = input(\"What do you want to update the name to? \")\n",
    "    info.insert(0, newInfo.capitalize())\n",
    "elif selectionL == \"age\":\n",
    "    info.remove(25)\n",
    "    newInfo = input(\"What do you want to update the age to? \")\n",
    "    info.insert(1, int(newInfo))\n",
    "elif selectionL == \"birthday\":\n",
    "    info.remove(\"11/27/1995\")\n",
    "    newInfo = input(\"What do you want to update the birthday to? \")\n",
    "    info.insert(2, newInfo.capitalize())\n",
    "elif selectionL == \"current city\":\n",
    "    info.remove(\"Wommelgem\")\n",
    "    newInfo = input(\"What do you want to update the city to? \")\n",
    "    info.insert(3, newInfo.capitalize())\n",
    "elif selectionL == \"email\":\n",
    "    info.remove(\"veronicasmigielski@gmail.com\")\n",
    "    newInfo = input(\"What do you want to update the email to? \")\n",
    "    info.insert(4, newInfo.capitalize())\n",
    "elif selectionL == \"new location\":\n",
    "    info.remove(\"Belgium\")\n",
    "    newInfo = input(\"What do you want to update the new location to? \")\n",
    "    info.insert(5, newInfo.capitalize())\n",
    "elif selectionL == \"travel destination\":\n",
    "    info.remove(\"Barcelona\")\n",
    "    newInfo = input(\"What do you want to update the travel destination to? \")\n",
    "    info.insert(6, newInfo.capitalize())\n",
    "else: \n",
    "    print(\"You did not make an appropriate selection\")\n",
    "    \n",
    "print(info)"
   ]
  },
  {
   "cell_type": "markdown",
   "metadata": {},
   "source": [
    "## Activity 5\n",
    "\n",
    "Create four tuples:\n",
    "\n",
    "* One tuple with a person's first name and last name\n",
    "* A second tuple with the person's current profession\n",
    "* A third tuple with the person's current address\n",
    "* A fourth tuple with the person's previous address\n",
    "\n",
    "Combine all tuples into a new, single tuple that contains all items from the original tuples."
   ]
  },
  {
   "cell_type": "code",
   "execution_count": 13,
   "metadata": {},
   "outputs": [
    {
     "name": "stdout",
     "output_type": "stream",
     "text": [
      "Veronica Smigielski\n",
      "Junior Developer\n",
      "673 Herentalsebaan V1\n",
      "Via Cicerone 38\n",
      "Combine all 4 tuples\n",
      "Veronica Smigielski, Junior Developer, 673 Herentalsebaan V1, Via Cicerone 38\n"
     ]
    }
   ],
   "source": [
    "# your code here\n",
    "tuple1 = (\"Veronica Smigielski\")\n",
    "tuple2 = (\"Junior Developer\")\n",
    "tuple3 = (\"673 Herentalsebaan V1\")\n",
    "tuple4 = (\"Via Cicerone 38\")\n",
    "\n",
    "print(tuple1)\n",
    "print(tuple2)\n",
    "print(tuple3)\n",
    "print(tuple4)\n",
    "\n",
    "print(\"Combine all 4 tuples\")\n",
    "allTuples = tuple1 + \", \" + tuple2 + \", \" + tuple3 + \", \" + tuple4\n",
    "\n",
    "print(allTuples)"
   ]
  },
  {
   "cell_type": "markdown",
   "metadata": {},
   "source": [
    "## Activity 6\n",
    "\n",
    "Using the final tuple from the previous activity, write a program that performs the following steps:\n",
    "\n",
    "* Display the tuple to the user.\n",
    "* Prompt the user to enter a value that should be changed.\n",
    "* Prompt the user to enter the updated value for that item.\n",
    "* Update the value and display the updated tuple to the user.\n",
    "\n",
    "**Tip**: You cannot update the contents of a tuple, but you can update the contents of a list."
   ]
  },
  {
   "cell_type": "code",
   "execution_count": 18,
   "metadata": {},
   "outputs": [
    {
     "name": "stdout",
     "output_type": "stream",
     "text": [
      "['Veronica Smigielski']\n",
      "['Junior Developer']\n",
      "['673 Herentalsebaan V1']\n",
      "['Via Cicerone 38']\n",
      "Combine all 4 tuples\n",
      "['Veronica Smigielski', 'Junior Developer', '673 Herentalsebaan V1', 'Via Cicerone 38']\n",
      "Enter the item you would like to update: name, profession, current address, or previous addressprofession\n",
      "What would you like to update the profession to? Student\n",
      "['Veronica Smigielski', 'Student', '673 Herentalsebaan V1', 'Via Cicerone 38']\n"
     ]
    }
   ],
   "source": [
    "# your code here\n",
    "tuple1 = [\"Veronica Smigielski\"]\n",
    "tuple2 = [\"Junior Developer\"]\n",
    "tuple3 = [\"673 Herentalsebaan V1\"]\n",
    "tuple4 = [\"Via Cicerone 38\"]\n",
    "\n",
    "print(tuple1)\n",
    "print(tuple2)\n",
    "print(tuple3)\n",
    "print(tuple4)\n",
    "\n",
    "print(\"Combine all 4 tuples\")\n",
    "allTuples = tuple1 + tuple2 + tuple3 + tuple4\n",
    "\n",
    "print(allTuples)\n",
    "\n",
    "userInput = input(\"Enter the item you would like to update: name, profession, current address, or previous address\")\n",
    "userInputL = userInput.lower()\n",
    "if userInputL == \"name\":\n",
    "    allTuples.remove(\"Veronica Smigielski\")\n",
    "    name = input(\"What would you like to update the name to? \")\n",
    "    allTuples.insert(0, name)\n",
    "elif userInputL == \"profession\":\n",
    "    allTuples.remove(\"Junior Developer\")\n",
    "    profession = input(\"What would you like to update the profession to? \")\n",
    "    allTuples.insert(1, profession)\n",
    "elif userInputL == \"current address\":\n",
    "    allTuples.remove(\"673 Herentalsebaan V1\")\n",
    "    currentAddress = input(\"What would you like to update the current address to? \")\n",
    "    allTuples.insert(1, currentAddress)\n",
    "elif userInputL == \"previous address\":\n",
    "    allTuples.remove(\"Via Cicerone 38\")\n",
    "    previousAddress = input(\"What would you like to update the previous address to? \")\n",
    "    allTuples.insert(1, previousAddress)\n",
    "else:\n",
    "    print(\"You did not make a proper selection\")\n",
    "    \n",
    "print(allTuples)"
   ]
  },
  {
   "cell_type": "code",
   "execution_count": null,
   "metadata": {},
   "outputs": [],
   "source": []
  }
 ],
 "metadata": {
  "kernelspec": {
   "display_name": "Python 3",
   "language": "python",
   "name": "python3"
  },
  "language_info": {
   "codemirror_mode": {
    "name": "ipython",
    "version": 3
   },
   "file_extension": ".py",
   "mimetype": "text/x-python",
   "name": "python",
   "nbconvert_exporter": "python",
   "pygments_lexer": "ipython3",
   "version": "3.8.5"
  }
 },
 "nbformat": 4,
 "nbformat_minor": 2
}

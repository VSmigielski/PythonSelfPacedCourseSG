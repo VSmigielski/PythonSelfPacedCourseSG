{
 "cells": [
  {
   "cell_type": "markdown",
   "metadata": {},
   "source": [
    "Write a program that performs the following steps:\n",
    "\n",
    "Define a tuple that contains 12 individual numbers.\n",
    "Split the items in the tuple into three new lists, so each list includes four items from the original tuple.\n",
    "Reverse the values in each list and display the results.\n",
    "For example, if you start with the tuple (4,1,2,3,5,7,9,0,-1), you should end up with the lists [2,1,4], [7,5,3], and [-1,0,9]."
   ]
  },
  {
   "cell_type": "code",
   "execution_count": 7,
   "metadata": {},
   "outputs": [
    {
     "name": "stdout",
     "output_type": "stream",
     "text": [
      "(-5, -8, 9, 2)\n",
      "(3, 7, 11, 1)\n",
      "(23, 6, -2, 5)\n",
      "(2, 9, -8, -5)\n",
      "(1, 11, 7, 3)\n",
      "(5, -2, 6, 23)\n"
     ]
    }
   ],
   "source": [
    "# Veronica Smigielski 20/04/2021\n",
    "tupleInfo = (-5, -8, 9, 2, 3, 7, 11, 1, 23, 6, -2, 5)\n",
    "\n",
    "tuple1 = tupleInfo[:4]\n",
    "tuple2 = tupleInfo[4:8]\n",
    "tuple3 = tupleInfo[8:]\n",
    "\n",
    "print(tuple1)\n",
    "print(tuple2)\n",
    "print(tuple3)\n",
    "\n",
    "def Reverse(tuples):\n",
    "    new_tup = tuples[::-1]\n",
    "    return new_tup\n",
    "    \n",
    "print(Reverse(tuple1))\n",
    "print(Reverse(tuple2))\n",
    "print(Reverse(tuple3))"
   ]
  },
  {
   "cell_type": "code",
   "execution_count": null,
   "metadata": {},
   "outputs": [],
   "source": []
  }
 ],
 "metadata": {
  "kernelspec": {
   "display_name": "Python 3",
   "language": "python",
   "name": "python3"
  },
  "language_info": {
   "codemirror_mode": {
    "name": "ipython",
    "version": 3
   },
   "file_extension": ".py",
   "mimetype": "text/x-python",
   "name": "python",
   "nbconvert_exporter": "python",
   "pygments_lexer": "ipython3",
   "version": "3.8.5"
  }
 },
 "nbformat": 4,
 "nbformat_minor": 4
}

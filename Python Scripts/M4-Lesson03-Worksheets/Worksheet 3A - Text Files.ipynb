{
 "cells": [
  {
   "cell_type": "markdown",
   "metadata": {},
   "source": [
    "# Worksheet 3A: Text Files\n",
    "This worksheet corresponds to *Lesson 3A: Text Files* in the online course. Refer to that page as necessary to complete the activities here."
   ]
  },
  {
   "cell_type": "markdown",
   "metadata": {},
   "source": [
    "## Practice 1\n",
    "Find or create a text file. You can download a book from <a href=\"https://www.gutenberg.org\" target=\"_blank\">Project Gutenberg</a> for this activity if you wish, or use another text file of your choice.\n",
    "\n",
    "Read in the contents of the file and display all text in uppercase letters."
   ]
  },
  {
   "cell_type": "code",
   "execution_count": 2,
   "metadata": {},
   "outputs": [
    {
     "name": "stdout",
     "output_type": "stream",
     "text": [
      "FLATLAND\n",
      "\n",
      "PART 1\n",
      "\n",
      "THIS WORLD\n",
      "\n",
      "SECTION 1  OF THE NATURE OF FLATLAND\n",
      "\n",
      "I CALL OUR WORLD FLATLAND, NOT BECAUSE WE CALL IT SO, BUT TO MAKE ITS\n",
      "NATURE CLEARER TO YOU, MY HAPPY READERS, WHO ARE PRIVILEGED TO LIVE IN\n",
      "SPACE.\n",
      "\n",
      "IMAGINE A VAST SHEET OF PAPER ON WHICH STRAIGHT LINES, TRIANGLES,\n",
      "SQUARES, PENTAGONS, HEXAGONS, AND OTHER FIGURES, INSTEAD OF REMAINING\n",
      "FIXED IN THEIR PLACES, MOVE FREELY ABOUT, ON OR IN THE SURFACE, BUT\n",
      "WITHOUT THE POWER OF RISING ABOVE OR SINKING BELOW IT, VERY MUCH LIKE\n",
      "SHADOWS--ONLY HARD WITH LUMINOUS EDGES--AND YOU WILL THEN HAVE A PRETTY\n",
      "CORRECT NOTION OF MY COUNTRY AND COUNTRYMEN.  ALAS, A FEW YEARS AGO, I\n",
      "SHOULD HAVE SAID \"MY UNIVERSE:\"  BUT NOW MY MIND HAS BEEN OPENED TO\n",
      "HIGHER VIEWS OF THINGS.\n",
      "\n",
      "IN SUCH A COUNTRY, YOU WILL PERCEIVE AT ONCE THAT IT IS IMPOSSIBLE THAT\n",
      "THERE SHOULD BE ANYTHING OF WHAT YOU CALL A \"SOLID\" KIND; BUT I DARE\n",
      "SAY YOU WILL SUPPOSE THAT WE COULD AT LEAST DISTINGUISH BY SIGHT THE\n",
      "TRIANGLES, SQUARES, AND OTHER FIGURES, MOVING ABOUT AS I HAVE DESCRIBED\n",
      "THEM.  ON THE CONTRARY, WE COULD SEE NOTHING OF THE KIND, NOT AT LEAST\n",
      "SO AS TO DISTINGUISH ONE FIGURE FROM ANOTHER.  NOTHING WAS VISIBLE, NOR\n",
      "COULD BE VISIBLE, TO US, EXCEPT STRAIGHT LINES; AND THE NECESSITY OF\n",
      "THIS I WILL SPEEDILY DEMONSTRATE.\n"
     ]
    }
   ],
   "source": [
    "# your code here \n",
    "f = open(\"FileIO-DataFiles/flatland01.txt\", \"r\")  \n",
    "\n",
    "print((f.read()).upper())\n",
    "\n",
    "f.close() "
   ]
  },
  {
   "cell_type": "markdown",
   "metadata": {},
   "source": [
    "## Practice 2\n",
    "Using a text file of your choice, create a function `head` that takes as input a file and a number of characters. The function should read the file and return that number of characters starting at the beginning of the file. The function should also close the file.\n",
    "\n",
    "Make sure to update the file path information in the code provided to retrieve the characters from your own file."
   ]
  },
  {
   "cell_type": "code",
   "execution_count": 9,
   "metadata": {},
   "outputs": [
    {
     "name": "stdout",
     "output_type": "stream",
     "text": [
      "FLATLAND\n",
      "\n",
      "PART 1\n",
      "\n",
      "TH\n"
     ]
    }
   ],
   "source": [
    "def head(filepath,num_char):\n",
    "    # remove pass and add code here\n",
    "    f = open(filepath, \"r\")  \n",
    "\n",
    "    x = f.read(num_char)\n",
    "\n",
    "    f.close() \n",
    "    \n",
    "    return x\n",
    "    \n",
    "\n",
    "# return the first 20 characters in the file data/text.txt\n",
    "text = head(\"FileIO-DataFiles/flatland01.txt\",20) \n",
    "print(text)"
   ]
  },
  {
   "cell_type": "markdown",
   "metadata": {},
   "source": [
    "## Practice 3\n",
    "Create a function `head` that takes as input a file and a number of lines. The function should read the file, return the top `num_lines` lines in the file, and close the file."
   ]
  },
  {
   "cell_type": "code",
   "execution_count": 15,
   "metadata": {},
   "outputs": [
    {
     "name": "stdout",
     "output_type": "stream",
     "text": [
      "FLATLAND\n",
      "\n",
      "PART 1\n",
      "\n",
      "THIS WORLD\n",
      "\n"
     ]
    }
   ],
   "source": [
    "def head(filepath,num_lines):\n",
    "    # remove pass and add code here\n",
    "    f = open(filepath, \"r\")  \n",
    "    line = \"\"\n",
    "    for i in range(num_lines):\n",
    "        line += f.readline()\n",
    "    f.close() \n",
    "    \n",
    "    return line\n",
    "\n",
    "# return the first 5 lines in the file data/text.txt\n",
    "text = head(\"FileIO-DataFiles/flatland01.txt\",5) \n",
    "print(text)"
   ]
  },
  {
   "cell_type": "markdown",
   "metadata": {},
   "source": [
    "## Practice 4\n",
    "Create a function `line_starts_with` that takes as input a file path and a character. The function will read the input file and only return the lines in the file that start with the input `fchar`. \n",
    "\n",
    "Make sure to handle uppercase and lowercase versions of the letter, and make other changes to the code as necessary to run using a local file."
   ]
  },
  {
   "cell_type": "code",
   "execution_count": 36,
   "metadata": {},
   "outputs": [
    {
     "name": "stdout",
     "output_type": "stream",
     "text": [
      "I call our world Flatland, not because we call it so, but to make its\n",
      "\n",
      "Imagine a vast sheet of paper on which straight Lines, Triangles,\n",
      "\n",
      "In such a country, you will perceive at once that it is impossible that\n",
      "\n",
      "this I will speedily demonstrate.\n"
     ]
    }
   ],
   "source": [
    "def line_starts_with(file_path,fchar):\n",
    "    # remove pass and add your code here\n",
    "    f = open(file_path, \"r\")  \n",
    "    for line in f:\n",
    "        if line.startswith(\"i\") or line.startswith(\"I\"):\n",
    "            print(line)\n",
    "    f.close() \n",
    "    \n",
    "    return line\n",
    "\n",
    "# return all lines in the file data/text.txt that start with \"i\". \n",
    "text = line_starts_with(\"FileIO-DataFiles/flatland01.txt\",\"i\")\n",
    "print(text)"
   ]
  },
  {
   "cell_type": "markdown",
   "metadata": {},
   "source": [
    "## Practice 5A\n",
    "The `write` function by itself appends the new text at the end of the existing text, without creating new lines for the new text. We can solve this problem by adding the new line character `\\n` at the beginning of each string that should start on a new line.\n",
    "\n",
    "Update the code below so that each instance of \"Hello World!\" appears on a separate line at the end of the file. Check the results by opening the file on your computer."
   ]
  },
  {
   "cell_type": "code",
   "execution_count": 37,
   "metadata": {},
   "outputs": [],
   "source": [
    "f = open(\"FileIO-DataFiles/test_file.txt\", \"a\") \n",
    "\n",
    "f.write(\"Hello World!\")\n",
    "f.write(\"\\nHello World!\")\n",
    "f.write(\"\\nHello World!\")\n",
    "\n",
    "f.close() \n",
    "# after running this script, check that the file was created. "
   ]
  },
  {
   "cell_type": "markdown",
   "metadata": {},
   "source": [
    "## Practice 5B\n",
    "Update the code below to create a function `write_list_2_file` that takes as input a list and appends each element in the list as a separate line in a file. The function should close the file when finished."
   ]
  },
  {
   "cell_type": "code",
   "execution_count": 40,
   "metadata": {},
   "outputs": [],
   "source": [
    "states_abbrev = [\"AL\", \"AK\", \"AZ\", \"AR\", \"CA\", \"CO\", \"CT\", \"DE\", \"FL\", \"GA\", \n",
    "          \"HI\", \"ID\", \"IL\", \"IN\", \"IA\", \"KS\", \"KY\", \"LA\", \"ME\", \"MD\", \n",
    "          \"MA\", \"MI\", \"MN\", \"MS\", \"MO\", \"MT\", \"NE\", \"NV\", \"NH\", \"NJ\", \n",
    "          \"NM\", \"NY\", \"NC\", \"ND\", \"OH\", \"OK\", \"OR\", \"PA\", \"RI\", \"SC\", \n",
    "          \"SD\", \"TN\", \"TX\", \"UT\", \"VT\", \"VA\", \"WA\", \"WV\", \"WI\", \"WY\"]\n",
    "\n",
    "def write_list_2_file(input_list,input_file_path):\n",
    "    # remove pass and add code here\n",
    "    f = open(input_file_path, \"a\")\n",
    "    \n",
    "    for i in input_list:\n",
    "        f.write(i + \"\\n\")\n",
    "        \n",
    "    f.close()\n",
    "\n",
    "write_list_2_file(states_abbrev,\"FileIO-DataFiles/states.txt\")\n"
   ]
  },
  {
   "cell_type": "markdown",
   "metadata": {},
   "source": [
    "## Practice 6a\n",
    "Create a script that asks the user for two inputs:\n",
    "* `input_1`: A path and filename\n",
    "* `input_2`: Text that will be stored in the file `input_1`\n",
    "\t\n",
    "The script should create the file named in `input_1` (or overwrite an existing file with the same name) and add the text stored in `input_2` to that file.\n",
    "\t\n",
    "**Tip**: Be sure that the path defined for `input_1` includes an appropriate filename and filename extension."
   ]
  },
  {
   "cell_type": "code",
   "execution_count": 41,
   "metadata": {},
   "outputs": [
    {
     "name": "stdout",
     "output_type": "stream",
     "text": [
      "Input a path and file name. Ex: data/test_file.txt \n",
      "FileIO-DataFiles/testing.txt\n",
      "Enter text to be saved into the file that is created.This is a file that I am testing to see if this info is saved.\n"
     ]
    }
   ],
   "source": [
    "# your code here \n",
    "input_1 = input(\"Input a path and file name. Ex: data/test_file.txt \\n\")\n",
    "f = open(input_1, \"w\")\n",
    "\n",
    "input_2 = input(\"Enter text to be saved into the file that is created.\")\n",
    "f.write(input_2)\n",
    "\n",
    "f.close()"
   ]
  },
  {
   "cell_type": "markdown",
   "metadata": {},
   "source": [
    "## Practice 6b\n",
    "\n",
    "The following script opens the `test_file.txt` file we used above and immediately closes the file.\n",
    "\n",
    "Run the script and then open the file to see its contents."
   ]
  },
  {
   "cell_type": "code",
   "execution_count": 44,
   "metadata": {},
   "outputs": [],
   "source": [
    "f = open(\"FileIO-DataFiles/testing.txt\", \"w\") \n",
    "\n",
    "f.close() # close file"
   ]
  },
  {
   "cell_type": "markdown",
   "metadata": {},
   "source": [
    "## Practice 7\n",
    "Change the code below so the state abbreviations are all added to the file in a single line, separated by semicolons.\n",
    "\t\n",
    "The output should start like this: `AL;AK;AZ;AR;CA;CO;CT;....`."
   ]
  },
  {
   "cell_type": "code",
   "execution_count": 46,
   "metadata": {},
   "outputs": [],
   "source": [
    "f = open(\"FileIO-DataFiles/testing.txt\", \"w\") \n",
    "\n",
    "states = [\"AL\", \"AK\", \"AZ\", \"AR\", \"CA\", \"CO\", \"CT\", \"DE\", \"FL\", \"GA\", \n",
    "         \"HI\", \"ID\", \"IL\", \"IN\", \"IA\", \"KS\", \"KY\", \"LA\", \"ME\", \"MD\", \n",
    "         \"MA\", \"MI\", \"MN\", \"MS\", \"MO\", \"MT\", \"NE\", \"NV\", \"NH\", \"NJ\", \n",
    "         \"NM\", \"NY\", \"NC\", \"ND\", \"OH\", \"OK\", \"OR\", \"PA\", \"RI\", \"SC\", \n",
    "         \"SD\", \"TN\", \"TX\", \"UT\", \"VT\", \"VA\", \"WA\", \"WV\", \"WI\", \"WY\"]\n",
    "\n",
    "for state in states: # iterate through the states list\n",
    "    f.write(state + \";\") # write the state into file. \n",
    "f.close() # close file"
   ]
  },
  {
   "cell_type": "markdown",
   "metadata": {},
   "source": [
    "## Practice 8\n",
    "Create a script that asks the user for three inputs:\n",
    "* `input_1`: A path and filename\n",
    "* `input_2`: Text that will be stored in the file `input_1`\n",
    "* `input_3`: The read/write mode for the file (`\"a\"`,`\"x\"`,`\"r\"`, or `\"w\"`) \n",
    "\n",
    "The script should complete the following steps:\n",
    "* Create or open the file named in `input_1` using the access mode specified in `input_3`.\n",
    "* Add `input_2` to the `input_1` file.\n",
    "* Close the `input_1` file. "
   ]
  },
  {
   "cell_type": "code",
   "execution_count": 47,
   "metadata": {},
   "outputs": [
    {
     "name": "stdout",
     "output_type": "stream",
     "text": [
      "Input a path and file name. Ex: data/test_file.txt \n",
      "FileIO-DataFiles/test_file.txt\n",
      "Enter text to be saved into the file that is created.Hello World\n",
      "Enter 'a', 'x', 'r', or 'w': \n",
      "x\n"
     ]
    },
    {
     "ename": "FileExistsError",
     "evalue": "[Errno 17] File exists: 'FileIO-DataFiles/test_file.txt'",
     "output_type": "error",
     "traceback": [
      "\u001b[1;31m---------------------------------------------------------------------------\u001b[0m",
      "\u001b[1;31mFileExistsError\u001b[0m                           Traceback (most recent call last)",
      "\u001b[1;32m<ipython-input-47-bdda905e0e6f>\u001b[0m in \u001b[0;36m<module>\u001b[1;34m\u001b[0m\n\u001b[0;32m     11\u001b[0m     \u001b[0mf\u001b[0m\u001b[1;33m.\u001b[0m\u001b[0mclose\u001b[0m\u001b[1;33m(\u001b[0m\u001b[1;33m)\u001b[0m\u001b[1;33m\u001b[0m\u001b[1;33m\u001b[0m\u001b[0m\n\u001b[0;32m     12\u001b[0m \u001b[1;32melif\u001b[0m \u001b[0minput_3\u001b[0m \u001b[1;33m==\u001b[0m \u001b[1;34m\"x\"\u001b[0m\u001b[1;33m:\u001b[0m\u001b[1;33m\u001b[0m\u001b[1;33m\u001b[0m\u001b[0m\n\u001b[1;32m---> 13\u001b[1;33m     \u001b[0mf\u001b[0m \u001b[1;33m=\u001b[0m \u001b[0mopen\u001b[0m\u001b[1;33m(\u001b[0m\u001b[0minput_1\u001b[0m\u001b[1;33m,\u001b[0m \u001b[0minput_3\u001b[0m\u001b[1;33m)\u001b[0m\u001b[1;33m\u001b[0m\u001b[1;33m\u001b[0m\u001b[0m\n\u001b[0m\u001b[0;32m     14\u001b[0m     \u001b[0mf\u001b[0m\u001b[1;33m.\u001b[0m\u001b[0mwrite\u001b[0m\u001b[1;33m(\u001b[0m\u001b[0minput_2\u001b[0m\u001b[1;33m)\u001b[0m\u001b[1;33m\u001b[0m\u001b[1;33m\u001b[0m\u001b[0m\n\u001b[0;32m     15\u001b[0m     \u001b[0mf\u001b[0m\u001b[1;33m.\u001b[0m\u001b[0mclose\u001b[0m\u001b[1;33m(\u001b[0m\u001b[1;33m)\u001b[0m\u001b[1;33m\u001b[0m\u001b[1;33m\u001b[0m\u001b[0m\n",
      "\u001b[1;31mFileExistsError\u001b[0m: [Errno 17] File exists: 'FileIO-DataFiles/test_file.txt'"
     ]
    }
   ],
   "source": [
    "# your code here \n",
    "input_1 = input(\"Input a path and file name. Ex: data/test_file.txt \\n\")\n",
    "\n",
    "input_2 = input(\"Enter text to be saved into the file that is created.\")\n",
    "\n",
    "input_3 = input(\"Enter 'a', 'x', 'r', or 'w': \\n\")\n",
    "\n",
    "if input_3 == \"a\":\n",
    "    f = open(input_1, input_3)\n",
    "    f.write(input_2)\n",
    "    f.close()\n",
    "elif input_3 == \"x\":\n",
    "    f = open(input_1, input_3)\n",
    "    f.write(input_2)\n",
    "    f.close()\n",
    "elif input_3 == \"r\":\n",
    "    f = open(input_1, input_3)\n",
    "    print(\"In this mode, the file is read-only. We cannot write the input_2 to it.\")\n",
    "    f.close()\n",
    "elif input_3 == \"w\":\n",
    "    f = open(input_1, input_3)\n",
    "    f.write(input_2)\n",
    "    f.close()"
   ]
  },
  {
   "cell_type": "markdown",
   "metadata": {},
   "source": [
    "## Practice 9\n",
    "Create a script that prompts the user for the name of a file and then checks to see if that file exists in the *data* subdirectory, relative to the Python script file.\n",
    "\n",
    "The script should produce a meaningful output about whether the file exists or not. Test the script using both an existing file and a file that does not yet exist."
   ]
  },
  {
   "cell_type": "code",
   "execution_count": 51,
   "metadata": {},
   "outputs": [
    {
     "name": "stdout",
     "output_type": "stream",
     "text": [
      "Input a path and file name. Ex: data/test_file.txt \n",
      "FileIO-DataFiles/test_file1.txt\n",
      "The file doesn't exist.\n"
     ]
    }
   ],
   "source": [
    "# your code here \n",
    "import os\n",
    " \n",
    "input_1 = input(\"Input a path and file name. Ex: data/test_file.txt \\n\")\n",
    "\n",
    "if os.path.exists(input_1):\n",
    "    print(\"The file exists.\")\n",
    "else:\n",
    "    print(\"The file doesn't exist.\")"
   ]
  },
  {
   "cell_type": "markdown",
   "metadata": {},
   "source": [
    "## Practice 10a\n",
    "We know now that Python will throw an error if we attempt to delete a file that does not exist, and we know how to check if a file already exists. \n",
    "\n",
    "Write a script that performs the following tasks:\n",
    "* Prompt the user for the name of a file in the relative *data* subdirectory.\n",
    "* Check if the file exists.\n",
    "    * If the file does not exist, return a statement to that effect to the user.\n",
    "    * If the file does exist, delete the file and return an appropriate statement to the user."
   ]
  },
  {
   "cell_type": "code",
   "execution_count": 53,
   "metadata": {},
   "outputs": [
    {
     "name": "stdout",
     "output_type": "stream",
     "text": [
      "Input a path and file name. Ex: data/test_file.txt \n",
      "FileIO-DataFiles/test_file1.txt\n",
      "The file FileIO-DataFiles/test_file1.txt deleted successfully.\n"
     ]
    }
   ],
   "source": [
    "# your code here \n",
    "import os\n",
    "\n",
    "input_1 = input(\"Input a path and file name. Ex: data/test_file.txt \\n\")\n",
    "\n",
    "if os.path.exists(input_1):\n",
    "    os.remove(input_1) #we are deleting the file from the previous example. \n",
    "    print(\"The file\", input_1, \"deleted successfully.\")\n",
    "else:\n",
    "    print(\"The file doesn't exist.\")\n"
   ]
  },
  {
   "cell_type": "markdown",
   "metadata": {},
   "source": [
    "## Practice 10b\n",
    "We saw earlier in this lesson that opening an existing file in `\"x\"` mode throws an error and that `\"w\"` mode overwrites an existing file without warning. Now that we know how to check for an existing file, create a script that performs the following tasks:\n",
    "\n",
    "Prompt the user for three inputs:\n",
    "* `input_1`: A path name\n",
    "* `input_2`: Text that will be stored in the file `input_1`\n",
    "* `input_3`: The read/write mode for the file (`\"a\"`,`\"x\"`,`\"r\"`, or `\"w\"`) \n",
    "\n",
    "The script should complete the following steps:\n",
    "* Create or open the file named in `input_1` using the access mode specified in `input_3`.\n",
    "* If the user specifies access mode `\"x\"`, check if the file exists.\n",
    "    * If the file does not exist, open it.\n",
    "    * If the file already exists, inform the user and suggest that the user open the file in `\"a\"` or `\"w\"` mode instead.\n",
    "    * If the user insists on open an existing file in `\"x\"` mode, display an appropriate error message and exit the program.\n",
    "\n",
    "\n",
    "* If the user specifies access mode `\"w\"`, check if the file exists.\n",
    "    * If the file does not exist, open the file.\n",
    "    * If the file already exists, inform the user and ask whether they want to overwrite the existing file or open the file in `\"a\"` mode instead. Then, open the file in the mode specified.\n",
    "\n",
    "* Add `input_2` to the `input_1` file.\n",
    "* Print the contents of `input_1` to the screen.\n",
    "* Close the `input_1` file."
   ]
  },
  {
   "cell_type": "code",
   "execution_count": 59,
   "metadata": {},
   "outputs": [
    {
     "name": "stdout",
     "output_type": "stream",
     "text": [
      "Input a path and file name. Ex: data/test_file.txt \n",
      "FileIO-DataFiles/test_file1.txt\n",
      "Enter text to be saved into the file that is created.hello\n",
      "Enter 'a', 'x', 'r', or 'w': \n",
      "x\n",
      "The file FileIO-DataFiles/test_file1.txt already exists.\n",
      "Would you like to overwrite the existing file, open it in 'a' mode, or continue in 'x' mode? Enter 'w', 'a', or 'x'. \n",
      "x\n",
      "The option selected could not be completed because the file already exists.\n"
     ]
    }
   ],
   "source": [
    "# your code here\n",
    "import os\n",
    "\n",
    "input_1 = input(\"Input a path and file name. Ex: data/test_file.txt \\n\")\n",
    "\n",
    "input_2 = input(\"Enter text to be saved into the file that is created.\")\n",
    "\n",
    "input_3 = input(\"Enter 'a', 'x', 'r', or 'w': \\n\")\n",
    "\n",
    "if input_3 == \"a\":\n",
    "    f = open(input_1, input_3)\n",
    "    f.write(input_2)\n",
    "    f.close()\n",
    "elif input_3 == \"x\":\n",
    "    if os.path.exists(input_1):\n",
    "        print(\"The file\", input_1, \"already exists.\")\n",
    "        user_input = input(\"Would you like to overwrite the existing file, open it in 'a' mode, or continue in 'x' mode? Enter 'w', 'a', or 'x'. \\n\")\n",
    "        if user_input == \"w\":\n",
    "            f = open(input_1, user_input)\n",
    "            f.write(input_2)\n",
    "            f.close()\n",
    "        elif user_input == \"a\":\n",
    "            f = open(input_1, user_input)\n",
    "            f.write(input_2)\n",
    "            f.close()\n",
    "        elif user_input == \"x\":\n",
    "            print(\"The option selected could not be completed because the file already exists.\")\n",
    "        else: \n",
    "            print(\"Incorrect option selected.\")\n",
    "    else:\n",
    "        print(\"The file doesn't exist.\")\n",
    "        f = open(input_1, input_3)\n",
    "        f.write(input_2)\n",
    "        f.close()\n",
    "elif input_3 == \"r\":\n",
    "    if os.path.exists(input_1):\n",
    "        print(\"The file\", input_1, \"exists.\")\n",
    "        f = open(input_1, input_3)\n",
    "        f.read()\n",
    "        f.close()\n",
    "        print(\"In this mode, the file is read-only. We cannot write the input_2 to it.\")\n",
    "    else:\n",
    "        print(\"The file doesn't exist.\")\n",
    "elif input_3 == \"w\":\n",
    "    if os.path.exists(input_1):\n",
    "        print(\"The file\", input_1, \"exists.\")\n",
    "        user_input = input(\"Would you like to overwrite the existing file or open it in 'a' mode? Enter 'w' or 'a'\\n\")\n",
    "        if user_input == \"w\":\n",
    "            f = open(input_1, user_input)\n",
    "            f.write(input_2)\n",
    "            f.close()\n",
    "        elif user_input == \"a\":\n",
    "            f = open(input_1, user_input)\n",
    "            f.write(input_2)\n",
    "            f.close()\n",
    "        else: \n",
    "            print(\"Incorrect option selected.\")\n",
    "    else:\n",
    "        f = open(input_1, input_3)\n",
    "        f.write(input_2)\n",
    "        f.close()\n",
    "    "
   ]
  },
  {
   "cell_type": "code",
   "execution_count": null,
   "metadata": {},
   "outputs": [],
   "source": []
  }
 ],
 "metadata": {
  "kernelspec": {
   "display_name": "Python 3",
   "language": "python",
   "name": "python3"
  },
  "language_info": {
   "codemirror_mode": {
    "name": "ipython",
    "version": 3
   },
   "file_extension": ".py",
   "mimetype": "text/x-python",
   "name": "python",
   "nbconvert_exporter": "python",
   "pygments_lexer": "ipython3",
   "version": "3.8.5"
  }
 },
 "nbformat": 4,
 "nbformat_minor": 2
}

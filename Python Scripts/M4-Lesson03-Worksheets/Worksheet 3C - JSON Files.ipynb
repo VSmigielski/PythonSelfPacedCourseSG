{
 "cells": [
  {
   "cell_type": "markdown",
   "metadata": {},
   "source": [
    "# Worksheet: JSON Files\n",
    "This worksheet corresponds to *Lesson 3C: JSON Files* in the online course. Refer to that lesson as necessary to complete the practice activities here."
   ]
  },
  {
   "cell_type": "markdown",
   "metadata": {},
   "source": [
    "## Practice 1 \n",
    "Create a dictionary that represents a Twitter post. \n",
    "\n",
    "Use the `json.dumps` function to convert the dictionary into a JSON-encoded object. "
   ]
  },
  {
   "cell_type": "code",
   "execution_count": 2,
   "metadata": {},
   "outputs": [
    {
     "name": "stdout",
     "output_type": "stream",
     "text": [
      "{'first_name': 'Veronica', 'last_name': 'Smigielski', 'user_tag': '@VSmigielski', 'no_of_posts': 34}\n",
      "<class 'dict'>\n",
      "{\n",
      "    \"first_name\": \"Veronica\",\n",
      "    \"last_name\": \"Smigielski\",\n",
      "    \"user_tag\": \"@VSmigielski\",\n",
      "    \"no_of_posts\": 34\n",
      "}\n",
      "<class 'str'>\n"
     ]
    }
   ],
   "source": [
    "# your code here \n",
    "import json\n",
    "json_dict = {\n",
    "    \"first_name\": \"Veronica\",\n",
    "    \"last_name\": \"Smigielski\",\n",
    "    \"user_tag\": \"@VSmigielski\",\n",
    "    \"no_of_posts\": 34\n",
    "}\n",
    " \n",
    "# convert a dictionary into a string object that we can display. \n",
    "json_data = json.dumps(json_dict, indent = 4) \n",
    " \n",
    "print(json_dict) # dict\n",
    "print(type(json_dict))\n",
    " \n",
    "print(json_data) # string\n",
    "print(type(json_data))"
   ]
  },
  {
   "cell_type": "markdown",
   "metadata": {},
   "source": [
    "## Practice 2\n",
    "Update the Twitter post script from the last practice activity to include the `indent` option to make the output easier to read."
   ]
  },
  {
   "cell_type": "code",
   "execution_count": 6,
   "metadata": {},
   "outputs": [],
   "source": [
    "# your code here \n",
    "import json\n",
    "json_dict = {\n",
    "    \"first_name\": \"Veronica\",\n",
    "    \"last_name\": \"Smigielski\",\n",
    "    \"user_tag\": \"@VSmigielski\",\n",
    "    \"no_of_posts\": 34\n",
    "}\n",
    " \n",
    "# convert a dictionary into a string object that we can display. \n",
    "json_data = json.dumps(json_dict) \n",
    " \n",
    "print(json_dict) # dict\n",
    "print(type(json_dict))\n",
    " \n",
    "print(json_data) # string\n",
    "print(type(json_data))"
   ]
  },
  {
   "cell_type": "markdown",
   "metadata": {},
   "source": [
    "## Practice 3\n",
    "Create a script that asks the user for a string and tries to convert the string into a Python dictionary.\n",
    "\n",
    "What happens when the string is not valid?"
   ]
  },
  {
   "cell_type": "code",
   "execution_count": 8,
   "metadata": {},
   "outputs": [
    {
     "name": "stdout",
     "output_type": "stream",
     "text": [
      "Enter a stringhello\n",
      "The original string : hello\n",
      "<class 'str'>\n"
     ]
    },
    {
     "ename": "JSONDecodeError",
     "evalue": "Expecting value: line 1 column 1 (char 0)",
     "output_type": "error",
     "traceback": [
      "\u001b[1;31m---------------------------------------------------------------------------\u001b[0m",
      "\u001b[1;31mJSONDecodeError\u001b[0m                           Traceback (most recent call last)",
      "\u001b[1;32m<ipython-input-8-f3b3718bf5e7>\u001b[0m in \u001b[0;36m<module>\u001b[1;34m\u001b[0m\n\u001b[0;32m     11\u001b[0m \u001b[1;31m# using json.loads()\u001b[0m\u001b[1;33m\u001b[0m\u001b[1;33m\u001b[0m\u001b[1;33m\u001b[0m\u001b[0m\n\u001b[0;32m     12\u001b[0m \u001b[1;31m# convert dictionary string to dictionary\u001b[0m\u001b[1;33m\u001b[0m\u001b[1;33m\u001b[0m\u001b[1;33m\u001b[0m\u001b[0m\n\u001b[1;32m---> 13\u001b[1;33m \u001b[0mres\u001b[0m \u001b[1;33m=\u001b[0m \u001b[0mjson\u001b[0m\u001b[1;33m.\u001b[0m\u001b[0mloads\u001b[0m\u001b[1;33m(\u001b[0m\u001b[0mtest_string\u001b[0m\u001b[1;33m)\u001b[0m\u001b[1;33m\u001b[0m\u001b[1;33m\u001b[0m\u001b[0m\n\u001b[0m\u001b[0;32m     14\u001b[0m \u001b[1;33m\u001b[0m\u001b[0m\n\u001b[0;32m     15\u001b[0m \u001b[1;31m# print result\u001b[0m\u001b[1;33m\u001b[0m\u001b[1;33m\u001b[0m\u001b[1;33m\u001b[0m\u001b[0m\n",
      "\u001b[1;32m~\\anaconda3\\lib\\json\\__init__.py\u001b[0m in \u001b[0;36mloads\u001b[1;34m(s, cls, object_hook, parse_float, parse_int, parse_constant, object_pairs_hook, **kw)\u001b[0m\n\u001b[0;32m    355\u001b[0m             \u001b[0mparse_int\u001b[0m \u001b[1;32mis\u001b[0m \u001b[1;32mNone\u001b[0m \u001b[1;32mand\u001b[0m \u001b[0mparse_float\u001b[0m \u001b[1;32mis\u001b[0m \u001b[1;32mNone\u001b[0m \u001b[1;32mand\u001b[0m\u001b[1;33m\u001b[0m\u001b[1;33m\u001b[0m\u001b[0m\n\u001b[0;32m    356\u001b[0m             parse_constant is None and object_pairs_hook is None and not kw):\n\u001b[1;32m--> 357\u001b[1;33m         \u001b[1;32mreturn\u001b[0m \u001b[0m_default_decoder\u001b[0m\u001b[1;33m.\u001b[0m\u001b[0mdecode\u001b[0m\u001b[1;33m(\u001b[0m\u001b[0ms\u001b[0m\u001b[1;33m)\u001b[0m\u001b[1;33m\u001b[0m\u001b[1;33m\u001b[0m\u001b[0m\n\u001b[0m\u001b[0;32m    358\u001b[0m     \u001b[1;32mif\u001b[0m \u001b[0mcls\u001b[0m \u001b[1;32mis\u001b[0m \u001b[1;32mNone\u001b[0m\u001b[1;33m:\u001b[0m\u001b[1;33m\u001b[0m\u001b[1;33m\u001b[0m\u001b[0m\n\u001b[0;32m    359\u001b[0m         \u001b[0mcls\u001b[0m \u001b[1;33m=\u001b[0m \u001b[0mJSONDecoder\u001b[0m\u001b[1;33m\u001b[0m\u001b[1;33m\u001b[0m\u001b[0m\n",
      "\u001b[1;32m~\\anaconda3\\lib\\json\\decoder.py\u001b[0m in \u001b[0;36mdecode\u001b[1;34m(self, s, _w)\u001b[0m\n\u001b[0;32m    335\u001b[0m \u001b[1;33m\u001b[0m\u001b[0m\n\u001b[0;32m    336\u001b[0m         \"\"\"\n\u001b[1;32m--> 337\u001b[1;33m         \u001b[0mobj\u001b[0m\u001b[1;33m,\u001b[0m \u001b[0mend\u001b[0m \u001b[1;33m=\u001b[0m \u001b[0mself\u001b[0m\u001b[1;33m.\u001b[0m\u001b[0mraw_decode\u001b[0m\u001b[1;33m(\u001b[0m\u001b[0ms\u001b[0m\u001b[1;33m,\u001b[0m \u001b[0midx\u001b[0m\u001b[1;33m=\u001b[0m\u001b[0m_w\u001b[0m\u001b[1;33m(\u001b[0m\u001b[0ms\u001b[0m\u001b[1;33m,\u001b[0m \u001b[1;36m0\u001b[0m\u001b[1;33m)\u001b[0m\u001b[1;33m.\u001b[0m\u001b[0mend\u001b[0m\u001b[1;33m(\u001b[0m\u001b[1;33m)\u001b[0m\u001b[1;33m)\u001b[0m\u001b[1;33m\u001b[0m\u001b[1;33m\u001b[0m\u001b[0m\n\u001b[0m\u001b[0;32m    338\u001b[0m         \u001b[0mend\u001b[0m \u001b[1;33m=\u001b[0m \u001b[0m_w\u001b[0m\u001b[1;33m(\u001b[0m\u001b[0ms\u001b[0m\u001b[1;33m,\u001b[0m \u001b[0mend\u001b[0m\u001b[1;33m)\u001b[0m\u001b[1;33m.\u001b[0m\u001b[0mend\u001b[0m\u001b[1;33m(\u001b[0m\u001b[1;33m)\u001b[0m\u001b[1;33m\u001b[0m\u001b[1;33m\u001b[0m\u001b[0m\n\u001b[0;32m    339\u001b[0m         \u001b[1;32mif\u001b[0m \u001b[0mend\u001b[0m \u001b[1;33m!=\u001b[0m \u001b[0mlen\u001b[0m\u001b[1;33m(\u001b[0m\u001b[0ms\u001b[0m\u001b[1;33m)\u001b[0m\u001b[1;33m:\u001b[0m\u001b[1;33m\u001b[0m\u001b[1;33m\u001b[0m\u001b[0m\n",
      "\u001b[1;32m~\\anaconda3\\lib\\json\\decoder.py\u001b[0m in \u001b[0;36mraw_decode\u001b[1;34m(self, s, idx)\u001b[0m\n\u001b[0;32m    353\u001b[0m             \u001b[0mobj\u001b[0m\u001b[1;33m,\u001b[0m \u001b[0mend\u001b[0m \u001b[1;33m=\u001b[0m \u001b[0mself\u001b[0m\u001b[1;33m.\u001b[0m\u001b[0mscan_once\u001b[0m\u001b[1;33m(\u001b[0m\u001b[0ms\u001b[0m\u001b[1;33m,\u001b[0m \u001b[0midx\u001b[0m\u001b[1;33m)\u001b[0m\u001b[1;33m\u001b[0m\u001b[1;33m\u001b[0m\u001b[0m\n\u001b[0;32m    354\u001b[0m         \u001b[1;32mexcept\u001b[0m \u001b[0mStopIteration\u001b[0m \u001b[1;32mas\u001b[0m \u001b[0merr\u001b[0m\u001b[1;33m:\u001b[0m\u001b[1;33m\u001b[0m\u001b[1;33m\u001b[0m\u001b[0m\n\u001b[1;32m--> 355\u001b[1;33m             \u001b[1;32mraise\u001b[0m \u001b[0mJSONDecodeError\u001b[0m\u001b[1;33m(\u001b[0m\u001b[1;34m\"Expecting value\"\u001b[0m\u001b[1;33m,\u001b[0m \u001b[0ms\u001b[0m\u001b[1;33m,\u001b[0m \u001b[0merr\u001b[0m\u001b[1;33m.\u001b[0m\u001b[0mvalue\u001b[0m\u001b[1;33m)\u001b[0m \u001b[1;32mfrom\u001b[0m \u001b[1;32mNone\u001b[0m\u001b[1;33m\u001b[0m\u001b[1;33m\u001b[0m\u001b[0m\n\u001b[0m\u001b[0;32m    356\u001b[0m         \u001b[1;32mreturn\u001b[0m \u001b[0mobj\u001b[0m\u001b[1;33m,\u001b[0m \u001b[0mend\u001b[0m\u001b[1;33m\u001b[0m\u001b[1;33m\u001b[0m\u001b[0m\n",
      "\u001b[1;31mJSONDecodeError\u001b[0m: Expecting value: line 1 column 1 (char 0)"
     ]
    }
   ],
   "source": [
    "# your code here \n",
    "import json\n",
    "  \n",
    "# initializing string \n",
    "test_string = input(\"Enter a string\") \n",
    "  \n",
    "# printing original string \n",
    "print(\"The original string : \" + str(test_string))\n",
    "print(type(test_string))  \n",
    "\n",
    "# using json.loads()\n",
    "# convert dictionary string to dictionary\n",
    "res = json.loads(test_string)\n",
    "  \n",
    "# print result\n",
    "print(\"The converted dictionary : \" + str(res))\n",
    "print(type(res))"
   ]
  },
  {
   "cell_type": "markdown",
   "metadata": {},
   "source": [
    "## Practice 4\n",
    "Update the following code to compute the most common category of Nobel prizes in the *prizes.json* file."
   ]
  },
  {
   "cell_type": "code",
   "execution_count": null,
   "metadata": {},
   "outputs": [],
   "source": [
    "import json\n",
    "import collections\n",
    "# we use pprint to display json/dictionary objects in a human readable format. \n",
    "from pprint import pprint \n",
    "\n",
    "with open('FileIO-DataFiles/prizes.json','r') as jsonfile: # use open to read the file\n",
    "    # use the json module with the load function \n",
    "    # to read the entire content of the json file in a dictionary\n",
    "    data = json.load(jsonfile) # load the json content and serialize it. \n",
    "    \n",
    "# your code here \n",
    "prizes = data['prizes']\n",
    "\n",
    "pprint(data)\n",
    "\n",
    "new_dict = dict()\n",
    "\n",
    "for prize in prizes:\n",
    "    for k, v in prize.items():\n",
    "        if k == \"category\" and v not in new_dict:\n",
    "            new_dict[v] = 1\n",
    "        elif k == \"category\" and v in new_dict:\n",
    "            val = new_dict[v]\n",
    "            val += 1\n",
    "            new_dict[v] = val\n",
    "        else:\n",
    "            pass\n",
    "print(new_dict)\n",
    "print(\"The most common category of Nobel prize is\", max(new_dict), \"with\", new_dict[max(new_dict)], \"occurences.\")"
   ]
  },
  {
   "cell_type": "markdown",
   "metadata": {},
   "source": [
    "## Practice 5\n",
    "Complete the code below to compute the year and category when the highest number of laureates were recorded for the same Nobel prize.  "
   ]
  },
  {
   "cell_type": "code",
   "execution_count": 61,
   "metadata": {},
   "outputs": [
    {
     "name": "stdout",
     "output_type": "stream",
     "text": [
      "{'year': '2017', 'category': 'physics', 'laureates': [{'id': '941', 'firstname': 'Rainer', 'surname': 'Weiss', 'motivation': '\"for decisive contributions to the LIGO detector and the observation of gravitational waves\"', 'share': '2'}, {'id': '942', 'firstname': 'Barry C.', 'surname': 'Barish', 'motivation': '\"for decisive contributions to the LIGO detector and the observation of gravitational waves\"', 'share': '4'}, {'id': '943', 'firstname': 'Kip S.', 'surname': 'Thorne', 'motivation': '\"for decisive contributions to the LIGO detector and the observation of gravitational waves\"', 'share': '4'}]}\n"
     ]
    }
   ],
   "source": [
    "import json\n",
    "# we use pprint to display json/dictionary objects in a human-readable format.\n",
    "from pprint import pprint  \n",
    "\n",
    "with open('FileIO-DataFiles/prizes.json','r') as jsonfile: # use open to read the file\n",
    "    # use the json module with the load function \n",
    "    # to read the entire content of the json file in a dictionary\n",
    "    data = json.load(jsonfile) # load the json content and serialize it. \n",
    "    \n",
    "# your code here \n",
    "prizes = data['prizes']\n",
    "\n",
    "length = 0\n",
    "high = None\n",
    "\n",
    "for prize in prizes:\n",
    "    for k, v in prize.items():\n",
    "        if k == \"laureates\":\n",
    "            if len(v) > length:\n",
    "                high = prize\n",
    "                length = len(v)\n",
    "            else:\n",
    "                pass\n",
    "            \n",
    "print(high)"
   ]
  },
  {
   "cell_type": "markdown",
   "metadata": {},
   "source": [
    "## Practice 6\n",
    "Complete the code below to identify all the Nobel laureates whose first name is Martin."
   ]
  },
  {
   "cell_type": "code",
   "execution_count": 155,
   "metadata": {
    "scrolled": true
   },
   "outputs": [
    {
     "name": "stdout",
     "output_type": "stream",
     "text": [
      "[{'firstname': 'Martin',\n",
      "  'id': '889',\n",
      "  'motivation': '\"for the development of multiscale models for complex '\n",
      "                'chemical systems\"',\n",
      "  'share': '3',\n",
      "  'surname': 'Karplus'},\n",
      " {'firstname': 'Martin',\n",
      "  'id': '830',\n",
      "  'motivation': '\"for the discovery and development of the green fluorescent '\n",
      "                'protein, GFP\"',\n",
      "  'share': '3',\n",
      "  'surname': 'Chalfie'},\n",
      " {'firstname': 'Martin',\n",
      "  'id': '451',\n",
      "  'motivation': '\"for their discovery of G-proteins and the role of these '\n",
      "                'proteins in signal transduction in cells\"',\n",
      "  'share': '2',\n",
      "  'surname': 'Rodbell'}]\n"
     ]
    }
   ],
   "source": [
    "import json\n",
    "from pprint import pprint  \n",
    "with open('FileIO-DataFiles/prizes.json','r') as jsonfile: \n",
    "    data = json.load(jsonfile) \n",
    "\n",
    "laureates = []    \n",
    "\n",
    "for k in data['prizes']: \n",
    "    for key, val in k.items():\n",
    "        if key == \"laureates\":\n",
    "            for d in val:\n",
    "                for a, b in d.items():\n",
    "                    if a == \"firstname\" and b == \"Martin\":\n",
    "                        # print(a, b)\n",
    "                        # print(val)\n",
    "                        # pprint(d)\n",
    "                        laureates.append(d)\n",
    "                        \n",
    "                   # if d['firstname'] == \"Martin\":\n",
    "                   #  value += 1\n",
    "                   # new_dict['Martin'] = value\n",
    "                    else:\n",
    "                        pass\n",
    "                \n",
    "pprint(laureates)"
   ]
  },
  {
   "cell_type": "markdown",
   "metadata": {},
   "source": [
    "## Practice 7\n",
    "Complete the code below to identify all the laureates that won in the year 2013 across all categories."
   ]
  },
  {
   "cell_type": "code",
   "execution_count": 173,
   "metadata": {
    "scrolled": true
   },
   "outputs": [
    {
     "name": "stdout",
     "output_type": "stream",
     "text": [
      "{'category': 'physics',\n",
      " 'laureates': [{'firstname': 'François',\n",
      "                'id': '887',\n",
      "                'motivation': '\"for the theoretical discovery of a mechanism '\n",
      "                              'that contributes to our understanding of the '\n",
      "                              'origin of mass of subatomic particles, and '\n",
      "                              'which recently was confirmed through the '\n",
      "                              'discovery of the predicted fundamental '\n",
      "                              'particle, by the ATLAS and CMS experiments at '\n",
      "                              'CERN\\'s Large Hadron Collider\"',\n",
      "                'share': '2',\n",
      "                'surname': 'Englert'},\n",
      "               {'firstname': 'Peter W.',\n",
      "                'id': '888',\n",
      "                'motivation': '\"for the theoretical discovery of a mechanism '\n",
      "                              'that contributes to our understanding of the '\n",
      "                              'origin of mass of subatomic particles, and '\n",
      "                              'which recently was confirmed through the '\n",
      "                              'discovery of the predicted fundamental '\n",
      "                              'particle, by the ATLAS and CMS experiments at '\n",
      "                              'CERN\\'s Large Hadron Collider\"',\n",
      "                'share': '2',\n",
      "                'surname': 'Higgs'}],\n",
      " 'year': '2013'}\n",
      "{'category': 'chemistry',\n",
      " 'laureates': [{'firstname': 'Martin',\n",
      "                'id': '889',\n",
      "                'motivation': '\"for the development of multiscale models for '\n",
      "                              'complex chemical systems\"',\n",
      "                'share': '3',\n",
      "                'surname': 'Karplus'},\n",
      "               {'firstname': 'Michael',\n",
      "                'id': '890',\n",
      "                'motivation': '\"for the development of multiscale models for '\n",
      "                              'complex chemical systems\"',\n",
      "                'share': '3',\n",
      "                'surname': 'Levitt'},\n",
      "               {'firstname': 'Arieh',\n",
      "                'id': '891',\n",
      "                'motivation': '\"for the development of multiscale models for '\n",
      "                              'complex chemical systems\"',\n",
      "                'share': '3',\n",
      "                'surname': 'Warshel'}],\n",
      " 'year': '2013'}\n",
      "{'category': 'medicine',\n",
      " 'laureates': [{'firstname': 'James E.',\n",
      "                'id': '884',\n",
      "                'motivation': '\"for their discoveries of machinery regulating '\n",
      "                              'vesicle traffic, a major transport system in '\n",
      "                              'our cells\"',\n",
      "                'share': '3',\n",
      "                'surname': 'Rothman'},\n",
      "               {'firstname': 'Randy W.',\n",
      "                'id': '885',\n",
      "                'motivation': '\"for their discoveries of machinery regulating '\n",
      "                              'vesicle traffic, a major transport system in '\n",
      "                              'our cells\"',\n",
      "                'share': '3',\n",
      "                'surname': 'Schekman'},\n",
      "               {'firstname': 'Thomas C.',\n",
      "                'id': '886',\n",
      "                'motivation': '\"for their discoveries of machinery regulating '\n",
      "                              'vesicle traffic, a major transport system in '\n",
      "                              'our cells\"',\n",
      "                'share': '3',\n",
      "                'surname': 'Südhof'}],\n",
      " 'year': '2013'}\n",
      "{'category': 'literature',\n",
      " 'laureates': [{'firstname': 'Alice',\n",
      "                'id': '892',\n",
      "                'motivation': '\"master of the contemporary short story\"',\n",
      "                'share': '1',\n",
      "                'surname': 'Munro'}],\n",
      " 'year': '2013'}\n",
      "{'category': 'peace',\n",
      " 'laureates': [{'firstname': 'Organisation for the Prohibition of Chemical '\n",
      "                             'Weapons (OPCW)',\n",
      "                'id': '893',\n",
      "                'motivation': '\"for its extensive efforts to eliminate '\n",
      "                              'chemical weapons\"',\n",
      "                'share': '1',\n",
      "                'surname': ''}],\n",
      " 'year': '2013'}\n",
      "{'category': 'economics',\n",
      " 'laureates': [{'firstname': 'Eugene F.',\n",
      "                'id': '894',\n",
      "                'motivation': '\"for their empirical analysis of asset prices\"',\n",
      "                'share': '3',\n",
      "                'surname': 'Fama'},\n",
      "               {'firstname': 'Lars Peter',\n",
      "                'id': '895',\n",
      "                'motivation': '\"for their empirical analysis of asset prices\"',\n",
      "                'share': '3',\n",
      "                'surname': 'Hansen'},\n",
      "               {'firstname': 'Robert J.',\n",
      "                'id': '896',\n",
      "                'motivation': '\"for their empirical analysis of asset prices\"',\n",
      "                'share': '3',\n",
      "                'surname': 'Shiller'}],\n",
      " 'year': '2013'}\n"
     ]
    }
   ],
   "source": [
    "import json\n",
    "from pprint import pprint \n",
    "with open('FileIO-DataFiles/prizes.json','r') as jsonfile: \n",
    "    data = json.load(jsonfile)  \n",
    "    \n",
    "for k in data['prizes']:\n",
    "    for key, val in k.items():\n",
    "        if key == \"year\" and val == \"2013\":\n",
    "            pprint(k)\n",
    "        else:\n",
    "            pass\n",
    "                "
   ]
  },
  {
   "cell_type": "markdown",
   "metadata": {},
   "source": [
    "## Practice 8\n",
    "Complete the code below to create a JSON file that contains key-value pairs where the key is the state abbreviation and the value is the full name of the state. \n",
    "\n",
    "The abbreviations and state names are in the correct order in both lists."
   ]
  },
  {
   "cell_type": "code",
   "execution_count": 183,
   "metadata": {
    "scrolled": true
   },
   "outputs": [
    {
     "name": "stdout",
     "output_type": "stream",
     "text": [
      "('{\"AL\": \"Alabama\", \"AK\": \"Alaska\", \"AZ\": \"Arizona\", \"AR\": \"Arkansas\", \"CA\": '\n",
      " '\"California\", \"CO\": \"Colorado\", \"CT\": \"Connecticut\", \"DE\": \"Delaware\", \"FL\": '\n",
      " '\"Florida\", \"GA\": \"Georgia\", \"HI\": \"Hawaii\", \"ID\": \"Idaho\", \"IL\": \"Illinois\", '\n",
      " '\"IN\": \"Indiana\", \"IA\": \"Iowa\", \"KS\": \"Kansas\", \"KY\": \"Kentucky\", \"LA\": '\n",
      " '\"Louisiana\", \"ME\": \"Maine\", \"MD\": \"Maryland\", \"MA\": \"Massachusetts\", \"MI\": '\n",
      " '\"Michigan\", \"MN\": \"Minnesota\", \"MS\": \"Mississippi\", \"MO\": \"Missouri\", \"MT\": '\n",
      " '\"Montana\", \"NE\": \"Nebraska\", \"NV\": \"Nevada\", \"NH\": \"New Hampshire\", \"NJ\": '\n",
      " '\"New Jersey\", \"NM\": \"New Mexico\", \"NY\": \"New York\", \"NC\": \"North Carolina\", '\n",
      " '\"ND\": \"North Dakota\", \"OH\": \"Ohio\", \"OK\": \"Oklahoma\", \"OR\": \"Oregon\", \"PA\": '\n",
      " '\"Pennsylvania\", \"RI\": \"Rhode Island\", \"SC\": \"South Carolina\", \"SD\": \"South '\n",
      " 'Dakota\", \"TN\": \"Tennessee\", \"TX\": \"Texas\", \"UT\": \"Utah\", \"VT\": \"Vermont\", '\n",
      " '\"VA\": \"Virginia\", \"WA\": \"Washington\", \"WV\": \"West Virginia\", \"WI\": '\n",
      " '\"Wisconsin\", \"WY\": \"Wyoming\"}')\n"
     ]
    }
   ],
   "source": [
    "states_abbrev = [\"AL\", \"AK\", \"AZ\", \"AR\", \"CA\", \"CO\", \"CT\", \"DE\", \"FL\", \"GA\", \n",
    "          \"HI\", \"ID\", \"IL\", \"IN\", \"IA\", \"KS\", \"KY\", \"LA\", \"ME\", \"MD\", \n",
    "          \"MA\", \"MI\", \"MN\", \"MS\", \"MO\", \"MT\", \"NE\", \"NV\", \"NH\", \"NJ\", \n",
    "          \"NM\", \"NY\", \"NC\", \"ND\", \"OH\", \"OK\", \"OR\", \"PA\", \"RI\", \"SC\", \n",
    "          \"SD\", \"TN\", \"TX\", \"UT\", \"VT\", \"VA\", \"WA\", \"WV\", \"WI\", \"WY\"]\n",
    "\n",
    "states_full = [\"Alabama\",\"Alaska\",\"Arizona\",\"Arkansas\",\"California\",\"Colorado\",\n",
    "  \"Connecticut\",\"Delaware\",\"Florida\",\"Georgia\",\"Hawaii\",\"Idaho\",\"Illinois\",\n",
    "  \"Indiana\",\"Iowa\",\"Kansas\",\"Kentucky\",\"Louisiana\",\"Maine\",\"Maryland\",\n",
    "  \"Massachusetts\",\"Michigan\",\"Minnesota\",\"Mississippi\",\"Missouri\",\"Montana\",\n",
    "  \"Nebraska\",\"Nevada\",\"New Hampshire\",\"New Jersey\",\"New Mexico\",\"New York\",\n",
    "  \"North Carolina\",\"North Dakota\",\"Ohio\",\"Oklahoma\",\"Oregon\",\"Pennsylvania\",\n",
    "  \"Rhode Island\",\"South Carolina\",\"South Dakota\",\"Tennessee\",\"Texas\",\"Utah\",\n",
    "  \"Vermont\",\"Virginia\",\"Washington\",\"West Virginia\",\"Wisconsin\",\"Wyoming\"]\n",
    "\n",
    "#your code goes here \n",
    "states = dict(zip(states_abbrev, states_full))\n",
    "\n",
    "with open('FileIO-DataFiles/states.json', 'w') as outfile:  \n",
    "    json.dump(states, outfile)\n",
    " \n",
    "f = open('FileIO-DataFiles/states.json', 'r')\n",
    "pprint(f.read())\n",
    "f.close()"
   ]
  },
  {
   "cell_type": "markdown",
   "metadata": {},
   "source": [
    "## Practice 9\n",
    "Complete the code below to store the `states` dictionary in a JSON file named *states.json*. "
   ]
  },
  {
   "cell_type": "code",
   "execution_count": 176,
   "metadata": {},
   "outputs": [
    {
     "name": "stdout",
     "output_type": "stream",
     "text": [
      "('{\"AK\": \"Alaska\", \"AL\": \"Alabama\", \"AR\": \"Arkansas\", \"AS\": \"American Samoa\", '\n",
      " '\"AZ\": \"Arizona\", \"CA\": \"California\", \"CO\": \"Colorado\", \"CT\": \"Connecticut\", '\n",
      " '\"DC\": \"District of Columbia\", \"DE\": \"Delaware\", \"FL\": \"Florida\", \"GA\": '\n",
      " '\"Georgia\", \"GU\": \"Guam\", \"HI\": \"Hawaii\", \"IA\": \"Iowa\", \"ID\": \"Idaho\", \"IL\": '\n",
      " '\"Illinois\", \"IN\": \"Indiana\", \"KS\": \"Kansas\", \"KY\": \"Kentucky\", \"LA\": '\n",
      " '\"Louisiana\", \"MA\": \"Massachusetts\", \"MD\": \"Maryland\", \"ME\": \"Maine\", \"MI\": '\n",
      " '\"Michigan\", \"MN\": \"Minnesota\", \"MO\": \"Missouri\", \"MP\": \"Northern Mariana '\n",
      " 'Islands\", \"MS\": \"Mississippi\", \"MT\": \"Montana\", \"NA\": \"National\", \"NC\": '\n",
      " '\"North Carolina\", \"ND\": \"North Dakota\", \"NE\": \"Nebraska\", \"NH\": \"New '\n",
      " 'Hampshire\", \"NJ\": \"New Jersey\", \"NM\": \"New Mexico\", \"NV\": \"Nevada\", \"NY\": '\n",
      " '\"New York\", \"OH\": \"Ohio\", \"OK\": \"Oklahoma\", \"OR\": \"Oregon\", \"PA\": '\n",
      " '\"Pennsylvania\", \"PR\": \"Puerto Rico\", \"RI\": \"Rhode Island\", \"SC\": \"South '\n",
      " 'Carolina\", \"SD\": \"South Dakota\", \"TN\": \"Tennessee\", \"TX\": \"Texas\", \"UT\": '\n",
      " '\"Utah\", \"VA\": \"Virginia\", \"VI\": \"Virgin Islands\", \"VT\": \"Vermont\", \"WA\": '\n",
      " '\"Washington\", \"WI\": \"Wisconsin\", \"WV\": \"West Virginia\", \"WY\": \"Wyoming\"}')\n"
     ]
    }
   ],
   "source": [
    "states = {\n",
    "        'AK': 'Alaska',\n",
    "        'AL': 'Alabama',\n",
    "        'AR': 'Arkansas',\n",
    "        'AS': 'American Samoa',\n",
    "        'AZ': 'Arizona',\n",
    "        'CA': 'California',\n",
    "        'CO': 'Colorado',\n",
    "        'CT': 'Connecticut',\n",
    "        'DC': 'District of Columbia',\n",
    "        'DE': 'Delaware',\n",
    "        'FL': 'Florida',\n",
    "        'GA': 'Georgia',\n",
    "        'GU': 'Guam',\n",
    "        'HI': 'Hawaii',\n",
    "        'IA': 'Iowa',\n",
    "        'ID': 'Idaho',\n",
    "        'IL': 'Illinois',\n",
    "        'IN': 'Indiana',\n",
    "        'KS': 'Kansas',\n",
    "        'KY': 'Kentucky',\n",
    "        'LA': 'Louisiana',\n",
    "        'MA': 'Massachusetts',\n",
    "        'MD': 'Maryland',\n",
    "        'ME': 'Maine',\n",
    "        'MI': 'Michigan',\n",
    "        'MN': 'Minnesota',\n",
    "        'MO': 'Missouri',\n",
    "        'MP': 'Northern Mariana Islands',\n",
    "        'MS': 'Mississippi',\n",
    "        'MT': 'Montana',\n",
    "        'NA': 'National',\n",
    "        'NC': 'North Carolina',\n",
    "        'ND': 'North Dakota',\n",
    "        'NE': 'Nebraska',\n",
    "        'NH': 'New Hampshire',\n",
    "        'NJ': 'New Jersey',\n",
    "        'NM': 'New Mexico',\n",
    "        'NV': 'Nevada',\n",
    "        'NY': 'New York',\n",
    "        'OH': 'Ohio',\n",
    "        'OK': 'Oklahoma',\n",
    "        'OR': 'Oregon',\n",
    "        'PA': 'Pennsylvania',\n",
    "        'PR': 'Puerto Rico',\n",
    "        'RI': 'Rhode Island',\n",
    "        'SC': 'South Carolina',\n",
    "        'SD': 'South Dakota',\n",
    "        'TN': 'Tennessee',\n",
    "        'TX': 'Texas',\n",
    "        'UT': 'Utah',\n",
    "        'VA': 'Virginia',\n",
    "        'VI': 'Virgin Islands',\n",
    "        'VT': 'Vermont',\n",
    "        'WA': 'Washington',\n",
    "        'WI': 'Wisconsin',\n",
    "        'WV': 'West Virginia',\n",
    "        'WY': 'Wyoming'\n",
    "}\n",
    "\n",
    "# your code here \n",
    "\n",
    "with open('FileIO-DataFiles/states-9.json', 'w') as outfile:  \n",
    "    json.dump(states, outfile)\n",
    " \n",
    "f = open('FileIO-DataFiles/states-9.json', 'r')\n",
    "pprint(f.read())\n",
    "f.close()"
   ]
  },
  {
   "cell_type": "code",
   "execution_count": null,
   "metadata": {},
   "outputs": [],
   "source": []
  }
 ],
 "metadata": {
  "kernelspec": {
   "display_name": "Python 3",
   "language": "python",
   "name": "python3"
  },
  "language_info": {
   "codemirror_mode": {
    "name": "ipython",
    "version": 3
   },
   "file_extension": ".py",
   "mimetype": "text/x-python",
   "name": "python",
   "nbconvert_exporter": "python",
   "pygments_lexer": "ipython3",
   "version": "3.8.5"
  }
 },
 "nbformat": 4,
 "nbformat_minor": 2
}

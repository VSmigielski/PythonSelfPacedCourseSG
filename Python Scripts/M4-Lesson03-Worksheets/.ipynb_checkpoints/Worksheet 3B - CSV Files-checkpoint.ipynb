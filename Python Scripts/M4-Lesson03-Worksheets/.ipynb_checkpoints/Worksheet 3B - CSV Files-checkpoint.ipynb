{
 "cells": [
  {
   "cell_type": "markdown",
   "metadata": {},
   "source": [
    "# Worksheet: CSV Files \n",
    "This worksheet corresponds to *Lesson 3B: CSV Files* in the online course. Refer to that page as necessary to complete the practice activities here."
   ]
  },
  {
   "cell_type": "markdown",
   "metadata": {},
   "source": [
    "## Practice 1\n",
    "The file in Example 1 is a shortened version of a much longer file named *stocks.csv*. Each row of data includes values for a specific stock item, including:\n",
    "* Date: The date of the following data\n",
    "* Open: The opening price on that date\n",
    "* High: The highest price on that date\n",
    "* Low: The lowest price on that date\n",
    "* Close: The closing price on that date\n",
    "* Volume: The number of shares traded on that date\n",
    "\n",
    "Using the full version of the file, complete the code below to compute and display the average opening price for all stock items. Close the file after performing the calculations."
   ]
  },
  {
   "cell_type": "code",
   "execution_count": 15,
   "metadata": {},
   "outputs": [
    {
     "name": "stdout",
     "output_type": "stream",
     "text": [
      "324822.8527000005\n",
      "2770\n",
      "117.26456776173303\n"
     ]
    }
   ],
   "source": [
    "import csv\n",
    "\n",
    "# use open function to read the C.csv file and create a file object f\n",
    "with open('FileIO-DataFiles/stocks.csv') as f: \n",
    "    \n",
    "    # use the reader class under the csv module to read the file using comma as the delimiter\n",
    "    csv_file = csv.reader(f, delimiter=',') \n",
    "    \n",
    "    count = 0\n",
    "    sum_of_Numbers = 0\n",
    "    # csv_file is an iterable object that we can iterate on using a for loop\n",
    "    for row in csv_file:\n",
    "        #remove pass and add code here\n",
    "        \n",
    "        if row[1] == \"Open\":\n",
    "            pass\n",
    "        else: \n",
    "            sum_of_Numbers += (float(row[1]))\n",
    "            count += 1\n",
    "    \n",
    "    avg = sum_of_Numbers / count\n",
    "\n",
    "f.close()\n",
    "\n",
    "print(sum_of_Numbers)\n",
    "print(count)\n",
    "print(avg)"
   ]
  },
  {
   "cell_type": "markdown",
   "metadata": {},
   "source": [
    "## Practice 2\n",
    "Complete the code below to determine the largest volume of sales in the dataset."
   ]
  },
  {
   "cell_type": "code",
   "execution_count": 65,
   "metadata": {},
   "outputs": [
    {
     "name": "stdout",
     "output_type": "stream",
     "text": [
      "The largest volume of sales is: 377263795\n"
     ]
    }
   ],
   "source": [
    "import csv\n",
    "with open('FileIO-DataFiles/stocks.csv') as f: \n",
    "    \n",
    "    csv_file = csv.DictReader(f, delimiter=',') \n",
    "    \n",
    "    max_volume = None\n",
    "    \n",
    "    for row in csv_file:\n",
    "        volume = int(row['Volume'])\n",
    "        if max_volume == None or max_volume < volume:\n",
    "            max_volume = volume\n",
    "            \n",
    "    print(\"The largest volume of sales is:\", max_volume)\n",
    "    \n",
    "f.close()  "
   ]
  },
  {
   "cell_type": "markdown",
   "metadata": {},
   "source": [
    "## Practice 3\n",
    "Complete the code to compute the largest closing price across the dataset. "
   ]
  },
  {
   "cell_type": "code",
   "execution_count": 69,
   "metadata": {},
   "outputs": [
    {
     "name": "stdout",
     "output_type": "stream",
     "text": [
      "The maximum closing value is: 564.1\n"
     ]
    }
   ],
   "source": [
    "import operator\n",
    "import math\n",
    "def read_csv(filepath,delimiter=\",\"):\n",
    "    import csv\n",
    "    dataset = list()\n",
    "    with open(filepath) as f: \n",
    "        csv_file = csv.DictReader(f, delimiter=delimiter) \n",
    "        for row in csv_file:\n",
    "            dataset.append(row)\n",
    "    return dataset\n",
    "\n",
    "dataset = read_csv(\"FileIO-DataFiles/stocks.csv\")\n",
    "\n",
    "# your code here \n",
    "max_closing = None\n",
    "for row in dataset:\n",
    "    closing = float(row['Close'])\n",
    "    if max_closing == None or max_closing < closing:\n",
    "        max_closing = closing\n",
    "        \n",
    "print(\"The maximum closing value is:\", max_closing)"
   ]
  },
  {
   "cell_type": "markdown",
   "metadata": {},
   "source": [
    "## Practice 4\n",
    "Create a script that performs the following tasks:\n",
    "* Overwrite or create a file named *data/user_input.csv*.\n",
    "* Ask the user for input text that will be added to *user_input.csv*. \n",
    "* Continue prompting for input until the user enters \"Quit.\" \n",
    "* When the user enters \"Quit,\" display the existing contents of the file to the user. \n",
    "\n",
    "**Tip**: It is always useful to tell the user how to get out of a loop!"
   ]
  },
  {
   "cell_type": "code",
   "execution_count": 84,
   "metadata": {
    "scrolled": true
   },
   "outputs": [
    {
     "name": "stdout",
     "output_type": "stream",
     "text": [
      "Enter employee data: employee id\n",
      "101\n",
      "Enter employee data: first name\n",
      "Gio\n",
      "Enter employee data: last name\n",
      "Peeters\n",
      "Enter employee data: employee id\n",
      "102\n",
      "Enter employee data: first name\n",
      "Veronica\n",
      "Enter employee data: last name\n",
      "Smigielski\n",
      "Enter employee data: employee id\n",
      "quit\n",
      "employee_id,first_name,last_name\n",
      "101,Gio,Peeters\n",
      "102,Veronica,Smigielski\n",
      "\n"
     ]
    }
   ],
   "source": [
    "# your code here \n",
    "import csv\n",
    "\n",
    "with open('FileIO-DataFiles/employee.csv', 'w', newline='') as file: # open file in write mode\n",
    "    # use the writer class to create a writer object \n",
    "    # that we will use to write data into the file\n",
    "    fieldnames = ['employee_id', 'first_name', 'last_name']\n",
    "    writer = csv.DictWriter(file,fieldnames=fieldnames)  \n",
    "    \n",
    "    user_input = \"\"\n",
    "    \n",
    "    writer.writeheader()\n",
    "    \n",
    "    while user_input.capitalize() != \"Quit\":\n",
    "        user_input = input(\"Enter employee data: employee id\\n\")\n",
    "        \n",
    "        if user_input.capitalize() != \"Quit\":\n",
    "            user_input1 = input(\"Enter employee data: first name\\n\")\n",
    "            user_input2 = input(\"Enter employee data: last name\\n\")\n",
    "            writer.writerow({'employee_id':user_input, 'first_name':user_input1, 'last_name':user_input2})\n",
    "        else:\n",
    "            break \n",
    "    \n",
    "csv_file.close()\n",
    " \n",
    "f = open('FileIO-DataFiles/employee.csv', 'r')\n",
    "print(f.read())\n",
    "f.close()"
   ]
  },
  {
   "cell_type": "markdown",
   "metadata": {},
   "source": [
    "## Practice 5\n",
    "Create a script that performs the following tasks:\n",
    "* If the file named *data/user_input.csv* does not already exist, open the file in write mode.\n",
    "* If the file does exist, ask the user if the new data should replace the existing data or if the new data should be added to the existing data. Then, open the file in the correct mode.\n",
    "* Ask the user for input text that will be added to *user_input.csv*. \n",
    "* Continue prompting for input until the user enters \"Quit.\" \n",
    "* When the user enters \"Quit,\" display the existing contents of the file to the user. \n",
    "\n",
    "**Tip**: It is always useful to tell the user how to get out of a loop!"
   ]
  },
  {
   "cell_type": "code",
   "execution_count": 95,
   "metadata": {
    "scrolled": true
   },
   "outputs": [
    {
     "name": "stdout",
     "output_type": "stream",
     "text": [
      "The file 'FileIO-DataFiles/employees.csv' exists.\n",
      "Would you like to overwrite the file or append the new info? Enter 'w' or 'a':\n",
      "w\n",
      "Enter employee data: employee id\n",
      "101\n",
      "Enter employee data: first name\n",
      "Gio\n",
      "Enter employee data: last name\n",
      "Peeters\n",
      "Enter employee data: employee id\n",
      "quit\n",
      "employee_id,first_name,last_name\n",
      "101,Gio,Peeters\n",
      "\n"
     ]
    }
   ],
   "source": [
    "# your code here \n",
    "import os\n",
    "import csv\n",
    "if os.path.exists('FileIO-DataFiles/employees.csv'):\n",
    "        print(\"The file 'FileIO-DataFiles/employees.csv' exists.\")\n",
    "        user_input_initial = input(\"Would you like to overwrite the file or append the new info? Enter 'w' or 'a':\\n\")\n",
    "        if user_input_initial.lower() == \"w\":\n",
    "            with open('FileIO-DataFiles/employees.csv', 'w', newline='') as file: # open file in write mode\n",
    "                # use the writer class to create a writer object \n",
    "                # that we will use to write data into the file\n",
    "                fieldnames = ['employee_id', 'first_name', 'last_name']\n",
    "                writer = csv.DictWriter(file,fieldnames=fieldnames)  \n",
    "\n",
    "                user_input = \"\"\n",
    "\n",
    "                writer.writeheader()\n",
    "\n",
    "                while user_input.capitalize() != \"Quit\":\n",
    "                    user_input = input(\"Enter employee data: employee id\\n\")\n",
    "\n",
    "                    if user_input.capitalize() != \"Quit\":\n",
    "                        user_input1 = input(\"Enter employee data: first name\\n\")\n",
    "                        user_input2 = input(\"Enter employee data: last name\\n\")\n",
    "                        writer.writerow({'employee_id':user_input, 'first_name':user_input1, 'last_name':user_input2})\n",
    "                    else:\n",
    "                        break \n",
    "\n",
    "            csv_file.close()\n",
    "            \n",
    "        elif user_input_initial.lower() == \"a\":\n",
    "            with open('FileIO-DataFiles/employees.csv', 'a', newline='') as file: # open file in write mode\n",
    "                # use the writer class to create a writer object \n",
    "                # that we will use to write data into the file\n",
    "                fieldnames = ['employee_id', 'first_name', 'last_name']\n",
    "                writer = csv.DictWriter(file,fieldnames=fieldnames)  \n",
    "\n",
    "                user_input = \"\"\n",
    "\n",
    "                while user_input.capitalize() != \"Quit\":\n",
    "                    user_input = input(\"Enter employee data: employee id\\n\")\n",
    "\n",
    "                    if user_input.capitalize() != \"Quit\":\n",
    "                        user_input1 = input(\"Enter employee data: first name\\n\")\n",
    "                        user_input2 = input(\"Enter employee data: last name\\n\")\n",
    "                        writer.writerow({'employee_id':user_input, 'first_name':user_input1, 'last_name':user_input2})\n",
    "                    else:\n",
    "                        break \n",
    "            csv_file.close()\n",
    "            \n",
    "        else:\n",
    "            print(\"That was not one of the options!\")\n",
    "else:\n",
    "    print(\"The file doesn't exist. We will create it now!\")\n",
    "    \n",
    "    with open('FileIO-DataFiles/employees.csv', 'w', newline='') as file: # open file in write mode\n",
    "        # use the writer class to create a writer object \n",
    "        # that we will use to write data into the file\n",
    "        fieldnames = ['employee_id', 'first_name', 'last_name']\n",
    "        writer = csv.DictWriter(file,fieldnames=fieldnames)  \n",
    "        user_input = \"\"\n",
    "\n",
    "        writer.writeheader()\n",
    "\n",
    "        while user_input.capitalize() != \"Quit\":\n",
    "            user_input = input(\"Enter employee data: employee id\\n\")\n",
    "\n",
    "            if user_input.capitalize() != \"Quit\":\n",
    "                user_input1 = input(\"Enter employee data: first name\\n\")\n",
    "                user_input2 = input(\"Enter employee data: last name\\n\")\n",
    "                writer.writerow({'employee_id':user_input, 'first_name':user_input1, 'last_name':user_input2})\n",
    "            else:\n",
    "                break \n",
    "\n",
    "    csv_file.close()\n",
    " \n",
    "f = open('FileIO-DataFiles/employees.csv', 'r')\n",
    "print(f.read())\n",
    "f.close()"
   ]
  },
  {
   "cell_type": "markdown",
   "metadata": {},
   "source": [
    "## Practice 6\n",
    "The data files provided for this lesson include a file named *albums.csv*. This file includes three columns:\n",
    "* `album_name`: The name of the album\n",
    "* `pub_date`: The album's original publication date\n",
    "* `price`: The price of the album\n",
    "\n",
    "Create a script that performs the following tasks:\n",
    "* Prompt the user for an album name, publication date, and price for five different albums.\n",
    "* Add each album's information to a list and add each list to a collection of lists.\n",
    "* After all data has been collected from the user, append the new data to *albums.csv* and display the file's contents to the user.\n",
    "\n",
    "The data entries should be realistic, even if the data is not real."
   ]
  },
  {
   "cell_type": "code",
   "execution_count": 98,
   "metadata": {},
   "outputs": [
    {
     "name": "stdout",
     "output_type": "stream",
     "text": [
      "Enter an album name: Let Go\n",
      "Enter a publication date: 2002\n",
      "Enter a price: 7.51\n",
      "Enter an album name: Head Above Water\n",
      "Enter a publication date: 2019\n",
      "Enter a price: 10.49\n",
      "Enter an album name: Avril Lavigne\n",
      "Enter a publication date: 2013\n",
      "Enter a price: 27.69\n",
      "Enter an album name: Under My Skin\n",
      "Enter a publication date: 2004\n",
      "Enter a price: 9.99\n",
      "Enter an album name: Goodbye Lullaby\n",
      "Enter a publication date: 2011\n",
      "Enter a price: 5.99\n",
      "album_name,pub_date,price\n",
      "Imagine,9/9/1971,9.99\n",
      "2525 (Exordium & Terminus),7/1/1969,25.99\n",
      "No One's Gonna Change Our World,12/12/1969,39.35\n",
      "Moondance Studio Album,8/1/1969,14.99\n",
      "Clouds,5/1/1969,9.99\n",
      "Sounds of Silence Studio Album,1/17/1966,9.99\n",
      "Abbey Road,1/10/1969,12.99\n",
      "Smiley Smile,9/18/1967,5.99\n",
      "\n",
      "\n",
      "\n",
      "\n",
      "\n",
      "\n",
      "\n",
      "\n",
      "\n",
      "\n",
      "Let Go,2002,7.51,Head Above Water,2019,10.49,Avril Lavigne,2013,27.69,,2004,9.99,Goodbye Lullaby,2011,5.99\n",
      "\n",
      "Let Go,2002,7.51,Head Above Water,2019,10.49,Avril Lavigne,2013,27.69,,2004,9.99,Goodbye Lullaby,2011,5.99\n",
      "\n",
      "Let Go,2002,7.51,Head Above Water,2019,10.49,Avril Lavigne,2013,27.69,,2004,9.99,Goodbye Lullaby,2011,5.99\n",
      "\n",
      "Let Go,2002,7.51,Head Above Water,2019,10.49,Avril Lavigne,2013,27.69,,2004,9.99,Goodbye Lullaby,2011,5.99\n",
      "\n",
      "Let Go,2002,7.51,Head Above Water,2019,10.49,Avril Lavigne,2013,27.69,,2004,9.99,Goodbye Lullaby,2011,5.99\n",
      "\n",
      "Let Go,2002,7.51\n",
      "\n",
      "Head Above Water,2019,10.49\n",
      "\n",
      "Avril Lavigne,2013,27.69\n",
      "\n",
      "Under My Skin,2004,9.99\n",
      "\n",
      "Goodbye Lullaby,2011,5.99\n",
      "\n",
      "\n"
     ]
    }
   ],
   "source": [
    "# your code here \n",
    "dataset = []\n",
    "\n",
    "data = []\n",
    "\n",
    "user_input = \"\"\n",
    "count = 0\n",
    "\n",
    "while count < 5:\n",
    "    user_input = input(\"Enter an album name: \")\n",
    "    user_input2 = input(\"Enter a publication date: \")\n",
    "    user_input3 = input(\"Enter a price: \")\n",
    "    data = [user_input, user_input2, user_input3]\n",
    "    dataset.append(data)\n",
    "    count += 1\n",
    "\n",
    "with open('FileIO-DataFiles/albums.csv', 'a') as csv_file: \n",
    "    # use the writer class to create a writer object \n",
    "    # that we will use to write data into the file\n",
    "    writer = csv.writer(csv_file,delimiter=',') \n",
    "    # write multiple rows at once using writerows\n",
    "    writer.writerows(dataset) \n",
    " \n",
    "csv_file.close()\n",
    " \n",
    "f = open('FileIO-DataFiles/albums.csv', 'r')\n",
    "print(f.read())\n",
    "f.close()"
   ]
  },
  {
   "cell_type": "markdown",
   "metadata": {},
   "source": [
    "## Practice 7\n",
    "Write a script that creates a CSV file called *posts.csv*, which will contain information about Twitter posts. You must include at least four different attributes for each tweet. \n",
    "\t\n",
    "Use a dictionary to define the data for each tweet and then add each dictionary as a separate row in the CSV file."
   ]
  },
  {
   "cell_type": "code",
   "execution_count": 99,
   "metadata": {},
   "outputs": [
    {
     "name": "stdout",
     "output_type": "stream",
     "text": [
      "user_tag,first_name,last_name,no_of_posts\n",
      "\n",
      "@VSmigielski,Veronica,Smigielski,14\n",
      "\n",
      "@GPetes,Gio,Peeters,233\n",
      "\n",
      "@DomDom,Dominic,Tardif,51\n",
      "\n",
      "\n"
     ]
    }
   ],
   "source": [
    "# your code here \n",
    "import csv\n",
    " \n",
    "# create three rows of data; item order is not important because each dictionary \n",
    "# uses keys to identify each value\n",
    "row_1 = {\"user_tag\":\"@VSmigielski\",\"first_name\":\"Veronica\",\"last_name\":\"Smigielski\", \"no_of_posts\":14} \n",
    "row_2 = {\"user_tag\":\"@GPetes\",\"first_name\":\"Gio\",\"last_name\":\"Peeters\", \"no_of_posts\":233} \n",
    "row_3 = {\"user_tag\":\"@DomDom\",\"first_name\":\"Dominic\",\"last_name\":\"Tardif\", \"no_of_posts\":51}  \n",
    "fieldnames = [\"user_tag\",\"first_name\",\"last_name\", \"no_of_posts\"]\n",
    "with open('FileIO-DataFiles/posts.csv', 'w') as csv_file: \n",
    "    writer = csv.DictWriter(csv_file,delimiter=',',fieldnames=fieldnames)  \n",
    "    writer.writeheader()\n",
    "    writer.writerow(row_1) # write the first row\n",
    "    writer.writerow(row_2) # write the second row\n",
    "    writer.writerow(row_3) # writethe third row\n",
    " \n",
    "csv_file.close()\n",
    " \n",
    "f = open('FileIO-DataFiles/posts.csv', 'r')\n",
    "print(f.read())\n",
    "f.close()"
   ]
  },
  {
   "cell_type": "markdown",
   "metadata": {},
   "source": [
    "## Practice 8\n",
    "Using any approach we have discussed in this lesson, create a personal contact list as a CSV file named *contacts.csv*. Add a first name, last name, phone number, and email address for at least three people that you know, with appropriate column headers.\n",
    "\n",
    "After creating the file, display its contents and then delete it. \n",
    "\n",
    "What happens if you run the script more than once?"
   ]
  },
  {
   "cell_type": "code",
   "execution_count": 101,
   "metadata": {},
   "outputs": [
    {
     "name": "stdout",
     "output_type": "stream",
     "text": [
      "first_name,last_name,phone,email\n",
      "\n",
      "Veronica,Smigielski,6198132184,veronicasmigielski@gmail.com\n",
      "\n",
      "Gio,Peeters,1234567890,giovanni.peeters@gmail.com\n",
      "\n",
      "Dominic,Tardif,2345678901,d.tardif@gmail.com\n",
      "\n",
      "\n"
     ]
    }
   ],
   "source": [
    "# your code here\n",
    "import csv\n",
    "import os\n",
    "    \n",
    "# create three rows of data; item order is not important because each dictionary \n",
    "# uses keys to identify each value\n",
    "row_1 = {\"first_name\":\"Veronica\",\"last_name\":\"Smigielski\", \"phone\":\"6198132184\", \"email\":\"veronicasmigielski@gmail.com\"} \n",
    "row_2 = {\"first_name\":\"Gio\",\"last_name\":\"Peeters\", \"phone\":\"1234567890\", \"email\":\"giovanni.peeters@gmail.com\"}\n",
    "row_3 = {\"first_name\":\"Dominic\",\"last_name\":\"Tardif\", \"phone\":\"2345678901\", \"email\":\"d.tardif@gmail.com\"}\n",
    "fieldnames = [\"first_name\",\"last_name\", \"phone\", \"email\"]\n",
    "with open('FileIO-DataFiles/contacts.csv', 'w') as csv_file: \n",
    "    writer = csv.DictWriter(csv_file,delimiter=',',fieldnames=fieldnames)  \n",
    "    writer.writeheader()\n",
    "    writer.writerow(row_1) # write the first row\n",
    "    writer.writerow(row_2) # write the second row\n",
    "    writer.writerow(row_3) # writethe third row\n",
    " \n",
    "csv_file.close()\n",
    " \n",
    "f = open('FileIO-DataFiles/contacts.csv', 'r')\n",
    "print(f.read())\n",
    "f.close()\n",
    "os.remove(\"FileIO-DataFiles/contacts.csv\")"
   ]
  },
  {
   "cell_type": "markdown",
   "metadata": {},
   "source": [
    "## Practice 9\n",
    "Create a script that prompts the user for a file path and checks if the file exists. \n",
    "* If the file exists, delete the file and confirm the deletion to the user.\n",
    "* If the file doesn't exist, create the file named by the user and confirm the action to the user.  "
   ]
  },
  {
   "cell_type": "code",
   "execution_count": 105,
   "metadata": {},
   "outputs": [
    {
     "name": "stdout",
     "output_type": "stream",
     "text": [
      "Enter a filepath to check if it exists. Ex: FileIO-DataFiles/employee-test.csv\n",
      "FileIO-DataFiles/employee-test.csv\n",
      "The file was deleted successfully.\n"
     ]
    }
   ],
   "source": [
    "# your code here \n",
    "import os\n",
    "user_input = input(\"Enter a filepath to check if it exists. Ex: FileIO-DataFiles/employee-test.csv\\n\")\n",
    "if os.path.exists(user_input):\n",
    "    os.remove(user_input)\n",
    "    print(\"The file was deleted successfully.\")\n",
    "else:\n",
    "    print(\"The file doesn't exist. We will create it now.\")\n",
    "    fieldnames = [\"employee_id\",\"first_name\",\"last_name\"]\n",
    "    with open(user_input, 'w') as csv_file: \n",
    "        writer = csv.DictWriter(csv_file,delimiter=',',fieldnames=fieldnames)  \n",
    "        writer.writeheader()\n",
    "    csv_file.close()\n",
    "    f = open(user_input, 'r')\n",
    "    print(f.read())\n",
    "    f.close()"
   ]
  },
  {
   "cell_type": "code",
   "execution_count": null,
   "metadata": {},
   "outputs": [],
   "source": []
  }
 ],
 "metadata": {
  "kernelspec": {
   "display_name": "Python 3",
   "language": "python",
   "name": "python3"
  },
  "language_info": {
   "codemirror_mode": {
    "name": "ipython",
    "version": 3
   },
   "file_extension": ".py",
   "mimetype": "text/x-python",
   "name": "python",
   "nbconvert_exporter": "python",
   "pygments_lexer": "ipython3",
   "version": "3.8.5"
  }
 },
 "nbformat": 4,
 "nbformat_minor": 2
}

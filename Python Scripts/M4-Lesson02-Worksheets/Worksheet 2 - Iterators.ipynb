{
 "cells": [
  {
   "cell_type": "markdown",
   "metadata": {},
   "source": [
    "# Iterators\n",
    "This worksheet corresponds to *Lesson 2: Iterators* in the online course. Refer to that lesson as necessary to complete the practice activities here."
   ]
  },
  {
   "cell_type": "markdown",
   "metadata": {},
   "source": [
    "## Practice 1\n",
    "Create a new list that includes names of fruits. Include at least five separate items in the list.\n",
    "\n",
    "Create an iterator that prints each item in the list of fruits."
   ]
  },
  {
   "cell_type": "code",
   "execution_count": 1,
   "metadata": {
    "scrolled": true
   },
   "outputs": [
    {
     "name": "stdout",
     "output_type": "stream",
     "text": [
      "<class 'tuple'>\n",
      "('Apple', 'Orange', 'Strawberries', 'Mango', 'Kiwi')\n",
      "Apple\n",
      "Orange\n",
      "Strawberries\n",
      "Mango\n",
      "Kiwi\n"
     ]
    }
   ],
   "source": [
    "# your code here\n",
    "fruit = (\"Apple\", \"Orange\", \"Strawberries\", \"Mango\", \"Kiwi\") #we create a tuple object\n",
    "print(type(fruit)) \n",
    "print(fruit)\n",
    " \n",
    "my_iterator =  iter(fruit) # we use iter to create an iterable object\n",
    " \n",
    "print(next(my_iterator)) # we use next to iterate through the tuple and print each name individually\n",
    "print(next(my_iterator)) \n",
    "print(next(my_iterator)) \n",
    "print(next(my_iterator)) \n",
    "print(next(my_iterator)) "
   ]
  },
  {
   "cell_type": "markdown",
   "metadata": {},
   "source": [
    "### Practice 2\n",
    "Update the following code to create an iterator object from a dictionary. \n",
    "\n",
    "* Add at least two more items to the dictionary.\n",
    "* Use `next` to display at least two items from the dictionary.\n",
    "\n",
    "Does it iterate through the keys, the values, or both?"
   ]
  },
  {
   "cell_type": "code",
   "execution_count": 6,
   "metadata": {
    "scrolled": true
   },
   "outputs": [
    {
     "name": "stdout",
     "output_type": "stream",
     "text": [
      "first_name\n",
      "last_name\n"
     ]
    }
   ],
   "source": [
    "names_dict = {\"first_name\":\"Haythem\", \"last_name\":\"Balti\"}  # do not delete\n",
    "\n",
    "# your code here\n",
    "names_dict_iterator  =  iter(names_dict)\n",
    "\n",
    "print(next(names_dict_iterator))\n",
    "print(next(names_dict_iterator))\n"
   ]
  },
  {
   "cell_type": "markdown",
   "metadata": {},
   "source": [
    "## Practice 3\n",
    "Complete the code below so that it extracts only numbers from an input string. For example, if the original string is *473e6mn5ne5*, the output should be *473655*.\n",
    "\n",
    "You must use iterators to iterate through the string. \n",
    "\n",
    "**Tip**: You can use the built-in method `str.isdigit` to identify whether the characters in a string are numeric characters. This method outputs a boolean response."
   ]
  },
  {
   "cell_type": "code",
   "execution_count": 27,
   "metadata": {},
   "outputs": [
    {
     "name": "stdout",
     "output_type": "stream",
     "text": [
      "473655\n"
     ]
    }
   ],
   "source": [
    "message = \"473e6mn5ne5\"\n",
    "\n",
    "def extract_numbers(s):\n",
    "    # remove pass and add your code here\n",
    "    count = 0\n",
    "    new_string = \"\"\n",
    "    for i in iter(s): \n",
    "        if i.isdigit():\n",
    "            new_string += i\n",
    "        count += 1\n",
    "    return new_string\n",
    "\n",
    "\n",
    "numbers = extract_numbers(message) \n",
    "print(numbers) # output for \"473e6mn5ne5\" should be \"473655\""
   ]
  },
  {
   "cell_type": "markdown",
   "metadata": {},
   "source": [
    "## Practice 4\n",
    "Write a script that will create a sequence of numbers that starts with 3, with each item in the sequence being the square of the previous value."
   ]
  },
  {
   "cell_type": "code",
   "execution_count": 29,
   "metadata": {},
   "outputs": [
    {
     "name": "stdout",
     "output_type": "stream",
     "text": [
      "3\n",
      "9\n",
      "81\n",
      "6561\n"
     ]
    }
   ],
   "source": [
    "class CumulativePower2:\n",
    "    def __iter__(self):\n",
    "        # implement the __init__ method\n",
    "        self.a = 3\n",
    "        return self\n",
    "    def __next__(self):\n",
    "        # implement the __next__ method\n",
    "        x = self.a\n",
    "        self.a *= x\n",
    "        return x\n",
    "    \n",
    "numbers = CumulativePower2()\n",
    "numbers_iterator = iter(numbers)\n",
    "print(next(numbers_iterator)) # should return 3\n",
    "print(next(numbers_iterator)) # should return 9\n",
    "print(next(numbers_iterator)) # should return 81\n",
    "print(next(numbers_iterator)) # should return 6561"
   ]
  },
  {
   "cell_type": "markdown",
   "metadata": {},
   "source": [
    "## Practice 5\n",
    "Create an iterator class named `Table8` that creates a sequence of numbers representing multiples of 8 from 1 through 7. The script should throw a `StopIteration` error when it reaches the eighth possible output. "
   ]
  },
  {
   "cell_type": "code",
   "execution_count": 31,
   "metadata": {},
   "outputs": [
    {
     "name": "stdout",
     "output_type": "stream",
     "text": [
      "8\n",
      "16\n",
      "24\n",
      "32\n",
      "40\n",
      "48\n",
      "56\n"
     ]
    },
    {
     "ename": "StopIteration",
     "evalue": "",
     "output_type": "error",
     "traceback": [
      "\u001b[1;31m---------------------------------------------------------------------------\u001b[0m",
      "\u001b[1;31mStopIteration\u001b[0m                             Traceback (most recent call last)",
      "\u001b[1;32m<ipython-input-31-9c5817a4174a>\u001b[0m in \u001b[0;36m<module>\u001b[1;34m\u001b[0m\n\u001b[0;32m     22\u001b[0m \u001b[0mprint\u001b[0m\u001b[1;33m(\u001b[0m\u001b[0mnext\u001b[0m\u001b[1;33m(\u001b[0m\u001b[0mnumbers_iterator\u001b[0m\u001b[1;33m)\u001b[0m\u001b[1;33m)\u001b[0m \u001b[1;31m# should display: 48\u001b[0m\u001b[1;33m\u001b[0m\u001b[1;33m\u001b[0m\u001b[0m\n\u001b[0;32m     23\u001b[0m \u001b[0mprint\u001b[0m\u001b[1;33m(\u001b[0m\u001b[0mnext\u001b[0m\u001b[1;33m(\u001b[0m\u001b[0mnumbers_iterator\u001b[0m\u001b[1;33m)\u001b[0m\u001b[1;33m)\u001b[0m \u001b[1;31m# should display: 56\u001b[0m\u001b[1;33m\u001b[0m\u001b[1;33m\u001b[0m\u001b[0m\n\u001b[1;32m---> 24\u001b[1;33m \u001b[0mprint\u001b[0m\u001b[1;33m(\u001b[0m\u001b[0mnext\u001b[0m\u001b[1;33m(\u001b[0m\u001b[0mnumbers_iterator\u001b[0m\u001b[1;33m)\u001b[0m\u001b[1;33m)\u001b[0m \u001b[1;31m# should throw StopInteration error\u001b[0m\u001b[1;33m\u001b[0m\u001b[1;33m\u001b[0m\u001b[0m\n\u001b[0m",
      "\u001b[1;32m<ipython-input-31-9c5817a4174a>\u001b[0m in \u001b[0;36m__next__\u001b[1;34m(self)\u001b[0m\n\u001b[0;32m     10\u001b[0m             \u001b[0mself\u001b[0m\u001b[1;33m.\u001b[0m\u001b[0ma\u001b[0m \u001b[1;33m+=\u001b[0m \u001b[1;36m8\u001b[0m\u001b[1;33m\u001b[0m\u001b[1;33m\u001b[0m\u001b[0m\n\u001b[0;32m     11\u001b[0m             \u001b[1;32mreturn\u001b[0m \u001b[0mx\u001b[0m\u001b[1;33m\u001b[0m\u001b[1;33m\u001b[0m\u001b[0m\n\u001b[1;32m---> 12\u001b[1;33m         \u001b[1;32mraise\u001b[0m \u001b[0mStopIteration\u001b[0m\u001b[1;33m\u001b[0m\u001b[1;33m\u001b[0m\u001b[0m\n\u001b[0m\u001b[0;32m     13\u001b[0m \u001b[1;33m\u001b[0m\u001b[0m\n\u001b[0;32m     14\u001b[0m \u001b[0mnumbers\u001b[0m \u001b[1;33m=\u001b[0m \u001b[0mTable8\u001b[0m\u001b[1;33m(\u001b[0m\u001b[1;33m)\u001b[0m\u001b[1;33m\u001b[0m\u001b[1;33m\u001b[0m\u001b[0m\n",
      "\u001b[1;31mStopIteration\u001b[0m: "
     ]
    }
   ],
   "source": [
    "class Table8:\n",
    "    def __iter__(self):\n",
    "        # update code here\n",
    "        self.a = 8\n",
    "        return self\n",
    "    def __next__(self):\n",
    "        # update code here\n",
    "        if (self.a < 60):\n",
    "            x = self.a\n",
    "            self.a += 8\n",
    "            return x\n",
    "        raise StopIteration\n",
    "    \n",
    "numbers = Table8()\n",
    "numbers_iterator = iter(numbers)\n",
    "\n",
    "print(next(numbers_iterator)) # should display: 8\n",
    "print(next(numbers_iterator)) # should display: 16\n",
    "print(next(numbers_iterator)) # should display: 24\n",
    "print(next(numbers_iterator)) # should display: 32\n",
    "print(next(numbers_iterator)) # should display: 40\n",
    "print(next(numbers_iterator)) # should display: 48\n",
    "print(next(numbers_iterator)) # should display: 56\n",
    "print(next(numbers_iterator)) # should throw StopInteration error"
   ]
  },
  {
   "cell_type": "markdown",
   "metadata": {},
   "source": [
    "## Practice 6\n",
    "Complete the `OddNumbers` class so that it will create a sequence of odd numbers from 0 through 10."
   ]
  },
  {
   "cell_type": "code",
   "execution_count": 32,
   "metadata": {},
   "outputs": [
    {
     "name": "stdout",
     "output_type": "stream",
     "text": [
      "1\n",
      "3\n",
      "5\n",
      "7\n",
      "9\n"
     ]
    }
   ],
   "source": [
    "class OddNumbers:\n",
    "    # remove pass and add code here\n",
    "    def __iter__(self):\n",
    "        self.a = 1\n",
    "        return self\n",
    "    def __next__(self):\n",
    "        if (self.a < 11):\n",
    "            x = self.a\n",
    "            self.a += 2\n",
    "            return x\n",
    "        raise StopIteration\n",
    "        \n",
    "numbers = OddNumbers()\n",
    "numbers_iterator = iter(numbers)\n",
    "for number in numbers_iterator: \n",
    "    print(number)"
   ]
  },
  {
   "cell_type": "code",
   "execution_count": 33,
   "metadata": {},
   "outputs": [
    {
     "name": "stdout",
     "output_type": "stream",
     "text": [
      "̱\n",
      "z\n",
      "Ÿ\n",
      "`\n",
      "β\n",
      "Ɲ\n",
      "ʋ\n",
      "u\n",
      "\\\n",
      "ǩ\n"
     ]
    }
   ],
   "source": []
  },
  {
   "cell_type": "code",
   "execution_count": null,
   "metadata": {},
   "outputs": [],
   "source": []
  }
 ],
 "metadata": {
  "kernelspec": {
   "display_name": "Python 3",
   "language": "python",
   "name": "python3"
  },
  "language_info": {
   "codemirror_mode": {
    "name": "ipython",
    "version": 3
   },
   "file_extension": ".py",
   "mimetype": "text/x-python",
   "name": "python",
   "nbconvert_exporter": "python",
   "pygments_lexer": "ipython3",
   "version": "3.8.5"
  }
 },
 "nbformat": 4,
 "nbformat_minor": 2
}
